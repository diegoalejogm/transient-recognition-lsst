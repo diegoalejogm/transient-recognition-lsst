{
 "cells": [
  {
   "cell_type": "code",
   "execution_count": 1,
   "metadata": {
    "collapsed": true
   },
   "outputs": [],
   "source": [
    "DATA_PATH = '../../data/CRTS2/'\n",
    "RESULTS_PATH = '../../results/'"
   ]
  },
  {
   "cell_type": "code",
   "execution_count": 2,
   "metadata": {
    "collapsed": true
   },
   "outputs": [],
   "source": [
    "import pandas as pd\n",
    "import numpy as np\n",
    "from sklearn.preprocessing import StandardScaler\n",
    "from sklearn.svm import SVC\n",
    "from sklearn.ensemble import RandomForestClassifier\n",
    "from sklearn.neural_network import MLPClassifier\n",
    "from sklearn.model_selection import GridSearchCV, StratifiedKFold, train_test_split, cross_val_score\n",
    "from sklearn.metrics import accuracy_score, classification_report, confusion_matrix"
   ]
  },
  {
   "cell_type": "markdown",
   "metadata": {},
   "source": [
    "Load Transient Catalog"
   ]
  },
  {
   "cell_type": "code",
   "execution_count": 3,
   "metadata": {},
   "outputs": [
    {
     "name": "stdout",
     "output_type": "stream",
     "text": [
      "(5539,)\n"
     ]
    }
   ],
   "source": [
    "filename = 'transient_catalog.pickle'\n",
    "indir = DATA_PATH; filepath = indir + filename\n",
    "df_cat = pd.read_pickle(filepath)\n",
    "# Rename columns to match light curves\n",
    "df_cat = df_cat.rename(columns={'TransientID': 'ID', 'Classification': 'class'})\n",
    "print(df_cat.ID.unique().shape)"
   ]
  },
  {
   "cell_type": "markdown",
   "metadata": {},
   "source": [
    "Load Feature Dataframes"
   ]
  },
  {
   "cell_type": "code",
   "execution_count": 4,
   "metadata": {
    "collapsed": true
   },
   "outputs": [],
   "source": [
    "# Use catalogue of transients with min observations\n",
    "min_obs = 5\n",
    "num_features = 27"
   ]
  },
  {
   "cell_type": "code",
   "execution_count": 5,
   "metadata": {},
   "outputs": [
    {
     "data": {
      "text/plain": [
       "(4384, 28)"
      ]
     },
     "execution_count": 5,
     "metadata": {},
     "output_type": "execute_result"
    }
   ],
   "source": [
    "# Loead transient features\n",
    "indir = DATA_PATH\n",
    "filename = 'transient_features_{}obs_{}feats.pickle'.format(min_obs, num_features) \n",
    "inpath = indir + filename\n",
    "df_feat_tran = pd.read_pickle(inpath)\n",
    "df_feat_tran.shape"
   ]
  },
  {
   "cell_type": "markdown",
   "metadata": {},
   "source": [
    "Create inputs and outputs"
   ]
  },
  {
   "cell_type": "code",
   "execution_count": 6,
   "metadata": {
    "collapsed": true
   },
   "outputs": [],
   "source": [
    "# Add classs label to transient objects\n",
    "df_feat_tran = df_feat_tran.merge(df_cat , how='inner')\n",
    "# Remove ambiguous classes\n",
    "top_classes = ['SN', 'CV', 'AGN', 'HPM', 'Blazar', 'Flare']\n",
    "df_feat_tran = df_feat_tran[df_feat_tran['class'].isin(top_classes)]\n",
    "# Remove IDs\n",
    "df = df_feat_tran.drop(['ID'], axis=1)"
   ]
  },
  {
   "cell_type": "code",
   "execution_count": 7,
   "metadata": {
    "collapsed": true
   },
   "outputs": [],
   "source": [
    "# Obtain X and y\n",
    "X = df.drop(['class'], axis=1).as_matrix()\n",
    "y = df['class'].as_matrix()"
   ]
  },
  {
   "cell_type": "code",
   "execution_count": 8,
   "metadata": {},
   "outputs": [
    {
     "data": {
      "text/plain": [
       "(3440, 27)"
      ]
     },
     "execution_count": 8,
     "metadata": {},
     "output_type": "execute_result"
    }
   ],
   "source": [
    "X.shape"
   ]
  },
  {
   "cell_type": "code",
   "execution_count": 9,
   "metadata": {},
   "outputs": [
    {
     "data": {
      "text/plain": [
       "{'AGN': 427, 'Blazar': 237, 'CV': 862, 'Flare': 207, 'HPM': 412, 'SN': 1295}"
      ]
     },
     "execution_count": 9,
     "metadata": {},
     "output_type": "execute_result"
    }
   ],
   "source": [
    "# Count number of objects per class\n",
    "dict(zip(*np.unique(y, return_counts=True)))"
   ]
  },
  {
   "cell_type": "code",
   "execution_count": 10,
   "metadata": {},
   "outputs": [
    {
     "data": {
      "text/plain": [
       "3440"
      ]
     },
     "execution_count": 10,
     "metadata": {},
     "output_type": "execute_result"
    }
   ],
   "source": [
    "# Count total number of objects\n",
    "np.sum(np.unique(y, return_counts=True)[1])"
   ]
  },
  {
   "cell_type": "markdown",
   "metadata": {},
   "source": [
    "Split in Test & Train Sets"
   ]
  },
  {
   "cell_type": "code",
   "execution_count": 11,
   "metadata": {},
   "outputs": [],
   "source": [
    "X_train, X_test, y_train, y_test = train_test_split(\n",
    "    X, y, test_size=0.33, random_state=42, stratify=y\n",
    ")"
   ]
  },
  {
   "cell_type": "code",
   "execution_count": 12,
   "metadata": {},
   "outputs": [
    {
     "data": {
      "text/plain": [
       "((2304, 27), (2304,))"
      ]
     },
     "execution_count": 12,
     "metadata": {},
     "output_type": "execute_result"
    }
   ],
   "source": [
    "X_train.shape, y_train.shape"
   ]
  },
  {
   "cell_type": "code",
   "execution_count": 13,
   "metadata": {},
   "outputs": [
    {
     "data": {
      "text/plain": [
       "((1136, 27), (1136,))"
      ]
     },
     "execution_count": 13,
     "metadata": {},
     "output_type": "execute_result"
    }
   ],
   "source": [
    "X_test.shape, y_test.shape"
   ]
  },
  {
   "cell_type": "markdown",
   "metadata": {},
   "source": [
    "Scale features"
   ]
  },
  {
   "cell_type": "code",
   "execution_count": 14,
   "metadata": {
    "collapsed": true
   },
   "outputs": [],
   "source": [
    "# Create scaler\n",
    "scaler = StandardScaler().fit(X_train)\n",
    "X_train = scaler.transform(X_train)\n",
    "X_test = scaler.transform(X_test)"
   ]
  },
  {
   "cell_type": "markdown",
   "metadata": {},
   "source": [
    "Define classfication routine"
   ]
  },
  {
   "cell_type": "code",
   "execution_count": 15,
   "metadata": {
    "collapsed": true
   },
   "outputs": [],
   "source": [
    "def train_validate_test_model(model, params, X_train, y_train, X_test, y_test):\n",
    "    # Precision decimal places\n",
    "    digits = 4\n",
    "    # Train & cross-validate\n",
    "    grid_search = GridSearchCV(model, tuned_parameters, cv=StratifiedKFold(2))\n",
    "    grid_search.fit(X_train, y_train)\n",
    "    # Train new model with all train data\n",
    "    clf = grid_search.best_estimator_\n",
    "    clf.fit(X_train, y_train)\n",
    "    # Predict test inputs with new model\n",
    "    y_pred = clf.predict(X_test)\n",
    "    # Create results using real and predicted labels of test data \n",
    "    results_str = results_string(y_test, y_pred, grid_search, digits=digits)\n",
    "    print(results_str)\n",
    "    # Save results\n",
    "    task = 'binary'\n",
    "    model_name = model.__class__.__name__\n",
    "    filename = '{}_{}obs_{}feat_{}'.format(task, min_obs, num_features, model_name)\n",
    "    with open(RESULTS_PATH + filename + '.txt', 'w+') as f: f.write(results_str)\n",
    "        \n",
    "    return clf\n",
    "\n",
    "def results_string(y_true, y_pred, grid_search, digits):\n",
    "    float_param = '{0:.' + str(digits) + 'f}'\n",
    "    results = str()\n",
    "    results += 'Best Params: {}\\n'.format(grid_search.best_params_)\n",
    "    results += ('Validation Accuracy: ' + float_param + '\\n').format(grid_search.best_score_)\n",
    "    results += ('Test Accuracy: ' + float_param + '\\n').format(accuracy_score(y_test, y_pred))\n",
    "    results += 'Report:\\n {}'.format(classification_report(y_test, y_pred, digits=digits))\n",
    "    return results"
   ]
  },
  {
   "cell_type": "markdown",
   "metadata": {},
   "source": [
    "Classify using SVC"
   ]
  },
  {
   "cell_type": "code",
   "execution_count": 16,
   "metadata": {
    "collapsed": true
   },
   "outputs": [],
   "source": [
    "tuned_parameters = {\n",
    "    'kernel': ['rbf'],\n",
    "    'gamma':[1e-1, 1e-2, 1e-3, 1e-4, 1e-5],\n",
    "    'C': [1, 10, 100, 1000]\n",
    "}"
   ]
  },
  {
   "cell_type": "code",
   "execution_count": 17,
   "metadata": {},
   "outputs": [
    {
     "name": "stdout",
     "output_type": "stream",
     "text": [
      "Best Params: {'gamma': 0.1, 'kernel': 'rbf', 'C': 10}\n",
      "Validation Accuracy: 0.6736\n",
      "Test Accuracy: 0.6831\n",
      "Report:\n",
      "              precision    recall  f1-score   support\n",
      "\n",
      "        AGN     0.6122    0.8511    0.7122       141\n",
      "     Blazar     0.4059    0.5256    0.4581        78\n",
      "         CV     0.7510    0.6351    0.6882       285\n",
      "      Flare     0.4457    0.6029    0.5125        68\n",
      "        HPM     0.9542    0.9191    0.9363       136\n",
      "         SN     0.7147    0.6262    0.6675       428\n",
      "\n",
      "avg / total     0.7025    0.6831    0.6868      1136\n",
      "\n"
     ]
    }
   ],
   "source": [
    "model = SVC(random_state=0, class_weight='balanced')\n",
    "clf1 = train_validate_test_model(model, tuned_parameters, X_train, y_train, X_test, y_test)"
   ]
  },
  {
   "cell_type": "markdown",
   "metadata": {},
   "source": [
    "Classify using RF"
   ]
  },
  {
   "cell_type": "code",
   "execution_count": 18,
   "metadata": {
    "collapsed": true
   },
   "outputs": [],
   "source": [
    "tuned_parameters = { \n",
    "    'n_estimators': [200, 700],\n",
    "    'max_features': ['auto', 'sqrt', 'log2']\n",
    "}"
   ]
  },
  {
   "cell_type": "code",
   "execution_count": 19,
   "metadata": {},
   "outputs": [
    {
     "name": "stdout",
     "output_type": "stream",
     "text": [
      "Best Params: {'max_features': 'auto', 'n_estimators': 200}\n",
      "Validation Accuracy: 0.7648\n",
      "Test Accuracy: 0.7738\n",
      "Report:\n",
      "              precision    recall  f1-score   support\n",
      "\n",
      "        AGN     0.8309    0.8014    0.8159       141\n",
      "     Blazar     0.6383    0.3846    0.4800        78\n",
      "         CV     0.8257    0.6982    0.7567       285\n",
      "      Flare     0.6744    0.4265    0.5225        68\n",
      "        HPM     0.9489    0.9559    0.9524       136\n",
      "         SN     0.7105    0.8832    0.7875       428\n",
      "\n",
      "avg / total     0.7758    0.7738    0.7660      1136\n",
      "\n"
     ]
    }
   ],
   "source": [
    "model = RandomForestClassifier(random_state=0, class_weight='balanced')\n",
    "clf2 = train_validate_test_model(model, tuned_parameters, X_train, y_train, X_test, y_test)"
   ]
  },
  {
   "cell_type": "markdown",
   "metadata": {},
   "source": [
    "Classify using NN"
   ]
  },
  {
   "cell_type": "code",
   "execution_count": 20,
   "metadata": {
    "collapsed": true
   },
   "outputs": [],
   "source": [
    "tuned_parameters = {\n",
    "    'learning_rate': ['constant', \"adaptive\"],\n",
    "    'hidden_layer_sizes': [(100), (100,100)],\n",
    "    'alpha': [1e-2, 1e-3],\n",
    "    'activation': [\"logistic\", \"relu\", \"tanh\"]\n",
    "}"
   ]
  },
  {
   "cell_type": "code",
   "execution_count": 21,
   "metadata": {
    "scrolled": true
   },
   "outputs": [
    {
     "name": "stderr",
     "output_type": "stream",
     "text": [
      "/home/estudiante/transient-recognition-lsst/venv/lib/python3.4/site-packages/sklearn/neural_network/multilayer_perceptron.py:564: ConvergenceWarning: Stochastic Optimizer: Maximum iterations (200) reached and the optimization hasn't converged yet.\n",
      "  % self.max_iter, ConvergenceWarning)\n"
     ]
    },
    {
     "name": "stdout",
     "output_type": "stream",
     "text": [
      "Best Params: {'activation': 'relu', 'alpha': 0.01, 'learning_rate': 'constant', 'hidden_layer_sizes': (100, 100)}\n",
      "Validation Accuracy: 0.7053\n",
      "Test Accuracy: 0.7060\n",
      "Report:\n",
      "              precision    recall  f1-score   support\n",
      "\n",
      "        AGN     0.6707    0.7943    0.7273       141\n",
      "     Blazar     0.5410    0.4231    0.4748        78\n",
      "         CV     0.6863    0.6526    0.6691       285\n",
      "      Flare     0.5652    0.3824    0.4561        68\n",
      "        HPM     0.9353    0.9559    0.9455       136\n",
      "         SN     0.6969    0.7360    0.7159       428\n",
      "\n",
      "avg / total     0.7009    0.7060    0.7009      1136\n",
      "\n"
     ]
    }
   ],
   "source": [
    "model = MLPClassifier(random_state=0)\n",
    "clf3 = train_validate_test_model(model, tuned_parameters, X_train, y_train, X_test, y_test)"
   ]
  }
 ],
 "metadata": {
  "kernelspec": {
   "display_name": "Python 3",
   "language": "python",
   "name": "python3"
  },
  "language_info": {
   "codemirror_mode": {
    "name": "ipython",
    "version": 3
   },
   "file_extension": ".py",
   "mimetype": "text/x-python",
   "name": "python",
   "nbconvert_exporter": "python",
   "pygments_lexer": "ipython3",
   "version": "3.4.0"
  }
 },
 "nbformat": 4,
 "nbformat_minor": 2
}
