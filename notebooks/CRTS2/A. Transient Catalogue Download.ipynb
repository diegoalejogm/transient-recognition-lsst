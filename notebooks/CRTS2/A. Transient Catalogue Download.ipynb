{
 "cells": [
  {
   "cell_type": "code",
   "execution_count": 1,
   "metadata": {
    "collapsed": true
   },
   "outputs": [],
   "source": [
    "DATA_PATH = '../../data/CRTS2/'"
   ]
  },
  {
   "cell_type": "code",
   "execution_count": 2,
   "metadata": {
    "collapsed": true
   },
   "outputs": [],
   "source": [
    "import requests\n",
    "import pandas as pd\n",
    "from lxml import html"
   ]
  },
  {
   "cell_type": "markdown",
   "metadata": {},
   "source": [
    "Retrieve catalog auxiliary method"
   ]
  },
  {
   "cell_type": "code",
   "execution_count": 3,
   "metadata": {
    "collapsed": true
   },
   "outputs": [],
   "source": [
    "def __retrieve_object_catalog__(url):\n",
    "    transID_list, class_list = [], []\n",
    "\n",
    "    r = requests.get(url)\n",
    "    tree = html.fromstring(r.content)\n",
    "    rows = tree.findall('.//tr')[1:]\n",
    "    \n",
    "    for row in rows:\n",
    "        vals = row.findall('td')\n",
    "        if len(vals) < 4: continue\n",
    "        transID = int(vals[5].text_content().strip(' \\t\\n\\r'))\n",
    "        clss = vals[12].text_content().strip(' \\t\\n\\r').split(' ')[0]\n",
    "\n",
    "        class_list.append(clss); transID_list.append(transID)\n",
    "\n",
    "    data = {'TransientID' : transID_list, 'Classification' : class_list}\n",
    "    return pd.DataFrame(data)"
   ]
  },
  {
   "cell_type": "markdown",
   "metadata": {},
   "source": [
    "Obtain catalog and save"
   ]
  },
  {
   "cell_type": "code",
   "execution_count": 10,
   "metadata": {},
   "outputs": [],
   "source": [
    "filename = 'transient_catalog.pickle'\n",
    "outdir = DATA_PATH; filepath = outdir + filename\n",
    "df = pd.DataFrame()\n",
    "df = __retrieve_object_catalog__('http://nesssi.cacr.caltech.edu/catalina/Allns.arch.html')\n",
    "df['Classification'] = df.apply(lambda row: row.Classification[0].upper() + row.Classification[1:], axis=1)\n",
    "df.to_pickle(filepath)"
   ]
  },
  {
   "cell_type": "markdown",
   "metadata": {},
   "source": [
    "Display catalog overview"
   ]
  },
  {
   "cell_type": "code",
   "execution_count": 11,
   "metadata": {},
   "outputs": [
    {
     "name": "stdout",
     "output_type": "stream",
     "text": [
      "Shape:  (5540, 2)\n"
     ]
    },
    {
     "data": {
      "text/html": [
       "<div>\n",
       "<style>\n",
       "    .dataframe thead tr:only-child th {\n",
       "        text-align: right;\n",
       "    }\n",
       "\n",
       "    .dataframe thead th {\n",
       "        text-align: left;\n",
       "    }\n",
       "\n",
       "    .dataframe tbody tr th {\n",
       "        vertical-align: top;\n",
       "    }\n",
       "</style>\n",
       "<table border=\"1\" class=\"dataframe\">\n",
       "  <thead>\n",
       "    <tr style=\"text-align: right;\">\n",
       "      <th></th>\n",
       "      <th>Classification</th>\n",
       "      <th>TransientID</th>\n",
       "    </tr>\n",
       "  </thead>\n",
       "  <tbody>\n",
       "    <tr>\n",
       "      <th>0</th>\n",
       "      <td>Flare</td>\n",
       "      <td>1611101400424116462</td>\n",
       "    </tr>\n",
       "    <tr>\n",
       "      <th>1</th>\n",
       "      <td>HPM</td>\n",
       "      <td>1611101210274176502</td>\n",
       "    </tr>\n",
       "    <tr>\n",
       "      <th>2</th>\n",
       "      <td>HPM</td>\n",
       "      <td>1611101150154137989</td>\n",
       "    </tr>\n",
       "    <tr>\n",
       "      <th>3</th>\n",
       "      <td>HPM</td>\n",
       "      <td>1611091630244128695</td>\n",
       "    </tr>\n",
       "    <tr>\n",
       "      <th>4</th>\n",
       "      <td>CV</td>\n",
       "      <td>1611091600294129774</td>\n",
       "    </tr>\n",
       "    <tr>\n",
       "      <th>5</th>\n",
       "      <td>HPM</td>\n",
       "      <td>1611091350304122705</td>\n",
       "    </tr>\n",
       "    <tr>\n",
       "      <th>6</th>\n",
       "      <td>SN</td>\n",
       "      <td>1611091210484112960</td>\n",
       "    </tr>\n",
       "    <tr>\n",
       "      <th>7</th>\n",
       "      <td>SN</td>\n",
       "      <td>1611091120214135441</td>\n",
       "    </tr>\n",
       "    <tr>\n",
       "      <th>8</th>\n",
       "      <td>HPM</td>\n",
       "      <td>1611091120214104142</td>\n",
       "    </tr>\n",
       "    <tr>\n",
       "      <th>9</th>\n",
       "      <td>CV</td>\n",
       "      <td>1611091010464105145</td>\n",
       "    </tr>\n",
       "  </tbody>\n",
       "</table>\n",
       "</div>"
      ],
      "text/plain": [
       "  Classification          TransientID\n",
       "0          Flare  1611101400424116462\n",
       "1            HPM  1611101210274176502\n",
       "2            HPM  1611101150154137989\n",
       "3            HPM  1611091630244128695\n",
       "4             CV  1611091600294129774\n",
       "5            HPM  1611091350304122705\n",
       "6             SN  1611091210484112960\n",
       "7             SN  1611091120214135441\n",
       "8            HPM  1611091120214104142\n",
       "9             CV  1611091010464105145"
      ]
     },
     "execution_count": 11,
     "metadata": {},
     "output_type": "execute_result"
    }
   ],
   "source": [
    "print('Shape: ', df.shape)\n",
    "df.head(10)"
   ]
  },
  {
   "cell_type": "code",
   "execution_count": null,
   "metadata": {
    "collapsed": true
   },
   "outputs": [],
   "source": []
  }
 ],
 "metadata": {
  "kernelspec": {
   "display_name": "Python 3",
   "language": "python",
   "name": "python3"
  },
  "language_info": {
   "codemirror_mode": {
    "name": "ipython",
    "version": 3
   },
   "file_extension": ".py",
   "mimetype": "text/x-python",
   "name": "python",
   "nbconvert_exporter": "python",
   "pygments_lexer": "ipython3",
   "version": "3.4.0"
  }
 },
 "nbformat": 4,
 "nbformat_minor": 2
}
