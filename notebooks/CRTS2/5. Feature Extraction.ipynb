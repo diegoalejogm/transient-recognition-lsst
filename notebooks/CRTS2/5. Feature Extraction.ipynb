{
 "cells": [
  {
   "cell_type": "code",
   "execution_count": 1,
   "metadata": {
    "collapsed": true
   },
   "outputs": [],
   "source": [
    "DATA_PATH = '../../data/CRTS2/'"
   ]
  },
  {
   "cell_type": "code",
   "execution_count": 2,
   "metadata": {
    "collapsed": true,
    "scrolled": true
   },
   "outputs": [],
   "source": [
    "import numpy as np\n",
    "import pandas as pd\n",
    "from scipy import stats\n",
    "import sys\n",
    "sys.path.append(\"../..\")\n",
    "import measurements\n",
    "import astropy.time as astime"
   ]
  },
  {
   "cell_type": "markdown",
   "metadata": {},
   "source": [
    "Import transient lightcurves"
   ]
  },
  {
   "cell_type": "code",
   "execution_count": 3,
   "metadata": {},
   "outputs": [
    {
     "data": {
      "text/plain": [
       "(451474, 4)"
      ]
     },
     "execution_count": 3,
     "metadata": {},
     "output_type": "execute_result"
    }
   ],
   "source": [
    "filename = 'transient_lightcurves.pickle'\n",
    "indir = DATA_PATH; filepath = indir + filename\n",
    "df_tra = pd.read_pickle(filepath)\n",
    "df_tra.shape"
   ]
  },
  {
   "cell_type": "markdown",
   "metadata": {},
   "source": [
    "Filter transient lightcurves"
   ]
  },
  {
   "cell_type": "code",
   "execution_count": 4,
   "metadata": {
    "collapsed": true
   },
   "outputs": [],
   "source": [
    "# Delete rows of blended observations\n",
    "df_tra = df_tra.drop_duplicates(['TransientID','MJD'], keep='first')"
   ]
  },
  {
   "cell_type": "code",
   "execution_count": 21,
   "metadata": {
    "collapsed": true
   },
   "outputs": [],
   "source": [
    "min_obs = 5"
   ]
  },
  {
   "cell_type": "code",
   "execution_count": 6,
   "metadata": {
    "collapsed": true
   },
   "outputs": [],
   "source": [
    "# Add observation count to every transient\n",
    "df_count = df_tra.groupby('TransientID', as_index=False).count()\n",
    "df_count['ObsCount'] = df_count['Mag']\n",
    "df_count = df_count[['TransientID', 'ObsCount']]\n",
    "df_tra = df_tra.merge(df_count, how='inner')"
   ]
  },
  {
   "cell_type": "code",
   "execution_count": 7,
   "metadata": {
    "collapsed": true
   },
   "outputs": [],
   "source": [
    "# Remove objects with less than 5 observations\n",
    "df_tra = df_tra[df_tra.ObsCount >= min_obs]"
   ]
  },
  {
   "cell_type": "markdown",
   "metadata": {},
   "source": [
    "Import permanent lightcurves"
   ]
  },
  {
   "cell_type": "code",
   "execution_count": 8,
   "metadata": {},
   "outputs": [
    {
     "data": {
      "text/plain": [
       "(1924409, 4)"
      ]
     },
     "execution_count": 8,
     "metadata": {},
     "output_type": "execute_result"
    }
   ],
   "source": [
    "filename = 'permanent_lightcurves.pickle'\n",
    "indir = DATA_PATH; filepath = indir + filename\n",
    "df_per = pd.read_pickle(filepath)\n",
    "df_per.shape"
   ]
  },
  {
   "cell_type": "code",
   "execution_count": 9,
   "metadata": {},
   "outputs": [
    {
     "data": {
      "text/plain": [
       "(1802695, 4)"
      ]
     },
     "execution_count": 9,
     "metadata": {},
     "output_type": "execute_result"
    }
   ],
   "source": [
    "# Delete rows of blended observations\n",
    "df_per = df_per.drop_duplicates(['ID','MJD'], keep='first')\n",
    "df_per.shape"
   ]
  },
  {
   "cell_type": "code",
   "execution_count": 10,
   "metadata": {
    "collapsed": true
   },
   "outputs": [],
   "source": [
    "# Add observation count to every permanent\n",
    "df_count = df_per.groupby('ID', as_index=False).count()\n",
    "df_count['ObsCount'] = df_count['Mag']\n",
    "df_count = df_count[['ID', 'ObsCount']]\n",
    "df_per = df_per.merge(df_count, how='inner')"
   ]
  },
  {
   "cell_type": "code",
   "execution_count": 11,
   "metadata": {},
   "outputs": [
    {
     "data": {
      "text/plain": [
       "(1798465, 5)"
      ]
     },
     "execution_count": 11,
     "metadata": {},
     "output_type": "execute_result"
    }
   ],
   "source": [
    "# Remove objects with less than 5 observations\n",
    "df_per = df_per[df_per.ObsCount >= 5]\n",
    "df_per.shape"
   ]
  },
  {
   "cell_type": "code",
   "execution_count": 12,
   "metadata": {},
   "outputs": [
    {
     "data": {
      "text/plain": [
       "(15193,)"
      ]
     },
     "execution_count": 12,
     "metadata": {},
     "output_type": "execute_result"
    }
   ],
   "source": [
    "df_per.ID.unique().shape"
   ]
  },
  {
   "cell_type": "code",
   "execution_count": 13,
   "metadata": {},
   "outputs": [
    {
     "data": {
      "text/plain": [
       "((3727,), (444973, 5))"
      ]
     },
     "execution_count": 13,
     "metadata": {},
     "output_type": "execute_result"
    }
   ],
   "source": [
    "# Sample subset of same size as transients\n",
    "sample_size = df_tra.TransientID.unique().shape[0]\n",
    "np.random.seed(42)\n",
    "IDs = np.random.choice(df_per.ID.unique(), size=sample_size, replace=False)\n",
    "df_per = df_per[df_per.ID.isin(IDs)]\n",
    "df_per.ID.unique().shape, df_per.shape"
   ]
  },
  {
   "cell_type": "markdown",
   "metadata": {},
   "source": [
    " Define functionality to extract features "
   ]
  },
  {
   "cell_type": "code",
   "execution_count": 14,
   "metadata": {
    "collapsed": true
   },
   "outputs": [],
   "source": [
    "def extract_features(df, feature_dict):\n",
    "    df = df.copy()\n",
    "    df['Flux'] = measurements.__mag_to_flux__(df.Mag)\n",
    "    df['Date'] = astime.Time(df.MJD, format='mjd').datetime\n",
    "    df = df.sort_values('Date')\n",
    "    # Curve fitting params\n",
    "    p1_params, p2_params, p4_params = curve_params(df.Mag, df.Magerr, df.MJD)\n",
    "    feature_dict['poly1_a'] = p1_params[0]\n",
    "    feature_dict['poly2_a'] = p2_params[0]\n",
    "    feature_dict['poly2_b'] = p2_params[1]\n",
    "    feature_dict['poly2_b'] = p2_params[0]\n",
    "    feature_dict['poly4_a'] = p4_params[0]\n",
    "    feature_dict['poly4_b'] = p4_params[1]\n",
    "    feature_dict['poly4_c'] = p4_params[2]\n",
    "    feature_dict['poly4_d'] = p4_params[3]\n",
    "    # Curve statistics measurements\n",
    "    feature_dict['skew'].append(measurements.skew(df.Mag))\n",
    "    feature_dict['kurtosis'].append(measurements.kurtosis(df.Mag))\n",
    "    feature_dict['small_kurtosis'].append(measurements.small_kurtosis(df.Mag))\n",
    "    feature_dict['std'].append(measurements.std(df.Mag))\n",
    "    feature_dict['beyond1st'].append(measurements.beyond1st(df.Mag, df.Magerr))\n",
    "    feature_dict['stetson_j'].append(measurements.stetson_j(df.Mag, df.Magerr, df.Date))\n",
    "    feature_dict['stetson_k'].append(measurements.stetson_k(df.Mag, df.Magerr))\n",
    "    feature_dict['max_slope'].append(measurements.max_slope(df.Mag, df.Date))\n",
    "    feature_dict['amplitude'].append(measurements.amplitude(df.Mag))\n",
    "    feature_dict['median_absolute_deviation'].append(measurements.median_absolute_deviation(df.Mag))\n",
    "    feature_dict['median_buffer_range_percentage'].append(measurements.median_buffer_range_percentage(df.Flux))\n",
    "    feature_dict['pair_slope_trend'].append(measurements.pair_slope_trend(df.Mag, df.Date))\n",
    "    feature_dict['pair_slope_trend_last_30'].append(measurements.pair_slope_trend_last_30(df.Mag, df.Date))\n",
    "    feature_dict['flux_percentile_ratio_mid20'].append(measurements.flux_percentile_ratio_mid20(df.Flux))\n",
    "    feature_dict['flux_percentile_ratio_mid35'].append(measurements.flux_percentile_ratio_mid35(df.Flux))\n",
    "    feature_dict['flux_percentile_ratio_mid50'].append(measurements.flux_percentile_ratio_mid50(df.Flux))\n",
    "    feature_dict['flux_percentile_ratio_mid65'].append(measurements.flux_percentile_ratio_mid65(df.Flux))\n",
    "    feature_dict['flux_percentile_ratio_mid80'].append(measurements.flux_percentile_ratio_mid80(df.Flux))\n",
    "    feature_dict['percent_amplitude'].append(measurements.percent_amplitude(df.Flux))\n",
    "    feature_dict['percent_difference_flux_percentile'].append(measurements.percent_difference_flux_percentile(df.Flux))\n",
    "    feature_dict['linear_trend'].append(measurements.linear_trend(df.Flux, df.Date))"
   ]
  },
  {
   "cell_type": "markdown",
   "metadata": {},
   "source": [
    "Extract transient features"
   ]
  },
  {
   "cell_type": "code",
   "execution_count": 15,
   "metadata": {
    "collapsed": true,
    "scrolled": true
   },
   "outputs": [],
   "source": [
    "feature_dict = {'ID':[], 'skew':[], 'std':[], 'kurtosis':[], 'small_kurtosis': [], 'beyond1st':[],'stetson_j':[], 'stetson_k':[], 'max_slope':[],'amplitude':[], 'median_absolute_deviation':[], 'median_buffer_range_percentage':[], 'pair_slope_trend':[], 'pair_slope_trend_last_30':[], 'flux_percentile_ratio_mid20':[], 'flux_percentile_ratio_mid35':[], 'flux_percentile_ratio_mid50':[], 'flux_percentile_ratio_mid65':[], 'flux_percentile_ratio_mid80':[], 'percent_amplitude':[], 'percent_difference_flux_percentile':[], 'linear_trend':[], 'poly1_a':[], 'poly2_a':[], 'poly2_b':[], 'poly4_a':[], 'poly4_b':[], 'poly4_c':[], 'poly4_d':[]}\n",
    "for trID in df_tra.TransientID.unique():\n",
    "    df = df_tra[df_tra.TransientID == trID]\n",
    "    feature_dict['ID'].append(trID)\n",
    "    extract_features(df, feature_dict)\n",
    "df_feat_tran = pd.DataFrame(feature_dict)"
   ]
  },
  {
   "cell_type": "code",
   "execution_count": 16,
   "metadata": {},
   "outputs": [
    {
     "data": {
      "text/plain": [
       "ID                                    3727\n",
       "amplitude                             3727\n",
       "beyond1st                             3727\n",
       "flux_percentile_ratio_mid20           3727\n",
       "flux_percentile_ratio_mid35           3727\n",
       "flux_percentile_ratio_mid50           3727\n",
       "flux_percentile_ratio_mid65           3727\n",
       "flux_percentile_ratio_mid80           3727\n",
       "kurtosis                              3727\n",
       "linear_trend                          3727\n",
       "max_slope                             3727\n",
       "median_absolute_deviation             3727\n",
       "median_buffer_range_percentage        3727\n",
       "pair_slope_trend                      3727\n",
       "pair_slope_trend_last_30              3727\n",
       "percent_amplitude                     3727\n",
       "percent_difference_flux_percentile    3727\n",
       "skew                                  3727\n",
       "small_kurtosis                        3727\n",
       "std                                   3727\n",
       "stetson_j                             3727\n",
       "stetson_k                             3727\n",
       "dtype: int64"
      ]
     },
     "execution_count": 16,
     "metadata": {},
     "output_type": "execute_result"
    }
   ],
   "source": [
    "df_feat_tran.count()"
   ]
  },
  {
   "cell_type": "markdown",
   "metadata": {},
   "source": [
    "Save transient features"
   ]
  },
  {
   "cell_type": "code",
   "execution_count": 17,
   "metadata": {
    "collapsed": true
   },
   "outputs": [],
   "source": [
    "num_features = df_feat_tran.shape[1]-1\n",
    "outdir = DATA_PATH\n",
    "filename = 'transient_features_{}obs_{}feats.pickle'.format(min_obs, num_features) \n",
    "outpath = outdir + filename\n",
    "df_feat_tran.to_pickle(outpath)"
   ]
  },
  {
   "cell_type": "markdown",
   "metadata": {},
   "source": [
    "Extract permanent features"
   ]
  },
  {
   "cell_type": "code",
   "execution_count": 18,
   "metadata": {
    "collapsed": true
   },
   "outputs": [],
   "source": [
    "feature_dict = {'ID':[], 'skew':[], 'std':[], 'kurtosis':[], 'small_kurtosis': [], 'beyond1st':[],'stetson_j':[], 'stetson_k':[], 'max_slope':[],'amplitude':[], 'median_absolute_deviation':[], 'median_buffer_range_percentage':[], 'pair_slope_trend':[], 'pair_slope_trend_last_30':[], 'flux_percentile_ratio_mid20':[], 'flux_percentile_ratio_mid35':[], 'flux_percentile_ratio_mid50':[], 'flux_percentile_ratio_mid65':[], 'flux_percentile_ratio_mid80':[], 'percent_amplitude':[], 'percent_difference_flux_percentile':[], 'linear_trend':[], 'poly1_a':[], 'poly2_a':[], 'poly2_b':[], 'poly4_a':[], 'poly4_b':[], 'poly4_c':[], 'poly4_d':[]}\n",
    "for ID in df_per.ID.unique():\n",
    "    df = df_per[df_per.ID == ID]\n",
    "    feature_dict['ID'].append(ID)\n",
    "    extract_features(df, feature_dict)\n",
    "df_feat_perm = pd.DataFrame(feature_dict)"
   ]
  },
  {
   "cell_type": "code",
   "execution_count": 19,
   "metadata": {
    "scrolled": false
   },
   "outputs": [
    {
     "data": {
      "text/plain": [
       "ID                                    3727\n",
       "amplitude                             3727\n",
       "beyond1st                             3727\n",
       "flux_percentile_ratio_mid20           3727\n",
       "flux_percentile_ratio_mid35           3727\n",
       "flux_percentile_ratio_mid50           3727\n",
       "flux_percentile_ratio_mid65           3727\n",
       "flux_percentile_ratio_mid80           3727\n",
       "kurtosis                              3727\n",
       "linear_trend                          3727\n",
       "max_slope                             3727\n",
       "median_absolute_deviation             3727\n",
       "median_buffer_range_percentage        3727\n",
       "pair_slope_trend                      3727\n",
       "pair_slope_trend_last_30              3727\n",
       "percent_amplitude                     3727\n",
       "percent_difference_flux_percentile    3727\n",
       "skew                                  3727\n",
       "small_kurtosis                        3727\n",
       "std                                   3727\n",
       "stetson_j                             3727\n",
       "stetson_k                             3727\n",
       "dtype: int64"
      ]
     },
     "execution_count": 19,
     "metadata": {},
     "output_type": "execute_result"
    }
   ],
   "source": [
    "df_feat_perm.count()"
   ]
  },
  {
   "cell_type": "markdown",
   "metadata": {},
   "source": [
    "Save permanent features"
   ]
  },
  {
   "cell_type": "code",
   "execution_count": 20,
   "metadata": {
    "collapsed": true
   },
   "outputs": [],
   "source": [
    "num_features = df_feat_perm.shape[1]-1\n",
    "outdir = DATA_PATH\n",
    "filename = 'permanent_features_{}obs_{}feats.pickle'.format(min_obs, num_features) \n",
    "outpath = outdir + filename\n",
    "df_feat_perm.to_pickle(outpath)"
   ]
  }
 ],
 "metadata": {
  "kernelspec": {
   "display_name": "Python 3",
   "language": "python",
   "name": "python3"
  },
  "language_info": {
   "codemirror_mode": {
    "name": "ipython",
    "version": 3
   },
   "file_extension": ".py",
   "mimetype": "text/x-python",
   "name": "python",
   "nbconvert_exporter": "python",
   "pygments_lexer": "ipython3",
   "version": "3.4.0"
  }
 },
 "nbformat": 4,
 "nbformat_minor": 2
}
