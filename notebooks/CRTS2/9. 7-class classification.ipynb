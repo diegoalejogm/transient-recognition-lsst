{
 "cells": [
  {
   "cell_type": "code",
   "execution_count": 1,
   "metadata": {
    "collapsed": true
   },
   "outputs": [],
   "source": [
    "DATA_PATH = '../../data/CRTS2/'\n",
    "RESULTS_PATH = '../../results/'"
   ]
  },
  {
   "cell_type": "code",
   "execution_count": 2,
   "metadata": {
    "collapsed": true
   },
   "outputs": [],
   "source": [
    "import pandas as pd\n",
    "import numpy as np\n",
    "from sklearn.preprocessing import StandardScaler\n",
    "from sklearn.svm import SVC\n",
    "from sklearn.ensemble import RandomForestClassifier\n",
    "from sklearn.neural_network import MLPClassifier\n",
    "from sklearn.model_selection import GridSearchCV, StratifiedKFold, train_test_split, cross_val_score\n",
    "from sklearn.metrics import accuracy_score, classification_report, confusion_matrix"
   ]
  },
  {
   "cell_type": "code",
   "execution_count": 3,
   "metadata": {
    "collapsed": true
   },
   "outputs": [],
   "source": [
    "np.random.seed(42)"
   ]
  },
  {
   "cell_type": "markdown",
   "metadata": {},
   "source": [
    "Load Transient Catalog"
   ]
  },
  {
   "cell_type": "code",
   "execution_count": 4,
   "metadata": {},
   "outputs": [
    {
     "name": "stdout",
     "output_type": "stream",
     "text": [
      "(5539,)\n"
     ]
    }
   ],
   "source": [
    "filename = 'transient_catalog.pickle'\n",
    "indir = DATA_PATH; filepath = indir + filename\n",
    "df_cat = pd.read_pickle(filepath)\n",
    "# Rename columns to match light curves\n",
    "df_cat = df_cat.rename(columns={'TransientID': 'ID', 'Classification': 'class'})\n",
    "print(df_cat.ID.unique().shape)"
   ]
  },
  {
   "cell_type": "markdown",
   "metadata": {},
   "source": [
    "Load Transient Features"
   ]
  },
  {
   "cell_type": "code",
   "execution_count": 5,
   "metadata": {
    "collapsed": true
   },
   "outputs": [],
   "source": [
    "# Use catalogue of transients with min observations\n",
    "min_obs = 5\n",
    "num_features = 27"
   ]
  },
  {
   "cell_type": "code",
   "execution_count": 6,
   "metadata": {},
   "outputs": [
    {
     "data": {
      "text/plain": [
       "(4384, 28)"
      ]
     },
     "execution_count": 6,
     "metadata": {},
     "output_type": "execute_result"
    }
   ],
   "source": [
    "# Loead transient features\n",
    "indir = DATA_PATH\n",
    "filename = 'transient_features_{}obs_{}feats.pickle'.format(min_obs, num_features) \n",
    "inpath = indir + filename\n",
    "df_feat_tran = pd.read_pickle(inpath)\n",
    "df_feat_tran.shape"
   ]
  },
  {
   "cell_type": "markdown",
   "metadata": {},
   "source": [
    "Load Non-Transient Features"
   ]
  },
  {
   "cell_type": "code",
   "execution_count": 7,
   "metadata": {},
   "outputs": [
    {
     "data": {
      "text/plain": [
       "(4384, 28)"
      ]
     },
     "execution_count": 7,
     "metadata": {},
     "output_type": "execute_result"
    }
   ],
   "source": [
    "# Load non-transient Features\n",
    "indir = DATA_PATH\n",
    "filename = 'permanent_features_{}obs_{}feats.pickle'.format(min_obs, num_features) \n",
    "inpath = indir + filename\n",
    "df_feat_perm = pd.read_pickle(inpath)\n",
    "df_feat_perm.shape"
   ]
  },
  {
   "cell_type": "markdown",
   "metadata": {},
   "source": [
    "Create Transient inputs and outputs"
   ]
  },
  {
   "cell_type": "code",
   "execution_count": 8,
   "metadata": {
    "collapsed": true
   },
   "outputs": [],
   "source": [
    "# Add classs label to transient objects\n",
    "df_feat_tran = df_feat_tran.merge(df_cat , how='inner')\n",
    "# Remove ambiguous classes\n",
    "top_classes = ['SN', 'CV', 'AGN', 'HPM', 'Blazar', 'Flare']\n",
    "df_feat_tran = df_feat_tran[df_feat_tran['class'].isin(top_classes)]\n",
    "# Add class to non-transient features\n",
    "df_feat_perm['class'] = 'Non-Transient'\n",
    "# Sample non-transients features as big as largest class\n",
    "big_class_size = df_feat_tran.groupby('class')['ID'].count().max()\n",
    "IDs = np.random.choice(df_feat_perm.ID.unique(), size=big_class_size, replace=False)\n",
    "df_feat_perm = df_feat_perm[df_feat_perm.ID.isin(IDs)]\n",
    "# Merge transient and non-transient df\n",
    "df = df_feat_tran.append(df_feat_perm, ignore_index=True)\n",
    "# Remove IDs\n",
    "df = df.drop(['ID'], axis=1)"
   ]
  },
  {
   "cell_type": "markdown",
   "metadata": {},
   "source": [
    "Create Transient inputs and outputs"
   ]
  },
  {
   "cell_type": "code",
   "execution_count": 9,
   "metadata": {
    "collapsed": true
   },
   "outputs": [],
   "source": [
    "# Obtain X and y\n",
    "X = df.drop(['class'], axis=1).as_matrix()\n",
    "y = df['class'].as_matrix()"
   ]
  },
  {
   "cell_type": "code",
   "execution_count": 10,
   "metadata": {},
   "outputs": [
    {
     "data": {
      "text/plain": [
       "{'AGN': 427,\n",
       " 'Blazar': 237,\n",
       " 'CV': 862,\n",
       " 'Flare': 207,\n",
       " 'HPM': 412,\n",
       " 'Non-Transient': 1295,\n",
       " 'SN': 1295}"
      ]
     },
     "execution_count": 10,
     "metadata": {},
     "output_type": "execute_result"
    }
   ],
   "source": [
    "# Count number of objects per class\n",
    "dict(zip(*np.unique(y, return_counts=True)))"
   ]
  },
  {
   "cell_type": "code",
   "execution_count": 11,
   "metadata": {},
   "outputs": [
    {
     "data": {
      "text/plain": [
       "4735"
      ]
     },
     "execution_count": 11,
     "metadata": {},
     "output_type": "execute_result"
    }
   ],
   "source": [
    "# Count total number of objects\n",
    "np.sum(np.unique(y, return_counts=True)[1])"
   ]
  },
  {
   "cell_type": "markdown",
   "metadata": {},
   "source": [
    "Split in Test & Train Sets"
   ]
  },
  {
   "cell_type": "code",
   "execution_count": 12,
   "metadata": {
    "collapsed": true
   },
   "outputs": [],
   "source": [
    "X_train, X_test, y_train, y_test = train_test_split(\n",
    "    X, y, test_size=0.33, random_state=42, stratify=y\n",
    ")"
   ]
  },
  {
   "cell_type": "code",
   "execution_count": 13,
   "metadata": {},
   "outputs": [
    {
     "data": {
      "text/plain": [
       "((3172, 27), (3172,))"
      ]
     },
     "execution_count": 13,
     "metadata": {},
     "output_type": "execute_result"
    }
   ],
   "source": [
    "X_train.shape, y_train.shape"
   ]
  },
  {
   "cell_type": "code",
   "execution_count": 14,
   "metadata": {},
   "outputs": [
    {
     "data": {
      "text/plain": [
       "((1563, 27), (1563,))"
      ]
     },
     "execution_count": 14,
     "metadata": {},
     "output_type": "execute_result"
    }
   ],
   "source": [
    "X_test.shape, y_test.shape"
   ]
  },
  {
   "cell_type": "markdown",
   "metadata": {},
   "source": [
    "Scale features"
   ]
  },
  {
   "cell_type": "code",
   "execution_count": 15,
   "metadata": {
    "collapsed": true
   },
   "outputs": [],
   "source": [
    "# Create scaler\n",
    "scaler = StandardScaler().fit(X_train)\n",
    "X_train = scaler.transform(X_train)\n",
    "X_test = scaler.transform(X_test)"
   ]
  },
  {
   "cell_type": "markdown",
   "metadata": {},
   "source": [
    "Define classfication routine"
   ]
  },
  {
   "cell_type": "code",
   "execution_count": 16,
   "metadata": {
    "collapsed": true
   },
   "outputs": [],
   "source": [
    "def train_validate_test_model(model, params, X_train, y_train, X_test, y_test):\n",
    "    # Precision decimal places\n",
    "    digits = 4\n",
    "    # Train & cross-validate\n",
    "    grid_search = GridSearchCV(model, tuned_parameters, cv=StratifiedKFold(2))\n",
    "    grid_search.fit(X_train, y_train)\n",
    "    # Train new model with all train data\n",
    "    clf = grid_search.best_estimator_\n",
    "    clf.fit(X_train, y_train)\n",
    "    # Predict test inputs with new model\n",
    "    y_pred = clf.predict(X_test)\n",
    "    # Create results using real and predicted labels of test data \n",
    "    results_str = results_string(y_test, y_pred, grid_search, digits=digits)\n",
    "    print(results_str)\n",
    "    # Save results\n",
    "    task = 'binary'\n",
    "    model_name = model.__class__.__name__\n",
    "    filename = '{}_{}obs_{}feat_{}'.format(task, min_obs, num_features, model_name)\n",
    "    with open(RESULTS_PATH + filename + '.txt', 'w+') as f: f.write(results_str)\n",
    "        \n",
    "    return clf\n",
    "\n",
    "def results_string(y_true, y_pred, grid_search, digits):\n",
    "    float_param = '{0:.' + str(digits) + 'f}'\n",
    "    results = str()\n",
    "    results += 'Best Params: {}\\n'.format(grid_search.best_params_)\n",
    "    results += ('Validation Accuracy: ' + float_param + '\\n').format(grid_search.best_score_)\n",
    "    results += ('Test Accuracy: ' + float_param + '\\n').format(accuracy_score(y_test, y_pred))\n",
    "    results += 'Report:\\n {}'.format(classification_report(y_test, y_pred, digits=digits))\n",
    "#    results += 'Confusion Matrix:\\n {}'.format(clf_confusion_matrix(y_pred, y_test))\n",
    "#    results += 'Normalized Confusion Matrix:\\n {}'.format(clf_confusion_matrix(y_pred, y_test, True))   \n",
    "    return results"
   ]
  },
  {
   "cell_type": "markdown",
   "metadata": {},
   "source": [
    "Classify using SVC"
   ]
  },
  {
   "cell_type": "code",
   "execution_count": 17,
   "metadata": {
    "collapsed": true
   },
   "outputs": [],
   "source": [
    "tuned_parameters = {\n",
    "    'kernel': ['rbf'],\n",
    "    'gamma':[1e-1, 1e-2, 1e-3, 1e-4, 1e-5],\n",
    "    'C': [1, 10, 100, 1000]\n",
    "}"
   ]
  },
  {
   "cell_type": "code",
   "execution_count": 18,
   "metadata": {},
   "outputs": [
    {
     "name": "stdout",
     "output_type": "stream",
     "text": [
      "Best Params: {'C': 100, 'kernel': 'rbf', 'gamma': 0.01}\n",
      "Validation Accuracy: 0.6176\n",
      "Test Accuracy: 0.6468\n",
      "Report:\n",
      "                precision    recall  f1-score   support\n",
      "\n",
      "          AGN     0.5700    0.8085    0.6686       141\n",
      "       Blazar     0.3651    0.5897    0.4510        78\n",
      "           CV     0.7194    0.6386    0.6766       285\n",
      "        Flare     0.2867    0.6029    0.3886        68\n",
      "          HPM     0.7891    0.8529    0.8198       136\n",
      "Non-Transient     0.7386    0.6799    0.7080       428\n",
      "           SN     0.7367    0.5176    0.6080       427\n",
      "\n",
      "  avg / total     0.6854    0.6468    0.6544      1563\n",
      "\n"
     ]
    }
   ],
   "source": [
    "model = SVC(random_state=0, class_weight='balanced')\n",
    "clf1 = train_validate_test_model(model, tuned_parameters, X_train, y_train, X_test, y_test)"
   ]
  },
  {
   "cell_type": "markdown",
   "metadata": {},
   "source": [
    "Classify using RF"
   ]
  },
  {
   "cell_type": "code",
   "execution_count": 19,
   "metadata": {
    "collapsed": true
   },
   "outputs": [],
   "source": [
    "tuned_parameters = { \n",
    "    'n_estimators': [200, 700],\n",
    "    'max_features': ['auto', 'sqrt', 'log2']\n",
    "}"
   ]
  },
  {
   "cell_type": "code",
   "execution_count": 20,
   "metadata": {},
   "outputs": [
    {
     "name": "stdout",
     "output_type": "stream",
     "text": [
      "Best Params: {'max_features': 'log2', 'n_estimators': 200}\n",
      "Validation Accuracy: 0.7226\n",
      "Test Accuracy: 0.7524\n",
      "Report:\n",
      "                precision    recall  f1-score   support\n",
      "\n",
      "          AGN     0.8308    0.7660    0.7970       141\n",
      "       Blazar     0.5833    0.3590    0.4444        78\n",
      "           CV     0.7874    0.7018    0.7421       285\n",
      "        Flare     0.7333    0.3235    0.4490        68\n",
      "          HPM     0.9512    0.8603    0.9035       136\n",
      "Non-Transient     0.7320    0.8808    0.7996       428\n",
      "           SN     0.6998    0.7588    0.7281       427\n",
      "\n",
      "  avg / total     0.7539    0.7524    0.7454      1563\n",
      "\n"
     ]
    }
   ],
   "source": [
    "model = RandomForestClassifier(random_state=0, class_weight='balanced')\n",
    "clf2 = train_validate_test_model(model, tuned_parameters, X_train, y_train, X_test, y_test)"
   ]
  },
  {
   "cell_type": "markdown",
   "metadata": {},
   "source": [
    "Classify using NN"
   ]
  },
  {
   "cell_type": "code",
   "execution_count": 21,
   "metadata": {
    "collapsed": true
   },
   "outputs": [],
   "source": [
    "tuned_parameters = {\n",
    "    'learning_rate': ['constant', \"adaptive\"],\n",
    "    'hidden_layer_sizes': [(100), (100,100)],\n",
    "    'alpha': [1e-2, 1e-3],\n",
    "    'activation': [\"logistic\", \"relu\", \"tanh\"]\n",
    "}"
   ]
  },
  {
   "cell_type": "code",
   "execution_count": 22,
   "metadata": {
    "scrolled": true
   },
   "outputs": [
    {
     "name": "stderr",
     "output_type": "stream",
     "text": [
      "/home/estudiante/transient-recognition-lsst/venv/lib/python3.4/site-packages/sklearn/neural_network/multilayer_perceptron.py:564: ConvergenceWarning: Stochastic Optimizer: Maximum iterations (200) reached and the optimization hasn't converged yet.\n",
      "  % self.max_iter, ConvergenceWarning)\n"
     ]
    },
    {
     "name": "stdout",
     "output_type": "stream",
     "text": [
      "Best Params: {'alpha': 0.01, 'activation': 'relu', 'learning_rate': 'constant', 'hidden_layer_sizes': 100}\n",
      "Validation Accuracy: 0.6690\n",
      "Test Accuracy: 0.6884\n",
      "Report:\n",
      "                precision    recall  f1-score   support\n",
      "\n",
      "          AGN     0.6646    0.7447    0.7023       141\n",
      "       Blazar     0.5263    0.3846    0.4444        78\n",
      "           CV     0.7019    0.6526    0.6764       285\n",
      "        Flare     0.5385    0.3088    0.3925        68\n",
      "          HPM     0.8750    0.8235    0.8485       136\n",
      "Non-Transient     0.7012    0.7897    0.7429       428\n",
      "           SN     0.6544    0.6651    0.6597       427\n",
      "\n",
      "  avg / total     0.6846    0.6884    0.6834      1563\n",
      "\n"
     ]
    }
   ],
   "source": [
    "model = MLPClassifier(random_state=0)\n",
    "clf3 = train_validate_test_model(model, tuned_parameters, X_train, y_train, X_test, y_test)"
   ]
  }
 ],
 "metadata": {
  "kernelspec": {
   "display_name": "Python 3",
   "language": "python",
   "name": "python3"
  },
  "language_info": {
   "codemirror_mode": {
    "name": "ipython",
    "version": 3
   },
   "file_extension": ".py",
   "mimetype": "text/x-python",
   "name": "python",
   "nbconvert_exporter": "python",
   "pygments_lexer": "ipython3",
   "version": "3.4.0"
  }
 },
 "nbformat": 4,
 "nbformat_minor": 2
}
