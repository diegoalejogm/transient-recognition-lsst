{
 "cells": [
  {
   "cell_type": "code",
   "execution_count": 1,
   "metadata": {
    "collapsed": true
   },
   "outputs": [],
   "source": [
    "DATA_PATH = '../../data/CRTS2/'"
   ]
  },
  {
   "cell_type": "code",
   "execution_count": 2,
   "metadata": {
    "collapsed": true
   },
   "outputs": [],
   "source": [
    "import pandas as pd"
   ]
  },
  {
   "cell_type": "markdown",
   "metadata": {},
   "source": [
    "Load Transient Catalog"
   ]
  },
  {
   "cell_type": "code",
   "execution_count": 3,
   "metadata": {},
   "outputs": [
    {
     "name": "stdout",
     "output_type": "stream",
     "text": [
      "(5539,)\n"
     ]
    }
   ],
   "source": [
    "filename = 'transient_catalog.pickle'\n",
    "indir = DATA_PATH; filepath = indir + filename\n",
    "df_cat = pd.read_pickle(filepath)\n",
    "print(df_cat.TransientID.unique().shape)"
   ]
  },
  {
   "cell_type": "markdown",
   "metadata": {},
   "source": [
    "Load Transient Lightcurves"
   ]
  },
  {
   "cell_type": "code",
   "execution_count": 4,
   "metadata": {},
   "outputs": [
    {
     "name": "stdout",
     "output_type": "stream",
     "text": [
      "(4984,)\n"
     ]
    }
   ],
   "source": [
    "filename = 'transient_lightcurves.pickle'\n",
    "indir = DATA_PATH; filepath = indir + filename\n",
    "df_lcs = pd.read_pickle(filepath)\n",
    "print(df_lcs.TransientID.unique().shape)"
   ]
  },
  {
   "cell_type": "markdown",
   "metadata": {},
   "source": [
    "Check that all Lightcurves TransientID's are in Catalog"
   ]
  },
  {
   "cell_type": "code",
   "execution_count": 5,
   "metadata": {},
   "outputs": [
    {
     "name": "stdout",
     "output_type": "stream",
     "text": [
      "All exist: True\n"
     ]
    }
   ],
   "source": [
    "all_exist = True\n",
    "transID_cat_list = df_cat.TransientID.unique()\n",
    "for lcs_id in df_lcs.TransientID.unique():\n",
    "    all_exist = all_exist and (lcs_id in transID_cat_list)\n",
    "print('All exist:', str(all_exist))"
   ]
  },
  {
   "cell_type": "markdown",
   "metadata": {},
   "source": [
    "Check that all Catalog TransientID's are in Lightcurves "
   ]
  },
  {
   "cell_type": "code",
   "execution_count": 6,
   "metadata": {},
   "outputs": [
    {
     "name": "stdout",
     "output_type": "stream",
     "text": [
      "All exist: False\n",
      "Missing: 555 Transients\n"
     ]
    }
   ],
   "source": [
    "all_exist = True\n",
    "lcs_missing_transientID_list = []\n",
    "transID_lcs_list = df_lcs.TransientID.unique()\n",
    "for cat_id in df_cat.TransientID.unique():\n",
    "    id_exists = (cat_id in transID_lcs_list)\n",
    "    all_exist = all_exist and id_exists\n",
    "    if not id_exists: lcs_missing_transientID_list.append(cat_id)\n",
    "print('All exist:', str(all_exist))\n",
    "print('Missing: {} Transients'.format(len(lcs_missing_transientID_list)))"
   ]
  },
  {
   "cell_type": "markdown",
   "metadata": {},
   "source": [
    "Merge dataframes with inner join"
   ]
  },
  {
   "cell_type": "code",
   "execution_count": 7,
   "metadata": {
    "collapsed": true
   },
   "outputs": [],
   "source": [
    "df_merge = df_cat.copy().merge(df_lcs.copy().groupby('TransientID',as_index=False).count(), how='inner')\n",
    "df_merge.rename(columns={'Mag':'ObsCount'}, inplace=True)\n",
    "df_merge = df_merge[['TransientID', 'Classification', 'ObsCount']]"
   ]
  },
  {
   "cell_type": "code",
   "execution_count": 8,
   "metadata": {},
   "outputs": [
    {
     "name": "stdout",
     "output_type": "stream",
     "text": [
      "(4985, 3)\n"
     ]
    }
   ],
   "source": [
    "print(df_merge.shape)"
   ]
  },
  {
   "cell_type": "markdown",
   "metadata": {},
   "source": [
    "Top 10 count of transients by class"
   ]
  },
  {
   "cell_type": "code",
   "execution_count": 16,
   "metadata": {},
   "outputs": [
    {
     "data": {
      "text/html": [
       "<div>\n",
       "<style>\n",
       "    .dataframe thead tr:only-child th {\n",
       "        text-align: right;\n",
       "    }\n",
       "\n",
       "    .dataframe thead th {\n",
       "        text-align: left;\n",
       "    }\n",
       "\n",
       "    .dataframe tbody tr th {\n",
       "        vertical-align: top;\n",
       "    }\n",
       "</style>\n",
       "<table border=\"1\" class=\"dataframe\">\n",
       "  <thead>\n",
       "    <tr style=\"text-align: right;\">\n",
       "      <th>Classification</th>\n",
       "      <th>SN</th>\n",
       "      <th>CV</th>\n",
       "      <th>HPM</th>\n",
       "      <th>AGN</th>\n",
       "      <th>SN?</th>\n",
       "      <th>Blazar</th>\n",
       "      <th>Flare</th>\n",
       "      <th>Unknown</th>\n",
       "      <th>AGN?</th>\n",
       "      <th>CV?</th>\n",
       "    </tr>\n",
       "  </thead>\n",
       "  <tbody>\n",
       "    <tr>\n",
       "      <th>ObjCount</th>\n",
       "      <td>1539</td>\n",
       "      <td>943</td>\n",
       "      <td>437</td>\n",
       "      <td>429</td>\n",
       "      <td>294</td>\n",
       "      <td>238</td>\n",
       "      <td>215</td>\n",
       "      <td>186</td>\n",
       "      <td>133</td>\n",
       "      <td>68</td>\n",
       "    </tr>\n",
       "  </tbody>\n",
       "</table>\n",
       "</div>"
      ],
      "text/plain": [
       "Classification    SN   CV  HPM  AGN  SN?  Blazar  Flare  Unknown  AGN?  CV?\n",
       "ObjCount        1539  943  437  429  294     238    215      186   133   68"
      ]
     },
     "execution_count": 16,
     "metadata": {},
     "output_type": "execute_result"
    }
   ],
   "source": [
    "df = df_merge[['Classification','ObsCount']].groupby('Classification').count()\n",
    "df = df.rename(columns={'ObsCount':'ObjCount'}).sort_values('ObjCount', ascending=False)\n",
    "df.head(10).transpose()"
   ]
  },
  {
   "cell_type": "markdown",
   "metadata": {},
   "source": [
    "Count number of objects with at least 5 observations"
   ]
  },
  {
   "cell_type": "code",
   "execution_count": 10,
   "metadata": {},
   "outputs": [
    {
     "data": {
      "text/plain": [
       "4385"
      ]
     },
     "execution_count": 10,
     "metadata": {},
     "output_type": "execute_result"
    }
   ],
   "source": [
    "df_merge_filtered = df_merge[df_merge.ObsCount >= 5]\n",
    "df_merge_filtered.shape[0]"
   ]
  },
  {
   "cell_type": "markdown",
   "metadata": {},
   "source": [
    "Top 10 count of transients by class (with at least 5 observations)"
   ]
  },
  {
   "cell_type": "code",
   "execution_count": 17,
   "metadata": {},
   "outputs": [
    {
     "data": {
      "text/html": [
       "<div>\n",
       "<style>\n",
       "    .dataframe thead tr:only-child th {\n",
       "        text-align: right;\n",
       "    }\n",
       "\n",
       "    .dataframe thead th {\n",
       "        text-align: left;\n",
       "    }\n",
       "\n",
       "    .dataframe tbody tr th {\n",
       "        vertical-align: top;\n",
       "    }\n",
       "</style>\n",
       "<table border=\"1\" class=\"dataframe\">\n",
       "  <thead>\n",
       "    <tr style=\"text-align: right;\">\n",
       "      <th>Classification</th>\n",
       "      <th>SN</th>\n",
       "      <th>CV</th>\n",
       "      <th>AGN</th>\n",
       "      <th>HPM</th>\n",
       "      <th>SN?</th>\n",
       "      <th>Blazar</th>\n",
       "      <th>Flare</th>\n",
       "      <th>AGN?</th>\n",
       "      <th>Unknown</th>\n",
       "      <th>CV?</th>\n",
       "    </tr>\n",
       "  </thead>\n",
       "  <tbody>\n",
       "    <tr>\n",
       "      <th>ObjCount</th>\n",
       "      <td>1295</td>\n",
       "      <td>862</td>\n",
       "      <td>427</td>\n",
       "      <td>413</td>\n",
       "      <td>239</td>\n",
       "      <td>236</td>\n",
       "      <td>207</td>\n",
       "      <td>132</td>\n",
       "      <td>112</td>\n",
       "      <td>55</td>\n",
       "    </tr>\n",
       "  </tbody>\n",
       "</table>\n",
       "</div>"
      ],
      "text/plain": [
       "Classification    SN   CV  AGN  HPM  SN?  Blazar  Flare  AGN?  Unknown  CV?\n",
       "ObjCount        1295  862  427  413  239     236    207   132      112   55"
      ]
     },
     "execution_count": 17,
     "metadata": {},
     "output_type": "execute_result"
    }
   ],
   "source": [
    "df = df_merge_filtered[['Classification','ObsCount']].groupby('Classification').count()\n",
    "df = df.rename(columns={'ObsCount':'ObjCount'}).sort_values('ObjCount', ascending=False)\n",
    "df.head(10).transpose()"
   ]
  },
  {
   "cell_type": "code",
   "execution_count": null,
   "metadata": {
    "collapsed": true
   },
   "outputs": [],
   "source": []
  }
 ],
 "metadata": {
  "kernelspec": {
   "display_name": "Python 3",
   "language": "python",
   "name": "python3"
  },
  "language_info": {
   "codemirror_mode": {
    "name": "ipython",
    "version": 3
   },
   "file_extension": ".py",
   "mimetype": "text/x-python",
   "name": "python",
   "nbconvert_exporter": "python",
   "pygments_lexer": "ipython3",
   "version": "3.4.0"
  }
 },
 "nbformat": 4,
 "nbformat_minor": 2
}
