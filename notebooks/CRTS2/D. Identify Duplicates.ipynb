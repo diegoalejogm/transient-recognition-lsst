{
 "cells": [
  {
   "cell_type": "code",
   "execution_count": 50,
   "metadata": {
    "collapsed": true
   },
   "outputs": [],
   "source": [
    "import pandas as pd\n",
    "import numpy as np"
   ]
  },
  {
   "cell_type": "markdown",
   "metadata": {},
   "source": [
    "Load transient lightcurves (TransientID)"
   ]
  },
  {
   "cell_type": "code",
   "execution_count": 80,
   "metadata": {},
   "outputs": [
    {
     "data": {
      "text/plain": [
       "(451474, 4)"
      ]
     },
     "execution_count": 80,
     "metadata": {},
     "output_type": "execute_result"
    }
   ],
   "source": [
    "filename = 'transient_lightcurves.pickle'\n",
    "indir = '../../data/CRTS2/'; filepath = indir + filename\n",
    "df_tran = pd.read_pickle(filepath)\n",
    "df_tran.shape"
   ]
  },
  {
   "cell_type": "markdown",
   "metadata": {},
   "source": [
    "Load transient lightcurves from alternative source (by CatalinaID)"
   ]
  },
  {
   "cell_type": "code",
   "execution_count": 81,
   "metadata": {},
   "outputs": [
    {
     "data": {
      "text/plain": [
       "(1017388, 9)"
      ]
     },
     "execution_count": 81,
     "metadata": {},
     "output_type": "execute_result"
    }
   ],
   "source": [
    "filename = 'all_transients_light_curves.pickle'\n",
    "indir = '../../data/CRTS/catalogues/lightcurves/grouped/'; filepath = indir + filename\n",
    "df_alt = pd.read_pickle(filepath)\n",
    "df_alt.shape"
   ]
  },
  {
   "cell_type": "markdown",
   "metadata": {},
   "source": [
    "Load .out file that relates CatalinaID with TransientID"
   ]
  },
  {
   "cell_type": "code",
   "execution_count": 82,
   "metadata": {},
   "outputs": [
    {
     "data": {
      "text/plain": [
       "(4280, 5)"
      ]
     },
     "execution_count": 82,
     "metadata": {},
     "output_type": "execute_result"
    }
   ],
   "source": [
    "df_out = pd.read_csv('../../data/CRTS2/raw/' + 'all.out')\n",
    "df_out.shape"
   ]
  },
  {
   "cell_type": "markdown",
   "metadata": {},
   "source": [
    "Relate CatalinaID with TransientID"
   ]
  },
  {
   "cell_type": "code",
   "execution_count": 86,
   "metadata": {
    "scrolled": true
   },
   "outputs": [],
   "source": [
    "# Find duplicates for transient lightcurves\n",
    "df_dupl = df_tran[df_tran.duplicated(['TransientID', 'MJD'], keep=False)].sort_values('MJD')"
   ]
  },
  {
   "cell_type": "code",
   "execution_count": 87,
   "metadata": {
    "collapsed": true
   },
   "outputs": [],
   "source": [
    "# Pick the first TransientID of the duplicated lightcurves DataFrame\n",
    "transID = df_dupl.iloc[0].TransientID"
   ]
  },
  {
   "cell_type": "code",
   "execution_count": 88,
   "metadata": {},
   "outputs": [
    {
     "data": {
      "text/html": [
       "<div>\n",
       "<style>\n",
       "    .dataframe thead tr:only-child th {\n",
       "        text-align: right;\n",
       "    }\n",
       "\n",
       "    .dataframe thead th {\n",
       "        text-align: left;\n",
       "    }\n",
       "\n",
       "    .dataframe tbody tr th {\n",
       "        vertical-align: top;\n",
       "    }\n",
       "</style>\n",
       "<table border=\"1\" class=\"dataframe\">\n",
       "  <thead>\n",
       "    <tr style=\"text-align: right;\">\n",
       "      <th></th>\n",
       "      <th>TransientID</th>\n",
       "      <th>Mag</th>\n",
       "      <th>Magerr</th>\n",
       "      <th>MJD</th>\n",
       "    </tr>\n",
       "  </thead>\n",
       "  <tbody>\n",
       "    <tr>\n",
       "      <th>190840</th>\n",
       "      <td>1203270010604115428</td>\n",
       "      <td>18.7012</td>\n",
       "      <td>0.187324</td>\n",
       "      <td>53464.266987</td>\n",
       "    </tr>\n",
       "    <tr>\n",
       "      <th>190841</th>\n",
       "      <td>1203270010604115428</td>\n",
       "      <td>18.7009</td>\n",
       "      <td>0.187299</td>\n",
       "      <td>53464.266987</td>\n",
       "    </tr>\n",
       "    <tr>\n",
       "      <th>190845</th>\n",
       "      <td>1203270010604115428</td>\n",
       "      <td>18.8835</td>\n",
       "      <td>0.204526</td>\n",
       "      <td>53464.291189</td>\n",
       "    </tr>\n",
       "    <tr>\n",
       "      <th>190844</th>\n",
       "      <td>1203270010604115428</td>\n",
       "      <td>19.4065</td>\n",
       "      <td>0.266685</td>\n",
       "      <td>53464.291189</td>\n",
       "    </tr>\n",
       "    <tr>\n",
       "      <th>190863</th>\n",
       "      <td>1203270010604115428</td>\n",
       "      <td>19.7375</td>\n",
       "      <td>0.269122</td>\n",
       "      <td>53494.255112</td>\n",
       "    </tr>\n",
       "  </tbody>\n",
       "</table>\n",
       "</div>"
      ],
      "text/plain": [
       "                TransientID      Mag    Magerr           MJD\n",
       "190840  1203270010604115428  18.7012  0.187324  53464.266987\n",
       "190841  1203270010604115428  18.7009  0.187299  53464.266987\n",
       "190845  1203270010604115428  18.8835  0.204526  53464.291189\n",
       "190844  1203270010604115428  19.4065  0.266685  53464.291189\n",
       "190863  1203270010604115428  19.7375  0.269122  53494.255112"
      ]
     },
     "execution_count": 88,
     "metadata": {},
     "output_type": "execute_result"
    }
   ],
   "source": [
    "# Display all duplicates for transients with TransientID == transID\n",
    "df_dupl[df_dupl.TransientID == transID].head()"
   ]
  },
  {
   "cell_type": "code",
   "execution_count": 89,
   "metadata": {},
   "outputs": [
    {
     "data": {
      "text/plain": [
       "'1001060022535'"
      ]
     },
     "execution_count": 89,
     "metadata": {},
     "output_type": "execute_result"
    }
   ],
   "source": [
    "# Obtain the first CatalinaID related to TransientID=transID\n",
    "catalID = df_out[df_out.TransientID == transID].iloc[0].CatalinaID.astype(np.int64)\n",
    "catalID = str(catalID)\n",
    "catalID"
   ]
  },
  {
   "cell_type": "code",
   "execution_count": 90,
   "metadata": {},
   "outputs": [
    {
     "data": {
      "text/html": [
       "<div>\n",
       "<style>\n",
       "    .dataframe thead tr:only-child th {\n",
       "        text-align: right;\n",
       "    }\n",
       "\n",
       "    .dataframe thead th {\n",
       "        text-align: left;\n",
       "    }\n",
       "\n",
       "    .dataframe tbody tr th {\n",
       "        vertical-align: top;\n",
       "    }\n",
       "</style>\n",
       "<table border=\"1\" class=\"dataframe\">\n",
       "  <thead>\n",
       "    <tr style=\"text-align: right;\">\n",
       "      <th></th>\n",
       "      <th>ObjectID</th>\n",
       "      <th>ID</th>\n",
       "      <th>Mag</th>\n",
       "      <th>Magerr</th>\n",
       "      <th>RA</th>\n",
       "      <th>Decl</th>\n",
       "      <th>MJD</th>\n",
       "      <th>Blend</th>\n",
       "      <th>Date</th>\n",
       "    </tr>\n",
       "  </thead>\n",
       "  <tbody>\n",
       "    <tr>\n",
       "      <th>65663</th>\n",
       "      <td>976</td>\n",
       "      <td>1001060022535</td>\n",
       "      <td>19.23</td>\n",
       "      <td>0.19</td>\n",
       "      <td>166.33387</td>\n",
       "      <td>-1.86792</td>\n",
       "      <td>53464.26699</td>\n",
       "      <td>1</td>\n",
       "      <td>2005-04-04 06:24:27.936</td>\n",
       "    </tr>\n",
       "    <tr>\n",
       "      <th>65667</th>\n",
       "      <td>976</td>\n",
       "      <td>1001060022535</td>\n",
       "      <td>19.41</td>\n",
       "      <td>0.20</td>\n",
       "      <td>166.33355</td>\n",
       "      <td>-1.86797</td>\n",
       "      <td>53464.29119</td>\n",
       "      <td>1</td>\n",
       "      <td>2005-04-04 06:59:18.816</td>\n",
       "    </tr>\n",
       "    <tr>\n",
       "      <th>65686</th>\n",
       "      <td>976</td>\n",
       "      <td>1001060022535</td>\n",
       "      <td>18.96</td>\n",
       "      <td>0.18</td>\n",
       "      <td>166.33401</td>\n",
       "      <td>-1.86798</td>\n",
       "      <td>53494.25511</td>\n",
       "      <td>1</td>\n",
       "      <td>2005-05-04 06:07:21.504</td>\n",
       "    </tr>\n",
       "    <tr>\n",
       "      <th>65688</th>\n",
       "      <td>976</td>\n",
       "      <td>1001060022535</td>\n",
       "      <td>19.30</td>\n",
       "      <td>0.21</td>\n",
       "      <td>166.33397</td>\n",
       "      <td>-1.86822</td>\n",
       "      <td>53494.26314</td>\n",
       "      <td>1</td>\n",
       "      <td>2005-05-04 06:18:55.296</td>\n",
       "    </tr>\n",
       "    <tr>\n",
       "      <th>65683</th>\n",
       "      <td>976</td>\n",
       "      <td>1001060022535</td>\n",
       "      <td>19.57</td>\n",
       "      <td>0.23</td>\n",
       "      <td>166.33339</td>\n",
       "      <td>-1.86799</td>\n",
       "      <td>53530.17226</td>\n",
       "      <td>1</td>\n",
       "      <td>2005-06-09 04:08:03.264</td>\n",
       "    </tr>\n",
       "  </tbody>\n",
       "</table>\n",
       "</div>"
      ],
      "text/plain": [
       "       ObjectID             ID    Mag  Magerr         RA     Decl  \\\n",
       "65663       976  1001060022535  19.23    0.19  166.33387 -1.86792   \n",
       "65667       976  1001060022535  19.41    0.20  166.33355 -1.86797   \n",
       "65686       976  1001060022535  18.96    0.18  166.33401 -1.86798   \n",
       "65688       976  1001060022535  19.30    0.21  166.33397 -1.86822   \n",
       "65683       976  1001060022535  19.57    0.23  166.33339 -1.86799   \n",
       "\n",
       "               MJD  Blend                    Date  \n",
       "65663  53464.26699      1 2005-04-04 06:24:27.936  \n",
       "65667  53464.29119      1 2005-04-04 06:59:18.816  \n",
       "65686  53494.25511      1 2005-05-04 06:07:21.504  \n",
       "65688  53494.26314      1 2005-05-04 06:18:55.296  \n",
       "65683  53530.17226      1 2005-06-09 04:08:03.264  "
      ]
     },
     "execution_count": 90,
     "metadata": {},
     "output_type": "execute_result"
    }
   ],
   "source": [
    "# Display all lightcurves with ID=catalID, where Blend(flag)=1\n",
    "df[(df.ID == catalID) & (df.Blend == 1)].sort_values('MJD').head()"
   ]
  },
  {
   "cell_type": "markdown",
   "metadata": {},
   "source": [
    "Observations with Blend==1 values have dates that coincide with the duplicated rows. Since row with Blend==1 is more similar to second row of every duplicate in transient_lightcurves, only first is taken into account. "
   ]
  }
 ],
 "metadata": {
  "kernelspec": {
   "display_name": "Python 3",
   "language": "python",
   "name": "python3"
  },
  "language_info": {
   "codemirror_mode": {
    "name": "ipython",
    "version": 3
   },
   "file_extension": ".py",
   "mimetype": "text/x-python",
   "name": "python",
   "nbconvert_exporter": "python",
   "pygments_lexer": "ipython3",
   "version": "3.4.0"
  }
 },
 "nbformat": 4,
 "nbformat_minor": 2
}
