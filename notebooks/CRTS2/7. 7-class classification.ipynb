{
 "cells": [
  {
   "cell_type": "code",
   "execution_count": 1,
   "metadata": {
    "collapsed": true
   },
   "outputs": [],
   "source": [
    "DATA_PATH = '../../data/CRTS2/'\n",
    "RESULTS_PATH = '../../results/'"
   ]
  },
  {
   "cell_type": "code",
   "execution_count": 2,
   "metadata": {
    "collapsed": true
   },
   "outputs": [],
   "source": [
    "import pandas as pd\n",
    "from sklearn.model_selection import GridSearchCV\n",
    "from sklearn.model_selection import StratifiedKFold\n",
    "from sklearn.model_selection import train_test_split\n",
    "import numpy as np\n",
    "from sklearn.pipeline import make_pipeline\n",
    "from sklearn.model_selection import cross_val_score\n",
    "from sklearn.preprocessing import StandardScaler\n",
    "from sklearn.svm import SVC\n",
    "from sklearn.ensemble import RandomForestClassifier\n",
    "from sklearn.neural_network import MLPClassifier\n",
    "from sklearn.utils.class_weight import compute_class_weight\n",
    "from sklearn.metrics import confusion_matrix"
   ]
  },
  {
   "cell_type": "markdown",
   "metadata": {},
   "source": [
    "Load Transient Catalogue"
   ]
  },
  {
   "cell_type": "code",
   "execution_count": 3,
   "metadata": {
    "collapsed": true
   },
   "outputs": [],
   "source": [
    "# Use catalogue of transients with min observations\n",
    "min_obs = 5\n",
    "num_features = 28"
   ]
  },
  {
   "cell_type": "code",
   "execution_count": 4,
   "metadata": {
    "scrolled": true
   },
   "outputs": [
    {
     "name": "stdout",
     "output_type": "stream",
     "text": [
      "(5539,)\n"
     ]
    }
   ],
   "source": [
    "filename = 'transient_catalog.pickle'\n",
    "indir = DATA_PATH; filepath = indir + filename\n",
    "df_cat = pd.read_pickle(filepath)\n",
    "print(df_cat.TransientID.unique().shape)"
   ]
  },
  {
   "cell_type": "code",
   "execution_count": 5,
   "metadata": {
    "collapsed": true
   },
   "outputs": [],
   "source": [
    "df_cat = df_cat.rename(columns={'TransientID': 'ID'})\n",
    "df_cat = df_cat.rename(columns={'Classification': 'class'})"
   ]
  },
  {
   "cell_type": "markdown",
   "metadata": {},
   "source": [
    "Load Transient Feature Dataframe"
   ]
  },
  {
   "cell_type": "code",
   "execution_count": 6,
   "metadata": {
    "collapsed": true
   },
   "outputs": [],
   "source": [
    "from sklearn import datasets\n",
    "import numpy as np\n",
    "iris = datasets.load_iris()"
   ]
  },
  {
   "cell_type": "code",
   "execution_count": 7,
   "metadata": {},
   "outputs": [
    {
     "data": {
      "text/plain": [
       "(3873, 29)"
      ]
     },
     "execution_count": 7,
     "metadata": {},
     "output_type": "execute_result"
    }
   ],
   "source": [
    "# Loead transient features\n",
    "indir = DATA_PATH\n",
    "filename = 'transient_features_{}obs_{}feats.pickle'.format(min_obs, num_features) \n",
    "inpath = indir + filename\n",
    "df_feat_tran = pd.read_pickle(inpath)\n",
    "df_feat_tran.shape"
   ]
  },
  {
   "cell_type": "markdown",
   "metadata": {},
   "source": [
    "Create inputs and outputs"
   ]
  },
  {
   "cell_type": "code",
   "execution_count": 8,
   "metadata": {
    "collapsed": true
   },
   "outputs": [],
   "source": [
    "# Add classs label to transient objects\n",
    "df_feat_tran = df_feat_tran.merge(df_cat , how='inner')\n",
    "# Set least common transients as 'Other'\n",
    "top_classes = ['SN', 'CV', 'AGN', 'HPM', 'Blazar', 'Flare']\n",
    "in_top = lambda row: ('Other' if row['class'] not in top_classes else row['class'])\n",
    "df_feat_tran['class'] = df_feat_tran.apply( in_top , axis=1)"
   ]
  },
  {
   "cell_type": "code",
   "execution_count": 9,
   "metadata": {},
   "outputs": [
    {
     "data": {
      "text/plain": [
       "array(['CV', 'Flare', 'SN', 'AGN', 'Other', 'Blazar', 'HPM'], dtype=object)"
      ]
     },
     "execution_count": 9,
     "metadata": {},
     "output_type": "execute_result"
    }
   ],
   "source": [
    "all_labels = df_feat_tran['class'].unique()\n",
    "all_labels"
   ]
  },
  {
   "cell_type": "code",
   "execution_count": 28,
   "metadata": {},
   "outputs": [
    {
     "data": {
      "text/html": [
       "<div>\n",
       "<style>\n",
       "    .dataframe thead tr:only-child th {\n",
       "        text-align: right;\n",
       "    }\n",
       "\n",
       "    .dataframe thead th {\n",
       "        text-align: left;\n",
       "    }\n",
       "\n",
       "    .dataframe tbody tr th {\n",
       "        vertical-align: top;\n",
       "    }\n",
       "</style>\n",
       "<table border=\"1\" class=\"dataframe\">\n",
       "  <thead>\n",
       "    <tr style=\"text-align: right;\">\n",
       "      <th></th>\n",
       "      <th>0</th>\n",
       "      <th>1</th>\n",
       "      <th>2</th>\n",
       "      <th>3</th>\n",
       "      <th>4</th>\n",
       "      <th>5</th>\n",
       "      <th>6</th>\n",
       "    </tr>\n",
       "  </thead>\n",
       "  <tbody>\n",
       "    <tr>\n",
       "      <th>class</th>\n",
       "      <td>AGN</td>\n",
       "      <td>Blazar</td>\n",
       "      <td>CV</td>\n",
       "      <td>Flare</td>\n",
       "      <td>HPM</td>\n",
       "      <td>Other</td>\n",
       "      <td>SN</td>\n",
       "    </tr>\n",
       "    <tr>\n",
       "      <th>ID</th>\n",
       "      <td>362</td>\n",
       "      <td>195</td>\n",
       "      <td>726</td>\n",
       "      <td>157</td>\n",
       "      <td>409</td>\n",
       "      <td>843</td>\n",
       "      <td>1182</td>\n",
       "    </tr>\n",
       "  </tbody>\n",
       "</table>\n",
       "</div>"
      ],
      "text/plain": [
       "         0       1    2      3    4      5     6\n",
       "class  AGN  Blazar   CV  Flare  HPM  Other    SN\n",
       "ID     362     195  726    157  409    843  1182"
      ]
     },
     "execution_count": 28,
     "metadata": {},
     "output_type": "execute_result"
    }
   ],
   "source": [
    "# Count number of objects per class\n",
    "df_feat_tran.groupby('class', as_index=False).count()[['class', 'ID']].transpose()"
   ]
  },
  {
   "cell_type": "code",
   "execution_count": 10,
   "metadata": {
    "collapsed": true
   },
   "outputs": [],
   "source": [
    "# Remove IDs\n",
    "df = df_feat_tran.drop(['ID'], axis=1)"
   ]
  },
  {
   "cell_type": "code",
   "execution_count": 11,
   "metadata": {
    "collapsed": true
   },
   "outputs": [],
   "source": [
    "# Obtain X and y\n",
    "X = df.drop(['class'], axis=1).as_matrix()\n",
    "y = df['class'].as_matrix()"
   ]
  },
  {
   "cell_type": "markdown",
   "metadata": {},
   "source": [
    "Split in Test & Train Sets"
   ]
  },
  {
   "cell_type": "code",
   "execution_count": 12,
   "metadata": {},
   "outputs": [
    {
     "data": {
      "text/plain": [
       "['CV', 'Flare', 'SN', 'AGN', 'Other', 'Blazar', 'HPM']"
      ]
     },
     "execution_count": 12,
     "metadata": {},
     "output_type": "execute_result"
    }
   ],
   "source": [
    "df['class'].unique().tolist()"
   ]
  },
  {
   "cell_type": "code",
   "execution_count": 13,
   "metadata": {
    "collapsed": true
   },
   "outputs": [],
   "source": [
    "X_train, X_test, y_train, y_test = train_test_split(\n",
    "    X, y, test_size=0.33, random_state=42, stratify=y\n",
    ")"
   ]
  },
  {
   "cell_type": "code",
   "execution_count": 14,
   "metadata": {},
   "outputs": [
    {
     "data": {
      "text/plain": [
       "((2595, 28), (2595,))"
      ]
     },
     "execution_count": 14,
     "metadata": {},
     "output_type": "execute_result"
    }
   ],
   "source": [
    "X_train.shape, y_train.shape"
   ]
  },
  {
   "cell_type": "code",
   "execution_count": 15,
   "metadata": {},
   "outputs": [
    {
     "data": {
      "text/plain": [
       "((1279, 28), (1279,))"
      ]
     },
     "execution_count": 15,
     "metadata": {},
     "output_type": "execute_result"
    }
   ],
   "source": [
    "X_test.shape, y_test.shape"
   ]
  },
  {
   "cell_type": "code",
   "execution_count": 16,
   "metadata": {
    "collapsed": true
   },
   "outputs": [],
   "source": [
    "# Compute class weights\n",
    "weight_list = compute_class_weight('balanced', df['class'].unique(), df['class'])\n",
    "class_weights = dict()\n",
    "for i, cla in enumerate(df['class'].unique()):\n",
    "    class_weights[cla] = weight_list[i]"
   ]
  },
  {
   "cell_type": "code",
   "execution_count": 17,
   "metadata": {},
   "outputs": [
    {
     "data": {
      "text/plain": [
       "{'AGN': 1.5288082083662193,\n",
       " 'Blazar': 2.8380952380952382,\n",
       " 'CV': 0.76229830775285323,\n",
       " 'Flare': 3.5250227479526841,\n",
       " 'HPM': 1.3531260915123995,\n",
       " 'Other': 0.656498898491781,\n",
       " 'SN': 0.46821368141165093}"
      ]
     },
     "execution_count": 17,
     "metadata": {},
     "output_type": "execute_result"
    }
   ],
   "source": [
    "class_weights"
   ]
  },
  {
   "cell_type": "code",
   "execution_count": 18,
   "metadata": {
    "collapsed": true
   },
   "outputs": [],
   "source": [
    "# Create scaler\n",
    "scaler = StandardScaler().fit(X_train)\n",
    "X_train = scaler.transform(X_train)\n",
    "X_test = scaler.transform(X_test)"
   ]
  },
  {
   "cell_type": "code",
   "execution_count": 19,
   "metadata": {
    "collapsed": true
   },
   "outputs": [],
   "source": [
    "def train_validate_model(model, params, X_train, y_train, X_test, y_test):\n",
    "    clf = GridSearchCV(model, tuned_parameters, cv=StratifiedKFold(2))\n",
    "    clf.fit(X_train, y_train)\n",
    "    print('Best Score:', clf.best_score_)\n",
    "    print('Best Estimator:', clf.best_estimator_)\n",
    "    print('Test Score:', clf.score(X_test, y_test))\n",
    "    print('Confusion Matrix:', clf.score(X_test, y_test))\n",
    "    return clf\n",
    "\n",
    "def clf_confusion_matrix(clf, X_test, y_test, normalized=False):\n",
    "    y_pred = clf.predict(X_test)\n",
    "    cnf_matrix = confusion_matrix(y_test, y_pred, all_labels)\n",
    "    if normalized:\n",
    "        cnf_matrix = cnf_matrix.astype('float') / cnf_matrix.sum(axis=1)[:, np.newaxis]\n",
    "        cnf_matrix = np.around(cnf_matrix, decimals=4) * 100\n",
    "    return cnf_matrix"
   ]
  },
  {
   "cell_type": "markdown",
   "metadata": {},
   "source": [
    "Classify using SVC"
   ]
  },
  {
   "cell_type": "code",
   "execution_count": 20,
   "metadata": {
    "collapsed": true
   },
   "outputs": [],
   "source": [
    "tuned_parameters = {\n",
    "    'kernel': ['rbf'],\n",
    "    'gamma':[1e-1, 1e-2, 1e-3, 1e-4, 1e-5],\n",
    "    'C': [1, 10, 100, 1000],\n",
    "    'class_weight' : [class_weights]\n",
    "}"
   ]
  },
  {
   "cell_type": "code",
   "execution_count": 21,
   "metadata": {
    "scrolled": true
   },
   "outputs": [
    {
     "name": "stdout",
     "output_type": "stream",
     "text": [
      "Best Score: 0.528323699422\n",
      "Best Estimator: SVC(C=10, cache_size=200,\n",
      "  class_weight={'Blazar': 2.8380952380952382, 'AGN': 1.5288082083662193, 'HPM': 1.3531260915123995, 'Flare': 3.5250227479526841, 'Other': 0.656498898491781, 'SN': 0.46821368141165093, 'CV': 0.76229830775285323},\n",
      "  coef0=0.0, decision_function_shape='ovr', degree=3, gamma=0.1,\n",
      "  kernel='rbf', max_iter=-1, probability=False, random_state=None,\n",
      "  shrinking=True, tol=0.001, verbose=False)\n",
      "Test Score: 0.571540265833\n",
      "Confusion Matrix: 0.571540265833\n"
     ]
    }
   ],
   "source": [
    "model = SVC()\n",
    "clf1 = train_validate_model(model, tuned_parameters, X_train, y_train, X_test, y_test)"
   ]
  },
  {
   "cell_type": "markdown",
   "metadata": {},
   "source": [
    "Classify using RF"
   ]
  },
  {
   "cell_type": "code",
   "execution_count": 22,
   "metadata": {
    "collapsed": true
   },
   "outputs": [],
   "source": [
    "tuned_parameters = { \n",
    "    'n_estimators': [200, 700],\n",
    "    'max_features': ['auto', 'sqrt', 'log2'],\n",
    "    'class_weight' : [class_weights]\n",
    "\n",
    "}"
   ]
  },
  {
   "cell_type": "code",
   "execution_count": 23,
   "metadata": {},
   "outputs": [
    {
     "name": "stdout",
     "output_type": "stream",
     "text": [
      "Best Score: 0.612331406551\n",
      "Best Estimator: RandomForestClassifier(bootstrap=True,\n",
      "            class_weight={'Blazar': 2.8380952380952382, 'AGN': 1.5288082083662193, 'HPM': 1.3531260915123995, 'Flare': 3.5250227479526841, 'Other': 0.656498898491781, 'SN': 0.46821368141165093, 'CV': 0.76229830775285323},\n",
      "            criterion='gini', max_depth=None, max_features='auto',\n",
      "            max_leaf_nodes=None, min_impurity_decrease=0.0,\n",
      "            min_impurity_split=None, min_samples_leaf=1,\n",
      "            min_samples_split=2, min_weight_fraction_leaf=0.0,\n",
      "            n_estimators=700, n_jobs=1, oob_score=False, random_state=None,\n",
      "            verbose=0, warm_start=False)\n",
      "Test Score: 0.65598123534\n",
      "Confusion Matrix: 0.65598123534\n"
     ]
    }
   ],
   "source": [
    "model = RandomForestClassifier()\n",
    "clf2 = train_validate_model(model, tuned_parameters, X_train, y_train, X_test, y_test)"
   ]
  },
  {
   "cell_type": "markdown",
   "metadata": {},
   "source": [
    "Classify using NN"
   ]
  },
  {
   "cell_type": "code",
   "execution_count": 24,
   "metadata": {
    "collapsed": true
   },
   "outputs": [],
   "source": [
    "tuned_parameters = {\n",
    "    'learning_rate': ['constant', \"adaptive\"],\n",
    "    'hidden_layer_sizes': [(100), (100,100)],\n",
    "    'alpha': [1e-2, 1e-3, 1e-4],\n",
    "    'activation': [\"logistic\", \"relu\", \"tanh\"]\n",
    "}"
   ]
  },
  {
   "cell_type": "code",
   "execution_count": 25,
   "metadata": {
    "scrolled": true
   },
   "outputs": [
    {
     "name": "stderr",
     "output_type": "stream",
     "text": [
      "/home/estudiante/transient-recognition-lsst/venv/lib/python3.4/site-packages/sklearn/neural_network/multilayer_perceptron.py:564: ConvergenceWarning: Stochastic Optimizer: Maximum iterations (200) reached and the optimization hasn't converged yet.\n",
      "  % self.max_iter, ConvergenceWarning)\n"
     ]
    },
    {
     "name": "stdout",
     "output_type": "stream",
     "text": [
      "Best Score: 0.580732177264\n",
      "Best Estimator: MLPClassifier(activation='tanh', alpha=0.01, batch_size='auto', beta_1=0.9,\n",
      "       beta_2=0.999, early_stopping=False, epsilon=1e-08,\n",
      "       hidden_layer_sizes=100, learning_rate='adaptive',\n",
      "       learning_rate_init=0.001, max_iter=200, momentum=0.9,\n",
      "       nesterovs_momentum=True, power_t=0.5, random_state=None,\n",
      "       shuffle=True, solver='adam', tol=0.0001, validation_fraction=0.1,\n",
      "       verbose=False, warm_start=False)\n",
      "Test Score: 0.612978889758\n",
      "Confusion Matrix: 0.612978889758\n"
     ]
    }
   ],
   "source": [
    "model = MLPClassifier()\n",
    "clf3 = train_validate_model(model, tuned_parameters, X_train, y_train, X_test, y_test)"
   ]
  },
  {
   "cell_type": "code",
   "execution_count": 26,
   "metadata": {
    "collapsed": true
   },
   "outputs": [],
   "source": [
    "def write_results(filepath):\n",
    "    with open(filepath, 'a') as file:\n",
    "        file.write('----- EXPERIMENT START ------\\n')\n",
    "        file.write('NUM OBSERVATIONS:{}\\n'.format(min_obs))\n",
    "        file.write('NUM FEATURES:{}\\n'.format(X_train.shape[1]))\n",
    "        file.write('FEATURES:{}\\n'.format(df.columns.values))\n",
    "        file.write('--SVM--\\n')\n",
    "        file.write('Validation Score:{}\\n'.format(clf1.best_score_))\n",
    "        file.write('Best Estimator:{}\\n'.format(clf1.best_estimator_))\n",
    "        file.write('Test Score:{}\\n'.format(clf1.score(X_test, y_test)))\n",
    "        file.write('Confusion Matrix:\\n{}\\n'.format(clf_confusion_matrix(clf1, X_test, y_test)))\n",
    "        file.write('Norm. Confusion Matrix:\\n{}\\n{}\\n'.format(all_labels, clf_confusion_matrix(clf1, X_test, y_test, True)))\n",
    "        file.write('--Random Forest--\\n')\n",
    "        file.write('Best Score:{}\\n'.format(clf2.best_score_))\n",
    "        file.write('Best Estimator:{}\\n'.format(clf2.best_estimator_))\n",
    "        file.write('Test Score:{}\\n'.format(clf2.score(X_test, y_test)))\n",
    "        file.write('Confusion Matrix:\\n{}\\n'.format(clf_confusion_matrix(clf2, X_test, y_test)))\n",
    "        file.write('Norm. Confusion Matrix:\\n{}\\n{}\\n'.format(all_labels, clf_confusion_matrix(clf2, X_test, y_test, True)))\n",
    "        file.write('--Neural Network--\\n')\n",
    "        file.write('Best Score:{}\\n'.format(clf3.best_score_))\n",
    "        file.write('Best Estimator:{}\\n'.format(clf3.best_estimator_))\n",
    "        file.write('Test Score:{}\\n'.format(clf3.score(X_test, y_test)))\n",
    "        file.write('Confusion Matrix:\\n{}\\n'.format(clf_confusion_matrix(clf3, X_test, y_test)))\n",
    "        file.write('Norm. Confusion Matrix:\\n{}\\n{}\\n'.format(all_labels, clf_confusion_matrix(clf3, X_test, y_test, True)))"
   ]
  },
  {
   "cell_type": "code",
   "execution_count": 27,
   "metadata": {
    "collapsed": true
   },
   "outputs": [],
   "source": [
    "filename = '7-class.pickle'\n",
    "outdir = RESULTS_PATH; filepath = outdir + filename\n",
    "write_results(filepath)"
   ]
  }
 ],
 "metadata": {
  "kernelspec": {
   "display_name": "Python 3",
   "language": "python",
   "name": "python3"
  },
  "language_info": {
   "codemirror_mode": {
    "name": "ipython",
    "version": 3
   },
   "file_extension": ".py",
   "mimetype": "text/x-python",
   "name": "python",
   "nbconvert_exporter": "python",
   "pygments_lexer": "ipython3",
   "version": "3.4.0"
  }
 },
 "nbformat": 4,
 "nbformat_minor": 2
}
