{
 "cells": [
  {
   "cell_type": "code",
   "execution_count": 38,
   "metadata": {
    "collapsed": true
   },
   "outputs": [],
   "source": [
    "DATA_PATH = '../../data/CRTS2/'\n",
    "RAW_DATA_PATH = DATA_PATH + 'raw/'"
   ]
  },
  {
   "cell_type": "code",
   "execution_count": 39,
   "metadata": {
    "collapsed": true
   },
   "outputs": [],
   "source": [
    "import glob"
   ]
  },
  {
   "cell_type": "markdown",
   "metadata": {},
   "source": [
    "Consolidate .phot files"
   ]
  },
  {
   "cell_type": "code",
   "execution_count": 47,
   "metadata": {},
   "outputs": [
    {
     "name": "stdout",
     "output_type": "stream",
     "text": [
      "28\n"
     ]
    }
   ],
   "source": [
    "filenames_list = sorted(glob.glob(RAW_DATA_PATH + '[!all]*.phot'), key = lambda p: int(p[:-5].split('input')[1]))\n",
    "print(len(filenames_list))"
   ]
  },
  {
   "cell_type": "code",
   "execution_count": 41,
   "metadata": {
    "collapsed": true
   },
   "outputs": [],
   "source": [
    "outfilename = 'all.phot'\n",
    "outpath = RAW_DATA_PATH + outfilename\n",
    "with open(outpath, 'w') as outfile:\n",
    "    outfile.write('CatalinaID,MJD,Mag,Magerr,Ra,Dec\\n')\n",
    "    for fname in filenames_list:\n",
    "        with open(fname) as infile:\n",
    "            outfile.write(infile.read() + '\\n')"
   ]
  },
  {
   "cell_type": "markdown",
   "metadata": {},
   "source": [
    "Consolidate .orph files"
   ]
  },
  {
   "cell_type": "code",
   "execution_count": 48,
   "metadata": {},
   "outputs": [
    {
     "name": "stdout",
     "output_type": "stream",
     "text": [
      "28\n"
     ]
    }
   ],
   "source": [
    "filenames_list = sorted(glob.glob(RAW_DATA_PATH + '[!all]*.orph'), key = lambda p: int(p[:-5].split('input')[1]))\n",
    "print(len(filenames_list))"
   ]
  },
  {
   "cell_type": "code",
   "execution_count": 43,
   "metadata": {
    "collapsed": true
   },
   "outputs": [],
   "source": [
    "outfilename = 'all.orph'\n",
    "outpath = RAW_DATA_PATH + outfilename\n",
    "with open(outpath, 'w') as outfile:\n",
    "    outfile.write('TransientID,FieldID,DetectionID,Mag,Magerr,Ra,Dec,FWHM,FrameID,MJD,Airmass,Exposure\\n')\n",
    "    for fname in filenames_list:\n",
    "        with open(fname) as infile:\n",
    "            outfile.write(infile.read().replace(' ', ',') + '\\n')"
   ]
  },
  {
   "cell_type": "markdown",
   "metadata": {},
   "source": [
    "Consolidate .out files"
   ]
  },
  {
   "cell_type": "code",
   "execution_count": 49,
   "metadata": {},
   "outputs": [
    {
     "name": "stdout",
     "output_type": "stream",
     "text": [
      "28\n"
     ]
    }
   ],
   "source": [
    "filenames_list = sorted(glob.glob(RAW_DATA_PATH + '[!all]*.out'), key = lambda p: int(p[:-4].split('input')[1]))\n",
    "print(len(filenames_list))"
   ]
  },
  {
   "cell_type": "code",
   "execution_count": 45,
   "metadata": {
    "collapsed": true
   },
   "outputs": [],
   "source": [
    "outfilename = 'all.out'\n",
    "outpath = RAW_DATA_PATH + outfilename\n",
    "with open(outpath, 'w') as outfile:\n",
    "    outfile.write('TransientID,CatalinaID,MagAvg,RaAvg,DecAvg\\n')\n",
    "    for fname in filenames_list:\n",
    "        with open(fname) as infile:\n",
    "            outfile.write(infile.read().replace(' ', ',') + '\\n')"
   ]
  }
 ],
 "metadata": {
  "kernelspec": {
   "display_name": "Python 3",
   "language": "python",
   "name": "python3"
  },
  "language_info": {
   "codemirror_mode": {
    "name": "ipython",
    "version": 3
   },
   "file_extension": ".py",
   "mimetype": "text/x-python",
   "name": "python",
   "nbconvert_exporter": "python",
   "pygments_lexer": "ipython3",
   "version": "3.4.0"
  }
 },
 "nbformat": 4,
 "nbformat_minor": 2
}
