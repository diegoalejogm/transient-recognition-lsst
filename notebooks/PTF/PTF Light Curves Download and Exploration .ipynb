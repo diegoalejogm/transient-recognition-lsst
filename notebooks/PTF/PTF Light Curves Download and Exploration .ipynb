{
 "cells": [
  {
   "cell_type": "code",
   "execution_count": 1,
   "metadata": {
    "collapsed": true
   },
   "outputs": [],
   "source": [
    "%reload_ext autoreload\n",
    "%autoreload 2\n",
    "\n",
    "%matplotlib inline"
   ]
  },
  {
   "cell_type": "code",
   "execution_count": 2,
   "metadata": {},
   "outputs": [
    {
     "data": {
      "text/html": [
       "<script>requirejs.config({paths: { 'plotly': ['https://cdn.plot.ly/plotly-latest.min']},});if(!window.Plotly) {{require(['plotly'],function(plotly) {window.Plotly=plotly;});}}</script>"
      ],
      "text/vnd.plotly.v1+html": [
       "<script>requirejs.config({paths: { 'plotly': ['https://cdn.plot.ly/plotly-latest.min']},});if(!window.Plotly) {{require(['plotly'],function(plotly) {window.Plotly=plotly;});}}</script>"
      ]
     },
     "metadata": {},
     "output_type": "display_data"
    }
   ],
   "source": [
    "import pandas as pd\n",
    "from tools import download, analyze, visualize, time, other\n",
    "from astropy.table import Table\n",
    "from plotly.offline import download_plotlyjs, init_notebook_mode, plot, iplot\n",
    "import plotly.graph_objs as go\n",
    "import matplotlib.pyplot as plt\n",
    "import datetime"
   ]
  },
  {
   "cell_type": "code",
   "execution_count": 3,
   "metadata": {},
   "outputs": [
    {
     "data": {
      "text/html": [
       "<script>requirejs.config({paths: { 'plotly': ['https://cdn.plot.ly/plotly-latest.min']},});if(!window.Plotly) {{require(['plotly'],function(plotly) {window.Plotly=plotly;});}}</script>"
      ],
      "text/vnd.plotly.v1+html": [
       "<script>requirejs.config({paths: { 'plotly': ['https://cdn.plot.ly/plotly-latest.min']},});if(!window.Plotly) {{require(['plotly'],function(plotly) {window.Plotly=plotly;});}}</script>"
      ]
     },
     "metadata": {},
     "output_type": "display_data"
    }
   ],
   "source": [
    "init_notebook_mode(connected=True)"
   ]
  },
  {
   "cell_type": "markdown",
   "metadata": {},
   "source": [
    "## 1. Download Object Catalogues"
   ]
  },
  {
   "cell_type": "markdown",
   "metadata": {},
   "source": [
    "#### Transient"
   ]
  },
  {
   "cell_type": "code",
   "execution_count": 4,
   "metadata": {},
   "outputs": [
    {
     "name": "stdout",
     "output_type": "stream",
     "text": [
      "File transient_cat.tbl already exists\n"
     ]
    }
   ],
   "source": [
    "transient_path = download.transient_cat(3000, overwrite=False)"
   ]
  },
  {
   "cell_type": "code",
   "execution_count": 5,
   "metadata": {
    "collapsed": true
   },
   "outputs": [],
   "source": [
    "transient_obj_df = Table.read(transient_path, format='ascii').to_pandas()"
   ]
  },
  {
   "cell_type": "markdown",
   "metadata": {},
   "source": [
    "#### Permanent"
   ]
  },
  {
   "cell_type": "code",
   "execution_count": 6,
   "metadata": {},
   "outputs": [
    {
     "name": "stdout",
     "output_type": "stream",
     "text": [
      "File permanent_cat.tbl already exists\n"
     ]
    }
   ],
   "source": [
    "permanent_path = download.permanent_cat(3000, overwrite=False)"
   ]
  },
  {
   "cell_type": "code",
   "execution_count": 7,
   "metadata": {
    "collapsed": true
   },
   "outputs": [],
   "source": [
    "permanent_obj_df = Table.read(permanent_path, format='ascii').to_pandas()"
   ]
  },
  {
   "cell_type": "markdown",
   "metadata": {},
   "source": [
    "## 2. Download Light Curves"
   ]
  },
  {
   "cell_type": "code",
   "execution_count": null,
   "metadata": {
    "collapsed": true,
    "scrolled": true
   },
   "outputs": [],
   "source": [
    "transient_lightcurves_paths = download.light_curves(\n",
    "    transient_obj_df,\n",
    "    transient=True,\n",
    "    append_series=True\n",
    ")\n",
    "permanent_lightcurves_paths = download.light_curves(\n",
    "    permanent_obj_df, \n",
    "    transient=False,\n",
    "    append_series=True\n",
    ")"
   ]
  },
  {
   "cell_type": "markdown",
   "metadata": {},
   "source": [
    "## 3. Consolidate Light Curves"
   ]
  },
  {
   "cell_type": "code",
   "execution_count": 15,
   "metadata": {
    "scrolled": true
   },
   "outputs": [
    {
     "name": "stdout",
     "output_type": "stream",
     "text": [
      "File consolidated.pickle already exists\n",
      "0:00:00.000379\n"
     ]
    }
   ],
   "source": [
    "consolidated_transient_light_curves_path = time.time( \n",
    "    analyze.consolidate_light_curves,\n",
    "    transient_obj_df,\n",
    "    transient=True\n",
    ")\n",
    "transient_light_curves_df = pd.read_pickle(consolidated_transient_light_curves_path)"
   ]
  },
  {
   "cell_type": "code",
   "execution_count": 16,
   "metadata": {},
   "outputs": [
    {
     "name": "stdout",
     "output_type": "stream",
     "text": [
      "File consolidated.pickle already exists\n",
      "0:00:00.000579\n"
     ]
    }
   ],
   "source": [
    "consolidated_permanent_light_curves_path = time.time( \n",
    "    analyze.consolidate_light_curves,\n",
    "    permanent_obj_df,\n",
    "    transient=False\n",
    ")\n",
    "permanent_light_curves_df = pd.read_pickle(consolidated_permanent_light_curves_path)"
   ]
  },
  {
   "cell_type": "code",
   "execution_count": 17,
   "metadata": {},
   "outputs": [
    {
     "data": {
      "text/html": [
       "<div>\n",
       "<style>\n",
       "    .dataframe thead tr:only-child th {\n",
       "        text-align: right;\n",
       "    }\n",
       "\n",
       "    .dataframe thead th {\n",
       "        text-align: left;\n",
       "    }\n",
       "\n",
       "    .dataframe tbody tr th {\n",
       "        vertical-align: top;\n",
       "    }\n",
       "</style>\n",
       "<table border=\"1\" class=\"dataframe\">\n",
       "  <thead>\n",
       "    <tr style=\"text-align: right;\">\n",
       "      <th></th>\n",
       "      <th>oid</th>\n",
       "      <th>ra</th>\n",
       "      <th>dec</th>\n",
       "      <th>clon</th>\n",
       "      <th>clat</th>\n",
       "      <th>obsmjd</th>\n",
       "      <th>mag_autocorr</th>\n",
       "      <th>goodflag</th>\n",
       "    </tr>\n",
       "  </thead>\n",
       "  <tbody>\n",
       "    <tr>\n",
       "      <th>0</th>\n",
       "      <td>46572075001313</td>\n",
       "      <td>291.823749</td>\n",
       "      <td>45.201545</td>\n",
       "      <td>19h27m17.70s</td>\n",
       "      <td>45d12m05.56s</td>\n",
       "      <td>55376.219697</td>\n",
       "      <td>20.354</td>\n",
       "      <td>1</td>\n",
       "    </tr>\n",
       "    <tr>\n",
       "      <th>1</th>\n",
       "      <td>46572075001313</td>\n",
       "      <td>291.823749</td>\n",
       "      <td>45.201545</td>\n",
       "      <td>19h27m17.70s</td>\n",
       "      <td>45d12m05.56s</td>\n",
       "      <td>55376.263597</td>\n",
       "      <td>20.300</td>\n",
       "      <td>1</td>\n",
       "    </tr>\n",
       "    <tr>\n",
       "      <th>2</th>\n",
       "      <td>46572075001313</td>\n",
       "      <td>291.823749</td>\n",
       "      <td>45.201545</td>\n",
       "      <td>19h27m17.70s</td>\n",
       "      <td>45d12m05.56s</td>\n",
       "      <td>55755.272967</td>\n",
       "      <td>20.355</td>\n",
       "      <td>1</td>\n",
       "    </tr>\n",
       "    <tr>\n",
       "      <th>3</th>\n",
       "      <td>46572075001313</td>\n",
       "      <td>291.823749</td>\n",
       "      <td>45.201545</td>\n",
       "      <td>19h27m17.70s</td>\n",
       "      <td>45d12m05.56s</td>\n",
       "      <td>55755.311077</td>\n",
       "      <td>20.368</td>\n",
       "      <td>1</td>\n",
       "    </tr>\n",
       "    <tr>\n",
       "      <th>4</th>\n",
       "      <td>46572075001313</td>\n",
       "      <td>291.823749</td>\n",
       "      <td>45.201545</td>\n",
       "      <td>19h27m17.70s</td>\n",
       "      <td>45d12m05.56s</td>\n",
       "      <td>55755.479937</td>\n",
       "      <td>20.119</td>\n",
       "      <td>1</td>\n",
       "    </tr>\n",
       "  </tbody>\n",
       "</table>\n",
       "</div>"
      ],
      "text/plain": [
       "              oid          ra        dec          clon          clat  \\\n",
       "0  46572075001313  291.823749  45.201545  19h27m17.70s  45d12m05.56s   \n",
       "1  46572075001313  291.823749  45.201545  19h27m17.70s  45d12m05.56s   \n",
       "2  46572075001313  291.823749  45.201545  19h27m17.70s  45d12m05.56s   \n",
       "3  46572075001313  291.823749  45.201545  19h27m17.70s  45d12m05.56s   \n",
       "4  46572075001313  291.823749  45.201545  19h27m17.70s  45d12m05.56s   \n",
       "\n",
       "         obsmjd  mag_autocorr  goodflag  \n",
       "0  55376.219697        20.354         1  \n",
       "1  55376.263597        20.300         1  \n",
       "2  55755.272967        20.355         1  \n",
       "3  55755.311077        20.368         1  \n",
       "4  55755.479937        20.119         1  "
      ]
     },
     "execution_count": 17,
     "metadata": {},
     "output_type": "execute_result"
    }
   ],
   "source": [
    "transient_light_curves_df.head()"
   ]
  },
  {
   "cell_type": "code",
   "execution_count": 18,
   "metadata": {},
   "outputs": [
    {
     "data": {
      "text/html": [
       "<div>\n",
       "<style>\n",
       "    .dataframe thead tr:only-child th {\n",
       "        text-align: right;\n",
       "    }\n",
       "\n",
       "    .dataframe thead th {\n",
       "        text-align: left;\n",
       "    }\n",
       "\n",
       "    .dataframe tbody tr th {\n",
       "        vertical-align: top;\n",
       "    }\n",
       "</style>\n",
       "<table border=\"1\" class=\"dataframe\">\n",
       "  <thead>\n",
       "    <tr style=\"text-align: right;\">\n",
       "      <th></th>\n",
       "      <th>oid</th>\n",
       "      <th>ra</th>\n",
       "      <th>dec</th>\n",
       "      <th>clon</th>\n",
       "      <th>clat</th>\n",
       "      <th>obsmjd</th>\n",
       "      <th>mag_autocorr</th>\n",
       "      <th>goodflag</th>\n",
       "    </tr>\n",
       "  </thead>\n",
       "  <tbody>\n",
       "    <tr>\n",
       "      <th>0</th>\n",
       "      <td>39362070001535</td>\n",
       "      <td>74.797817</td>\n",
       "      <td>27.158644</td>\n",
       "      <td>04h59m11.48s</td>\n",
       "      <td>27d09m31.12s</td>\n",
       "      <td>55511.546767</td>\n",
       "      <td>20.013</td>\n",
       "      <td>1</td>\n",
       "    </tr>\n",
       "    <tr>\n",
       "      <th>1</th>\n",
       "      <td>39362070001606</td>\n",
       "      <td>74.802963</td>\n",
       "      <td>27.166820</td>\n",
       "      <td>04h59m12.71s</td>\n",
       "      <td>27d10m00.55s</td>\n",
       "      <td>55511.546767</td>\n",
       "      <td>20.011</td>\n",
       "      <td>1</td>\n",
       "    </tr>\n",
       "    <tr>\n",
       "      <th>2</th>\n",
       "      <td>39362070001582</td>\n",
       "      <td>74.798300</td>\n",
       "      <td>27.166972</td>\n",
       "      <td>04h59m11.59s</td>\n",
       "      <td>27d10m01.10s</td>\n",
       "      <td>55511.546767</td>\n",
       "      <td>16.828</td>\n",
       "      <td>1</td>\n",
       "    </tr>\n",
       "    <tr>\n",
       "      <th>3</th>\n",
       "      <td>39362070002065</td>\n",
       "      <td>74.796932</td>\n",
       "      <td>27.221247</td>\n",
       "      <td>04h59m11.26s</td>\n",
       "      <td>27d13m16.49s</td>\n",
       "      <td>55511.546767</td>\n",
       "      <td>20.122</td>\n",
       "      <td>1</td>\n",
       "    </tr>\n",
       "    <tr>\n",
       "      <th>4</th>\n",
       "      <td>39362070001528</td>\n",
       "      <td>74.737183</td>\n",
       "      <td>27.159092</td>\n",
       "      <td>04h58m56.92s</td>\n",
       "      <td>27d09m32.73s</td>\n",
       "      <td>55511.546767</td>\n",
       "      <td>18.611</td>\n",
       "      <td>1</td>\n",
       "    </tr>\n",
       "  </tbody>\n",
       "</table>\n",
       "</div>"
      ],
      "text/plain": [
       "              oid         ra        dec          clon          clat  \\\n",
       "0  39362070001535  74.797817  27.158644  04h59m11.48s  27d09m31.12s   \n",
       "1  39362070001606  74.802963  27.166820  04h59m12.71s  27d10m00.55s   \n",
       "2  39362070001582  74.798300  27.166972  04h59m11.59s  27d10m01.10s   \n",
       "3  39362070002065  74.796932  27.221247  04h59m11.26s  27d13m16.49s   \n",
       "4  39362070001528  74.737183  27.159092  04h58m56.92s  27d09m32.73s   \n",
       "\n",
       "         obsmjd  mag_autocorr  goodflag  \n",
       "0  55511.546767        20.013         1  \n",
       "1  55511.546767        20.011         1  \n",
       "2  55511.546767        16.828         1  \n",
       "3  55511.546767        20.122         1  \n",
       "4  55511.546767        18.611         1  "
      ]
     },
     "execution_count": 18,
     "metadata": {},
     "output_type": "execute_result"
    }
   ],
   "source": [
    "permanent_light_curves_df.head()"
   ]
  },
  {
   "cell_type": "code",
   "execution_count": 22,
   "metadata": {},
   "outputs": [
    {
     "data": {
      "image/png": "[encoded data removed]",
      "text/plain": [
       "<matplotlib.figure.Figure at 0x10da2e2b0>"
      ]
     },
     "metadata": {},
     "output_type": "display_data"
    }
   ],
   "source": [
    "visualize.light_curve_scatter(transient_light_curves_df, marker_size=10)"
   ]
  },
  {
   "cell_type": "code",
   "execution_count": 24,
   "metadata": {},
   "outputs": [
    {
     "data": {
      "image/png": "[encoded data removed]",
      "text/plain": [
       "<matplotlib.figure.Figure at 0x10f71a438>"
      ]
     },
     "metadata": {},
     "output_type": "display_data"
    }
   ],
   "source": [
    "visualize.light_curve_scatter(permanent_light_curves_df, marker_size=10)"
   ]
  },
  {
   "cell_type": "markdown",
   "metadata": {
    "collapsed": true
   },
   "source": [
    "## 4. Generate Single Lightcurves for all objects"
   ]
  },
  {
   "cell_type": "code",
   "execution_count": null,
   "metadata": {
    "scrolled": true
   },
   "outputs": [],
   "source": [
    "visualize.generate_individual_light_curve_scatters(\n",
    "    transient_obj_df,\n",
    "    transient_light_curves_df, \n",
    "    is_transient=True,\n",
    "    limit=50,\n",
    "    random=True\n",
    ")\n",
    "\n",
    "visualize.generate_individual_light_curve_scatters(\n",
    "    permanent_obj_df,\n",
    "    permanent_light_curves_df, \n",
    "    is_transient=False, \n",
    "    limit=50,\n",
    "    random=True\n",
    ")"
   ]
  },
  {
   "cell_type": "markdown",
   "metadata": {},
   "source": [
    "## 5. Count Light Curves Real Nobs"
   ]
  },
  {
   "cell_type": "code",
   "execution_count": null,
   "metadata": {
    "collapsed": true
   },
   "outputs": [],
   "source": [
    "analyze.lightcurve_real_nobs(transient_obj_df, transient_light_curves_df, append_series=True)\n",
    "analyze.lightcurve_real_nobs(permanent_obj_df, permanent_light_curves_df, append_series=True)"
   ]
  },
  {
   "cell_type": "code",
   "execution_count": 36,
   "metadata": {
    "scrolled": true
   },
   "outputs": [
    {
     "data": {
      "text/plain": [
       "count    3000.000000\n",
       "mean       17.904667\n",
       "std        20.672382\n",
       "min         0.000000\n",
       "25%         2.000000\n",
       "50%         7.000000\n",
       "75%        26.000000\n",
       "max        78.000000\n",
       "Name: real_nobs, dtype: float64"
      ]
     },
     "execution_count": 36,
     "metadata": {},
     "output_type": "execute_result"
    }
   ],
   "source": [
    "transient_obj_df['real_nobs'].describe()"
   ]
  },
  {
   "cell_type": "code",
   "execution_count": 37,
   "metadata": {},
   "outputs": [
    {
     "data": {
      "text/plain": [
       "count    3000.000000\n",
       "mean        8.887333\n",
       "std        15.581770\n",
       "min         0.000000\n",
       "25%         1.000000\n",
       "50%         2.000000\n",
       "75%        11.000000\n",
       "max        78.000000\n",
       "Name: real_nobs, dtype: float64"
      ]
     },
     "execution_count": 37,
     "metadata": {},
     "output_type": "execute_result"
    }
   ],
   "source": [
    "permanent_obj_df['real_nobs'].describe()"
   ]
  },
  {
   "cell_type": "markdown",
   "metadata": {},
   "source": [
    "## 6. Explore single lightcurve"
   ]
  },
  {
   "cell_type": "code",
   "execution_count": 38,
   "metadata": {
    "collapsed": true
   },
   "outputs": [],
   "source": [
    "min_real_nobs = 25\n",
    "transient_query = transient_obj_df['real_nobs'] >= min_real_nobs\n",
    "permanent_query = permanent_obj_df['real_nobs'] >= min_real_nobs"
   ]
  },
  {
   "cell_type": "code",
   "execution_count": 42,
   "metadata": {
    "collapsed": true
   },
   "outputs": [],
   "source": [
    "transient_index = 0\n",
    "permanent_index = 20\n",
    "transient_oid = transient_obj_df[transient_query].iloc[transient_index]['oid']\n",
    "permanent_oid = permanent_obj_df[permanent_query].iloc[permanent_index]['oid']"
   ]
  },
  {
   "cell_type": "code",
   "execution_count": 43,
   "metadata": {
    "collapsed": true
   },
   "outputs": [],
   "source": [
    "transient_light_curve_df = transient_light_curves_df[\n",
    "    transient_light_curves_df['oid'] == transient_oid\n",
    "]\n",
    "permanent_light_curve_df = permanent_light_curves_df[\n",
    "    permanent_light_curves_df['oid'] == permanent_oid\n",
    "]"
   ]
  },
  {
   "cell_type": "code",
   "execution_count": 44,
   "metadata": {},
   "outputs": [
    {
     "data": {
      "application/vnd.plotly.v1+json": {
       "data": [
        {
         "mode": "markers",
         "name": "T-46572075001316",
         "type": "scatter",
         "x": [
          "2010-05-27 06:14:21.166080",
          "2010-05-27 06:27:56.782080",
          "2010-05-27 06:42:00.910080",
          "2010-05-27 06:55:53.806080",
          "2010-05-27 07:09:56.206080",
          "2010-05-27 07:31:47.758080",
          "2010-05-27 07:45:53.614080",
          "2010-06-29 05:16:21.838080",
          "2010-06-29 06:19:34.798080",
          "2011-07-13 04:16:22.414080",
          "2011-07-13 06:33:04.366080",
          "2011-07-13 07:27:57.070080",
          "2011-07-13 08:41:46.798080",
          "2011-07-13 09:33:59.662080",
          "2011-07-13 10:37:22.990080",
          "2011-07-13 11:31:06.574080",
          "2011-07-14 09:08:53.710080",
          "2011-07-16 04:54:07.822080",
          "2011-07-16 05:47:00.430080",
          "2011-07-16 06:42:19.054080",
          "2011-07-16 07:44:08.206080",
          "2011-07-16 08:46:44.014080",
          "2011-07-16 09:51:00.910080",
          "2011-07-16 10:56:59.758080",
          "2011-07-30 04:26:58.318080",
          "2011-07-30 05:30:53.614080"
         ],
         "y": [
          13.2,
          13.219,
          13.236,
          13.234,
          13.252,
          13.239,
          13.26,
          13.206,
          13.269,
          13.214,
          13.237,
          13.217,
          13.23,
          13.212,
          13.215,
          13.203,
          13.25,
          13.202,
          13.252,
          13.284,
          13.274,
          13.27,
          13.266,
          13.262,
          13.22,
          13.23
         ]
        },
        {
         "mode": "markers",
         "name": "P-46572070007006",
         "type": "scatter",
         "x": [
          "2010-05-27 06:14:21.166080",
          "2010-05-27 06:27:56.782080",
          "2010-05-27 06:42:00.910080",
          "2010-05-27 06:55:53.806080",
          "2010-05-27 07:09:56.206080",
          "2010-05-27 07:31:47.758080",
          "2010-05-27 07:45:53.614080",
          "2010-06-29 05:16:21.838080",
          "2010-06-29 06:19:34.798080",
          "2011-07-13 04:16:22.414080",
          "2011-07-13 06:33:04.366080",
          "2011-07-13 07:27:57.070080",
          "2011-07-13 08:41:46.798080",
          "2011-07-13 09:33:59.662080",
          "2011-07-13 10:37:22.990080",
          "2011-07-13 11:31:06.574080",
          "2011-07-14 09:08:53.710080",
          "2011-07-16 04:54:07.822080",
          "2011-07-16 05:47:00.430080",
          "2011-07-16 06:42:19.054080",
          "2011-07-16 07:44:08.206080",
          "2011-07-16 08:46:44.014080",
          "2011-07-16 09:51:00.910080",
          "2011-07-16 10:56:59.758080",
          "2011-07-30 04:26:58.318080",
          "2011-07-30 05:30:53.614080"
         ],
         "y": [
          16.305,
          16.281,
          16.307,
          16.296,
          16.297,
          16.294,
          16.28,
          16.294,
          16.3,
          16.316,
          16.302,
          16.288,
          16.304,
          16.304,
          16.305,
          16.29,
          16.3,
          16.314,
          16.328,
          16.282,
          16.293,
          16.287,
          16.29,
          16.291,
          16.295,
          16.299
         ]
        }
       ],
       "layout": {}
      },
      "text/html": [
       "<div id=\"2cb43882-e4ba-4643-859f-ffc7b255d8d9\" style=\"height: 525px; width: 100%;\" class=\"plotly-graph-div\"></div><script type=\"text/javascript\">require([\"plotly\"], function(Plotly) { window.PLOTLYENV=window.PLOTLYENV || {};window.PLOTLYENV.BASE_URL=\"https://plot.ly\";Plotly.newPlot(\"2cb43882-e4ba-4643-859f-ffc7b255d8d9\", [{\"name\": \"T-46572075001316\", \"y\": [13.2, 13.219, 13.236, 13.234, 13.252, 13.239, 13.26, 13.206, 13.269, 13.214, 13.237, 13.217, 13.23, 13.212, 13.215, 13.203, 13.25, 13.202, 13.252, 13.284, 13.274, 13.27, 13.266, 13.262, 13.22, 13.23], \"type\": \"scatter\", \"mode\": \"markers\", \"x\": [\"2010-05-27 06:14:21.166080\", \"2010-05-27 06:27:56.782080\", \"2010-05-27 06:42:00.910080\", \"2010-05-27 06:55:53.806080\", \"2010-05-27 07:09:56.206080\", \"2010-05-27 07:31:47.758080\", \"2010-05-27 07:45:53.614080\", \"2010-06-29 05:16:21.838080\", \"2010-06-29 06:19:34.798080\", \"2011-07-13 04:16:22.414080\", \"2011-07-13 06:33:04.366080\", \"2011-07-13 07:27:57.070080\", \"2011-07-13 08:41:46.798080\", \"2011-07-13 09:33:59.662080\", \"2011-07-13 10:37:22.990080\", \"2011-07-13 11:31:06.574080\", \"2011-07-14 09:08:53.710080\", \"2011-07-16 04:54:07.822080\", \"2011-07-16 05:47:00.430080\", \"2011-07-16 06:42:19.054080\", \"2011-07-16 07:44:08.206080\", \"2011-07-16 08:46:44.014080\", \"2011-07-16 09:51:00.910080\", \"2011-07-16 10:56:59.758080\", \"2011-07-30 04:26:58.318080\", \"2011-07-30 05:30:53.614080\"]}, {\"name\": \"P-46572070007006\", \"y\": [16.305, 16.281, 16.307, 16.296, 16.297, 16.294, 16.28, 16.294, 16.3, 16.316, 16.302, 16.288, 16.304, 16.304, 16.305, 16.29, 16.3, 16.314, 16.328, 16.282, 16.293, 16.287, 16.29, 16.291, 16.295, 16.299], \"type\": \"scatter\", \"mode\": \"markers\", \"x\": [\"2010-05-27 06:14:21.166080\", \"2010-05-27 06:27:56.782080\", \"2010-05-27 06:42:00.910080\", \"2010-05-27 06:55:53.806080\", \"2010-05-27 07:09:56.206080\", \"2010-05-27 07:31:47.758080\", \"2010-05-27 07:45:53.614080\", \"2010-06-29 05:16:21.838080\", \"2010-06-29 06:19:34.798080\", \"2011-07-13 04:16:22.414080\", \"2011-07-13 06:33:04.366080\", \"2011-07-13 07:27:57.070080\", \"2011-07-13 08:41:46.798080\", \"2011-07-13 09:33:59.662080\", \"2011-07-13 10:37:22.990080\", \"2011-07-13 11:31:06.574080\", \"2011-07-14 09:08:53.710080\", \"2011-07-16 04:54:07.822080\", \"2011-07-16 05:47:00.430080\", \"2011-07-16 06:42:19.054080\", \"2011-07-16 07:44:08.206080\", \"2011-07-16 08:46:44.014080\", \"2011-07-16 09:51:00.910080\", \"2011-07-16 10:56:59.758080\", \"2011-07-30 04:26:58.318080\", \"2011-07-30 05:30:53.614080\"]}], {}, {\"linkText\": \"Export to plot.ly\", \"showLink\": true})});</script>"
      ],
      "text/vnd.plotly.v1+html": [
       "<div id=\"2cb43882-e4ba-4643-859f-ffc7b255d8d9\" style=\"height: 525px; width: 100%;\" class=\"plotly-graph-div\"></div><script type=\"text/javascript\">require([\"plotly\"], function(Plotly) { window.PLOTLYENV=window.PLOTLYENV || {};window.PLOTLYENV.BASE_URL=\"https://plot.ly\";Plotly.newPlot(\"2cb43882-e4ba-4643-859f-ffc7b255d8d9\", [{\"name\": \"T-46572075001316\", \"y\": [13.2, 13.219, 13.236, 13.234, 13.252, 13.239, 13.26, 13.206, 13.269, 13.214, 13.237, 13.217, 13.23, 13.212, 13.215, 13.203, 13.25, 13.202, 13.252, 13.284, 13.274, 13.27, 13.266, 13.262, 13.22, 13.23], \"type\": \"scatter\", \"mode\": \"markers\", \"x\": [\"2010-05-27 06:14:21.166080\", \"2010-05-27 06:27:56.782080\", \"2010-05-27 06:42:00.910080\", \"2010-05-27 06:55:53.806080\", \"2010-05-27 07:09:56.206080\", \"2010-05-27 07:31:47.758080\", \"2010-05-27 07:45:53.614080\", \"2010-06-29 05:16:21.838080\", \"2010-06-29 06:19:34.798080\", \"2011-07-13 04:16:22.414080\", \"2011-07-13 06:33:04.366080\", \"2011-07-13 07:27:57.070080\", \"2011-07-13 08:41:46.798080\", \"2011-07-13 09:33:59.662080\", \"2011-07-13 10:37:22.990080\", \"2011-07-13 11:31:06.574080\", \"2011-07-14 09:08:53.710080\", \"2011-07-16 04:54:07.822080\", \"2011-07-16 05:47:00.430080\", \"2011-07-16 06:42:19.054080\", \"2011-07-16 07:44:08.206080\", \"2011-07-16 08:46:44.014080\", \"2011-07-16 09:51:00.910080\", \"2011-07-16 10:56:59.758080\", \"2011-07-30 04:26:58.318080\", \"2011-07-30 05:30:53.614080\"]}, {\"name\": \"P-46572070007006\", \"y\": [16.305, 16.281, 16.307, 16.296, 16.297, 16.294, 16.28, 16.294, 16.3, 16.316, 16.302, 16.288, 16.304, 16.304, 16.305, 16.29, 16.3, 16.314, 16.328, 16.282, 16.293, 16.287, 16.29, 16.291, 16.295, 16.299], \"type\": \"scatter\", \"mode\": \"markers\", \"x\": [\"2010-05-27 06:14:21.166080\", \"2010-05-27 06:27:56.782080\", \"2010-05-27 06:42:00.910080\", \"2010-05-27 06:55:53.806080\", \"2010-05-27 07:09:56.206080\", \"2010-05-27 07:31:47.758080\", \"2010-05-27 07:45:53.614080\", \"2010-06-29 05:16:21.838080\", \"2010-06-29 06:19:34.798080\", \"2011-07-13 04:16:22.414080\", \"2011-07-13 06:33:04.366080\", \"2011-07-13 07:27:57.070080\", \"2011-07-13 08:41:46.798080\", \"2011-07-13 09:33:59.662080\", \"2011-07-13 10:37:22.990080\", \"2011-07-13 11:31:06.574080\", \"2011-07-14 09:08:53.710080\", \"2011-07-16 04:54:07.822080\", \"2011-07-16 05:47:00.430080\", \"2011-07-16 06:42:19.054080\", \"2011-07-16 07:44:08.206080\", \"2011-07-16 08:46:44.014080\", \"2011-07-16 09:51:00.910080\", \"2011-07-16 10:56:59.758080\", \"2011-07-30 04:26:58.318080\", \"2011-07-30 05:30:53.614080\"]}], {}, {\"linkText\": \"Export to plot.ly\", \"showLink\": true})});</script>"
      ]
     },
     "metadata": {},
     "output_type": "display_data"
    }
   ],
   "source": [
    "transient_light_curve_scatter = visualize.light_curve_interactive_scatter(\n",
    "    transient_light_curve_df, \n",
    "    name= 'T-{}'.format(transient_light_curve_df.iloc[0]['oid'])\n",
    ")\n",
    "\n",
    "permanent_light_curve_scatter = visualize.light_curve_interactive_scatter(\n",
    "    permanent_light_curve_df, \n",
    "    name='P-{}'.format(permanent_light_curve_df.iloc[0]['oid'])\n",
    ")\n",
    "\n",
    "iplot([transient_light_curve_scatter, permanent_light_curve_scatter])"
   ]
  },
  {
   "cell_type": "markdown",
   "metadata": {},
   "source": [
    "## 7. Select Objects in Time Range"
   ]
  },
  {
   "cell_type": "code",
   "execution_count": 45,
   "metadata": {},
   "outputs": [
    {
     "name": "stdout",
     "output_type": "stream",
     "text": [
      "55197.0 55927.0\n"
     ]
    }
   ],
   "source": [
    "best_start_datetime = datetime.datetime(2010, 1, 1)\n",
    "best_end_datetime = datetime.datetime(2012, 1, 1)\n",
    "\n",
    "best_start_mjd = time.datetime_to_mjd(best_start_datetime)\n",
    "best_end_mjd = time.datetime_to_mjd(best_end_datetime)\n",
    "\n",
    "print(best_start_mjd, best_end_mjd)"
   ]
  },
  {
   "cell_type": "code",
   "execution_count": 46,
   "metadata": {
    "collapsed": true
   },
   "outputs": [],
   "source": [
    "best_transient_light_curves_query = (transient_light_curves_df['obsmjd'] >= best_start_mjd) & (transient_light_curves_df['obsmjd'] <= best_end_mjd)\n",
    "\n",
    "best_permanent_light_curves_query = (permanent_light_curves_df['obsmjd'] >= best_start_mjd) & (permanent_light_curves_df['obsmjd'] <= best_end_mjd)"
   ]
  },
  {
   "cell_type": "code",
   "execution_count": 47,
   "metadata": {
    "collapsed": true
   },
   "outputs": [],
   "source": [
    "best_transient_light_curves_df = transient_light_curves_df[best_transient_light_curves_query]\n",
    "best_permanent_light_curves_df = permanent_light_curves_df[best_permanent_light_curves_query]"
   ]
  },
  {
   "cell_type": "code",
   "execution_count": 50,
   "metadata": {},
   "outputs": [
    {
     "data": {
      "image/png": "[encoded data removed]",
      "text/plain": [
       "<matplotlib.figure.Figure at 0x1133092e8>"
      ]
     },
     "metadata": {},
     "output_type": "display_data"
    }
   ],
   "source": [
    "visualize.light_curve_scatter(best_transient_light_curves_df, marker_size=10)"
   ]
  },
  {
   "cell_type": "code",
   "execution_count": 52,
   "metadata": {},
   "outputs": [
    {
     "data": {
      "image/png": "[encoded data removed]",
      "text/plain": [
       "<matplotlib.figure.Figure at 0x111de6278>"
      ]
     },
     "metadata": {},
     "output_type": "display_data"
    }
   ],
   "source": [
    "visualize.light_curve_scatter(best_permanent_light_curves_df, marker_size=10)"
   ]
  },
  {
   "cell_type": "code",
   "execution_count": 53,
   "metadata": {},
   "outputs": [
    {
     "data": {
      "text/html": [
       "<div>\n",
       "<style>\n",
       "    .dataframe thead tr:only-child th {\n",
       "        text-align: right;\n",
       "    }\n",
       "\n",
       "    .dataframe thead th {\n",
       "        text-align: left;\n",
       "    }\n",
       "\n",
       "    .dataframe tbody tr th {\n",
       "        vertical-align: top;\n",
       "    }\n",
       "</style>\n",
       "<table border=\"1\" class=\"dataframe\">\n",
       "  <thead>\n",
       "    <tr style=\"text-align: right;\">\n",
       "      <th></th>\n",
       "      <th>ra</th>\n",
       "      <th>dec</th>\n",
       "      <th>oid</th>\n",
       "      <th>nobs</th>\n",
       "      <th>ngoodobs</th>\n",
       "      <th>real_nobs</th>\n",
       "    </tr>\n",
       "  </thead>\n",
       "  <tbody>\n",
       "    <tr>\n",
       "      <th>count</th>\n",
       "      <td>2737.000000</td>\n",
       "      <td>2737.000000</td>\n",
       "      <td>2.737000e+03</td>\n",
       "      <td>2737.000000</td>\n",
       "      <td>2737.000000</td>\n",
       "      <td>2737.000000</td>\n",
       "    </tr>\n",
       "    <tr>\n",
       "      <th>mean</th>\n",
       "      <td>204.647847</td>\n",
       "      <td>36.191698</td>\n",
       "      <td>3.196002e+14</td>\n",
       "      <td>81.573621</td>\n",
       "      <td>59.172086</td>\n",
       "      <td>19.381805</td>\n",
       "    </tr>\n",
       "    <tr>\n",
       "      <th>std</th>\n",
       "      <td>112.818024</td>\n",
       "      <td>14.906806</td>\n",
       "      <td>4.328675e+14</td>\n",
       "      <td>66.413316</td>\n",
       "      <td>52.518376</td>\n",
       "      <td>21.041990</td>\n",
       "    </tr>\n",
       "    <tr>\n",
       "      <th>min</th>\n",
       "      <td>13.359022</td>\n",
       "      <td>17.702059</td>\n",
       "      <td>3.743206e+13</td>\n",
       "      <td>20.000000</td>\n",
       "      <td>15.000000</td>\n",
       "      <td>1.000000</td>\n",
       "    </tr>\n",
       "    <tr>\n",
       "      <th>25%</th>\n",
       "      <td>71.336779</td>\n",
       "      <td>18.879333</td>\n",
       "      <td>4.657207e+13</td>\n",
       "      <td>29.000000</td>\n",
       "      <td>22.000000</td>\n",
       "      <td>2.000000</td>\n",
       "    </tr>\n",
       "    <tr>\n",
       "      <th>50%</th>\n",
       "      <td>271.186638</td>\n",
       "      <td>44.959496</td>\n",
       "      <td>4.657207e+13</td>\n",
       "      <td>58.000000</td>\n",
       "      <td>39.000000</td>\n",
       "      <td>12.000000</td>\n",
       "    </tr>\n",
       "    <tr>\n",
       "      <th>75%</th>\n",
       "      <td>291.423057</td>\n",
       "      <td>45.478370</td>\n",
       "      <td>1.002042e+15</td>\n",
       "      <td>101.000000</td>\n",
       "      <td>77.000000</td>\n",
       "      <td>26.000000</td>\n",
       "    </tr>\n",
       "    <tr>\n",
       "      <th>max</th>\n",
       "      <td>292.079198</td>\n",
       "      <td>59.628588</td>\n",
       "      <td>1.002042e+15</td>\n",
       "      <td>255.000000</td>\n",
       "      <td>254.000000</td>\n",
       "      <td>78.000000</td>\n",
       "    </tr>\n",
       "  </tbody>\n",
       "</table>\n",
       "</div>"
      ],
      "text/plain": [
       "                ra          dec           oid         nobs     ngoodobs  \\\n",
       "count  2737.000000  2737.000000  2.737000e+03  2737.000000  2737.000000   \n",
       "mean    204.647847    36.191698  3.196002e+14    81.573621    59.172086   \n",
       "std     112.818024    14.906806  4.328675e+14    66.413316    52.518376   \n",
       "min      13.359022    17.702059  3.743206e+13    20.000000    15.000000   \n",
       "25%      71.336779    18.879333  4.657207e+13    29.000000    22.000000   \n",
       "50%     271.186638    44.959496  4.657207e+13    58.000000    39.000000   \n",
       "75%     291.423057    45.478370  1.002042e+15   101.000000    77.000000   \n",
       "max     292.079198    59.628588  1.002042e+15   255.000000   254.000000   \n",
       "\n",
       "         real_nobs  \n",
       "count  2737.000000  \n",
       "mean     19.381805  \n",
       "std      21.041990  \n",
       "min       1.000000  \n",
       "25%       2.000000  \n",
       "50%      12.000000  \n",
       "75%      26.000000  \n",
       "max      78.000000  "
      ]
     },
     "execution_count": 53,
     "metadata": {},
     "output_type": "execute_result"
    }
   ],
   "source": [
    "best_transient_obj_df = transient_obj_df[\n",
    "    transient_obj_df['oid'].isin(best_transient_light_curves_df.oid.unique())\n",
    "]\n",
    "best_transient_obj_df.describe()"
   ]
  },
  {
   "cell_type": "code",
   "execution_count": null,
   "metadata": {
    "collapsed": true
   },
   "outputs": [],
   "source": []
  }
 ],
 "metadata": {
  "kernelspec": {
   "display_name": "Python 3",
   "language": "python",
   "name": "python3"
  },
  "language_info": {
   "codemirror_mode": {
    "name": "ipython",
    "version": 3
   },
   "file_extension": ".py",
   "mimetype": "text/x-python",
   "name": "python",
   "nbconvert_exporter": "python",
   "pygments_lexer": "ipython3",
   "version": "3.4.0"
  }
 },
 "nbformat": 4,
 "nbformat_minor": 2
}
