{
 "cells": [
  {
   "cell_type": "code",
   "execution_count": 90,
   "metadata": {
    "collapsed": true
   },
   "outputs": [],
   "source": [
    "import tools, timeit, os\n",
    "import pandas as pd\n",
    "from astropy.io import fits\n",
    "from astropy.table import Table\n",
    "import matplotlib.pyplot as plt\n",
    "from astropy.io import fits\n",
    "import numpy as np\n",
    "from urllib.parse import urlencode\n",
    "%config InlineBackend.rc = {}\n",
    "%matplotlib inline"
   ]
  },
  {
   "cell_type": "code",
   "execution_count": 296,
   "metadata": {
    "collapsed": true
   },
   "outputs": [],
   "source": [
    "# Constants\n",
    "DIR_DATA = '../data/PTF/'\n",
    "MAX_DOWNLOADS = 5"
   ]
  },
  {
   "cell_type": "code",
   "execution_count": 297,
   "metadata": {
    "collapsed": true
   },
   "outputs": [],
   "source": [
    "# URLs\n",
    "CATALOG_API = 'http://irsa.ipac.caltech.edu/cgi-bin/Gator/nph-query'\n",
    "CALI_IMAGES_CATALOG_API = 'http://irsa.ipac.caltech.edu/ibe/search/ptf/images/level1'\n",
    "CALI_IMAGES_API = 'http://irsa.ipac.caltech.edu/ibe/data/ptf/images/level1'\n",
    "REF_IMAGES_CATALOG_API = 'http://irsa.ipac.caltech.edu/ibe/search/ptf/images/level2'\n",
    "REF_IMAGES_API = 'http://irsa.ipac.caltech.edu/ibe/data/ptf/images/level2'"
   ]
  },
  {
   "cell_type": "markdown",
   "metadata": {},
   "source": [
    "# Download 20000 Transients"
   ]
  },
  {
   "cell_type": "markdown",
   "metadata": {},
   "source": [
    "#### Create request"
   ]
  },
  {
   "cell_type": "code",
   "execution_count": 99,
   "metadata": {},
   "outputs": [
    {
     "name": "stdout",
     "output_type": "stream",
     "text": [
      "http://irsa.ipac.caltech.edu/cgi-bin/Gator/nph-query?spatial=None&outfmt=1&selcols=ra%2Cdec%2Coid%2Cnobs%2Cngoodobs&catalog=ptf_objects&constraints=transient_flag%3D1+AND+nobs+%3E%3D+20+AND+ngoodobs%3E%3D+15&outrows=20000\n"
     ]
    }
   ],
   "source": [
    "query = dict()\n",
    "query['catalog'] = 'ptf_objects'\n",
    "query['spatial'] = 'None'\n",
    "query['selcols'] = 'ra,dec,oid,nobs,ngoodobs'\n",
    "query['outfmt'] = '1'\n",
    "query['outrows'] = '20000'\n",
    "query['constraints'] = 'transient_flag=1 AND nobs >= 20 AND ngoodobs>= 15'\n",
    "\n",
    "query_url = CATALOG_API + '?' + urlencode(query)\n",
    "print(query_url)"
   ]
  },
  {
   "cell_type": "markdown",
   "metadata": {},
   "source": [
    "#### Download data"
   ]
  },
  {
   "cell_type": "code",
   "execution_count": null,
   "metadata": {
    "scrolled": true
   },
   "outputs": [],
   "source": [
    "output_directory = DIR_DATA + 'cats/transients'\n",
    "file_path = tools.download_file(query_url, 'objcat.tbl', output_directory)"
   ]
  },
  {
   "cell_type": "code",
   "execution_count": 101,
   "metadata": {},
   "outputs": [
    {
     "data": {
      "text/plain": [
       "'../data/PTF/cats/transients/objcat.tbl'"
      ]
     },
     "execution_count": 101,
     "metadata": {},
     "output_type": "execute_result"
    }
   ],
   "source": [
    "file_path"
   ]
  },
  {
   "cell_type": "markdown",
   "metadata": {},
   "source": [
    "### Read catalogue"
   ]
  },
  {
   "cell_type": "code",
   "execution_count": 102,
   "metadata": {
    "collapsed": true
   },
   "outputs": [],
   "source": [
    "transient_df = Table.read(file_path, format='ascii').to_pandas()"
   ]
  },
  {
   "cell_type": "code",
   "execution_count": 103,
   "metadata": {
    "scrolled": false
   },
   "outputs": [
    {
     "data": {
      "text/html": [
       "<div>\n",
       "<style>\n",
       "    .dataframe thead tr:only-child th {\n",
       "        text-align: right;\n",
       "    }\n",
       "\n",
       "    .dataframe thead th {\n",
       "        text-align: left;\n",
       "    }\n",
       "\n",
       "    .dataframe tbody tr th {\n",
       "        vertical-align: top;\n",
       "    }\n",
       "</style>\n",
       "<table border=\"1\" class=\"dataframe\">\n",
       "  <thead>\n",
       "    <tr style=\"text-align: right;\">\n",
       "      <th></th>\n",
       "      <th>ra</th>\n",
       "      <th>dec</th>\n",
       "      <th>clon</th>\n",
       "      <th>clat</th>\n",
       "      <th>oid</th>\n",
       "      <th>nobs</th>\n",
       "      <th>ngoodobs</th>\n",
       "    </tr>\n",
       "  </thead>\n",
       "  <tbody>\n",
       "    <tr>\n",
       "      <th>0</th>\n",
       "      <td>291.823749</td>\n",
       "      <td>45.201545</td>\n",
       "      <td>19h27m17.70s</td>\n",
       "      <td>45d12m05.56s</td>\n",
       "      <td>46572075001313</td>\n",
       "      <td>161</td>\n",
       "      <td>160</td>\n",
       "    </tr>\n",
       "    <tr>\n",
       "      <th>1</th>\n",
       "      <td>291.808502</td>\n",
       "      <td>45.210343</td>\n",
       "      <td>19h27m14.04s</td>\n",
       "      <td>45d12m37.23s</td>\n",
       "      <td>46572075001316</td>\n",
       "      <td>254</td>\n",
       "      <td>74</td>\n",
       "    </tr>\n",
       "    <tr>\n",
       "      <th>2</th>\n",
       "      <td>291.837458</td>\n",
       "      <td>45.231821</td>\n",
       "      <td>19h27m20.99s</td>\n",
       "      <td>45d13m54.56s</td>\n",
       "      <td>46572075001274</td>\n",
       "      <td>232</td>\n",
       "      <td>48</td>\n",
       "    </tr>\n",
       "    <tr>\n",
       "      <th>3</th>\n",
       "      <td>291.848750</td>\n",
       "      <td>45.202769</td>\n",
       "      <td>19h27m23.70s</td>\n",
       "      <td>45d12m09.97s</td>\n",
       "      <td>46572075001312</td>\n",
       "      <td>188</td>\n",
       "      <td>187</td>\n",
       "    </tr>\n",
       "    <tr>\n",
       "      <th>4</th>\n",
       "      <td>291.805963</td>\n",
       "      <td>45.177574</td>\n",
       "      <td>19h27m13.43s</td>\n",
       "      <td>45d10m39.27s</td>\n",
       "      <td>46572075002105</td>\n",
       "      <td>128</td>\n",
       "      <td>35</td>\n",
       "    </tr>\n",
       "  </tbody>\n",
       "</table>\n",
       "</div>"
      ],
      "text/plain": [
       "           ra        dec          clon          clat             oid  nobs  \\\n",
       "0  291.823749  45.201545  19h27m17.70s  45d12m05.56s  46572075001313   161   \n",
       "1  291.808502  45.210343  19h27m14.04s  45d12m37.23s  46572075001316   254   \n",
       "2  291.837458  45.231821  19h27m20.99s  45d13m54.56s  46572075001274   232   \n",
       "3  291.848750  45.202769  19h27m23.70s  45d12m09.97s  46572075001312   188   \n",
       "4  291.805963  45.177574  19h27m13.43s  45d10m39.27s  46572075002105   128   \n",
       "\n",
       "   ngoodobs  \n",
       "0       160  \n",
       "1        74  \n",
       "2        48  \n",
       "3       187  \n",
       "4        35  "
      ]
     },
     "execution_count": 103,
     "metadata": {},
     "output_type": "execute_result"
    }
   ],
   "source": [
    "transient_df.head()"
   ]
  },
  {
   "cell_type": "markdown",
   "metadata": {},
   "source": [
    "# Download R light curves"
   ]
  },
  {
   "cell_type": "code",
   "execution_count": 104,
   "metadata": {
    "collapsed": true
   },
   "outputs": [],
   "source": [
    "output_directory = DIR_DATA + 'light/R/'"
   ]
  },
  {
   "cell_type": "markdown",
   "metadata": {},
   "source": [
    "#### Create request"
   ]
  },
  {
   "cell_type": "code",
   "execution_count": 129,
   "metadata": {
    "collapsed": true
   },
   "outputs": [],
   "source": [
    "def light_url(ra, dec):\n",
    "    query = dict()\n",
    "    query['catalog'] = 'ptf_lightcurves'\n",
    "    query['spatial'] = 'None'\n",
    "    query['selcols'] = 'oid,obsmjd,mag_autocorr'\n",
    "    query['outfmt'] = '1'\n",
    "    query['constraints'] = 'ra={} AND dec={} AND fid=2 AND goodflag=1'.format(ra, dec)\n",
    "    query['order'] = 'obsmjd'\n",
    "    \n",
    "    query_url = CATALOG_API + '?' + urlencode(query)\n",
    "    return query_url"
   ]
  },
  {
   "cell_type": "markdown",
   "metadata": {},
   "source": [
    "#### Download Files"
   ]
  },
  {
   "cell_type": "code",
   "execution_count": null,
   "metadata": {
    "collapsed": true,
    "scrolled": true
   },
   "outputs": [],
   "source": [
    "for i, row in transient_df.iterrows():\n",
    "    if i == MAX_DOWNLOADS: break\n",
    "    objid = row['oid']\n",
    "    query_url = light_url(row['ra'], row['dec'])\n",
    "    file_path = tools.download_file(query_url, '{}.tbl'.format(objid), output_directory)"
   ]
  },
  {
   "cell_type": "markdown",
   "metadata": {},
   "source": [
    "# Download Calibrated Images "
   ]
  },
  {
   "cell_type": "markdown",
   "metadata": {},
   "source": [
    "### First, download the calibrated image catalogues"
   ]
  },
  {
   "cell_type": "code",
   "execution_count": 298,
   "metadata": {
    "collapsed": true
   },
   "outputs": [],
   "source": [
    "output_directory = DIR_DATA + 'cats/calibrated/'"
   ]
  },
  {
   "cell_type": "markdown",
   "metadata": {},
   "source": [
    "#### Create request"
   ]
  },
  {
   "cell_type": "code",
   "execution_count": 299,
   "metadata": {
    "collapsed": true
   },
   "outputs": [],
   "source": [
    "def calibrated_catalog_url(ra, dec):\n",
    "    query = dict()\n",
    "    # Available Columns: \n",
    "    # http://irsa.ipac.caltech.edu/ibe//search/ptf/images/level1?FORMAT=METADATA&ct=html\n",
    "    query['POS'] = '{},{}'.format(ra,dec)\n",
    "    query['columns'] = 'pfilename,obsdate'\n",
    "    query['where'] = 'filter=\\'R\\''\n",
    "    # Only querying for the most centered image data\n",
    "    query['mcen'] = '1'\n",
    "    \n",
    "    query_url = CALI_IMAGES_CATALOG_API + '?' + urlencode(query)\n",
    "    return query_url"
   ]
  },
  {
   "cell_type": "markdown",
   "metadata": {},
   "source": [
    "#### Download"
   ]
  },
  {
   "cell_type": "code",
   "execution_count": 300,
   "metadata": {
    "scrolled": true
   },
   "outputs": [
    {
     "name": "stderr",
     "output_type": "stream",
     "text": [
      "read 0\n",
      "read 8192\n",
      "read 0\n",
      "read 8192\n",
      "read 0\n",
      "read 8192\n",
      "read 0\n",
      "read 8192\n",
      "read 0\n",
      "read 8192\n"
     ]
    }
   ],
   "source": [
    "for i, row in transient_df.iterrows():\n",
    "    if i == MAX_DOWNLOADS: break\n",
    "    objid = row['oid']\n",
    "    query_url = calibrated_catalog_url(row['ra'], row['dec'])\n",
    "    file_path = tools.download_file(query_url, '{}.tbl'.format(objid), output_directory)"
   ]
  },
  {
   "cell_type": "markdown",
   "metadata": {},
   "source": [
    "### Next, download the associated images"
   ]
  },
  {
   "cell_type": "code",
   "execution_count": 301,
   "metadata": {
    "collapsed": true
   },
   "outputs": [],
   "source": [
    "output_directory = DIR_DATA + 'images/calibrated/'\n",
    "IMAGE_SIZE = (50,50) # arcsec"
   ]
  },
  {
   "cell_type": "code",
   "execution_count": 302,
   "metadata": {
    "collapsed": true
   },
   "outputs": [],
   "source": [
    "def calibrated_image_url(ra, dec, image_url_path, size):\n",
    "    query = dict()\n",
    "    # Available Columns: \n",
    "    query['center'] = '{},{}'.format(ra, dec)\n",
    "    query['size'] = '{},{}arcsec'.format(size[0], size[1])\n",
    "    query_url = CALI_IMAGES_API + '/' + image_url_path + '?' + urlencode(query)\n",
    "    return query_url"
   ]
  },
  {
   "cell_type": "code",
   "execution_count": 303,
   "metadata": {},
   "outputs": [
    {
     "name": "stdout",
     "output_type": "stream",
     "text": [
      "http://irsa.ipac.caltech.edu/ibe/data/ptf/images/level1/proc/2011/07/21/f2/c7/p13/v2/PTF_201107213814_i_p_scie_t090910_u010278159_f02_p004657_c07.fits?size=50%2C50arcsec&center=291.823749%2C45.201545\n"
     ]
    },
    {
     "name": "stderr",
     "output_type": "stream",
     "text": [
      "\r",
      "  0.0%     0 / 17751\r",
      " 46.1%  8192 / 17751\r",
      " 92.3% 16384 / 17751\r",
      "138.4% 24576 / 17751\n"
     ]
    },
    {
     "name": "stdout",
     "output_type": "stream",
     "text": [
      "http://irsa.ipac.caltech.edu/ibe/data/ptf/images/level1/proc/2011/07/21/f2/c7/p13/v2/PTF_201107213814_i_p_scie_t090910_u010278159_f02_p004657_c07.fits?size=50%2C50arcsec&center=291.808502%2C45.210343\n"
     ]
    },
    {
     "name": "stderr",
     "output_type": "stream",
     "text": [
      "\r",
      "  0.0%     0 / 17995\r",
      " 45.5%  8192 / 17995\r",
      " 91.0% 16384 / 17995\r",
      "136.6% 24576 / 17995\n"
     ]
    },
    {
     "name": "stdout",
     "output_type": "stream",
     "text": [
      "http://irsa.ipac.caltech.edu/ibe/data/ptf/images/level1/proc/2011/07/21/f2/c7/p13/v2/PTF_201107213814_i_p_scie_t090910_u010278159_f02_p004657_c07.fits?size=50%2C50arcsec&center=291.837458%2C45.231821\n"
     ]
    },
    {
     "name": "stderr",
     "output_type": "stream",
     "text": [
      "\r",
      "  0.0%     0 / 17933\r",
      " 45.7%  8192 / 17933\r",
      " 91.4% 16384 / 17933\r",
      "137.0% 24576 / 17933\n"
     ]
    },
    {
     "name": "stdout",
     "output_type": "stream",
     "text": [
      "http://irsa.ipac.caltech.edu/ibe/data/ptf/images/level1/proc/2011/07/21/f2/c7/p13/v2/PTF_201107213814_i_p_scie_t090910_u010278159_f02_p004657_c07.fits?size=50%2C50arcsec&center=291.84875%2C45.202769\n"
     ]
    },
    {
     "name": "stderr",
     "output_type": "stream",
     "text": [
      "\r",
      "  0.0%     0 / 17910\r",
      " 45.7%  8192 / 17910\r",
      " 91.5% 16384 / 17910\r",
      "137.2% 24576 / 17910\n"
     ]
    },
    {
     "name": "stdout",
     "output_type": "stream",
     "text": [
      "http://irsa.ipac.caltech.edu/ibe/data/ptf/images/level1/proc/2011/07/21/f2/c7/p13/v2/PTF_201107213814_i_p_scie_t090910_u010278159_f02_p004657_c07.fits?size=50%2C50arcsec&center=291.805963%2C45.177574\n"
     ]
    },
    {
     "name": "stderr",
     "output_type": "stream",
     "text": [
      "\r",
      "  0.0%     0 / 17951\r",
      " 45.6%  8192 / 17951\r",
      " 91.3% 16384 / 17951\r",
      "136.9% 24576 / 17951\n"
     ]
    }
   ],
   "source": [
    "for i, row in transient_df.iterrows():\n",
    "    if i == MAX_DOWNLOADS: break\n",
    "    calibrated_catalog_path = DIR_DATA + 'cats/calibrated/{}.tbl'.format(row['oid'])\n",
    "    calibrated_df = Table.read(calibrated_catalog_path, format='ascii').to_pandas()\n",
    "    query_url = calibrated_image_url(row['ra'], row['dec'], calibrated_df.iloc[0]['pfilename'], IMAGE_SIZE)\n",
    "    print(query_url)\n",
    "    file_path = tools.download_file(query_url, '{}.fits'.format(row['oid']), output_directory)"
   ]
  },
  {
   "cell_type": "markdown",
   "metadata": {
    "collapsed": true
   },
   "source": [
    "# Download Reference Images "
   ]
  },
  {
   "cell_type": "markdown",
   "metadata": {},
   "source": [
    "### First, download the reference image catalogues"
   ]
  },
  {
   "cell_type": "code",
   "execution_count": 304,
   "metadata": {
    "collapsed": true
   },
   "outputs": [],
   "source": [
    "output_directory = DIR_DATA + 'cats/reference/'"
   ]
  },
  {
   "cell_type": "markdown",
   "metadata": {},
   "source": [
    "#### Create request"
   ]
  },
  {
   "cell_type": "code",
   "execution_count": 305,
   "metadata": {
    "collapsed": true
   },
   "outputs": [],
   "source": [
    "def reference_catalog_url(ra, dec):\n",
    "    query = dict()\n",
    "    # Available Columns: \n",
    "    # http://irsa.ipac.caltech.edu/ibe//search/ptf/images/level1?FORMAT=METADATA&ct=html\n",
    "    query['POS'] = '{},{}'.format(ra,dec)\n",
    "    query['columns'] = 'filename'\n",
    "    query['where'] = 'fid=2'\n",
    "    # Only querying for the most centered image data\n",
    "    query['mcen'] = '1'\n",
    "    \n",
    "    query_url = REF_IMAGES_CATALOG_API + '?' + urlencode(query)\n",
    "    return query_url"
   ]
  },
  {
   "cell_type": "markdown",
   "metadata": {},
   "source": [
    "#### Download"
   ]
  },
  {
   "cell_type": "code",
   "execution_count": 306,
   "metadata": {
    "scrolled": true
   },
   "outputs": [
    {
     "name": "stdout",
     "output_type": "stream",
     "text": [
      "http://irsa.ipac.caltech.edu/ibe/search/ptf/images/level2?POS=291.823749%2C45.201545&where=fid%3D2&mcen=1&columns=filename\n"
     ]
    },
    {
     "name": "stderr",
     "output_type": "stream",
     "text": [
      "read 0\n",
      "read 8192\n"
     ]
    },
    {
     "name": "stdout",
     "output_type": "stream",
     "text": [
      "http://irsa.ipac.caltech.edu/ibe/search/ptf/images/level2?POS=291.808502%2C45.210343&where=fid%3D2&mcen=1&columns=filename\n"
     ]
    },
    {
     "name": "stderr",
     "output_type": "stream",
     "text": [
      "read 0\n",
      "read 8192\n"
     ]
    },
    {
     "name": "stdout",
     "output_type": "stream",
     "text": [
      "http://irsa.ipac.caltech.edu/ibe/search/ptf/images/level2?POS=291.837458%2C45.231821&where=fid%3D2&mcen=1&columns=filename\n"
     ]
    },
    {
     "name": "stderr",
     "output_type": "stream",
     "text": [
      "read 0\n",
      "read 8192\n"
     ]
    },
    {
     "name": "stdout",
     "output_type": "stream",
     "text": [
      "http://irsa.ipac.caltech.edu/ibe/search/ptf/images/level2?POS=291.84875%2C45.202769&where=fid%3D2&mcen=1&columns=filename\n"
     ]
    },
    {
     "name": "stderr",
     "output_type": "stream",
     "text": [
      "read 0\n",
      "read 8192\n"
     ]
    },
    {
     "name": "stdout",
     "output_type": "stream",
     "text": [
      "http://irsa.ipac.caltech.edu/ibe/search/ptf/images/level2?POS=291.805963%2C45.177574&where=fid%3D2&mcen=1&columns=filename\n"
     ]
    },
    {
     "name": "stderr",
     "output_type": "stream",
     "text": [
      "read 0\n",
      "read 8192\n"
     ]
    }
   ],
   "source": [
    "for i, row in transient_df.iterrows():\n",
    "    if i == MAX_DOWNLOADS: break\n",
    "    query_url = reference_catalog_url(row['ra'], row['dec'])\n",
    "    print(query_url)\n",
    "    file_path = tools.download_file(query_url, '{}.tbl'.format(row['oid']), output_directory)"
   ]
  },
  {
   "cell_type": "markdown",
   "metadata": {},
   "source": [
    "### Next, download the associated images"
   ]
  },
  {
   "cell_type": "code",
   "execution_count": 307,
   "metadata": {
    "collapsed": true
   },
   "outputs": [],
   "source": [
    "output_directory = DIR_DATA + 'images/reference/'"
   ]
  },
  {
   "cell_type": "markdown",
   "metadata": {},
   "source": [
    "##### Full reference image paths are hidden, so they need to be extracted from filename"
   ]
  },
  {
   "cell_type": "code",
   "execution_count": 308,
   "metadata": {
    "collapsed": true
   },
   "outputs": [],
   "source": [
    "def extract_ref_image_path(filename):\n",
    "    words = filename.split('_')\n",
    "    f1 = words[1][:4]\n",
    "    f2 = words[1]\n",
    "    f3 = words[2][0] + words[2][1:].lstrip('0')\n",
    "    if len(f3) == 1: f3 += '0'\n",
    "    f4 = words[3][0] + words[3][1:].lstrip('0')\n",
    "    if len(f4) == 1: f4 += '0'\n",
    "    return '{}/{}/{}/{}/{}'.format(f1,f2,f3,f4,filename)"
   ]
  },
  {
   "cell_type": "code",
   "execution_count": 309,
   "metadata": {
    "collapsed": true
   },
   "outputs": [],
   "source": [
    "def reference_image_url(ra, dec, image_url_path, size):\n",
    "    query = dict()\n",
    "    # Available Columns: \n",
    "    query['center'] = '{},{}'.format(ra, dec)\n",
    "    query['size'] = '{},{}arcsec'.format(size[0], size[1])\n",
    "    query_url = REF_IMAGES_API + '/' + image_url_path + '?' + urlencode(query)\n",
    "    return query_url"
   ]
  },
  {
   "cell_type": "markdown",
   "metadata": {},
   "source": [
    "#### Download"
   ]
  },
  {
   "cell_type": "code",
   "execution_count": 310,
   "metadata": {
    "scrolled": true
   },
   "outputs": [
    {
     "name": "stderr",
     "output_type": "stream",
     "text": [
      "104.9% 106496 / 101563\n",
      "104.5% 106496 / 101896\n",
      "103.5% 106496 / 102915\n",
      "105.1% 106496 / 101359\n",
      "105.0% 106496 / 101449\n"
     ]
    }
   ],
   "source": [
    "for i, row in transient_df.iterrows():\n",
    "    if i == MAX_DOWNLOADS: break\n",
    "    reference_catalog_path = DIR_DATA + 'cats/reference/{}.tbl'.format(row['oid'])\n",
    "    reference_df = Table.read(reference_catalog_path, format='ascii').to_pandas()\n",
    "    ref_image_path = extract_ref_image_path(reference_df.iloc[0]['filename'])\n",
    "    query_url = reference_image_url(row['ra'], row['dec'], ref_image_path, IMAGE_SIZE)\n",
    "    file_path = tools.download_file(query_url, '{}.fits'.format(row['oid']), output_directory)"
   ]
  },
  {
   "cell_type": "markdown",
   "metadata": {},
   "source": [
    "# Display images difference "
   ]
  },
  {
   "cell_type": "markdown",
   "metadata": {},
   "source": [
    "####  Normalize image"
   ]
  },
  {
   "cell_type": "code",
   "execution_count": 311,
   "metadata": {
    "collapsed": true
   },
   "outputs": [],
   "source": [
    "def normalize_image(img):\n",
    "    img = np.nan_to_num(img)\n",
    "    img = img/np.std(img)\n",
    "    return img"
   ]
  },
  {
   "cell_type": "code",
   "execution_count": 312,
   "metadata": {
    "collapsed": true
   },
   "outputs": [],
   "source": [
    "def resized_matrices(m1, m2):\n",
    "    m1x, m1y = m1.shape\n",
    "    m2x, m2y = m2.shape\n",
    "    \n",
    "    if m1x > m2x: m1 = m1[:m2x, :]\n",
    "    if m2x > m1x: m2 = m2[:m1x, :]\n",
    "        \n",
    "    if m1y > m2y: m1 = m1[:, :m2y]\n",
    "    if m2y > m1y: m2 = m2[:, :m1y]\n",
    "    \n",
    "    return m1,m2"
   ]
  },
  {
   "cell_type": "code",
   "execution_count": 313,
   "metadata": {},
   "outputs": [
    {
     "data": {
      "image/png": "[encoded data removed]",
      "text/plain": [
       "<matplotlib.figure.Figure at 0x1099a64e0>"
      ]
     },
     "metadata": {},
     "output_type": "display_data"
    },
    {
     "data": {
      "image/png": "[encoded data removed]",
      "text/plain": [
       "<matplotlib.figure.Figure at 0x10993ae80>"
      ]
     },
     "metadata": {},
     "output_type": "display_data"
    },
    {
     "data": {
      "image/png": "[encoded data removed]",
      "text/plain": [
       "<matplotlib.figure.Figure at 0x10b024978>"
      ]
     },
     "metadata": {},
     "output_type": "display_data"
    },
    {
     "data": {
      "image/png": "[encoded data removed]",
      "text/plain": [
       "<matplotlib.figure.Figure at 0x1080c7f60>"
      ]
     },
     "metadata": {},
     "output_type": "display_data"
    },
    {
     "data": {
      "image/png": "[encoded data removed]",
      "text/plain": [
       "<matplotlib.figure.Figure at 0x109b84a20>"
      ]
     },
     "metadata": {},
     "output_type": "display_data"
    }
   ],
   "source": [
    "for i, row in transient_df.iterrows():\n",
    "    if i == MAX_DOWNLOADS: break\n",
    "        \n",
    "    # Retrieve data\n",
    "    scientific_image_path = DIR_DATA + 'images/calibrated/{}.fits'.format(row['oid'])\n",
    "    reference_image_path = DIR_DATA + 'images/reference/{}.fits'.format(row['oid'])\n",
    "    scientific_image = normalize_image(fits.getdata(scientific_image_path))\n",
    "    reference_image = normalize_image(fits.getdata(reference_image_path))\n",
    "    scientific_image, reference_image = resized_matrices(scientific_image, reference_image)\n",
    "    diff_image = scientific_image - reference_image\n",
    "                   \n",
    "    # Present\n",
    "    fig = plt.figure(figsize=(10,10))\n",
    "    ax1 = plt.subplot('221')\n",
    "    ax1.imshow(scientific_image, origin='lower', cmap='gray')\n",
    "    ax2 = plt.subplot('222')\n",
    "    ax2.imshow(reference_image, origin='lower', cmap='gray')\n",
    "    ax3 = plt.subplot('223')\n",
    "    ax3.imshow(diff_image, origin='lower', cmap='gray')"
   ]
  },
  {
   "cell_type": "code",
   "execution_count": null,
   "metadata": {
    "collapsed": true
   },
   "outputs": [],
   "source": []
  }
 ],
 "metadata": {
  "kernelspec": {
   "display_name": "Python 3",
   "language": "python",
   "name": "python3"
  },
  "language_info": {
   "codemirror_mode": {
    "name": "ipython",
    "version": 3
   },
   "file_extension": ".py",
   "mimetype": "text/x-python",
   "name": "python",
   "nbconvert_exporter": "python",
   "pygments_lexer": "ipython3",
   "version": "3.4.0"
  }
 },
 "nbformat": 4,
 "nbformat_minor": 2
}
