{
 "cells": [
  {
   "cell_type": "code",
   "execution_count": 1,
   "metadata": {},
   "outputs": [],
   "source": [
    "%load_ext autoreload\n",
    "%autoreload 2\n",
    "import sys\n",
    "sys.path.append(\"../..\")\n",
    "from tools import download, time\n",
    "import measurements"
   ]
  },
  {
   "cell_type": "markdown",
   "metadata": {},
   "source": [
    "#### Load Catalogue and Light Curves"
   ]
  },
  {
   "cell_type": "code",
   "execution_count": 2,
   "metadata": {},
   "outputs": [
    {
     "name": "stdout",
     "output_type": "stream",
     "text": [
      "File all_transients_light_curves.pickle already exists\n"
     ]
    }
   ],
   "source": [
    "df_transients_cat = download.all_transients_catalog()\n",
    "df_transients_lc = download.all_transients_light_curves(df_transients_cat)"
   ]
  },
  {
   "cell_type": "markdown",
   "metadata": {},
   "source": [
    "##### Pick a sample light curve"
   ]
  },
  {
   "cell_type": "code",
   "execution_count": 95,
   "metadata": {},
   "outputs": [
    {
     "name": "stdout",
     "output_type": "stream",
     "text": [
      "Row count: 81\n",
      "Number of IDs: 81\n"
     ]
    },
    {
     "data": {
      "text/html": [
       "<div>\n",
       "<style>\n",
       "    .dataframe thead tr:only-child th {\n",
       "        text-align: right;\n",
       "    }\n",
       "\n",
       "    .dataframe thead th {\n",
       "        text-align: left;\n",
       "    }\n",
       "\n",
       "    .dataframe tbody tr th {\n",
       "        vertical-align: top;\n",
       "    }\n",
       "</style>\n",
       "<table border=\"1\" class=\"dataframe\">\n",
       "  <thead>\n",
       "    <tr style=\"text-align: right;\">\n",
       "      <th></th>\n",
       "      <th>ObjectID</th>\n",
       "      <th>ID</th>\n",
       "      <th>Mag</th>\n",
       "      <th>Magerr</th>\n",
       "      <th>RA</th>\n",
       "      <th>Decl</th>\n",
       "      <th>MJD</th>\n",
       "      <th>Blend</th>\n",
       "      <th>Date</th>\n",
       "    </tr>\n",
       "  </thead>\n",
       "  <tbody>\n",
       "    <tr>\n",
       "      <th>22286</th>\n",
       "      <td>355</td>\n",
       "      <td>7050910407011013423</td>\n",
       "      <td>19.003552</td>\n",
       "      <td>0.189718</td>\n",
       "      <td>194.50362</td>\n",
       "      <td>3.89269</td>\n",
       "      <td>54229.284300</td>\n",
       "      <td>0</td>\n",
       "      <td>2007-05-09 06:49:23.503981</td>\n",
       "    </tr>\n",
       "    <tr>\n",
       "      <th>22287</th>\n",
       "      <td>355</td>\n",
       "      <td>11021110407021019169</td>\n",
       "      <td>20.162230</td>\n",
       "      <td>0.287880</td>\n",
       "      <td>194.50393</td>\n",
       "      <td>3.89241</td>\n",
       "      <td>55603.426826</td>\n",
       "      <td>0</td>\n",
       "      <td>2011-02-11 10:14:37.732004</td>\n",
       "    </tr>\n",
       "    <tr>\n",
       "      <th>22288</th>\n",
       "      <td>355</td>\n",
       "      <td>9011910407011015682</td>\n",
       "      <td>19.860054</td>\n",
       "      <td>0.315626</td>\n",
       "      <td>194.50394</td>\n",
       "      <td>3.89270</td>\n",
       "      <td>54850.544534</td>\n",
       "      <td>0</td>\n",
       "      <td>2009-01-19 13:04:07.721020</td>\n",
       "    </tr>\n",
       "    <tr>\n",
       "      <th>22289</th>\n",
       "      <td>355</td>\n",
       "      <td>13012110407021018101</td>\n",
       "      <td>20.589642</td>\n",
       "      <td>0.441014</td>\n",
       "      <td>194.50397</td>\n",
       "      <td>3.89230</td>\n",
       "      <td>56313.534315</td>\n",
       "      <td>0</td>\n",
       "      <td>2013-01-21 12:49:24.781985</td>\n",
       "    </tr>\n",
       "    <tr>\n",
       "      <th>22290</th>\n",
       "      <td>355</td>\n",
       "      <td>13010810407021017572</td>\n",
       "      <td>19.321882</td>\n",
       "      <td>0.221655</td>\n",
       "      <td>194.50410</td>\n",
       "      <td>3.89281</td>\n",
       "      <td>56300.467104</td>\n",
       "      <td>0</td>\n",
       "      <td>2013-01-08 11:12:37.773012</td>\n",
       "    </tr>\n",
       "  </tbody>\n",
       "</table>\n",
       "</div>"
      ],
      "text/plain": [
       "       ObjectID                    ID        Mag    Magerr         RA  \\\n",
       "22286       355   7050910407011013423  19.003552  0.189718  194.50362   \n",
       "22287       355  11021110407021019169  20.162230  0.287880  194.50393   \n",
       "22288       355   9011910407011015682  19.860054  0.315626  194.50394   \n",
       "22289       355  13012110407021018101  20.589642  0.441014  194.50397   \n",
       "22290       355  13010810407021017572  19.321882  0.221655  194.50410   \n",
       "\n",
       "          Decl           MJD  Blend                       Date  \n",
       "22286  3.89269  54229.284300      0 2007-05-09 06:49:23.503981  \n",
       "22287  3.89241  55603.426826      0 2011-02-11 10:14:37.732004  \n",
       "22288  3.89270  54850.544534      0 2009-01-19 13:04:07.721020  \n",
       "22289  3.89230  56313.534315      0 2013-01-21 12:49:24.781985  \n",
       "22290  3.89281  56300.467104      0 2013-01-08 11:12:37.773012  "
      ]
     },
     "execution_count": 95,
     "metadata": {},
     "output_type": "execute_result"
    }
   ],
   "source": [
    "oid = 355\n",
    "fltr = (df_transients_lc.ObjectID==oid) #& (df_transients_lc.Blend==0)\n",
    "df_sample_lc = df_transients_lc[ fltr ]\n",
    "print('Row count: {}'.format(df_sample_lc.shape[0]))\n",
    "print('Number of IDs: {}'.format(df_sample_lc.ID.unique().shape[0]))\n",
    "df_sample_lc.head()"
   ]
  },
  {
   "cell_type": "markdown",
   "metadata": {},
   "source": [
    "##### Define series from light curve"
   ]
  },
  {
   "cell_type": "code",
   "execution_count": 94,
   "metadata": {
    "collapsed": true
   },
   "outputs": [],
   "source": [
    "df_sample_lc = df_transients_lc[ fltr ].sort_values('Date')\n",
    "ss_mag = df_sample_lc['Mag']\n",
    "ss_magerr = df_sample_lc['Magerr']\n",
    "ss_date = df_sample_lc['Date']\n",
    "ss_flux = measurements.__mag_to_flux__(df_sample_lc['Mag'])"
   ]
  },
  {
   "cell_type": "markdown",
   "metadata": {},
   "source": [
    "#### Test Measurements"
   ]
  },
  {
   "cell_type": "code",
   "execution_count": 56,
   "metadata": {},
   "outputs": [
    {
     "data": {
      "text/plain": [
       "8.5724601583949394"
      ]
     },
     "execution_count": 56,
     "metadata": {},
     "output_type": "execute_result"
    }
   ],
   "source": [
    "measurements.skew(ss_mag)"
   ]
  },
  {
   "cell_type": "code",
   "execution_count": 57,
   "metadata": {},
   "outputs": [
    {
     "data": {
      "text/plain": [
       "141.35784075481575"
      ]
     },
     "execution_count": 57,
     "metadata": {},
     "output_type": "execute_result"
    }
   ],
   "source": [
    "measurements.kurtosis(ss_mag)"
   ]
  },
  {
   "cell_type": "code",
   "execution_count": 58,
   "metadata": {},
   "outputs": [
    {
     "data": {
      "text/plain": [
       "0.23594544782150897"
      ]
     },
     "execution_count": 58,
     "metadata": {},
     "output_type": "execute_result"
    }
   ],
   "source": [
    "measurements.std(ss_mag)"
   ]
  },
  {
   "cell_type": "code",
   "execution_count": 59,
   "metadata": {
    "scrolled": true
   },
   "outputs": [
    {
     "data": {
      "text/plain": [
       "0.120817843866171"
      ]
     },
     "execution_count": 59,
     "metadata": {},
     "output_type": "execute_result"
    }
   ],
   "source": [
    "measurements.beyond1st(ss_mag, ss_magerr)"
   ]
  },
  {
   "cell_type": "code",
   "execution_count": 60,
   "metadata": {},
   "outputs": [
    {
     "data": {
      "text/plain": [
       "0.15643533716962379"
      ]
     },
     "execution_count": 60,
     "metadata": {},
     "output_type": "execute_result"
    }
   ],
   "source": [
    "measurements.stetson_j(ss_mag, ss_magerr, ss_date)"
   ]
  },
  {
   "cell_type": "code",
   "execution_count": 61,
   "metadata": {},
   "outputs": [
    {
     "data": {
      "text/plain": [
       "0.74267160280710176"
      ]
     },
     "execution_count": 61,
     "metadata": {},
     "output_type": "execute_result"
    }
   ],
   "source": [
    "measurements.stetson_k(ss_mag, ss_magerr)"
   ]
  },
  {
   "cell_type": "code",
   "execution_count": 62,
   "metadata": {},
   "outputs": [
    {
     "data": {
      "text/plain": [
       "95287.431556422671"
      ]
     },
     "execution_count": 62,
     "metadata": {},
     "output_type": "execute_result"
    }
   ],
   "source": [
    "measurements.max_slope(ss_mag, ss_date)"
   ]
  },
  {
   "cell_type": "code",
   "execution_count": 63,
   "metadata": {},
   "outputs": [
    {
     "data": {
      "text/plain": [
       "2.3075274999999991"
      ]
     },
     "execution_count": 63,
     "metadata": {},
     "output_type": "execute_result"
    }
   ],
   "source": [
    "measurements.amplitude(ss_mag)"
   ]
  },
  {
   "cell_type": "code",
   "execution_count": 64,
   "metadata": {},
   "outputs": [
    {
     "data": {
      "text/plain": [
       "0.12572306960931989"
      ]
     },
     "execution_count": 64,
     "metadata": {},
     "output_type": "execute_result"
    }
   ],
   "source": [
    "measurements.median_absolute_deviation(ss_mag)"
   ]
  },
  {
   "cell_type": "code",
   "execution_count": 65,
   "metadata": {},
   "outputs": [
    {
     "data": {
      "text/plain": [
       "0.4851301115241636"
      ]
     },
     "execution_count": 65,
     "metadata": {},
     "output_type": "execute_result"
    }
   ],
   "source": [
    "measurements.pair_slope_trend(ss_mag, ss_date)"
   ]
  },
  {
   "cell_type": "code",
   "execution_count": 66,
   "metadata": {},
   "outputs": [
    {
     "data": {
      "text/plain": [
       "0.1222325945645776"
      ]
     },
     "execution_count": 66,
     "metadata": {},
     "output_type": "execute_result"
    }
   ],
   "source": [
    "measurements.flux_percentile_ratio_mid20(ss_flux)"
   ]
  },
  {
   "cell_type": "code",
   "execution_count": 67,
   "metadata": {},
   "outputs": [
    {
     "data": {
      "text/plain": [
       "0.2124129058315784"
      ]
     },
     "execution_count": 67,
     "metadata": {},
     "output_type": "execute_result"
    }
   ],
   "source": [
    "measurements.flux_percentile_ratio_mid35(ss_flux)"
   ]
  },
  {
   "cell_type": "code",
   "execution_count": 68,
   "metadata": {},
   "outputs": [
    {
     "data": {
      "text/plain": [
       "0.32733733191885306"
      ]
     },
     "execution_count": 68,
     "metadata": {},
     "output_type": "execute_result"
    }
   ],
   "source": [
    "measurements.flux_percentile_ratio_mid50(ss_flux)"
   ]
  },
  {
   "cell_type": "code",
   "execution_count": 69,
   "metadata": {},
   "outputs": [
    {
     "data": {
      "text/plain": [
       "0.47373866656652197"
      ]
     },
     "execution_count": 69,
     "metadata": {},
     "output_type": "execute_result"
    }
   ],
   "source": [
    "measurements.flux_percentile_ratio_mid65(ss_flux)"
   ]
  },
  {
   "cell_type": "code",
   "execution_count": 70,
   "metadata": {},
   "outputs": [
    {
     "data": {
      "text/plain": [
       "0.6631661243154382"
      ]
     },
     "execution_count": 70,
     "metadata": {},
     "output_type": "execute_result"
    }
   ],
   "source": [
    "measurements.flux_percentile_ratio_mid80(ss_flux)"
   ]
  },
  {
   "cell_type": "code",
   "execution_count": 71,
   "metadata": {},
   "outputs": [
    {
     "data": {
      "text/plain": [
       "4.1286138399136592"
      ]
     },
     "execution_count": 71,
     "metadata": {},
     "output_type": "execute_result"
    }
   ],
   "source": [
    "measurements.percent_amplitude(ss_flux)"
   ]
  },
  {
   "cell_type": "code",
   "execution_count": 72,
   "metadata": {},
   "outputs": [
    {
     "data": {
      "text/plain": [
       "0.9498445997580576"
      ]
     },
     "execution_count": 72,
     "metadata": {},
     "output_type": "execute_result"
    }
   ],
   "source": [
    "measurements.percent_difference_flux_percentile(ss_flux)"
   ]
  },
  {
   "cell_type": "code",
   "execution_count": 73,
   "metadata": {},
   "outputs": [
    {
     "data": {
      "text/plain": [
       "7.2395973434511869e-25"
      ]
     },
     "execution_count": 73,
     "metadata": {},
     "output_type": "execute_result"
    }
   ],
   "source": [
    "measurements.linear_trend(ss_flux, ss_date)"
   ]
  },
  {
   "cell_type": "code",
   "execution_count": null,
   "metadata": {
    "collapsed": true
   },
   "outputs": [],
   "source": []
  }
 ],
 "metadata": {
  "kernelspec": {
   "display_name": "Python 3",
   "language": "python",
   "name": "python3"
  },
  "language_info": {
   "codemirror_mode": {
    "name": "ipython",
    "version": 3
   },
   "file_extension": ".py",
   "mimetype": "text/x-python",
   "name": "python",
   "nbconvert_exporter": "python",
   "pygments_lexer": "ipython3",
   "version": "3.4.0"
  }
 },
 "nbformat": 4,
 "nbformat_minor": 2
}
