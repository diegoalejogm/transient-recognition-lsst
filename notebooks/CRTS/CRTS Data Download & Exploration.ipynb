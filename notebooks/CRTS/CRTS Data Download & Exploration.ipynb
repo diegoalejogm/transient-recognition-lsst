{
 "cells": [
  {
   "cell_type": "code",
   "execution_count": 118,
   "metadata": {},
   "outputs": [
    {
     "name": "stdout",
     "output_type": "stream",
     "text": [
      "The autoreload extension is already loaded. To reload it, use:\n",
      "  %reload_ext autoreload\n"
     ]
    }
   ],
   "source": [
    "In [1]: %load_ext autoreload\n",
    "In [2]: %autoreload 2"
   ]
  },
  {
   "cell_type": "code",
   "execution_count": 119,
   "metadata": {
    "collapsed": true,
    "scrolled": true
   },
   "outputs": [],
   "source": [
    "from tools import download, time"
   ]
  },
  {
   "cell_type": "markdown",
   "metadata": {},
   "source": [
    "## 1. Load Data "
   ]
  },
  {
   "cell_type": "markdown",
   "metadata": {},
   "source": [
    "### Load Objects Catalogue"
   ]
  },
  {
   "cell_type": "code",
   "execution_count": 120,
   "metadata": {},
   "outputs": [
    {
     "name": "stdout",
     "output_type": "stream",
     "text": [
      "0:00:00.006398\n"
     ]
    }
   ],
   "source": [
    "df_objects = time.time(\n",
    "    download.all_objects_catalog,\n",
    "    overwrite=False\n",
    ")"
   ]
  },
  {
   "cell_type": "code",
   "execution_count": 121,
   "metadata": {
    "scrolled": true
   },
   "outputs": [
    {
     "data": {
      "text/html": [
       "<div>\n",
       "<style>\n",
       "    .dataframe thead tr:only-child th {\n",
       "        text-align: right;\n",
       "    }\n",
       "\n",
       "    .dataframe thead th {\n",
       "        text-align: left;\n",
       "    }\n",
       "\n",
       "    .dataframe tbody tr th {\n",
       "        vertical-align: top;\n",
       "    }\n",
       "</style>\n",
       "<table border=\"1\" class=\"dataframe\">\n",
       "  <thead>\n",
       "    <tr style=\"text-align: right;\">\n",
       "      <th></th>\n",
       "      <th>clas</th>\n",
       "      <th>date</th>\n",
       "      <th>dec</th>\n",
       "      <th>ra</th>\n",
       "      <th>Type</th>\n",
       "    </tr>\n",
       "  </thead>\n",
       "  <tbody>\n",
       "    <tr>\n",
       "      <th>0</th>\n",
       "      <td>SN SDSS mag 20,8</td>\n",
       "      <td>20161109.49</td>\n",
       "      <td>20.60814</td>\n",
       "      <td>142.63453</td>\n",
       "      <td>SUPERNOVAE</td>\n",
       "    </tr>\n",
       "    <tr>\n",
       "      <th>1</th>\n",
       "      <td>SN (ATLAS16dsr) SDSS mag</td>\n",
       "      <td>20161109.24</td>\n",
       "      <td>13.91412</td>\n",
       "      <td>57.65194</td>\n",
       "      <td>SUPERNOVAE</td>\n",
       "    </tr>\n",
       "    <tr>\n",
       "      <th>2</th>\n",
       "      <td>SN (ATLAS16dtz) mag 14,5</td>\n",
       "      <td>20161108.48</td>\n",
       "      <td>55.58309</td>\n",
       "      <td>141.31900</td>\n",
       "      <td>SUPERNOVAE</td>\n",
       "    </tr>\n",
       "    <tr>\n",
       "      <th>3</th>\n",
       "      <td>SN SDSS mag &gt;22</td>\n",
       "      <td>20161107.28</td>\n",
       "      <td>23.18541</td>\n",
       "      <td>21.02794</td>\n",
       "      <td>SUPERNOVAE</td>\n",
       "    </tr>\n",
       "    <tr>\n",
       "      <th>4</th>\n",
       "      <td>SN (MLS161020) SDSS mag 21,4</td>\n",
       "      <td>20161106.22</td>\n",
       "      <td>20.34622</td>\n",
       "      <td>10.39148</td>\n",
       "      <td>SUPERNOVAE</td>\n",
       "    </tr>\n",
       "  </tbody>\n",
       "</table>\n",
       "</div>"
      ],
      "text/plain": [
       "                           clas         date       dec         ra        Type\n",
       "0              SN SDSS mag 20,8  20161109.49  20.60814  142.63453  SUPERNOVAE\n",
       "1      SN (ATLAS16dsr) SDSS mag  20161109.24  13.91412   57.65194  SUPERNOVAE\n",
       "2      SN (ATLAS16dtz) mag 14,5  20161108.48  55.58309  141.31900  SUPERNOVAE\n",
       "3               SN SDSS mag >22  20161107.28  23.18541   21.02794  SUPERNOVAE\n",
       "4  SN (MLS161020) SDSS mag 21,4  20161106.22  20.34622   10.39148  SUPERNOVAE"
      ]
     },
     "execution_count": 121,
     "metadata": {},
     "output_type": "execute_result"
    }
   ],
   "source": [
    "df_objects.head()"
   ]
  },
  {
   "cell_type": "code",
   "execution_count": 122,
   "metadata": {},
   "outputs": [
    {
     "data": {
      "text/plain": [
       "clas    7943\n",
       "date    7943\n",
       "dec     7943\n",
       "ra      7943\n",
       "Type    7943\n",
       "dtype: int64"
      ]
     },
     "execution_count": 122,
     "metadata": {},
     "output_type": "execute_result"
    }
   ],
   "source": [
    "df_objects.count()"
   ]
  },
  {
   "cell_type": "markdown",
   "metadata": {},
   "source": [
    "### Load Light Curves"
   ]
  },
  {
   "cell_type": "code",
   "execution_count": 138,
   "metadata": {
    "scrolled": true
   },
   "outputs": [
    {
     "name": "stdout",
     "output_type": "stream",
     "text": [
      "90\n",
      "Num. of light curve points : 7337\n",
      "178\n",
      "Num. of light curve points : 12770\n",
      "265\n",
      "Num. of light curve points : 17582\n",
      "355\n",
      "Num. of light curve points : 25050\n",
      "438\n",
      "Num. of light curve points : 31968\n",
      "526\n",
      "Num. of light curve points : 36073\n",
      "625\n",
      "Num. of light curve points : 43399\n",
      "725\n",
      "Num. of light curve points : 49639\n",
      "825\n",
      "Num. of light curve points : 59833\n",
      "925\n",
      "Num. of light curve points : 67777\n",
      "1025\n",
      "Num. of light curve points : 74775\n",
      "1119\n",
      "Num. of light curve points : 81272\n",
      "1219\n",
      "Num. of light curve points : 88614\n",
      "1319\n",
      "Num. of light curve points : 97249\n",
      "1419\n",
      "Num. of light curve points : 102528\n",
      "1519\n",
      "Num. of light curve points : 107113\n",
      "1619\n",
      "Num. of light curve points : 111710\n",
      "1718\n",
      "Num. of light curve points : 119021\n",
      "1816\n",
      "Num. of light curve points : 126990\n",
      "1913\n",
      "Num. of light curve points : 133611\n",
      "2012\n",
      "Num. of light curve points : 141903\n",
      "2112\n",
      "Num. of light curve points : 149926\n",
      "2212\n",
      "Num. of light curve points : 156989\n",
      "2312\n",
      "Num. of light curve points : 164841\n",
      "2412\n",
      "Num. of light curve points : 171786\n",
      "2512\n",
      "Num. of light curve points : 178642\n",
      "2611\n",
      "Num. of light curve points : 182195\n",
      "2703\n",
      "Num. of light curve points : 191735\n",
      "2799\n",
      "Num. of light curve points : 203102\n",
      "2897\n",
      "Num. of light curve points : 215144\n",
      "2997\n",
      "Num. of light curve points : 231366\n",
      "3097\n",
      "Num. of light curve points : 244925\n",
      "3197\n",
      "Num. of light curve points : 262067\n",
      "3297\n",
      "Num. of light curve points : 281929\n",
      "3396\n",
      "Num. of light curve points : 298599\n",
      "3496\n",
      "Num. of light curve points : 317127\n",
      "3596\n",
      "Num. of light curve points : 331923\n",
      "3696\n",
      "Num. of light curve points : 353635\n",
      "3795\n",
      "Num. of light curve points : 366052\n",
      "3894\n",
      "Num. of light curve points : 376517\n",
      "3994\n",
      "Num. of light curve points : 387946\n",
      "4093\n",
      "Num. of light curve points : 411687\n",
      "4193\n",
      "Num. of light curve points : 435658\n",
      "4293\n",
      "Num. of light curve points : 461236\n",
      "4393\n",
      "Num. of light curve points : 481587\n",
      "4493\n",
      "Num. of light curve points : 500276\n",
      "4593\n",
      "Num. of light curve points : 516577\n",
      "4693\n",
      "Num. of light curve points : 536049\n",
      "4793\n",
      "Num. of light curve points : 554559\n",
      "4893\n",
      "Num. of light curve points : 572615\n",
      "4993\n",
      "Num. of light curve points : 589627\n",
      "5093\n",
      "Num. of light curve points : 604107\n",
      "5193\n",
      "Num. of light curve points : 624177\n",
      "5292\n",
      "Num. of light curve points : 643834\n",
      "5392\n",
      "Num. of light curve points : 660134\n",
      "5492\n",
      "Num. of light curve points : 676764\n",
      "5592\n",
      "Num. of light curve points : 688637\n",
      "5692\n",
      "Num. of light curve points : 705990\n",
      "5792\n",
      "Num. of light curve points : 718797\n",
      "5892\n",
      "Num. of light curve points : 734954\n",
      "5992\n",
      "Num. of light curve points : 752361\n",
      "6092\n",
      "Num. of light curve points : 766110\n",
      "6192\n",
      "Num. of light curve points : 779805\n",
      "6292\n",
      "Num. of light curve points : 797150\n",
      "6392\n",
      "Num. of light curve points : 815146\n",
      "6492\n",
      "Num. of light curve points : 827385\n",
      "6592\n",
      "Num. of light curve points : 840626\n",
      "6692\n",
      "Num. of light curve points : 855875\n",
      "6792\n",
      "Num. of light curve points : 871321\n",
      "6892\n",
      "Num. of light curve points : 888731\n",
      "6992\n",
      "Num. of light curve points : 903441\n",
      "7092\n",
      "Num. of light curve points : 917878\n",
      "7192\n",
      "Num. of light curve points : 930703\n",
      "7292\n",
      "Num. of light curve points : 943763\n",
      "7392\n",
      "Num. of light curve points : 962787\n",
      "7492\n",
      "Num. of light curve points : 978712\n",
      "7592\n",
      "Num. of light curve points : 990819\n",
      "7692\n",
      "Num. of light curve points : 1003289\n",
      "7792\n",
      "Num. of light curve points : 1012587\n",
      "7835\n",
      "Num. of light curve points : 1017673\n",
      "0:00:36.874989\n"
     ]
    }
   ],
   "source": [
    "done = False\n",
    "while not done:\n",
    "    try:\n",
    "        df_light_curves = time.time(\n",
    "            download.all_objects_light_curves,\n",
    "            df_objects,\n",
    "            overwrite=True\n",
    "        )\n",
    "        done = True\n",
    "    except Exception as e:\n",
    "        print('Exception: {}'.format(e))"
   ]
  },
  {
   "cell_type": "code",
   "execution_count": 139,
   "metadata": {},
   "outputs": [
    {
     "data": {
      "text/html": [
       "<div>\n",
       "<style>\n",
       "    .dataframe thead tr:only-child th {\n",
       "        text-align: right;\n",
       "    }\n",
       "\n",
       "    .dataframe thead th {\n",
       "        text-align: left;\n",
       "    }\n",
       "\n",
       "    .dataframe tbody tr th {\n",
       "        vertical-align: top;\n",
       "    }\n",
       "</style>\n",
       "<table border=\"1\" class=\"dataframe\">\n",
       "  <thead>\n",
       "    <tr style=\"text-align: right;\">\n",
       "      <th></th>\n",
       "      <th>ObjectID</th>\n",
       "      <th>ID</th>\n",
       "      <th>Mag</th>\n",
       "      <th>Magerr</th>\n",
       "      <th>RA</th>\n",
       "      <th>Decl</th>\n",
       "      <th>MJD</th>\n",
       "      <th>Blend</th>\n",
       "    </tr>\n",
       "  </thead>\n",
       "  <tbody>\n",
       "    <tr>\n",
       "      <th>0</th>\n",
       "      <td>0</td>\n",
       "      <td>1121048016831</td>\n",
       "      <td>21.15</td>\n",
       "      <td>0.52</td>\n",
       "      <td>142.63264</td>\n",
       "      <td>20.60759</td>\n",
       "      <td>53739.39280</td>\n",
       "      <td>0</td>\n",
       "    </tr>\n",
       "    <tr>\n",
       "      <th>1</th>\n",
       "      <td>0</td>\n",
       "      <td>1121048016831</td>\n",
       "      <td>20.31</td>\n",
       "      <td>0.33</td>\n",
       "      <td>142.63520</td>\n",
       "      <td>20.60753</td>\n",
       "      <td>53761.33345</td>\n",
       "      <td>0</td>\n",
       "    </tr>\n",
       "    <tr>\n",
       "      <th>2</th>\n",
       "      <td>0</td>\n",
       "      <td>1121048016831</td>\n",
       "      <td>20.73</td>\n",
       "      <td>0.45</td>\n",
       "      <td>142.63637</td>\n",
       "      <td>20.60929</td>\n",
       "      <td>53875.18592</td>\n",
       "      <td>0</td>\n",
       "    </tr>\n",
       "    <tr>\n",
       "      <th>3</th>\n",
       "      <td>0</td>\n",
       "      <td>1121048016831</td>\n",
       "      <td>20.37</td>\n",
       "      <td>0.32</td>\n",
       "      <td>142.63480</td>\n",
       "      <td>20.60820</td>\n",
       "      <td>54054.46708</td>\n",
       "      <td>0</td>\n",
       "    </tr>\n",
       "    <tr>\n",
       "      <th>4</th>\n",
       "      <td>0</td>\n",
       "      <td>1121048016831</td>\n",
       "      <td>20.44</td>\n",
       "      <td>0.36</td>\n",
       "      <td>142.63371</td>\n",
       "      <td>20.60857</td>\n",
       "      <td>54197.14661</td>\n",
       "      <td>0</td>\n",
       "    </tr>\n",
       "  </tbody>\n",
       "</table>\n",
       "</div>"
      ],
      "text/plain": [
       "   ObjectID             ID    Mag  Magerr         RA      Decl          MJD  \\\n",
       "0         0  1121048016831  21.15    0.52  142.63264  20.60759  53739.39280   \n",
       "1         0  1121048016831  20.31    0.33  142.63520  20.60753  53761.33345   \n",
       "2         0  1121048016831  20.73    0.45  142.63637  20.60929  53875.18592   \n",
       "3         0  1121048016831  20.37    0.32  142.63480  20.60820  54054.46708   \n",
       "4         0  1121048016831  20.44    0.36  142.63371  20.60857  54197.14661   \n",
       "\n",
       "   Blend  \n",
       "0      0  \n",
       "1      0  \n",
       "2      0  \n",
       "3      0  \n",
       "4      0  "
      ]
     },
     "execution_count": 139,
     "metadata": {},
     "output_type": "execute_result"
    }
   ],
   "source": [
    "df_light_curves.head()"
   ]
  },
  {
   "cell_type": "code",
   "execution_count": 187,
   "metadata": {},
   "outputs": [
    {
     "data": {
      "text/plain": [
       "1017673"
      ]
     },
     "execution_count": 187,
     "metadata": {},
     "output_type": "execute_result"
    }
   ],
   "source": [
    "df_light_curves.ID.count()"
   ]
  },
  {
   "cell_type": "code",
   "execution_count": 188,
   "metadata": {},
   "outputs": [
    {
     "data": {
      "text/plain": [
       "count    7835.000000\n",
       "mean      129.888066\n",
       "std       131.746206\n",
       "min         1.000000\n",
       "25%        28.000000\n",
       "50%        83.000000\n",
       "75%       195.000000\n",
       "max       922.000000\n",
       "Name: ID, dtype: float64"
      ]
     },
     "execution_count": 188,
     "metadata": {},
     "output_type": "execute_result"
    }
   ],
   "source": [
    "df_light_curves.groupby(['ObjectID']).ID.count().describe()"
   ]
  },
  {
   "cell_type": "code",
   "execution_count": 140,
   "metadata": {},
   "outputs": [
    {
     "data": {
      "text/plain": [
       "7835"
      ]
     },
     "execution_count": 140,
     "metadata": {},
     "output_type": "execute_result"
    }
   ],
   "source": [
    "len(df_light_curves.ObjectID.unique())"
   ]
  },
  {
   "cell_type": "markdown",
   "metadata": {},
   "source": [
    "## 2. Object Catalog Statistics by Type"
   ]
  },
  {
   "cell_type": "markdown",
   "metadata": {},
   "source": [
    "### Supernovae"
   ]
  },
  {
   "cell_type": "code",
   "execution_count": 86,
   "metadata": {},
   "outputs": [
    {
     "data": {
      "text/html": [
       "<div>\n",
       "<style>\n",
       "    .dataframe thead tr:only-child th {\n",
       "        text-align: right;\n",
       "    }\n",
       "\n",
       "    .dataframe thead th {\n",
       "        text-align: left;\n",
       "    }\n",
       "\n",
       "    .dataframe tbody tr th {\n",
       "        vertical-align: top;\n",
       "    }\n",
       "</style>\n",
       "<table border=\"1\" class=\"dataframe\">\n",
       "  <thead>\n",
       "    <tr style=\"text-align: right;\">\n",
       "      <th></th>\n",
       "      <th>clas</th>\n",
       "      <th>date</th>\n",
       "      <th>dec</th>\n",
       "      <th>ra</th>\n",
       "      <th>Type</th>\n",
       "    </tr>\n",
       "  </thead>\n",
       "  <tbody>\n",
       "    <tr>\n",
       "      <th>0</th>\n",
       "      <td>SN SDSS mag 20,8</td>\n",
       "      <td>20161109.49</td>\n",
       "      <td>20.60814</td>\n",
       "      <td>142.63453</td>\n",
       "      <td>SUPERNOVAE</td>\n",
       "    </tr>\n",
       "    <tr>\n",
       "      <th>1</th>\n",
       "      <td>SN (ATLAS16dsr) SDSS mag</td>\n",
       "      <td>20161109.24</td>\n",
       "      <td>13.91412</td>\n",
       "      <td>57.65194</td>\n",
       "      <td>SUPERNOVAE</td>\n",
       "    </tr>\n",
       "    <tr>\n",
       "      <th>2</th>\n",
       "      <td>SN (ATLAS16dtz) mag 14,5</td>\n",
       "      <td>20161108.48</td>\n",
       "      <td>55.58309</td>\n",
       "      <td>141.31900</td>\n",
       "      <td>SUPERNOVAE</td>\n",
       "    </tr>\n",
       "    <tr>\n",
       "      <th>3</th>\n",
       "      <td>SN SDSS mag &gt;22</td>\n",
       "      <td>20161107.28</td>\n",
       "      <td>23.18541</td>\n",
       "      <td>21.02794</td>\n",
       "      <td>SUPERNOVAE</td>\n",
       "    </tr>\n",
       "    <tr>\n",
       "      <th>4</th>\n",
       "      <td>SN (MLS161020) SDSS mag 21,4</td>\n",
       "      <td>20161106.22</td>\n",
       "      <td>20.34622</td>\n",
       "      <td>10.39148</td>\n",
       "      <td>SUPERNOVAE</td>\n",
       "    </tr>\n",
       "  </tbody>\n",
       "</table>\n",
       "</div>"
      ],
      "text/plain": [
       "                           clas         date       dec         ra        Type\n",
       "0              SN SDSS mag 20,8  20161109.49  20.60814  142.63453  SUPERNOVAE\n",
       "1      SN (ATLAS16dsr) SDSS mag  20161109.24  13.91412   57.65194  SUPERNOVAE\n",
       "2      SN (ATLAS16dtz) mag 14,5  20161108.48  55.58309  141.31900  SUPERNOVAE\n",
       "3               SN SDSS mag >22  20161107.28  23.18541   21.02794  SUPERNOVAE\n",
       "4  SN (MLS161020) SDSS mag 21,4  20161106.22  20.34622   10.39148  SUPERNOVAE"
      ]
     },
     "execution_count": 86,
     "metadata": {},
     "output_type": "execute_result"
    }
   ],
   "source": [
    "df_objects_supernovae = df_objects[df_objects.Type =='SUPERNOVAE']\n",
    "df_objects_supernovae.head()"
   ]
  },
  {
   "cell_type": "code",
   "execution_count": 87,
   "metadata": {},
   "outputs": [
    {
     "data": {
      "text/plain": [
       "clas    2714\n",
       "date    2714\n",
       "dec     2714\n",
       "ra      2714\n",
       "Type    2714\n",
       "dtype: int64"
      ]
     },
     "execution_count": 87,
     "metadata": {},
     "output_type": "execute_result"
    }
   ],
   "source": [
    "df_objects_supernovae.count()"
   ]
  },
  {
   "cell_type": "markdown",
   "metadata": {},
   "source": [
    "### Cataclysmic Variable Stars"
   ]
  },
  {
   "cell_type": "code",
   "execution_count": 88,
   "metadata": {},
   "outputs": [
    {
     "data": {
      "text/html": [
       "<div>\n",
       "<style>\n",
       "    .dataframe thead tr:only-child th {\n",
       "        text-align: right;\n",
       "    }\n",
       "\n",
       "    .dataframe thead th {\n",
       "        text-align: left;\n",
       "    }\n",
       "\n",
       "    .dataframe tbody tr th {\n",
       "        vertical-align: top;\n",
       "    }\n",
       "</style>\n",
       "<table border=\"1\" class=\"dataframe\">\n",
       "  <thead>\n",
       "    <tr style=\"text-align: right;\">\n",
       "      <th></th>\n",
       "      <th>clas</th>\n",
       "      <th>date</th>\n",
       "      <th>dec</th>\n",
       "      <th>ra</th>\n",
       "      <th>Type</th>\n",
       "    </tr>\n",
       "  </thead>\n",
       "  <tbody>\n",
       "    <tr>\n",
       "      <th>2714</th>\n",
       "      <td>CV SDSS mag &gt;22,5</td>\n",
       "      <td>20161109</td>\n",
       "      <td>61.47645</td>\n",
       "      <td>157.35429</td>\n",
       "      <td>CV</td>\n",
       "    </tr>\n",
       "    <tr>\n",
       "      <th>2715</th>\n",
       "      <td>CV SDSS mag 21,8</td>\n",
       "      <td>20161109</td>\n",
       "      <td>0.22334</td>\n",
       "      <td>127.37297</td>\n",
       "      <td>CV</td>\n",
       "    </tr>\n",
       "    <tr>\n",
       "      <th>2716</th>\n",
       "      <td>CV mag 21</td>\n",
       "      <td>20161023</td>\n",
       "      <td>57.38627</td>\n",
       "      <td>99.82350</td>\n",
       "      <td>CV</td>\n",
       "    </tr>\n",
       "    <tr>\n",
       "      <th>2717</th>\n",
       "      <td>CV (PS1_15aaf) mag 21</td>\n",
       "      <td>20161013</td>\n",
       "      <td>57.27874</td>\n",
       "      <td>93.68036</td>\n",
       "      <td>CV</td>\n",
       "    </tr>\n",
       "    <tr>\n",
       "      <th>2718</th>\n",
       "      <td>CV SDSS mag 21,2</td>\n",
       "      <td>20161012</td>\n",
       "      <td>61.40397</td>\n",
       "      <td>139.18290</td>\n",
       "      <td>CV</td>\n",
       "    </tr>\n",
       "  </tbody>\n",
       "</table>\n",
       "</div>"
      ],
      "text/plain": [
       "                       clas      date       dec         ra Type\n",
       "2714      CV SDSS mag >22,5  20161109  61.47645  157.35429   CV\n",
       "2715       CV SDSS mag 21,8  20161109   0.22334  127.37297   CV\n",
       "2716              CV mag 21  20161023  57.38627   99.82350   CV\n",
       "2717  CV (PS1_15aaf) mag 21  20161013  57.27874   93.68036   CV\n",
       "2718       CV SDSS mag 21,2  20161012  61.40397  139.18290   CV"
      ]
     },
     "execution_count": 88,
     "metadata": {},
     "output_type": "execute_result"
    }
   ],
   "source": [
    "df_objects_cv = df_objects[df_objects.Type =='CV']\n",
    "df_objects_cv.head()"
   ]
  },
  {
   "cell_type": "code",
   "execution_count": 147,
   "metadata": {},
   "outputs": [
    {
     "data": {
      "text/plain": [
       "clas    1362\n",
       "date    1362\n",
       "dec     1362\n",
       "ra      1362\n",
       "Type    1362\n",
       "dtype: int64"
      ]
     },
     "execution_count": 147,
     "metadata": {},
     "output_type": "execute_result"
    }
   ],
   "source": [
    "df_objects_cv.count()"
   ]
  },
  {
   "cell_type": "markdown",
   "metadata": {},
   "source": [
    "### Blazars"
   ]
  },
  {
   "cell_type": "code",
   "execution_count": 148,
   "metadata": {},
   "outputs": [
    {
     "data": {
      "text/html": [
       "<div>\n",
       "<style>\n",
       "    .dataframe thead tr:only-child th {\n",
       "        text-align: right;\n",
       "    }\n",
       "\n",
       "    .dataframe thead th {\n",
       "        text-align: left;\n",
       "    }\n",
       "\n",
       "    .dataframe tbody tr th {\n",
       "        vertical-align: top;\n",
       "    }\n",
       "</style>\n",
       "<table border=\"1\" class=\"dataframe\">\n",
       "  <thead>\n",
       "    <tr style=\"text-align: right;\">\n",
       "      <th></th>\n",
       "      <th>clas</th>\n",
       "      <th>date</th>\n",
       "      <th>dec</th>\n",
       "      <th>ra</th>\n",
       "      <th>Type</th>\n",
       "    </tr>\n",
       "  </thead>\n",
       "  <tbody>\n",
       "    <tr>\n",
       "      <th>4076</th>\n",
       "      <td>Blazar PKS_2247-131</td>\n",
       "      <td>20161009</td>\n",
       "      <td>-12.85467</td>\n",
       "      <td>342.49855</td>\n",
       "      <td>BLAZARS</td>\n",
       "    </tr>\n",
       "    <tr>\n",
       "      <th>4077</th>\n",
       "      <td>Blazar (0748+333) SDSS mag 19,6</td>\n",
       "      <td>20161007</td>\n",
       "      <td>33.22214</td>\n",
       "      <td>117.97364</td>\n",
       "      <td>BLAZARS</td>\n",
       "    </tr>\n",
       "    <tr>\n",
       "      <th>4078</th>\n",
       "      <td>Blazar CRATES_J0001+2113</td>\n",
       "      <td>20160709</td>\n",
       "      <td>21.22680</td>\n",
       "      <td>0.38474</td>\n",
       "      <td>BLAZARS</td>\n",
       "    </tr>\n",
       "    <tr>\n",
       "      <th>4079</th>\n",
       "      <td>Blazar SDSS mag 21,3</td>\n",
       "      <td>20160708</td>\n",
       "      <td>52.82354</td>\n",
       "      <td>212.85706</td>\n",
       "      <td>BLAZARS</td>\n",
       "    </tr>\n",
       "    <tr>\n",
       "      <th>4080</th>\n",
       "      <td>Blazar SDSS mag 19,6</td>\n",
       "      <td>20160616</td>\n",
       "      <td>9.97402</td>\n",
       "      <td>177.82208</td>\n",
       "      <td>BLAZARS</td>\n",
       "    </tr>\n",
       "  </tbody>\n",
       "</table>\n",
       "</div>"
      ],
      "text/plain": [
       "                                 clas      date        dec         ra     Type\n",
       "4076              Blazar PKS_2247-131  20161009  -12.85467  342.49855  BLAZARS\n",
       "4077  Blazar (0748+333) SDSS mag 19,6  20161007   33.22214  117.97364  BLAZARS\n",
       "4078         Blazar CRATES_J0001+2113  20160709   21.22680    0.38474  BLAZARS\n",
       "4079             Blazar SDSS mag 21,3  20160708   52.82354  212.85706  BLAZARS\n",
       "4080             Blazar SDSS mag 19,6  20160616    9.97402  177.82208  BLAZARS"
      ]
     },
     "execution_count": 148,
     "metadata": {},
     "output_type": "execute_result"
    }
   ],
   "source": [
    "df_objects_blazars = df_objects[df_objects.Type =='BLAZARS']\n",
    "df_objects_blazars.head()"
   ]
  },
  {
   "cell_type": "code",
   "execution_count": 149,
   "metadata": {},
   "outputs": [
    {
     "data": {
      "text/plain": [
       "clas    396\n",
       "date    396\n",
       "dec     396\n",
       "ra      396\n",
       "Type    396\n",
       "dtype: int64"
      ]
     },
     "execution_count": 149,
     "metadata": {},
     "output_type": "execute_result"
    }
   ],
   "source": [
    "df_objects_blazars.count()"
   ]
  },
  {
   "cell_type": "markdown",
   "metadata": {},
   "source": [
    "### AGNs"
   ]
  },
  {
   "cell_type": "code",
   "execution_count": 150,
   "metadata": {},
   "outputs": [
    {
     "data": {
      "text/html": [
       "<div>\n",
       "<style>\n",
       "    .dataframe thead tr:only-child th {\n",
       "        text-align: right;\n",
       "    }\n",
       "\n",
       "    .dataframe thead th {\n",
       "        text-align: left;\n",
       "    }\n",
       "\n",
       "    .dataframe tbody tr th {\n",
       "        vertical-align: top;\n",
       "    }\n",
       "</style>\n",
       "<table border=\"1\" class=\"dataframe\">\n",
       "  <thead>\n",
       "    <tr style=\"text-align: right;\">\n",
       "      <th></th>\n",
       "      <th>clas</th>\n",
       "      <th>date</th>\n",
       "      <th>dec</th>\n",
       "      <th>ra</th>\n",
       "      <th>Type</th>\n",
       "    </tr>\n",
       "  </thead>\n",
       "  <tbody>\n",
       "    <tr>\n",
       "      <th>4472</th>\n",
       "      <td>AGN SDSS mag 21,3</td>\n",
       "      <td>20161107</td>\n",
       "      <td>19.57569</td>\n",
       "      <td>24.14416</td>\n",
       "      <td>AGN</td>\n",
       "    </tr>\n",
       "    <tr>\n",
       "      <th>4473</th>\n",
       "      <td>AGN SDSS mag 22,0</td>\n",
       "      <td>20161107</td>\n",
       "      <td>0.63542</td>\n",
       "      <td>22.13552</td>\n",
       "      <td>AGN</td>\n",
       "    </tr>\n",
       "    <tr>\n",
       "      <th>4474</th>\n",
       "      <td>AGN SDSS mag 20,4</td>\n",
       "      <td>20160904</td>\n",
       "      <td>-9.70794</td>\n",
       "      <td>30.53147</td>\n",
       "      <td>AGN</td>\n",
       "    </tr>\n",
       "    <tr>\n",
       "      <th>4475</th>\n",
       "      <td>AGN SDSS mag 21,1</td>\n",
       "      <td>20160903</td>\n",
       "      <td>-5.47395</td>\n",
       "      <td>347.98532</td>\n",
       "      <td>AGN</td>\n",
       "    </tr>\n",
       "    <tr>\n",
       "      <th>4476</th>\n",
       "      <td>AGN SDSS mag 20,1</td>\n",
       "      <td>20160710</td>\n",
       "      <td>35.99400</td>\n",
       "      <td>254.28421</td>\n",
       "      <td>AGN</td>\n",
       "    </tr>\n",
       "  </tbody>\n",
       "</table>\n",
       "</div>"
      ],
      "text/plain": [
       "                   clas      date       dec         ra Type\n",
       "4472  AGN SDSS mag 21,3  20161107  19.57569   24.14416  AGN\n",
       "4473  AGN SDSS mag 22,0  20161107   0.63542   22.13552  AGN\n",
       "4474  AGN SDSS mag 20,4  20160904  -9.70794   30.53147  AGN\n",
       "4475  AGN SDSS mag 21,1  20160903  -5.47395  347.98532  AGN\n",
       "4476  AGN SDSS mag 20,1  20160710  35.99400  254.28421  AGN"
      ]
     },
     "execution_count": 150,
     "metadata": {},
     "output_type": "execute_result"
    }
   ],
   "source": [
    "df_objects_agn = df_objects[df_objects.Type =='AGN']\n",
    "df_objects_agn.head()"
   ]
  },
  {
   "cell_type": "code",
   "execution_count": 151,
   "metadata": {},
   "outputs": [
    {
     "data": {
      "text/plain": [
       "clas    3471\n",
       "date    3471\n",
       "dec     3471\n",
       "ra      3471\n",
       "Type    3471\n",
       "dtype: int64"
      ]
     },
     "execution_count": 151,
     "metadata": {},
     "output_type": "execute_result"
    }
   ],
   "source": [
    "df_objects_agn.count()"
   ]
  },
  {
   "cell_type": "markdown",
   "metadata": {},
   "source": [
    "## 3. Light Curves Catalog Statistics by Type"
   ]
  },
  {
   "cell_type": "markdown",
   "metadata": {},
   "source": [
    "### Supernovae"
   ]
  },
  {
   "cell_type": "code",
   "execution_count": 152,
   "metadata": {
    "scrolled": true
   },
   "outputs": [
    {
     "data": {
      "text/html": [
       "<div>\n",
       "<style>\n",
       "    .dataframe thead tr:only-child th {\n",
       "        text-align: right;\n",
       "    }\n",
       "\n",
       "    .dataframe thead th {\n",
       "        text-align: left;\n",
       "    }\n",
       "\n",
       "    .dataframe tbody tr th {\n",
       "        vertical-align: top;\n",
       "    }\n",
       "</style>\n",
       "<table border=\"1\" class=\"dataframe\">\n",
       "  <thead>\n",
       "    <tr style=\"text-align: right;\">\n",
       "      <th></th>\n",
       "      <th>ObjectID</th>\n",
       "      <th>ID</th>\n",
       "      <th>Mag</th>\n",
       "      <th>Magerr</th>\n",
       "      <th>RA</th>\n",
       "      <th>Decl</th>\n",
       "      <th>MJD</th>\n",
       "      <th>Blend</th>\n",
       "    </tr>\n",
       "  </thead>\n",
       "  <tbody>\n",
       "    <tr>\n",
       "      <th>0</th>\n",
       "      <td>0</td>\n",
       "      <td>1121048016831</td>\n",
       "      <td>21.15</td>\n",
       "      <td>0.52</td>\n",
       "      <td>142.63264</td>\n",
       "      <td>20.60759</td>\n",
       "      <td>53739.39280</td>\n",
       "      <td>0</td>\n",
       "    </tr>\n",
       "    <tr>\n",
       "      <th>1</th>\n",
       "      <td>0</td>\n",
       "      <td>1121048016831</td>\n",
       "      <td>20.31</td>\n",
       "      <td>0.33</td>\n",
       "      <td>142.63520</td>\n",
       "      <td>20.60753</td>\n",
       "      <td>53761.33345</td>\n",
       "      <td>0</td>\n",
       "    </tr>\n",
       "    <tr>\n",
       "      <th>2</th>\n",
       "      <td>0</td>\n",
       "      <td>1121048016831</td>\n",
       "      <td>20.73</td>\n",
       "      <td>0.45</td>\n",
       "      <td>142.63637</td>\n",
       "      <td>20.60929</td>\n",
       "      <td>53875.18592</td>\n",
       "      <td>0</td>\n",
       "    </tr>\n",
       "    <tr>\n",
       "      <th>3</th>\n",
       "      <td>0</td>\n",
       "      <td>1121048016831</td>\n",
       "      <td>20.37</td>\n",
       "      <td>0.32</td>\n",
       "      <td>142.63480</td>\n",
       "      <td>20.60820</td>\n",
       "      <td>54054.46708</td>\n",
       "      <td>0</td>\n",
       "    </tr>\n",
       "    <tr>\n",
       "      <th>4</th>\n",
       "      <td>0</td>\n",
       "      <td>1121048016831</td>\n",
       "      <td>20.44</td>\n",
       "      <td>0.36</td>\n",
       "      <td>142.63371</td>\n",
       "      <td>20.60857</td>\n",
       "      <td>54197.14661</td>\n",
       "      <td>0</td>\n",
       "    </tr>\n",
       "  </tbody>\n",
       "</table>\n",
       "</div>"
      ],
      "text/plain": [
       "   ObjectID             ID    Mag  Magerr         RA      Decl          MJD  \\\n",
       "0         0  1121048016831  21.15    0.52  142.63264  20.60759  53739.39280   \n",
       "1         0  1121048016831  20.31    0.33  142.63520  20.60753  53761.33345   \n",
       "2         0  1121048016831  20.73    0.45  142.63637  20.60929  53875.18592   \n",
       "3         0  1121048016831  20.37    0.32  142.63480  20.60820  54054.46708   \n",
       "4         0  1121048016831  20.44    0.36  142.63371  20.60857  54197.14661   \n",
       "\n",
       "   Blend  \n",
       "0      0  \n",
       "1      0  \n",
       "2      0  \n",
       "3      0  \n",
       "4      0  "
      ]
     },
     "execution_count": 152,
     "metadata": {},
     "output_type": "execute_result"
    }
   ],
   "source": [
    "df_light_curves_supernovae = df_light_curves[df_light_curves.ObjectID.isin(df_objects_supernovae.index)]\n",
    "df_light_curves_supernovae.head()"
   ]
  },
  {
   "cell_type": "code",
   "execution_count": 153,
   "metadata": {
    "scrolled": true
   },
   "outputs": [
    {
     "data": {
      "text/plain": [
       "ObjectID    183080\n",
       "ID          183080\n",
       "Mag         183080\n",
       "Magerr      183080\n",
       "RA          183080\n",
       "Decl        183080\n",
       "MJD         183080\n",
       "Blend       183080\n",
       "dtype: int64"
      ]
     },
     "execution_count": 153,
     "metadata": {},
     "output_type": "execute_result"
    }
   ],
   "source": [
    "df_light_curves_supernovae.count()"
   ]
  },
  {
   "cell_type": "code",
   "execution_count": 154,
   "metadata": {
    "collapsed": true
   },
   "outputs": [],
   "source": [
    "series_light_curves_supernovae_grouped = df_light_curves_supernovae.groupby(['ObjectID']).Mag.count()"
   ]
  },
  {
   "cell_type": "code",
   "execution_count": 155,
   "metadata": {
    "scrolled": true
   },
   "outputs": [
    {
     "data": {
      "text/plain": [
       "count    2625.000000\n",
       "mean       69.744762\n",
       "std        99.119064\n",
       "min         1.000000\n",
       "25%        11.000000\n",
       "50%        26.000000\n",
       "75%        80.000000\n",
       "max       671.000000\n",
       "Name: Mag, dtype: float64"
      ]
     },
     "execution_count": 155,
     "metadata": {},
     "output_type": "execute_result"
    }
   ],
   "source": [
    "series_light_curves_supernovae_grouped.describe()"
   ]
  },
  {
   "cell_type": "code",
   "execution_count": 156,
   "metadata": {},
   "outputs": [
    {
     "data": {
      "text/plain": [
       "1995"
      ]
     },
     "execution_count": 156,
     "metadata": {},
     "output_type": "execute_result"
    }
   ],
   "source": [
    "len(series_light_curves_supernovae_grouped[series_light_curves_supernovae_grouped > 10].index)"
   ]
  },
  {
   "cell_type": "markdown",
   "metadata": {},
   "source": [
    "### Cataclysmic Variable Stars"
   ]
  },
  {
   "cell_type": "code",
   "execution_count": 157,
   "metadata": {},
   "outputs": [
    {
     "data": {
      "text/html": [
       "<div>\n",
       "<style>\n",
       "    .dataframe thead tr:only-child th {\n",
       "        text-align: right;\n",
       "    }\n",
       "\n",
       "    .dataframe thead th {\n",
       "        text-align: left;\n",
       "    }\n",
       "\n",
       "    .dataframe tbody tr th {\n",
       "        vertical-align: top;\n",
       "    }\n",
       "</style>\n",
       "<table border=\"1\" class=\"dataframe\">\n",
       "  <thead>\n",
       "    <tr style=\"text-align: right;\">\n",
       "      <th></th>\n",
       "      <th>ObjectID</th>\n",
       "      <th>ID</th>\n",
       "      <th>Mag</th>\n",
       "      <th>Magerr</th>\n",
       "      <th>RA</th>\n",
       "      <th>Decl</th>\n",
       "      <th>MJD</th>\n",
       "      <th>Blend</th>\n",
       "    </tr>\n",
       "  </thead>\n",
       "  <tbody>\n",
       "    <tr>\n",
       "      <th>183080</th>\n",
       "      <td>2714</td>\n",
       "      <td>6011116002931020219</td>\n",
       "      <td>19.070527</td>\n",
       "      <td>0.207620</td>\n",
       "      <td>157.35316</td>\n",
       "      <td>61.47558</td>\n",
       "      <td>53746.274027</td>\n",
       "      <td>0</td>\n",
       "    </tr>\n",
       "    <tr>\n",
       "      <th>183081</th>\n",
       "      <td>2715</td>\n",
       "      <td>11012510104641005092</td>\n",
       "      <td>20.099937</td>\n",
       "      <td>0.344394</td>\n",
       "      <td>127.37181</td>\n",
       "      <td>0.22320</td>\n",
       "      <td>55586.334373</td>\n",
       "      <td>0</td>\n",
       "    </tr>\n",
       "    <tr>\n",
       "      <th>183082</th>\n",
       "      <td>2715</td>\n",
       "      <td>9042010104621003854</td>\n",
       "      <td>20.954769</td>\n",
       "      <td>0.531688</td>\n",
       "      <td>127.37287</td>\n",
       "      <td>0.22300</td>\n",
       "      <td>54941.139811</td>\n",
       "      <td>0</td>\n",
       "    </tr>\n",
       "    <tr>\n",
       "      <th>183083</th>\n",
       "      <td>2716</td>\n",
       "      <td>13101615702032023407</td>\n",
       "      <td>20.658646</td>\n",
       "      <td>0.432848</td>\n",
       "      <td>99.82311</td>\n",
       "      <td>57.38648</td>\n",
       "      <td>56581.434008</td>\n",
       "      <td>0</td>\n",
       "    </tr>\n",
       "    <tr>\n",
       "      <th>183084</th>\n",
       "      <td>2716</td>\n",
       "      <td>10031815702011022420</td>\n",
       "      <td>20.589015</td>\n",
       "      <td>0.406931</td>\n",
       "      <td>99.82317</td>\n",
       "      <td>57.38622</td>\n",
       "      <td>55273.169179</td>\n",
       "      <td>0</td>\n",
       "    </tr>\n",
       "  </tbody>\n",
       "</table>\n",
       "</div>"
      ],
      "text/plain": [
       "        ObjectID                    ID        Mag    Magerr         RA  \\\n",
       "183080      2714   6011116002931020219  19.070527  0.207620  157.35316   \n",
       "183081      2715  11012510104641005092  20.099937  0.344394  127.37181   \n",
       "183082      2715   9042010104621003854  20.954769  0.531688  127.37287   \n",
       "183083      2716  13101615702032023407  20.658646  0.432848   99.82311   \n",
       "183084      2716  10031815702011022420  20.589015  0.406931   99.82317   \n",
       "\n",
       "            Decl           MJD  Blend  \n",
       "183080  61.47558  53746.274027      0  \n",
       "183081   0.22320  55586.334373      0  \n",
       "183082   0.22300  54941.139811      0  \n",
       "183083  57.38648  56581.434008      0  \n",
       "183084  57.38622  55273.169179      0  "
      ]
     },
     "execution_count": 157,
     "metadata": {},
     "output_type": "execute_result"
    }
   ],
   "source": [
    "df_light_curves_cv = df_light_curves[df_light_curves.ObjectID.isin(df_objects_cv.index)]\n",
    "df_light_curves_cv.head()"
   ]
  },
  {
   "cell_type": "code",
   "execution_count": 159,
   "metadata": {
    "scrolled": true
   },
   "outputs": [
    {
     "data": {
      "text/plain": [
       "ObjectID    201090\n",
       "ID          201090\n",
       "Mag         201090\n",
       "Magerr      201090\n",
       "RA          201090\n",
       "Decl        201090\n",
       "MJD         201090\n",
       "Blend       201090\n",
       "dtype: int64"
      ]
     },
     "execution_count": 159,
     "metadata": {},
     "output_type": "execute_result"
    }
   ],
   "source": [
    "df_light_curves_cv.count()"
   ]
  },
  {
   "cell_type": "code",
   "execution_count": 160,
   "metadata": {
    "collapsed": true
   },
   "outputs": [],
   "source": [
    "series_light_curves_cv_grouped = df_light_curves_cv.groupby(['ObjectID']).Mag.count()"
   ]
  },
  {
   "cell_type": "code",
   "execution_count": 161,
   "metadata": {
    "scrolled": true
   },
   "outputs": [
    {
     "data": {
      "text/plain": [
       "count    1345.000000\n",
       "mean      149.509294\n",
       "std       152.562166\n",
       "min         1.000000\n",
       "25%        21.000000\n",
       "50%        92.000000\n",
       "75%       251.000000\n",
       "max       904.000000\n",
       "Name: Mag, dtype: float64"
      ]
     },
     "execution_count": 161,
     "metadata": {},
     "output_type": "execute_result"
    }
   ],
   "source": [
    "series_light_curves_cv_grouped.describe()"
   ]
  },
  {
   "cell_type": "code",
   "execution_count": 162,
   "metadata": {},
   "outputs": [
    {
     "data": {
      "text/plain": [
       "1181"
      ]
     },
     "execution_count": 162,
     "metadata": {},
     "output_type": "execute_result"
    }
   ],
   "source": [
    "len(series_light_curves_cv_grouped[series_light_curves_cv_grouped > 10].index)"
   ]
  },
  {
   "cell_type": "markdown",
   "metadata": {},
   "source": [
    "### Blazars"
   ]
  },
  {
   "cell_type": "code",
   "execution_count": 164,
   "metadata": {},
   "outputs": [
    {
     "data": {
      "text/html": [
       "<div>\n",
       "<style>\n",
       "    .dataframe thead tr:only-child th {\n",
       "        text-align: right;\n",
       "    }\n",
       "\n",
       "    .dataframe thead th {\n",
       "        text-align: left;\n",
       "    }\n",
       "\n",
       "    .dataframe tbody tr th {\n",
       "        vertical-align: top;\n",
       "    }\n",
       "</style>\n",
       "<table border=\"1\" class=\"dataframe\">\n",
       "  <thead>\n",
       "    <tr style=\"text-align: right;\">\n",
       "      <th></th>\n",
       "      <th>ObjectID</th>\n",
       "      <th>ID</th>\n",
       "      <th>Mag</th>\n",
       "      <th>Magerr</th>\n",
       "      <th>RA</th>\n",
       "      <th>Decl</th>\n",
       "      <th>MJD</th>\n",
       "      <th>Blend</th>\n",
       "    </tr>\n",
       "  </thead>\n",
       "  <tbody>\n",
       "    <tr>\n",
       "      <th>384170</th>\n",
       "      <td>4076</td>\n",
       "      <td>12091901212031023084</td>\n",
       "      <td>19.169053</td>\n",
       "      <td>0.212302</td>\n",
       "      <td>342.49776</td>\n",
       "      <td>-12.85600</td>\n",
       "      <td>56189.270321</td>\n",
       "      <td>0</td>\n",
       "    </tr>\n",
       "    <tr>\n",
       "      <th>384171</th>\n",
       "      <td>4076</td>\n",
       "      <td>10100101212031019387</td>\n",
       "      <td>20.429292</td>\n",
       "      <td>0.479209</td>\n",
       "      <td>342.49803</td>\n",
       "      <td>-12.85488</td>\n",
       "      <td>55470.244969</td>\n",
       "      <td>0</td>\n",
       "    </tr>\n",
       "    <tr>\n",
       "      <th>384172</th>\n",
       "      <td>4076</td>\n",
       "      <td>13102501212011021450</td>\n",
       "      <td>20.777713</td>\n",
       "      <td>0.509270</td>\n",
       "      <td>342.49803</td>\n",
       "      <td>-12.85499</td>\n",
       "      <td>56590.129157</td>\n",
       "      <td>0</td>\n",
       "    </tr>\n",
       "    <tr>\n",
       "      <th>384173</th>\n",
       "      <td>4076</td>\n",
       "      <td>13093001212011020719</td>\n",
       "      <td>20.178060</td>\n",
       "      <td>0.347259</td>\n",
       "      <td>342.49817</td>\n",
       "      <td>-12.85484</td>\n",
       "      <td>56565.216036</td>\n",
       "      <td>0</td>\n",
       "    </tr>\n",
       "    <tr>\n",
       "      <th>384174</th>\n",
       "      <td>4076</td>\n",
       "      <td>13093001212021021007</td>\n",
       "      <td>19.945571</td>\n",
       "      <td>0.305662</td>\n",
       "      <td>342.49860</td>\n",
       "      <td>-12.85484</td>\n",
       "      <td>56565.221072</td>\n",
       "      <td>0</td>\n",
       "    </tr>\n",
       "  </tbody>\n",
       "</table>\n",
       "</div>"
      ],
      "text/plain": [
       "        ObjectID                    ID        Mag    Magerr         RA  \\\n",
       "384170      4076  12091901212031023084  19.169053  0.212302  342.49776   \n",
       "384171      4076  10100101212031019387  20.429292  0.479209  342.49803   \n",
       "384172      4076  13102501212011021450  20.777713  0.509270  342.49803   \n",
       "384173      4076  13093001212011020719  20.178060  0.347259  342.49817   \n",
       "384174      4076  13093001212021021007  19.945571  0.305662  342.49860   \n",
       "\n",
       "            Decl           MJD  Blend  \n",
       "384170 -12.85600  56189.270321      0  \n",
       "384171 -12.85488  55470.244969      0  \n",
       "384172 -12.85499  56590.129157      0  \n",
       "384173 -12.85484  56565.216036      0  \n",
       "384174 -12.85484  56565.221072      0  "
      ]
     },
     "execution_count": 164,
     "metadata": {},
     "output_type": "execute_result"
    }
   ],
   "source": [
    "df_light_curves_blazars = df_light_curves[df_light_curves.ObjectID.isin(df_objects_blazars.index)]\n",
    "df_light_curves_blazars.head()"
   ]
  },
  {
   "cell_type": "code",
   "execution_count": 165,
   "metadata": {
    "scrolled": true
   },
   "outputs": [
    {
     "data": {
      "text/plain": [
       "ObjectID    93697\n",
       "ID          93697\n",
       "Mag         93697\n",
       "Magerr      93697\n",
       "RA          93697\n",
       "Decl        93697\n",
       "MJD         93697\n",
       "Blend       93697\n",
       "dtype: int64"
      ]
     },
     "execution_count": 165,
     "metadata": {},
     "output_type": "execute_result"
    }
   ],
   "source": [
    "df_light_curves_blazars.count()"
   ]
  },
  {
   "cell_type": "code",
   "execution_count": 167,
   "metadata": {},
   "outputs": [],
   "source": [
    "series_light_curves_blazars_grouped = df_light_curves_blazars.groupby(['ObjectID']).Mag.count()"
   ]
  },
  {
   "cell_type": "code",
   "execution_count": 168,
   "metadata": {
    "scrolled": true
   },
   "outputs": [
    {
     "data": {
      "text/plain": [
       "count    395.000000\n",
       "mean     237.207595\n",
       "std      160.494659\n",
       "min        3.000000\n",
       "25%      102.500000\n",
       "50%      224.000000\n",
       "75%      331.000000\n",
       "max      730.000000\n",
       "Name: Mag, dtype: float64"
      ]
     },
     "execution_count": 168,
     "metadata": {},
     "output_type": "execute_result"
    }
   ],
   "source": [
    "series_light_curves_blazars_grouped.describe()"
   ]
  },
  {
   "cell_type": "code",
   "execution_count": 169,
   "metadata": {},
   "outputs": [
    {
     "data": {
      "text/plain": [
       "390"
      ]
     },
     "execution_count": 169,
     "metadata": {},
     "output_type": "execute_result"
    }
   ],
   "source": [
    "len(series_light_curves_blazars_grouped[series_light_curves_blazars_grouped > 10].index)"
   ]
  },
  {
   "cell_type": "markdown",
   "metadata": {},
   "source": [
    "### AGN"
   ]
  },
  {
   "cell_type": "code",
   "execution_count": 171,
   "metadata": {},
   "outputs": [
    {
     "data": {
      "text/html": [
       "<div>\n",
       "<style>\n",
       "    .dataframe thead tr:only-child th {\n",
       "        text-align: right;\n",
       "    }\n",
       "\n",
       "    .dataframe thead th {\n",
       "        text-align: left;\n",
       "    }\n",
       "\n",
       "    .dataframe tbody tr th {\n",
       "        vertical-align: top;\n",
       "    }\n",
       "</style>\n",
       "<table border=\"1\" class=\"dataframe\">\n",
       "  <thead>\n",
       "    <tr style=\"text-align: right;\">\n",
       "      <th></th>\n",
       "      <th>ObjectID</th>\n",
       "      <th>ID</th>\n",
       "      <th>Mag</th>\n",
       "      <th>Magerr</th>\n",
       "      <th>RA</th>\n",
       "      <th>Decl</th>\n",
       "      <th>MJD</th>\n",
       "      <th>Blend</th>\n",
       "    </tr>\n",
       "  </thead>\n",
       "  <tbody>\n",
       "    <tr>\n",
       "      <th>477867</th>\n",
       "      <td>4472</td>\n",
       "      <td>2120022002399</td>\n",
       "      <td>21.53</td>\n",
       "      <td>0.27</td>\n",
       "      <td>24.14481</td>\n",
       "      <td>19.57607</td>\n",
       "      <td>54450.24708</td>\n",
       "      <td>0</td>\n",
       "    </tr>\n",
       "    <tr>\n",
       "      <th>477868</th>\n",
       "      <td>4472</td>\n",
       "      <td>2120022002399</td>\n",
       "      <td>22.29</td>\n",
       "      <td>0.40</td>\n",
       "      <td>24.14406</td>\n",
       "      <td>19.57609</td>\n",
       "      <td>54450.26080</td>\n",
       "      <td>0</td>\n",
       "    </tr>\n",
       "    <tr>\n",
       "      <th>477869</th>\n",
       "      <td>4472</td>\n",
       "      <td>2120022002399</td>\n",
       "      <td>22.60</td>\n",
       "      <td>0.48</td>\n",
       "      <td>24.14416</td>\n",
       "      <td>19.57507</td>\n",
       "      <td>54450.26080</td>\n",
       "      <td>1</td>\n",
       "    </tr>\n",
       "    <tr>\n",
       "      <th>477870</th>\n",
       "      <td>4472</td>\n",
       "      <td>2120022002399</td>\n",
       "      <td>22.22</td>\n",
       "      <td>0.39</td>\n",
       "      <td>24.14430</td>\n",
       "      <td>19.57526</td>\n",
       "      <td>54468.12235</td>\n",
       "      <td>0</td>\n",
       "    </tr>\n",
       "    <tr>\n",
       "      <th>477871</th>\n",
       "      <td>4472</td>\n",
       "      <td>2120022002399</td>\n",
       "      <td>21.61</td>\n",
       "      <td>0.28</td>\n",
       "      <td>24.14488</td>\n",
       "      <td>19.57647</td>\n",
       "      <td>54779.10981</td>\n",
       "      <td>0</td>\n",
       "    </tr>\n",
       "  </tbody>\n",
       "</table>\n",
       "</div>"
      ],
      "text/plain": [
       "        ObjectID             ID    Mag  Magerr        RA      Decl  \\\n",
       "477867      4472  2120022002399  21.53    0.27  24.14481  19.57607   \n",
       "477868      4472  2120022002399  22.29    0.40  24.14406  19.57609   \n",
       "477869      4472  2120022002399  22.60    0.48  24.14416  19.57507   \n",
       "477870      4472  2120022002399  22.22    0.39  24.14430  19.57526   \n",
       "477871      4472  2120022002399  21.61    0.28  24.14488  19.57647   \n",
       "\n",
       "                MJD  Blend  \n",
       "477867  54450.24708      0  \n",
       "477868  54450.26080      0  \n",
       "477869  54450.26080      1  \n",
       "477870  54468.12235      0  \n",
       "477871  54779.10981      0  "
      ]
     },
     "execution_count": 171,
     "metadata": {},
     "output_type": "execute_result"
    }
   ],
   "source": [
    "df_light_curves_agn = df_light_curves[df_light_curves.ObjectID.isin(df_objects_agn.index.tolist())]\n",
    "df_light_curves_agn.head()"
   ]
  },
  {
   "cell_type": "code",
   "execution_count": 172,
   "metadata": {
    "scrolled": true
   },
   "outputs": [
    {
     "data": {
      "text/plain": [
       "ObjectID    539806\n",
       "ID          539806\n",
       "Mag         539806\n",
       "Magerr      539806\n",
       "RA          539806\n",
       "Decl        539806\n",
       "MJD         539806\n",
       "Blend       539806\n",
       "dtype: int64"
      ]
     },
     "execution_count": 172,
     "metadata": {},
     "output_type": "execute_result"
    }
   ],
   "source": [
    "df_light_curves_agn.count()"
   ]
  },
  {
   "cell_type": "code",
   "execution_count": 176,
   "metadata": {
    "collapsed": true
   },
   "outputs": [],
   "source": [
    "series_light_curves_agn_grouped = df_light_curves_agn.groupby(['ObjectID']).Mag.count()"
   ]
  },
  {
   "cell_type": "code",
   "execution_count": 177,
   "metadata": {
    "scrolled": true
   },
   "outputs": [
    {
     "data": {
      "text/plain": [
       "count    3470.000000\n",
       "mean      155.563689\n",
       "std       122.332936\n",
       "min         1.000000\n",
       "25%        65.000000\n",
       "50%       124.000000\n",
       "75%       211.000000\n",
       "max       922.000000\n",
       "Name: Mag, dtype: float64"
      ]
     },
     "execution_count": 177,
     "metadata": {},
     "output_type": "execute_result"
    }
   ],
   "source": [
    "series_light_curves_agn_grouped.describe()"
   ]
  },
  {
   "cell_type": "code",
   "execution_count": 178,
   "metadata": {},
   "outputs": [
    {
     "data": {
      "text/plain": [
       "3448"
      ]
     },
     "execution_count": 178,
     "metadata": {},
     "output_type": "execute_result"
    }
   ],
   "source": [
    "len(series_light_curves_agn_grouped[series_light_curves_agn_grouped > 10].index)"
   ]
  },
  {
   "cell_type": "markdown",
   "metadata": {},
   "source": [
    "## 4. Light Curves Visualization"
   ]
  },
  {
   "cell_type": "code",
   "execution_count": 191,
   "metadata": {},
   "outputs": [
    {
     "data": {
      "text/html": [
       "<script>requirejs.config({paths: { 'plotly': ['https://cdn.plot.ly/plotly-latest.min']},});if(!window.Plotly) {{require(['plotly'],function(plotly) {window.Plotly=plotly;});}}</script>"
      ],
      "text/vnd.plotly.v1+html": [
       "<script>requirejs.config({paths: { 'plotly': ['https://cdn.plot.ly/plotly-latest.min']},});if(!window.Plotly) {{require(['plotly'],function(plotly) {window.Plotly=plotly;});}}</script>"
      ]
     },
     "metadata": {},
     "output_type": "display_data"
    }
   ],
   "source": [
    "from tools import visualize\n",
    "from plotly.offline import download_plotlyjs, init_notebook_mode, plot, iplot"
   ]
  },
  {
   "cell_type": "markdown",
   "metadata": {},
   "source": [
    "### Supernovae"
   ]
  },
  {
   "cell_type": "code",
   "execution_count": 213,
   "metadata": {
    "collapsed": true
   },
   "outputs": [],
   "source": [
    "index_supernovae_light_curve = 10\n",
    "# Get sample\n",
    "df_light_curves_supernovae_sample = df_light_curves_supernovae[\n",
    "    df_light_curves_supernovae.ObjectID == df_light_curves_supernovae.ObjectID.unique()[index_supernovae_light_curve]\n",
    "]"
   ]
  },
  {
   "cell_type": "code",
   "execution_count": 214,
   "metadata": {},
   "outputs": [
    {
     "data": {
      "application/vnd.plotly.v1+json": {
       "data": [
        {
         "mode": "markers",
         "name": 12,
         "type": "scatter",
         "x": [
          "2006-05-01 09:36:18.144000",
          "2006-05-01 09:44:15.936000",
          "2006-05-01 09:52:12",
          "2006-05-01 10:00:08.064000",
          "2007-04-20 08:48:40.032000",
          "2007-04-20 08:56:30.048000",
          "2007-04-20 09:04:20.064000",
          "2007-04-20 09:12:04.896000",
          "2007-06-19 08:10:32.160000",
          "2007-06-19 08:16:39.360000",
          "2007-06-19 08:22:40.512000",
          "2007-06-19 08:28:46.848000",
          "2007-06-26 06:52:30.144000",
          "2007-06-26 06:59:08.448000",
          "2007-05-15 07:56:49.632000",
          "2007-05-15 08:03:52.128000",
          "2007-05-15 08:10:54.624000",
          "2007-05-15 08:17:57.120000",
          "2008-06-14 08:02:03.264000",
          "2008-06-14 08:07:58.368000",
          "2008-06-14 08:19:52.896000",
          "2009-02-04 11:58:28.416000",
          "2009-02-04 12:07:24.096000",
          "2009-02-04 12:16:13.728000",
          "2009-02-04 12:25:06.816000",
          "2009-03-25 10:13:15.168000",
          "2009-03-25 10:19:53.472000",
          "2009-03-25 10:33:10.080000",
          "2010-06-12 09:26:20.256000",
          "2010-06-12 09:32:01.536000",
          "2010-06-12 09:37:55.776000",
          "2010-06-12 09:49:35.616000",
          "2010-06-20 05:37:46.848000",
          "2010-06-20 05:44:21.696000",
          "2010-05-22 09:04:34.752000",
          "2010-05-22 09:10:24.672000",
          "2010-05-22 09:16:19.776000",
          "2010-05-22 09:22:08.832000",
          "2010-11-13 02:43:58.368000",
          "2010-11-13 02:48:04.608000",
          "2011-04-02 11:00:48.096000",
          "2011-04-02 11:07:34.176000",
          "2011-04-02 11:14:14.208000",
          "2011-04-02 11:20:54.240000",
          "2011-04-25 08:37:59.808000",
          "2011-04-25 08:45:33.408000",
          "2011-04-25 08:53:07.872000",
          "2011-05-14 09:01:52.320000",
          "2011-05-14 09:11:37.248000",
          "2011-05-14 09:22:09.696000",
          "2011-05-14 09:32:08.448000",
          "2011-10-29 01:51:58.464000",
          "2011-10-29 02:03:02.880000",
          "2012-04-21 11:20:30.912000",
          "2012-04-21 11:27:02.304000",
          "2012-04-21 11:33:39.744000",
          "2012-05-30 05:15:36.288000",
          "2012-06-13 08:16:49.728000",
          "2012-06-13 08:40:17.184000",
          "2012-10-25 03:01:40.224000",
          "2013-04-01 10:56:39.264000",
          "2013-04-01 11:04:07.680000",
          "2013-04-01 11:11:29.184000",
          "2013-05-15 10:58:30.720000",
          "2013-05-15 11:07:46.272000",
          "2013-05-29 08:47:32.640000",
          "2013-06-17 07:27:30.528000",
          "2013-06-17 07:34:48.576000",
          "2013-06-17 07:42:08.352000",
          "2013-06-17 07:49:33.312000",
          "2013-09-17 04:46:33.600000",
          "2013-09-17 04:53:48.192000",
          "2013-09-28 04:24:42.048000",
          "2013-09-28 04:35:04.128000",
          "2013-09-28 04:45:28.800000",
          "2013-09-28 04:55:51.744000",
          "2013-10-08 03:48:00.576000",
          "2013-10-08 03:58:33.888000",
          "2013-10-08 04:09:14.112000",
          "2013-10-08 04:19:53.472000",
          "2009-03-25 10:26:30.637999",
          "2012-05-30 05:23:07.707981",
          "2012-04-21 11:40:14.098008",
          "2011-10-29 01:57:31.064005",
          "2010-06-12 09:43:44.650016",
          "2012-10-25 03:08:09.660016",
          "2013-05-15 10:49:19.955001",
          "2011-10-29 01:46:32.461014",
          "2013-05-29 09:02:18.164002",
          "2012-06-13 08:47:39.622001"
         ],
         "y": [
          19.29,
          19.04,
          19.46,
          19.25,
          19.19,
          19.91,
          19.49,
          19,
          19.27,
          19.42,
          19.22,
          19.4,
          18.87,
          19,
          19.65,
          18.7,
          18.81,
          19.35,
          19.08,
          18.94,
          19.25,
          19.31,
          18.96,
          19.01,
          19.08,
          19.3,
          19.19,
          19.39,
          18.98,
          19.08,
          19.19,
          19.18,
          19.5,
          20.12,
          19.29,
          19.12,
          19.12,
          19.07,
          19.59,
          18.99,
          18.85,
          19.13,
          19.2,
          19.22,
          19.28,
          19.16,
          18.91,
          18.54,
          18.78,
          18.82,
          19.4,
          19,
          18.59,
          19.57,
          19.49,
          19.25,
          19.73,
          19.04,
          19.31,
          19.99,
          19.65,
          19.26,
          19.27,
          19.43,
          19.16,
          19.12,
          19.37,
          18.93,
          19.11,
          19.2,
          19.4,
          19.55,
          18.95,
          19.86,
          19.52,
          19.35,
          19.5,
          19.38,
          19.26,
          18.89,
          19.262645,
          19.552309,
          19.229852,
          19.653186,
          19.37415,
          19.777109,
          19.225848,
          19.804787,
          18.934494,
          19.967226
         ]
        }
       ],
       "layout": {}
      },
      "text/html": [
       "<div id=\"a1af2cac-072b-418f-9643-ac60f8bfedcd\" style=\"height: 525px; width: 100%;\" class=\"plotly-graph-div\"></div><script type=\"text/javascript\">require([\"plotly\"], function(Plotly) { window.PLOTLYENV=window.PLOTLYENV || {};window.PLOTLYENV.BASE_URL=\"https://plot.ly\";Plotly.newPlot(\"a1af2cac-072b-418f-9643-ac60f8bfedcd\", [{\"y\": [19.29, 19.04, 19.46, 19.25, 19.19, 19.91, 19.49, 19.0, 19.27, 19.42, 19.22, 19.4, 18.87, 19.0, 19.65, 18.7, 18.81, 19.35, 19.08, 18.94, 19.25, 19.31, 18.96, 19.01, 19.08, 19.3, 19.19, 19.39, 18.98, 19.08, 19.19, 19.18, 19.5, 20.12, 19.29, 19.12, 19.12, 19.07, 19.59, 18.99, 18.85, 19.13, 19.2, 19.22, 19.28, 19.16, 18.91, 18.54, 18.78, 18.82, 19.4, 19.0, 18.59, 19.57, 19.49, 19.25, 19.73, 19.04, 19.31, 19.99, 19.65, 19.26, 19.27, 19.43, 19.16, 19.12, 19.37, 18.93, 19.11, 19.2, 19.4, 19.55, 18.95, 19.86, 19.52, 19.35, 19.5, 19.38, 19.26, 18.89, 19.262645, 19.552309, 19.229852, 19.653186, 19.37415, 19.777109, 19.225848, 19.804787, 18.934494, 19.967226], \"name\": 12, \"x\": [\"2006-05-01 09:36:18.144000\", \"2006-05-01 09:44:15.936000\", \"2006-05-01 09:52:12\", \"2006-05-01 10:00:08.064000\", \"2007-04-20 08:48:40.032000\", \"2007-04-20 08:56:30.048000\", \"2007-04-20 09:04:20.064000\", \"2007-04-20 09:12:04.896000\", \"2007-06-19 08:10:32.160000\", \"2007-06-19 08:16:39.360000\", \"2007-06-19 08:22:40.512000\", \"2007-06-19 08:28:46.848000\", \"2007-06-26 06:52:30.144000\", \"2007-06-26 06:59:08.448000\", \"2007-05-15 07:56:49.632000\", \"2007-05-15 08:03:52.128000\", \"2007-05-15 08:10:54.624000\", \"2007-05-15 08:17:57.120000\", \"2008-06-14 08:02:03.264000\", \"2008-06-14 08:07:58.368000\", \"2008-06-14 08:19:52.896000\", \"2009-02-04 11:58:28.416000\", \"2009-02-04 12:07:24.096000\", \"2009-02-04 12:16:13.728000\", \"2009-02-04 12:25:06.816000\", \"2009-03-25 10:13:15.168000\", \"2009-03-25 10:19:53.472000\", \"2009-03-25 10:33:10.080000\", \"2010-06-12 09:26:20.256000\", \"2010-06-12 09:32:01.536000\", \"2010-06-12 09:37:55.776000\", \"2010-06-12 09:49:35.616000\", \"2010-06-20 05:37:46.848000\", \"2010-06-20 05:44:21.696000\", \"2010-05-22 09:04:34.752000\", \"2010-05-22 09:10:24.672000\", \"2010-05-22 09:16:19.776000\", \"2010-05-22 09:22:08.832000\", \"2010-11-13 02:43:58.368000\", \"2010-11-13 02:48:04.608000\", \"2011-04-02 11:00:48.096000\", \"2011-04-02 11:07:34.176000\", \"2011-04-02 11:14:14.208000\", \"2011-04-02 11:20:54.240000\", \"2011-04-25 08:37:59.808000\", \"2011-04-25 08:45:33.408000\", \"2011-04-25 08:53:07.872000\", \"2011-05-14 09:01:52.320000\", \"2011-05-14 09:11:37.248000\", \"2011-05-14 09:22:09.696000\", \"2011-05-14 09:32:08.448000\", \"2011-10-29 01:51:58.464000\", \"2011-10-29 02:03:02.880000\", \"2012-04-21 11:20:30.912000\", \"2012-04-21 11:27:02.304000\", \"2012-04-21 11:33:39.744000\", \"2012-05-30 05:15:36.288000\", \"2012-06-13 08:16:49.728000\", \"2012-06-13 08:40:17.184000\", \"2012-10-25 03:01:40.224000\", \"2013-04-01 10:56:39.264000\", \"2013-04-01 11:04:07.680000\", \"2013-04-01 11:11:29.184000\", \"2013-05-15 10:58:30.720000\", \"2013-05-15 11:07:46.272000\", \"2013-05-29 08:47:32.640000\", \"2013-06-17 07:27:30.528000\", \"2013-06-17 07:34:48.576000\", \"2013-06-17 07:42:08.352000\", \"2013-06-17 07:49:33.312000\", \"2013-09-17 04:46:33.600000\", \"2013-09-17 04:53:48.192000\", \"2013-09-28 04:24:42.048000\", \"2013-09-28 04:35:04.128000\", \"2013-09-28 04:45:28.800000\", \"2013-09-28 04:55:51.744000\", \"2013-10-08 03:48:00.576000\", \"2013-10-08 03:58:33.888000\", \"2013-10-08 04:09:14.112000\", \"2013-10-08 04:19:53.472000\", \"2009-03-25 10:26:30.637999\", \"2012-05-30 05:23:07.707981\", \"2012-04-21 11:40:14.098008\", \"2011-10-29 01:57:31.064005\", \"2010-06-12 09:43:44.650016\", \"2012-10-25 03:08:09.660016\", \"2013-05-15 10:49:19.955001\", \"2011-10-29 01:46:32.461014\", \"2013-05-29 09:02:18.164002\", \"2012-06-13 08:47:39.622001\"], \"type\": \"scatter\", \"mode\": \"markers\"}], {}, {\"showLink\": true, \"linkText\": \"Export to plot.ly\"})});</script>"
      ],
      "text/vnd.plotly.v1+html": [
       "<div id=\"a1af2cac-072b-418f-9643-ac60f8bfedcd\" style=\"height: 525px; width: 100%;\" class=\"plotly-graph-div\"></div><script type=\"text/javascript\">require([\"plotly\"], function(Plotly) { window.PLOTLYENV=window.PLOTLYENV || {};window.PLOTLYENV.BASE_URL=\"https://plot.ly\";Plotly.newPlot(\"a1af2cac-072b-418f-9643-ac60f8bfedcd\", [{\"y\": [19.29, 19.04, 19.46, 19.25, 19.19, 19.91, 19.49, 19.0, 19.27, 19.42, 19.22, 19.4, 18.87, 19.0, 19.65, 18.7, 18.81, 19.35, 19.08, 18.94, 19.25, 19.31, 18.96, 19.01, 19.08, 19.3, 19.19, 19.39, 18.98, 19.08, 19.19, 19.18, 19.5, 20.12, 19.29, 19.12, 19.12, 19.07, 19.59, 18.99, 18.85, 19.13, 19.2, 19.22, 19.28, 19.16, 18.91, 18.54, 18.78, 18.82, 19.4, 19.0, 18.59, 19.57, 19.49, 19.25, 19.73, 19.04, 19.31, 19.99, 19.65, 19.26, 19.27, 19.43, 19.16, 19.12, 19.37, 18.93, 19.11, 19.2, 19.4, 19.55, 18.95, 19.86, 19.52, 19.35, 19.5, 19.38, 19.26, 18.89, 19.262645, 19.552309, 19.229852, 19.653186, 19.37415, 19.777109, 19.225848, 19.804787, 18.934494, 19.967226], \"name\": 12, \"x\": [\"2006-05-01 09:36:18.144000\", \"2006-05-01 09:44:15.936000\", \"2006-05-01 09:52:12\", \"2006-05-01 10:00:08.064000\", \"2007-04-20 08:48:40.032000\", \"2007-04-20 08:56:30.048000\", \"2007-04-20 09:04:20.064000\", \"2007-04-20 09:12:04.896000\", \"2007-06-19 08:10:32.160000\", \"2007-06-19 08:16:39.360000\", \"2007-06-19 08:22:40.512000\", \"2007-06-19 08:28:46.848000\", \"2007-06-26 06:52:30.144000\", \"2007-06-26 06:59:08.448000\", \"2007-05-15 07:56:49.632000\", \"2007-05-15 08:03:52.128000\", \"2007-05-15 08:10:54.624000\", \"2007-05-15 08:17:57.120000\", \"2008-06-14 08:02:03.264000\", \"2008-06-14 08:07:58.368000\", \"2008-06-14 08:19:52.896000\", \"2009-02-04 11:58:28.416000\", \"2009-02-04 12:07:24.096000\", \"2009-02-04 12:16:13.728000\", \"2009-02-04 12:25:06.816000\", \"2009-03-25 10:13:15.168000\", \"2009-03-25 10:19:53.472000\", \"2009-03-25 10:33:10.080000\", \"2010-06-12 09:26:20.256000\", \"2010-06-12 09:32:01.536000\", \"2010-06-12 09:37:55.776000\", \"2010-06-12 09:49:35.616000\", \"2010-06-20 05:37:46.848000\", \"2010-06-20 05:44:21.696000\", \"2010-05-22 09:04:34.752000\", \"2010-05-22 09:10:24.672000\", \"2010-05-22 09:16:19.776000\", \"2010-05-22 09:22:08.832000\", \"2010-11-13 02:43:58.368000\", \"2010-11-13 02:48:04.608000\", \"2011-04-02 11:00:48.096000\", \"2011-04-02 11:07:34.176000\", \"2011-04-02 11:14:14.208000\", \"2011-04-02 11:20:54.240000\", \"2011-04-25 08:37:59.808000\", \"2011-04-25 08:45:33.408000\", \"2011-04-25 08:53:07.872000\", \"2011-05-14 09:01:52.320000\", \"2011-05-14 09:11:37.248000\", \"2011-05-14 09:22:09.696000\", \"2011-05-14 09:32:08.448000\", \"2011-10-29 01:51:58.464000\", \"2011-10-29 02:03:02.880000\", \"2012-04-21 11:20:30.912000\", \"2012-04-21 11:27:02.304000\", \"2012-04-21 11:33:39.744000\", \"2012-05-30 05:15:36.288000\", \"2012-06-13 08:16:49.728000\", \"2012-06-13 08:40:17.184000\", \"2012-10-25 03:01:40.224000\", \"2013-04-01 10:56:39.264000\", \"2013-04-01 11:04:07.680000\", \"2013-04-01 11:11:29.184000\", \"2013-05-15 10:58:30.720000\", \"2013-05-15 11:07:46.272000\", \"2013-05-29 08:47:32.640000\", \"2013-06-17 07:27:30.528000\", \"2013-06-17 07:34:48.576000\", \"2013-06-17 07:42:08.352000\", \"2013-06-17 07:49:33.312000\", \"2013-09-17 04:46:33.600000\", \"2013-09-17 04:53:48.192000\", \"2013-09-28 04:24:42.048000\", \"2013-09-28 04:35:04.128000\", \"2013-09-28 04:45:28.800000\", \"2013-09-28 04:55:51.744000\", \"2013-10-08 03:48:00.576000\", \"2013-10-08 03:58:33.888000\", \"2013-10-08 04:09:14.112000\", \"2013-10-08 04:19:53.472000\", \"2009-03-25 10:26:30.637999\", \"2012-05-30 05:23:07.707981\", \"2012-04-21 11:40:14.098008\", \"2011-10-29 01:57:31.064005\", \"2010-06-12 09:43:44.650016\", \"2012-10-25 03:08:09.660016\", \"2013-05-15 10:49:19.955001\", \"2011-10-29 01:46:32.461014\", \"2013-05-29 09:02:18.164002\", \"2012-06-13 08:47:39.622001\"], \"type\": \"scatter\", \"mode\": \"markers\"}], {}, {\"showLink\": true, \"linkText\": \"Export to plot.ly\"})});</script>"
      ]
     },
     "metadata": {},
     "output_type": "display_data"
    }
   ],
   "source": [
    "iplot([visualize.light_curve_interactive_scatter(df_light_curves_supernovae_sample)])"
   ]
  },
  {
   "cell_type": "markdown",
   "metadata": {},
   "source": [
    "### Cataclysmic Variable Stars"
   ]
  },
  {
   "cell_type": "code",
   "execution_count": 211,
   "metadata": {},
   "outputs": [],
   "source": [
    "index_cv_light_curve = 10\n",
    "# Get sample\n",
    "df_light_curves_cv_sample = df_light_curves_cv[\n",
    "    df_light_curves_cv.ObjectID == df_light_curves_cv.ObjectID.unique()[index_cv_light_curve]\n",
    "]"
   ]
  },
  {
   "cell_type": "code",
   "execution_count": 212,
   "metadata": {},
   "outputs": [
    {
     "data": {
      "application/vnd.plotly.v1+json": {
       "data": [
        {
         "mode": "markers",
         "name": 2724,
         "type": "scatter",
         "x": [
          "2012-11-06 02:47:16.336018",
          "2007-11-16 02:15:41.799007",
          "2010-07-05 09:50:37.972979",
          "2012-11-25 04:58:09.325001",
          "2009-07-31 07:48:04.064023",
          "2013-06-18 10:39:28.257993"
         ],
         "y": [
          19.811085,
          20.553737,
          20.557749,
          20.119869,
          19.661011,
          21.021507
         ]
        }
       ],
       "layout": {}
      },
      "text/html": [
       "<div id=\"ea7956bc-9d04-4926-aebe-e83574b9eb3d\" style=\"height: 525px; width: 100%;\" class=\"plotly-graph-div\"></div><script type=\"text/javascript\">require([\"plotly\"], function(Plotly) { window.PLOTLYENV=window.PLOTLYENV || {};window.PLOTLYENV.BASE_URL=\"https://plot.ly\";Plotly.newPlot(\"ea7956bc-9d04-4926-aebe-e83574b9eb3d\", [{\"y\": [19.811085, 20.553737, 20.557749, 20.119869, 19.661011, 21.021507], \"name\": 2724, \"x\": [\"2012-11-06 02:47:16.336018\", \"2007-11-16 02:15:41.799007\", \"2010-07-05 09:50:37.972979\", \"2012-11-25 04:58:09.325001\", \"2009-07-31 07:48:04.064023\", \"2013-06-18 10:39:28.257993\"], \"type\": \"scatter\", \"mode\": \"markers\"}], {}, {\"showLink\": true, \"linkText\": \"Export to plot.ly\"})});</script>"
      ],
      "text/vnd.plotly.v1+html": [
       "<div id=\"ea7956bc-9d04-4926-aebe-e83574b9eb3d\" style=\"height: 525px; width: 100%;\" class=\"plotly-graph-div\"></div><script type=\"text/javascript\">require([\"plotly\"], function(Plotly) { window.PLOTLYENV=window.PLOTLYENV || {};window.PLOTLYENV.BASE_URL=\"https://plot.ly\";Plotly.newPlot(\"ea7956bc-9d04-4926-aebe-e83574b9eb3d\", [{\"y\": [19.811085, 20.553737, 20.557749, 20.119869, 19.661011, 21.021507], \"name\": 2724, \"x\": [\"2012-11-06 02:47:16.336018\", \"2007-11-16 02:15:41.799007\", \"2010-07-05 09:50:37.972979\", \"2012-11-25 04:58:09.325001\", \"2009-07-31 07:48:04.064023\", \"2013-06-18 10:39:28.257993\"], \"type\": \"scatter\", \"mode\": \"markers\"}], {}, {\"showLink\": true, \"linkText\": \"Export to plot.ly\"})});</script>"
      ]
     },
     "metadata": {},
     "output_type": "display_data"
    }
   ],
   "source": [
    "iplot([visualize.light_curve_interactive_scatter(df_light_curves_cv_sample)])"
   ]
  },
  {
   "cell_type": "markdown",
   "metadata": {},
   "source": [
    "### Blazars"
   ]
  },
  {
   "cell_type": "code",
   "execution_count": 207,
   "metadata": {
    "collapsed": true
   },
   "outputs": [],
   "source": [
    "index_blazars_light_curve = 10\n",
    "# Get sample\n",
    "df_light_curves_blazars_sample = df_light_curves_blazars[\n",
    "    df_light_curves_blazars.ObjectID == df_light_curves_blazars.ObjectID.unique()[index_blazars_light_curve]\n",
    "]"
   ]
  },
  {
   "cell_type": "code",
   "execution_count": 208,
   "metadata": {},
   "outputs": [
    {
     "data": {
      "application/vnd.plotly.v1+json": {
       "data": [
        {
         "mode": "markers",
         "name": 4086,
         "type": "scatter",
         "x": [
          "2005-12-07 09:49:15.744000",
          "2005-12-07 09:59:55.968000",
          "2005-12-07 10:10:36.192000",
          "2005-12-07 10:21:12.960000",
          "2005-12-30 09:02:13.920000",
          "2005-12-30 09:13:31.296000",
          "2005-12-30 09:24:46.944000",
          "2005-12-30 09:36:23.328000",
          "2006-04-27 05:22:20.640000",
          "2006-04-27 05:43:38.496000",
          "2006-04-27 05:54:18.720000",
          "2006-12-26 09:31:36.480000",
          "2006-02-04 07:03:21.600000",
          "2006-02-04 07:15:45.504000",
          "2006-02-04 07:28:05.088000",
          "2006-02-04 07:40:27.264000",
          "2006-01-06 09:17:21.984000",
          "2006-01-06 09:27:26.784000",
          "2006-01-06 09:37:30.720000",
          "2006-01-06 09:47:41.568000",
          "2006-01-22 09:07:57.792000",
          "2006-01-22 09:20:13.920000",
          "2006-01-22 09:32:39.552000",
          "2006-01-27 08:03:11.520000",
          "2006-01-27 08:16:39.360000",
          "2006-03-02 07:28:57.792000",
          "2006-03-02 07:40:07.392000",
          "2006-03-02 07:51:18.720000",
          "2006-03-02 08:02:29.184000",
          "2006-05-05 06:37:02.208000",
          "2006-05-05 06:44:50.496000",
          "2006-05-05 07:00:26.208000",
          "2006-05-29 03:42:31.392000",
          "2006-05-29 03:51:50.400000",
          "2006-05-29 04:01:08.544000",
          "2006-11-27 09:52:42.240000",
          "2007-04-18 05:56:05.856000",
          "2007-04-18 06:09:44.928000",
          "2007-04-18 06:22:48.576000",
          "2007-04-18 06:35:34.944000",
          "2007-12-18 08:17:33.792000",
          "2007-12-18 08:26:59.712000",
          "2007-12-18 08:46:06.240000",
          "2007-02-27 04:45:48.672000",
          "2007-02-27 04:56:03.840000",
          "2007-02-27 05:06:19.872000",
          "2007-02-27 05:16:33.312000",
          "2007-06-08 04:34:06.240000",
          "2007-06-08 04:45:34.848000",
          "2007-06-08 05:08:38.112000",
          "2007-06-13 04:11:28.896000",
          "2007-06-13 04:46:00.768000",
          "2007-03-10 05:22:13.728000",
          "2007-03-10 05:34:02.208000",
          "2007-03-10 05:45:46.368000",
          "2007-03-10 05:57:33.984000",
          "2007-03-17 07:16:15.744000",
          "2007-03-17 07:28:28.416000",
          "2007-03-17 07:40:35.904000",
          "2007-03-17 07:52:34.752000",
          "2008-04-01 06:08:21.120000",
          "2008-04-01 06:22:41.664000",
          "2008-04-01 06:36:53.568000",
          "2008-04-01 06:51:03.744000",
          "2008-04-10 05:52:20.352000",
          "2008-04-10 06:01:48.864000",
          "2008-04-10 06:11:17.376000",
          "2008-04-10 06:20:46.752000",
          "2008-04-16 06:00:15.552000",
          "2008-04-16 06:08:24.576000",
          "2008-04-28 05:09:09.216000",
          "2008-04-28 05:18:29.952000",
          "2008-04-28 05:27:45.504000",
          "2008-04-28 05:37:03.648000",
          "2008-12-05 09:52:54.336000",
          "2008-12-05 10:15:55.872000",
          "2008-12-05 10:27:29.664000",
          "2008-02-11 06:50:53.376000",
          "2008-02-11 07:00:52.128000",
          "2008-02-11 07:10:52.608000",
          "2008-03-05 07:18:05.472000",
          "2008-03-05 07:26:04.128000",
          "2008-03-05 07:33:55.872000",
          "2008-03-05 07:41:53.664000",
          "2008-03-23 08:40:44.832000",
          "2008-03-23 08:58:27.552000",
          "2008-05-08 06:42:02.016000",
          "2008-05-08 06:52:56.928000",
          "2008-05-08 07:03:50.976000",
          "2008-05-08 07:14:43.296000",
          "2009-04-01 07:19:54.336000",
          "2009-04-01 07:31:15.168000",
          "2009-04-01 07:42:41.184000",
          "2009-04-20 05:20:40.416000",
          "2009-04-20 05:29:09.312000",
          "2009-04-20 05:37:49.440000",
          "2009-04-20 05:46:32.160000",
          "2009-12-18 09:46:04.800000",
          "2009-12-18 09:52:39.648000",
          "2009-12-18 09:59:19.680000",
          "2009-12-18 10:05:59.712000",
          "2009-02-13 09:27:02.592000",
          "2009-02-13 09:42:26.208000",
          "2009-02-13 09:50:15.360000",
          "2009-02-22 05:32:46.176000",
          "2009-02-22 05:48:22.752000",
          "2009-03-02 05:01:28.704000",
          "2009-03-02 05:13:43.104000",
          "2009-03-02 05:26:06.144000",
          "2009-03-02 05:38:52.512000",
          "2009-03-21 04:42:14.400000",
          "2009-03-21 04:50:07.008000",
          "2009-03-21 04:58:02.208000",
          "2009-03-21 05:06:06.912000",
          "2009-05-01 06:52:56.064000",
          "2009-05-01 07:15:38.592000",
          "2009-05-01 07:27:01.152000",
          "2009-05-24 05:11:03.264000",
          "2009-05-24 05:19:38.208000",
          "2009-05-24 05:31:41.376000",
          "2009-05-24 05:45:56.736000",
          "2010-04-11 02:59:46.176000",
          "2010-04-11 03:10:50.592000",
          "2010-04-11 03:21:49.824000",
          "2010-04-11 03:32:54.240000",
          "2010-07-04 04:02:02.976000",
          "2010-07-04 04:03:39.744000",
          "2010-07-04 04:05:19.968000",
          "2010-07-04 04:07:00.192000",
          "2010-06-07 03:49:33.024000",
          "2010-06-07 03:56:06.144000",
          "2010-06-07 04:02:37.536000",
          "2010-06-07 04:09:13.248000",
          "2010-03-17 04:48:17.280000",
          "2010-03-17 04:55:43.968000",
          "2010-03-17 05:03:11.520000",
          "2010-05-07 05:03:06.336000",
          "2010-05-07 05:11:24",
          "2010-05-07 05:19:38.208000",
          "2010-05-07 05:27:52.416000",
          "2010-05-21 04:27:51.264000",
          "2010-05-21 04:38:37.536000",
          "2010-05-21 04:49:20.352000",
          "2010-05-21 05:00:05.760000",
          "2011-02-06 10:33:58.464000",
          "2011-02-06 10:45:03.744000",
          "2011-02-06 10:56:03.840000",
          "2011-02-06 11:07:01.344000",
          "2011-06-11 04:08:34.368000",
          "2011-03-06 08:21:24.480000",
          "2011-03-06 08:29:44.736000",
          "2011-03-06 08:38:08.448000",
          "2011-03-06 08:46:22.656000",
          "2011-03-12 08:26:39.840000",
          "2011-03-12 08:33:20.736000",
          "2011-03-12 08:39:59.904000",
          "2011-03-12 08:46:39.936000",
          "2011-05-04 04:32:23.424000",
          "2011-11-30 12:18:40.608000",
          "2011-11-30 12:28:31.584000",
          "2011-11-30 12:48:25.632000",
          "2012-01-19 11:05:16.800000",
          "2012-01-19 11:13:13.728000",
          "2012-01-19 11:21:14.112000",
          "2012-01-19 11:29:11.904000",
          "2012-02-24 06:29:34.656000",
          "2012-03-30 05:45:09.216000",
          "2012-03-30 05:54:01.440000",
          "2012-03-30 06:11:49.344000",
          "2012-04-28 05:40:04.224000",
          "2012-04-28 06:04:46.848000",
          "2012-04-28 06:17:06.432000",
          "2012-05-20 05:52:39.360000",
          "2012-05-20 06:02:25.152000",
          "2012-05-20 06:12:12.672000",
          "2012-05-20 06:22:10.560000",
          "2012-06-14 03:58:26.976000",
          "2012-06-14 04:05:48.480000",
          "2012-06-14 04:13:15.168000",
          "2012-06-14 04:20:37.536000",
          "2012-06-22 03:54:17.280000",
          "2012-06-22 04:01:37.056000",
          "2012-06-22 04:09:07.200000",
          "2012-06-22 04:16:36.480000",
          "2012-12-12 11:58:35.328000",
          "2012-12-12 12:06:49.536000",
          "2012-12-12 12:14:58.560000",
          "2012-12-12 12:23:17.088000",
          "2013-01-18 08:30:13.248000",
          "2013-01-18 08:38:18.816000",
          "2013-01-18 08:46:30.432000",
          "2013-02-01 12:47:29.472000",
          "2013-02-01 12:52:37.056000",
          "2013-02-01 12:57:42.048000",
          "2013-02-01 13:02:47.904000",
          "2013-02-11 07:57:12.960000",
          "2013-02-11 08:05:53.952000",
          "2013-02-11 08:13:49.152000",
          "2013-02-11 08:21:36.576000",
          "2013-03-16 05:44:26.016000",
          "2013-03-16 05:57:35.712000",
          "2013-03-16 06:10:44.544000",
          "2013-03-16 06:23:36.960000",
          "2013-04-08 05:34:31.584000",
          "2013-04-08 05:42:39.744000",
          "2013-04-08 05:50:47.904000",
          "2013-04-08 05:58:56.928000",
          "2013-04-19 04:20:15.936000",
          "2013-04-19 04:30:31.104000",
          "2013-05-08 03:51:32.256000",
          "2013-05-08 04:00:28.800000",
          "2013-05-08 04:09:27.936000",
          "2013-05-08 04:18:21.888000",
          "2013-06-07 03:54:23.328000",
          "2013-06-07 04:03:10.368000",
          "2013-06-07 04:11:59.136000",
          "2013-06-07 04:20:47.040000"
         ],
         "y": [
          19,
          18.82,
          19.02,
          18.83,
          18.75,
          18.91,
          19.15,
          19.16,
          20.38,
          19.48,
          20.67,
          19.91,
          19.94,
          19.28,
          19.26,
          19.65,
          19.69,
          19.17,
          19.48,
          19.47,
          19.27,
          19.47,
          19.73,
          19.57,
          19.29,
          20.16,
          20.22,
          20.08,
          19.99,
          20.49,
          18.35,
          19.42,
          19.89,
          19.84,
          19.58,
          20.56,
          19.49,
          19.76,
          20.28,
          19.73,
          18.92,
          18.97,
          19.34,
          20.65,
          20.63,
          20.36,
          20.37,
          19.96,
          20.55,
          20.07,
          19.32,
          21.32,
          19.54,
          19.64,
          19.47,
          19.67,
          19.5,
          19.99,
          19.69,
          19.82,
          19.99,
          19.8,
          19.43,
          20.07,
          19.53,
          19.21,
          19.5,
          19.05,
          19.18,
          19.59,
          20.27,
          20.03,
          20.09,
          20.23,
          20.44,
          20.19,
          20.43,
          19.78,
          19.6,
          19.47,
          19.63,
          19.96,
          20.25,
          19.87,
          19.42,
          20.38,
          20.51,
          20.98,
          19.9,
          19.99,
          19.48,
          20.6,
          19.81,
          19.56,
          19.54,
          19.61,
          19.93,
          18.76,
          18.56,
          18.34,
          18.59,
          19.72,
          19.69,
          19.41,
          19.36,
          20.45,
          19.35,
          19.38,
          19.35,
          19.38,
          20.38,
          19.74,
          20.65,
          19.77,
          20.04,
          19.18,
          19.64,
          19.9,
          19.98,
          19.87,
          19.48,
          19.42,
          19.4,
          20.62,
          19.2,
          19.31,
          18.96,
          18.5,
          18.93,
          19.42,
          19.15,
          19.89,
          19.38,
          19.24,
          19.04,
          18.88,
          18.73,
          18.89,
          18.57,
          18.58,
          18.62,
          18.79,
          18.83,
          18.58,
          19.32,
          19.96,
          19.66,
          19.43,
          19.11,
          19.77,
          19.91,
          19.64,
          19.3,
          19.05,
          18.85,
          19.49,
          19.3,
          19.66,
          20.41,
          20.54,
          19.17,
          19.87,
          19.69,
          20.17,
          20.46,
          20.9,
          20.05,
          19.77,
          19.97,
          19.69,
          19.56,
          19.74,
          18.85,
          19.33,
          19.72,
          19.99,
          19.09,
          19.04,
          19.21,
          19.32,
          19.42,
          19.37,
          19.29,
          18.74,
          19.63,
          19.63,
          19.52,
          19.5,
          19.66,
          19.74,
          20.09,
          19.17,
          19.36,
          19.43,
          19.81,
          19.11,
          18.95,
          19.12,
          18.82,
          19.79,
          19.78,
          19.1,
          19.46,
          20.12,
          20.71,
          19.73,
          19.52,
          19.56,
          19.87,
          19.02,
          19.15,
          19.76,
          18.9,
          18.71,
          18.69,
          18.68,
          18.95
         ]
        }
       ],
       "layout": {}
      },
      "text/html": [
       "<div id=\"c7fffc37-31fd-4c0f-9baf-95998ea7e880\" style=\"height: 525px; width: 100%;\" class=\"plotly-graph-div\"></div><script type=\"text/javascript\">require([\"plotly\"], function(Plotly) { window.PLOTLYENV=window.PLOTLYENV || {};window.PLOTLYENV.BASE_URL=\"https://plot.ly\";Plotly.newPlot(\"c7fffc37-31fd-4c0f-9baf-95998ea7e880\", [{\"y\": [19.0, 18.82, 19.02, 18.83, 18.75, 18.91, 19.15, 19.16, 20.38, 19.48, 20.67, 19.91, 19.94, 19.28, 19.26, 19.65, 19.69, 19.17, 19.48, 19.47, 19.27, 19.47, 19.73, 19.57, 19.29, 20.16, 20.22, 20.08, 19.99, 20.49, 18.35, 19.42, 19.89, 19.84, 19.58, 20.56, 19.49, 19.76, 20.28, 19.73, 18.92, 18.97, 19.34, 20.65, 20.63, 20.36, 20.37, 19.96, 20.55, 20.07, 19.32, 21.32, 19.54, 19.64, 19.47, 19.67, 19.5, 19.99, 19.69, 19.82, 19.99, 19.8, 19.43, 20.07, 19.53, 19.21, 19.5, 19.05, 19.18, 19.59, 20.27, 20.03, 20.09, 20.23, 20.44, 20.19, 20.43, 19.78, 19.6, 19.47, 19.63, 19.96, 20.25, 19.87, 19.42, 20.38, 20.51, 20.98, 19.9, 19.99, 19.48, 20.6, 19.81, 19.56, 19.54, 19.61, 19.93, 18.76, 18.56, 18.34, 18.59, 19.72, 19.69, 19.41, 19.36, 20.45, 19.35, 19.38, 19.35, 19.38, 20.38, 19.74, 20.65, 19.77, 20.04, 19.18, 19.64, 19.9, 19.98, 19.87, 19.48, 19.42, 19.4, 20.62, 19.2, 19.31, 18.96, 18.5, 18.93, 19.42, 19.15, 19.89, 19.38, 19.24, 19.04, 18.88, 18.73, 18.89, 18.57, 18.58, 18.62, 18.79, 18.83, 18.58, 19.32, 19.96, 19.66, 19.43, 19.11, 19.77, 19.91, 19.64, 19.3, 19.05, 18.85, 19.49, 19.3, 19.66, 20.41, 20.54, 19.17, 19.87, 19.69, 20.17, 20.46, 20.9, 20.05, 19.77, 19.97, 19.69, 19.56, 19.74, 18.85, 19.33, 19.72, 19.99, 19.09, 19.04, 19.21, 19.32, 19.42, 19.37, 19.29, 18.74, 19.63, 19.63, 19.52, 19.5, 19.66, 19.74, 20.09, 19.17, 19.36, 19.43, 19.81, 19.11, 18.95, 19.12, 18.82, 19.79, 19.78, 19.1, 19.46, 20.12, 20.71, 19.73, 19.52, 19.56, 19.87, 19.02, 19.15, 19.76, 18.9, 18.71, 18.69, 18.68, 18.95], \"name\": 4086, \"x\": [\"2005-12-07 09:49:15.744000\", \"2005-12-07 09:59:55.968000\", \"2005-12-07 10:10:36.192000\", \"2005-12-07 10:21:12.960000\", \"2005-12-30 09:02:13.920000\", \"2005-12-30 09:13:31.296000\", \"2005-12-30 09:24:46.944000\", \"2005-12-30 09:36:23.328000\", \"2006-04-27 05:22:20.640000\", \"2006-04-27 05:43:38.496000\", \"2006-04-27 05:54:18.720000\", \"2006-12-26 09:31:36.480000\", \"2006-02-04 07:03:21.600000\", \"2006-02-04 07:15:45.504000\", \"2006-02-04 07:28:05.088000\", \"2006-02-04 07:40:27.264000\", \"2006-01-06 09:17:21.984000\", \"2006-01-06 09:27:26.784000\", \"2006-01-06 09:37:30.720000\", \"2006-01-06 09:47:41.568000\", \"2006-01-22 09:07:57.792000\", \"2006-01-22 09:20:13.920000\", \"2006-01-22 09:32:39.552000\", \"2006-01-27 08:03:11.520000\", \"2006-01-27 08:16:39.360000\", \"2006-03-02 07:28:57.792000\", \"2006-03-02 07:40:07.392000\", \"2006-03-02 07:51:18.720000\", \"2006-03-02 08:02:29.184000\", \"2006-05-05 06:37:02.208000\", \"2006-05-05 06:44:50.496000\", \"2006-05-05 07:00:26.208000\", \"2006-05-29 03:42:31.392000\", \"2006-05-29 03:51:50.400000\", \"2006-05-29 04:01:08.544000\", \"2006-11-27 09:52:42.240000\", \"2007-04-18 05:56:05.856000\", \"2007-04-18 06:09:44.928000\", \"2007-04-18 06:22:48.576000\", \"2007-04-18 06:35:34.944000\", \"2007-12-18 08:17:33.792000\", \"2007-12-18 08:26:59.712000\", \"2007-12-18 08:46:06.240000\", \"2007-02-27 04:45:48.672000\", \"2007-02-27 04:56:03.840000\", \"2007-02-27 05:06:19.872000\", \"2007-02-27 05:16:33.312000\", \"2007-06-08 04:34:06.240000\", \"2007-06-08 04:45:34.848000\", \"2007-06-08 05:08:38.112000\", \"2007-06-13 04:11:28.896000\", \"2007-06-13 04:46:00.768000\", \"2007-03-10 05:22:13.728000\", \"2007-03-10 05:34:02.208000\", \"2007-03-10 05:45:46.368000\", \"2007-03-10 05:57:33.984000\", \"2007-03-17 07:16:15.744000\", \"2007-03-17 07:28:28.416000\", \"2007-03-17 07:40:35.904000\", \"2007-03-17 07:52:34.752000\", \"2008-04-01 06:08:21.120000\", \"2008-04-01 06:22:41.664000\", \"2008-04-01 06:36:53.568000\", \"2008-04-01 06:51:03.744000\", \"2008-04-10 05:52:20.352000\", \"2008-04-10 06:01:48.864000\", \"2008-04-10 06:11:17.376000\", \"2008-04-10 06:20:46.752000\", \"2008-04-16 06:00:15.552000\", \"2008-04-16 06:08:24.576000\", \"2008-04-28 05:09:09.216000\", \"2008-04-28 05:18:29.952000\", \"2008-04-28 05:27:45.504000\", \"2008-04-28 05:37:03.648000\", \"2008-12-05 09:52:54.336000\", \"2008-12-05 10:15:55.872000\", \"2008-12-05 10:27:29.664000\", \"2008-02-11 06:50:53.376000\", \"2008-02-11 07:00:52.128000\", \"2008-02-11 07:10:52.608000\", \"2008-03-05 07:18:05.472000\", \"2008-03-05 07:26:04.128000\", \"2008-03-05 07:33:55.872000\", \"2008-03-05 07:41:53.664000\", \"2008-03-23 08:40:44.832000\", \"2008-03-23 08:58:27.552000\", \"2008-05-08 06:42:02.016000\", \"2008-05-08 06:52:56.928000\", \"2008-05-08 07:03:50.976000\", \"2008-05-08 07:14:43.296000\", \"2009-04-01 07:19:54.336000\", \"2009-04-01 07:31:15.168000\", \"2009-04-01 07:42:41.184000\", \"2009-04-20 05:20:40.416000\", \"2009-04-20 05:29:09.312000\", \"2009-04-20 05:37:49.440000\", \"2009-04-20 05:46:32.160000\", \"2009-12-18 09:46:04.800000\", \"2009-12-18 09:52:39.648000\", \"2009-12-18 09:59:19.680000\", \"2009-12-18 10:05:59.712000\", \"2009-02-13 09:27:02.592000\", \"2009-02-13 09:42:26.208000\", \"2009-02-13 09:50:15.360000\", \"2009-02-22 05:32:46.176000\", \"2009-02-22 05:48:22.752000\", \"2009-03-02 05:01:28.704000\", \"2009-03-02 05:13:43.104000\", \"2009-03-02 05:26:06.144000\", \"2009-03-02 05:38:52.512000\", \"2009-03-21 04:42:14.400000\", \"2009-03-21 04:50:07.008000\", \"2009-03-21 04:58:02.208000\", \"2009-03-21 05:06:06.912000\", \"2009-05-01 06:52:56.064000\", \"2009-05-01 07:15:38.592000\", \"2009-05-01 07:27:01.152000\", \"2009-05-24 05:11:03.264000\", \"2009-05-24 05:19:38.208000\", \"2009-05-24 05:31:41.376000\", \"2009-05-24 05:45:56.736000\", \"2010-04-11 02:59:46.176000\", \"2010-04-11 03:10:50.592000\", \"2010-04-11 03:21:49.824000\", \"2010-04-11 03:32:54.240000\", \"2010-07-04 04:02:02.976000\", \"2010-07-04 04:03:39.744000\", \"2010-07-04 04:05:19.968000\", \"2010-07-04 04:07:00.192000\", \"2010-06-07 03:49:33.024000\", \"2010-06-07 03:56:06.144000\", \"2010-06-07 04:02:37.536000\", \"2010-06-07 04:09:13.248000\", \"2010-03-17 04:48:17.280000\", \"2010-03-17 04:55:43.968000\", \"2010-03-17 05:03:11.520000\", \"2010-05-07 05:03:06.336000\", \"2010-05-07 05:11:24\", \"2010-05-07 05:19:38.208000\", \"2010-05-07 05:27:52.416000\", \"2010-05-21 04:27:51.264000\", \"2010-05-21 04:38:37.536000\", \"2010-05-21 04:49:20.352000\", \"2010-05-21 05:00:05.760000\", \"2011-02-06 10:33:58.464000\", \"2011-02-06 10:45:03.744000\", \"2011-02-06 10:56:03.840000\", \"2011-02-06 11:07:01.344000\", \"2011-06-11 04:08:34.368000\", \"2011-03-06 08:21:24.480000\", \"2011-03-06 08:29:44.736000\", \"2011-03-06 08:38:08.448000\", \"2011-03-06 08:46:22.656000\", \"2011-03-12 08:26:39.840000\", \"2011-03-12 08:33:20.736000\", \"2011-03-12 08:39:59.904000\", \"2011-03-12 08:46:39.936000\", \"2011-05-04 04:32:23.424000\", \"2011-11-30 12:18:40.608000\", \"2011-11-30 12:28:31.584000\", \"2011-11-30 12:48:25.632000\", \"2012-01-19 11:05:16.800000\", \"2012-01-19 11:13:13.728000\", \"2012-01-19 11:21:14.112000\", \"2012-01-19 11:29:11.904000\", \"2012-02-24 06:29:34.656000\", \"2012-03-30 05:45:09.216000\", \"2012-03-30 05:54:01.440000\", \"2012-03-30 06:11:49.344000\", \"2012-04-28 05:40:04.224000\", \"2012-04-28 06:04:46.848000\", \"2012-04-28 06:17:06.432000\", \"2012-05-20 05:52:39.360000\", \"2012-05-20 06:02:25.152000\", \"2012-05-20 06:12:12.672000\", \"2012-05-20 06:22:10.560000\", \"2012-06-14 03:58:26.976000\", \"2012-06-14 04:05:48.480000\", \"2012-06-14 04:13:15.168000\", \"2012-06-14 04:20:37.536000\", \"2012-06-22 03:54:17.280000\", \"2012-06-22 04:01:37.056000\", \"2012-06-22 04:09:07.200000\", \"2012-06-22 04:16:36.480000\", \"2012-12-12 11:58:35.328000\", \"2012-12-12 12:06:49.536000\", \"2012-12-12 12:14:58.560000\", \"2012-12-12 12:23:17.088000\", \"2013-01-18 08:30:13.248000\", \"2013-01-18 08:38:18.816000\", \"2013-01-18 08:46:30.432000\", \"2013-02-01 12:47:29.472000\", \"2013-02-01 12:52:37.056000\", \"2013-02-01 12:57:42.048000\", \"2013-02-01 13:02:47.904000\", \"2013-02-11 07:57:12.960000\", \"2013-02-11 08:05:53.952000\", \"2013-02-11 08:13:49.152000\", \"2013-02-11 08:21:36.576000\", \"2013-03-16 05:44:26.016000\", \"2013-03-16 05:57:35.712000\", \"2013-03-16 06:10:44.544000\", \"2013-03-16 06:23:36.960000\", \"2013-04-08 05:34:31.584000\", \"2013-04-08 05:42:39.744000\", \"2013-04-08 05:50:47.904000\", \"2013-04-08 05:58:56.928000\", \"2013-04-19 04:20:15.936000\", \"2013-04-19 04:30:31.104000\", \"2013-05-08 03:51:32.256000\", \"2013-05-08 04:00:28.800000\", \"2013-05-08 04:09:27.936000\", \"2013-05-08 04:18:21.888000\", \"2013-06-07 03:54:23.328000\", \"2013-06-07 04:03:10.368000\", \"2013-06-07 04:11:59.136000\", \"2013-06-07 04:20:47.040000\"], \"type\": \"scatter\", \"mode\": \"markers\"}], {}, {\"showLink\": true, \"linkText\": \"Export to plot.ly\"})});</script>"
      ],
      "text/vnd.plotly.v1+html": [
       "<div id=\"c7fffc37-31fd-4c0f-9baf-95998ea7e880\" style=\"height: 525px; width: 100%;\" class=\"plotly-graph-div\"></div><script type=\"text/javascript\">require([\"plotly\"], function(Plotly) { window.PLOTLYENV=window.PLOTLYENV || {};window.PLOTLYENV.BASE_URL=\"https://plot.ly\";Plotly.newPlot(\"c7fffc37-31fd-4c0f-9baf-95998ea7e880\", [{\"y\": [19.0, 18.82, 19.02, 18.83, 18.75, 18.91, 19.15, 19.16, 20.38, 19.48, 20.67, 19.91, 19.94, 19.28, 19.26, 19.65, 19.69, 19.17, 19.48, 19.47, 19.27, 19.47, 19.73, 19.57, 19.29, 20.16, 20.22, 20.08, 19.99, 20.49, 18.35, 19.42, 19.89, 19.84, 19.58, 20.56, 19.49, 19.76, 20.28, 19.73, 18.92, 18.97, 19.34, 20.65, 20.63, 20.36, 20.37, 19.96, 20.55, 20.07, 19.32, 21.32, 19.54, 19.64, 19.47, 19.67, 19.5, 19.99, 19.69, 19.82, 19.99, 19.8, 19.43, 20.07, 19.53, 19.21, 19.5, 19.05, 19.18, 19.59, 20.27, 20.03, 20.09, 20.23, 20.44, 20.19, 20.43, 19.78, 19.6, 19.47, 19.63, 19.96, 20.25, 19.87, 19.42, 20.38, 20.51, 20.98, 19.9, 19.99, 19.48, 20.6, 19.81, 19.56, 19.54, 19.61, 19.93, 18.76, 18.56, 18.34, 18.59, 19.72, 19.69, 19.41, 19.36, 20.45, 19.35, 19.38, 19.35, 19.38, 20.38, 19.74, 20.65, 19.77, 20.04, 19.18, 19.64, 19.9, 19.98, 19.87, 19.48, 19.42, 19.4, 20.62, 19.2, 19.31, 18.96, 18.5, 18.93, 19.42, 19.15, 19.89, 19.38, 19.24, 19.04, 18.88, 18.73, 18.89, 18.57, 18.58, 18.62, 18.79, 18.83, 18.58, 19.32, 19.96, 19.66, 19.43, 19.11, 19.77, 19.91, 19.64, 19.3, 19.05, 18.85, 19.49, 19.3, 19.66, 20.41, 20.54, 19.17, 19.87, 19.69, 20.17, 20.46, 20.9, 20.05, 19.77, 19.97, 19.69, 19.56, 19.74, 18.85, 19.33, 19.72, 19.99, 19.09, 19.04, 19.21, 19.32, 19.42, 19.37, 19.29, 18.74, 19.63, 19.63, 19.52, 19.5, 19.66, 19.74, 20.09, 19.17, 19.36, 19.43, 19.81, 19.11, 18.95, 19.12, 18.82, 19.79, 19.78, 19.1, 19.46, 20.12, 20.71, 19.73, 19.52, 19.56, 19.87, 19.02, 19.15, 19.76, 18.9, 18.71, 18.69, 18.68, 18.95], \"name\": 4086, \"x\": [\"2005-12-07 09:49:15.744000\", \"2005-12-07 09:59:55.968000\", \"2005-12-07 10:10:36.192000\", \"2005-12-07 10:21:12.960000\", \"2005-12-30 09:02:13.920000\", \"2005-12-30 09:13:31.296000\", \"2005-12-30 09:24:46.944000\", \"2005-12-30 09:36:23.328000\", \"2006-04-27 05:22:20.640000\", \"2006-04-27 05:43:38.496000\", \"2006-04-27 05:54:18.720000\", \"2006-12-26 09:31:36.480000\", \"2006-02-04 07:03:21.600000\", \"2006-02-04 07:15:45.504000\", \"2006-02-04 07:28:05.088000\", \"2006-02-04 07:40:27.264000\", \"2006-01-06 09:17:21.984000\", \"2006-01-06 09:27:26.784000\", \"2006-01-06 09:37:30.720000\", \"2006-01-06 09:47:41.568000\", \"2006-01-22 09:07:57.792000\", \"2006-01-22 09:20:13.920000\", \"2006-01-22 09:32:39.552000\", \"2006-01-27 08:03:11.520000\", \"2006-01-27 08:16:39.360000\", \"2006-03-02 07:28:57.792000\", \"2006-03-02 07:40:07.392000\", \"2006-03-02 07:51:18.720000\", \"2006-03-02 08:02:29.184000\", \"2006-05-05 06:37:02.208000\", \"2006-05-05 06:44:50.496000\", \"2006-05-05 07:00:26.208000\", \"2006-05-29 03:42:31.392000\", \"2006-05-29 03:51:50.400000\", \"2006-05-29 04:01:08.544000\", \"2006-11-27 09:52:42.240000\", \"2007-04-18 05:56:05.856000\", \"2007-04-18 06:09:44.928000\", \"2007-04-18 06:22:48.576000\", \"2007-04-18 06:35:34.944000\", \"2007-12-18 08:17:33.792000\", \"2007-12-18 08:26:59.712000\", \"2007-12-18 08:46:06.240000\", \"2007-02-27 04:45:48.672000\", \"2007-02-27 04:56:03.840000\", \"2007-02-27 05:06:19.872000\", \"2007-02-27 05:16:33.312000\", \"2007-06-08 04:34:06.240000\", \"2007-06-08 04:45:34.848000\", \"2007-06-08 05:08:38.112000\", \"2007-06-13 04:11:28.896000\", \"2007-06-13 04:46:00.768000\", \"2007-03-10 05:22:13.728000\", \"2007-03-10 05:34:02.208000\", \"2007-03-10 05:45:46.368000\", \"2007-03-10 05:57:33.984000\", \"2007-03-17 07:16:15.744000\", \"2007-03-17 07:28:28.416000\", \"2007-03-17 07:40:35.904000\", \"2007-03-17 07:52:34.752000\", \"2008-04-01 06:08:21.120000\", \"2008-04-01 06:22:41.664000\", \"2008-04-01 06:36:53.568000\", \"2008-04-01 06:51:03.744000\", \"2008-04-10 05:52:20.352000\", \"2008-04-10 06:01:48.864000\", \"2008-04-10 06:11:17.376000\", \"2008-04-10 06:20:46.752000\", \"2008-04-16 06:00:15.552000\", \"2008-04-16 06:08:24.576000\", \"2008-04-28 05:09:09.216000\", \"2008-04-28 05:18:29.952000\", \"2008-04-28 05:27:45.504000\", \"2008-04-28 05:37:03.648000\", \"2008-12-05 09:52:54.336000\", \"2008-12-05 10:15:55.872000\", \"2008-12-05 10:27:29.664000\", \"2008-02-11 06:50:53.376000\", \"2008-02-11 07:00:52.128000\", \"2008-02-11 07:10:52.608000\", \"2008-03-05 07:18:05.472000\", \"2008-03-05 07:26:04.128000\", \"2008-03-05 07:33:55.872000\", \"2008-03-05 07:41:53.664000\", \"2008-03-23 08:40:44.832000\", \"2008-03-23 08:58:27.552000\", \"2008-05-08 06:42:02.016000\", \"2008-05-08 06:52:56.928000\", \"2008-05-08 07:03:50.976000\", \"2008-05-08 07:14:43.296000\", \"2009-04-01 07:19:54.336000\", \"2009-04-01 07:31:15.168000\", \"2009-04-01 07:42:41.184000\", \"2009-04-20 05:20:40.416000\", \"2009-04-20 05:29:09.312000\", \"2009-04-20 05:37:49.440000\", \"2009-04-20 05:46:32.160000\", \"2009-12-18 09:46:04.800000\", \"2009-12-18 09:52:39.648000\", \"2009-12-18 09:59:19.680000\", \"2009-12-18 10:05:59.712000\", \"2009-02-13 09:27:02.592000\", \"2009-02-13 09:42:26.208000\", \"2009-02-13 09:50:15.360000\", \"2009-02-22 05:32:46.176000\", \"2009-02-22 05:48:22.752000\", \"2009-03-02 05:01:28.704000\", \"2009-03-02 05:13:43.104000\", \"2009-03-02 05:26:06.144000\", \"2009-03-02 05:38:52.512000\", \"2009-03-21 04:42:14.400000\", \"2009-03-21 04:50:07.008000\", \"2009-03-21 04:58:02.208000\", \"2009-03-21 05:06:06.912000\", \"2009-05-01 06:52:56.064000\", \"2009-05-01 07:15:38.592000\", \"2009-05-01 07:27:01.152000\", \"2009-05-24 05:11:03.264000\", \"2009-05-24 05:19:38.208000\", \"2009-05-24 05:31:41.376000\", \"2009-05-24 05:45:56.736000\", \"2010-04-11 02:59:46.176000\", \"2010-04-11 03:10:50.592000\", \"2010-04-11 03:21:49.824000\", \"2010-04-11 03:32:54.240000\", \"2010-07-04 04:02:02.976000\", \"2010-07-04 04:03:39.744000\", \"2010-07-04 04:05:19.968000\", \"2010-07-04 04:07:00.192000\", \"2010-06-07 03:49:33.024000\", \"2010-06-07 03:56:06.144000\", \"2010-06-07 04:02:37.536000\", \"2010-06-07 04:09:13.248000\", \"2010-03-17 04:48:17.280000\", \"2010-03-17 04:55:43.968000\", \"2010-03-17 05:03:11.520000\", \"2010-05-07 05:03:06.336000\", \"2010-05-07 05:11:24\", \"2010-05-07 05:19:38.208000\", \"2010-05-07 05:27:52.416000\", \"2010-05-21 04:27:51.264000\", \"2010-05-21 04:38:37.536000\", \"2010-05-21 04:49:20.352000\", \"2010-05-21 05:00:05.760000\", \"2011-02-06 10:33:58.464000\", \"2011-02-06 10:45:03.744000\", \"2011-02-06 10:56:03.840000\", \"2011-02-06 11:07:01.344000\", \"2011-06-11 04:08:34.368000\", \"2011-03-06 08:21:24.480000\", \"2011-03-06 08:29:44.736000\", \"2011-03-06 08:38:08.448000\", \"2011-03-06 08:46:22.656000\", \"2011-03-12 08:26:39.840000\", \"2011-03-12 08:33:20.736000\", \"2011-03-12 08:39:59.904000\", \"2011-03-12 08:46:39.936000\", \"2011-05-04 04:32:23.424000\", \"2011-11-30 12:18:40.608000\", \"2011-11-30 12:28:31.584000\", \"2011-11-30 12:48:25.632000\", \"2012-01-19 11:05:16.800000\", \"2012-01-19 11:13:13.728000\", \"2012-01-19 11:21:14.112000\", \"2012-01-19 11:29:11.904000\", \"2012-02-24 06:29:34.656000\", \"2012-03-30 05:45:09.216000\", \"2012-03-30 05:54:01.440000\", \"2012-03-30 06:11:49.344000\", \"2012-04-28 05:40:04.224000\", \"2012-04-28 06:04:46.848000\", \"2012-04-28 06:17:06.432000\", \"2012-05-20 05:52:39.360000\", \"2012-05-20 06:02:25.152000\", \"2012-05-20 06:12:12.672000\", \"2012-05-20 06:22:10.560000\", \"2012-06-14 03:58:26.976000\", \"2012-06-14 04:05:48.480000\", \"2012-06-14 04:13:15.168000\", \"2012-06-14 04:20:37.536000\", \"2012-06-22 03:54:17.280000\", \"2012-06-22 04:01:37.056000\", \"2012-06-22 04:09:07.200000\", \"2012-06-22 04:16:36.480000\", \"2012-12-12 11:58:35.328000\", \"2012-12-12 12:06:49.536000\", \"2012-12-12 12:14:58.560000\", \"2012-12-12 12:23:17.088000\", \"2013-01-18 08:30:13.248000\", \"2013-01-18 08:38:18.816000\", \"2013-01-18 08:46:30.432000\", \"2013-02-01 12:47:29.472000\", \"2013-02-01 12:52:37.056000\", \"2013-02-01 12:57:42.048000\", \"2013-02-01 13:02:47.904000\", \"2013-02-11 07:57:12.960000\", \"2013-02-11 08:05:53.952000\", \"2013-02-11 08:13:49.152000\", \"2013-02-11 08:21:36.576000\", \"2013-03-16 05:44:26.016000\", \"2013-03-16 05:57:35.712000\", \"2013-03-16 06:10:44.544000\", \"2013-03-16 06:23:36.960000\", \"2013-04-08 05:34:31.584000\", \"2013-04-08 05:42:39.744000\", \"2013-04-08 05:50:47.904000\", \"2013-04-08 05:58:56.928000\", \"2013-04-19 04:20:15.936000\", \"2013-04-19 04:30:31.104000\", \"2013-05-08 03:51:32.256000\", \"2013-05-08 04:00:28.800000\", \"2013-05-08 04:09:27.936000\", \"2013-05-08 04:18:21.888000\", \"2013-06-07 03:54:23.328000\", \"2013-06-07 04:03:10.368000\", \"2013-06-07 04:11:59.136000\", \"2013-06-07 04:20:47.040000\"], \"type\": \"scatter\", \"mode\": \"markers\"}], {}, {\"showLink\": true, \"linkText\": \"Export to plot.ly\"})});</script>"
      ]
     },
     "metadata": {},
     "output_type": "display_data"
    }
   ],
   "source": [
    "iplot([visualize.light_curve_interactive_scatter(df_light_curves_blazars_sample)])"
   ]
  },
  {
   "cell_type": "code",
   "execution_count": 209,
   "metadata": {
    "collapsed": true
   },
   "outputs": [],
   "source": [
    "index_agn_light_curve = 10\n",
    "# Get sample\n",
    "df_light_curves_agn_sample = df_light_curves_agn[\n",
    "    df_light_curves_agn.ObjectID == df_light_curves_agn.ObjectID.unique()[index_agn_light_curve]\n",
    "]"
   ]
  },
  {
   "cell_type": "code",
   "execution_count": 210,
   "metadata": {},
   "outputs": [
    {
     "data": {
      "application/vnd.plotly.v1+json": {
       "data": [
        {
         "mode": "markers",
         "name": 4482,
         "type": "scatter",
         "x": [
          "2005-12-10 11:03:57.312000",
          "2005-12-10 11:14:56.544000",
          "2005-12-10 11:25:58.368000",
          "2005-12-10 11:36:59.328000",
          "2005-06-10 05:13:18.912000",
          "2005-06-10 05:24:00",
          "2005-06-10 05:34:30.720000",
          "2005-06-10 05:45:02.304000",
          "2006-02-03 09:32:16.224000",
          "2006-02-03 10:07:25.248000",
          "2006-03-05 06:59:43.872000",
          "2006-03-05 07:09:17.568000",
          "2006-03-05 07:18:56.448000",
          "2006-03-05 07:28:45.696000",
          "2006-05-11 06:56:54.528000",
          "2006-05-29 05:39:27.936000",
          "2006-05-29 05:48:58.176000",
          "2006-05-29 05:58:34.464000",
          "2006-05-29 06:08:06.432000",
          "2007-04-14 08:49:35.328000",
          "2007-04-14 08:56:44.736000",
          "2007-04-14 09:03:48.960000",
          "2007-04-14 09:10:49.728000",
          "2007-02-07 09:43:50.880000",
          "2007-02-07 09:56:25.152000",
          "2007-02-07 10:02:43.584000",
          "2007-06-19 05:27:30.816000",
          "2007-06-19 06:00:27.648000",
          "2007-06-28 05:13:14.592000",
          "2007-06-28 05:19:33.024000",
          "2007-03-13 07:12:32.832000",
          "2007-03-13 07:20:34.080000",
          "2007-03-13 07:28:25.824000",
          "2007-03-13 07:36:16.704000",
          "2007-03-19 08:51:18.144000",
          "2007-03-19 09:00:41.472000",
          "2007-03-19 09:10:06.528000",
          "2007-03-19 09:19:28.128000",
          "2007-05-18 07:03:04.320000",
          "2007-05-18 07:10:11.136000",
          "2007-05-18 07:17:17.952000",
          "2007-05-26 06:04:16.608000",
          "2008-12-03 12:31:15.744000",
          "2008-12-03 12:39:11.808000",
          "2008-12-03 12:46:54.912000",
          "2008-12-03 12:54:51.840000",
          "2008-02-19 07:13:12.576000",
          "2009-04-26 06:41:57.696000",
          "2009-04-26 06:49:01.920000",
          "2009-04-26 06:56:26.016000",
          "2009-04-29 07:09:53.856000",
          "2009-04-29 07:17:35.232000",
          "2009-04-29 07:25:20.064000",
          "2009-02-14 11:32:56.544000",
          "2009-02-14 11:40:47.424000",
          "2009-02-14 11:56:28.320000",
          "2009-02-24 08:17:41.568000",
          "2009-02-24 08:23:49.632000",
          "2009-02-24 08:30:03.744000",
          "2009-02-24 08:36:19.584000",
          "2009-01-31 06:24:28.800000",
          "2009-01-31 06:35:09.888000",
          "2009-01-31 06:45:51.840000",
          "2009-01-31 06:56:32.064000",
          "2009-06-23 04:25:51.168000",
          "2009-06-23 04:36:12.384000",
          "2009-06-23 04:46:37.056000",
          "2009-06-23 04:57:02.592000",
          "2009-03-02 09:58:57.216000",
          "2009-03-02 10:08:49.920000",
          "2009-03-02 10:18:43.488000",
          "2009-03-02 10:28:39.648000",
          "2009-03-22 05:46:33.024000",
          "2009-03-22 06:00:19.872000",
          "2009-03-22 06:06:31.392000",
          "2009-03-22 06:12:46.368000",
          "2009-03-30 06:41:42.144000",
          "2009-03-30 06:51:44.352000",
          "2009-03-30 07:01:46.560000",
          "2009-03-30 07:11:41.856000",
          "2009-05-18 07:20:40.992000",
          "2009-05-18 07:37:25.824000",
          "2009-05-18 07:45:47.808000",
          "2010-04-12 08:32:59.136000",
          "2010-04-12 08:42:40.608000",
          "2010-04-12 08:52:23.808000",
          "2010-04-12 09:02:05.280000",
          "2010-06-04 04:00:02.016000",
          "2010-06-04 04:04:28.128000",
          "2010-06-04 04:09:00.288000",
          "2010-03-18 08:21:13.248000",
          "2010-03-18 08:27:02.304000",
          "2010-03-18 08:32:51.360000",
          "2010-03-18 08:38:43.872000",
          "2010-03-26 06:00:43.200000",
          "2010-05-10 06:35:40.128000",
          "2010-05-10 06:45:38.880000",
          "2010-05-10 06:55:39.360000",
          "2010-05-10 07:05:42.432000",
          "2011-04-27 03:55:57.504000",
          "2011-04-27 04:04:08.256000",
          "2011-04-27 04:12:22.464000",
          "2011-04-27 04:20:38.400000",
          "2011-03-12 09:43:10.272000",
          "2011-03-12 09:51:35.712000",
          "2011-03-12 09:59:07.584000",
          "2011-03-12 10:06:38.592000",
          "2011-03-30 07:05:41.568000",
          "2011-03-30 07:13:06.528000",
          "2011-03-30 07:21:24.192000",
          "2011-03-30 07:28:59.520000",
          "2011-05-06 04:32:00.096000",
          "2011-05-06 04:39:26.784000",
          "2011-05-06 04:46:56.928000",
          "2011-05-06 04:54:23.616000",
          "2012-01-04 08:45:42.912000",
          "2012-01-04 08:57:14.976000",
          "2012-01-04 09:08:47.904000",
          "2012-01-04 09:20:32.928000",
          "2012-03-17 06:05:25.728000",
          "2012-03-17 06:17:31.488000",
          "2012-03-17 06:29:47.616000",
          "2012-03-17 06:42:06.336000",
          "2012-03-23 08:19:27.840000",
          "2012-03-23 08:27:55.872000",
          "2012-03-23 08:36:24.768000",
          "2012-04-02 06:12:24.768000",
          "2012-04-21 07:18:34.848000",
          "2012-04-21 07:26:59.424000",
          "2012-04-21 07:35:30.912000",
          "2012-04-21 07:43:55.488000",
          "2012-04-22 06:41:50.784000",
          "2012-04-22 06:49:55.488000",
          "2012-05-20 07:35:03.264000",
          "2012-05-20 07:44:45.600000",
          "2013-01-13 11:58:14.592000",
          "2013-01-21 11:48:23.616000",
          "2013-02-23 05:52:21.216000",
          "2013-02-23 06:01:14.304000",
          "2013-02-23 06:19:00.480000",
          "2012-01-29 11:50:01.248000",
          "2012-01-29 12:10:06.528000",
          "2012-01-29 12:20:01.824000",
          "2013-04-15 07:27:07.200000",
          "2013-04-15 07:37:39.648000",
          "2013-04-15 07:48:12.096000",
          "2013-04-15 07:58:48.864000",
          "2013-05-07 06:30:44.640000",
          "2013-05-07 06:43:04.224000",
          "2013-05-07 06:55:28.992000",
          "2013-05-07 07:07:52.032000",
          "2013-06-09 05:38:41.280000",
          "2013-06-09 05:46:26.112000",
          "2013-06-09 05:54:18.720000",
          "2013-06-09 06:02:06.144000",
          "2012-04-22 06:33:44.577997",
          "2012-04-02 06:01:43.635003"
         ],
         "y": [
          18.93,
          18.94,
          20,
          19.11,
          19.85,
          19.51,
          19.67,
          19.61,
          18.77,
          19.12,
          19.25,
          19.07,
          18.9,
          19.29,
          18.56,
          18.88,
          19.22,
          19.16,
          18.97,
          19.66,
          20.86,
          20.11,
          19.41,
          19.18,
          20,
          19.18,
          19.42,
          19.87,
          19.97,
          20.39,
          19.14,
          19.42,
          19.31,
          19.33,
          19.65,
          19.83,
          19.25,
          19.33,
          20.11,
          20.44,
          19.5,
          19.56,
          19.71,
          19.68,
          20.02,
          20.44,
          19.85,
          20.25,
          20.11,
          20.15,
          19.6,
          19.22,
          20.01,
          19.79,
          19.39,
          18.98,
          19.41,
          19.74,
          19.36,
          19.76,
          20.24,
          20.09,
          19.04,
          20.13,
          19.76,
          19.36,
          20.13,
          20.54,
          19.82,
          19.7,
          19.93,
          19.24,
          19.48,
          19.19,
          19.47,
          19.92,
          19.45,
          19.7,
          19.73,
          19.47,
          19.62,
          19.66,
          20.08,
          19.9,
          19.74,
          20.2,
          19.79,
          18.87,
          20.33,
          19.86,
          19.65,
          20.08,
          19.86,
          19.69,
          19.5,
          20.28,
          19.22,
          19.8,
          19.43,
          20.03,
          19.46,
          19.6,
          19.33,
          18.7,
          20,
          19.81,
          19.17,
          19.49,
          19.56,
          19.8,
          19.92,
          19.9,
          19.42,
          19.49,
          20.56,
          19.56,
          19.31,
          18.69,
          19.76,
          19.15,
          19.49,
          19.76,
          19.26,
          19.78,
          19.46,
          19.35,
          19.59,
          19.81,
          19.65,
          19.37,
          19.64,
          18.79,
          19.59,
          19.49,
          19.55,
          19.7,
          19.39,
          19.4,
          19.99,
          19.44,
          19.21,
          20.01,
          19.25,
          19.17,
          19.18,
          19.17,
          18.71,
          18.72,
          19.18,
          18.85,
          19.1,
          18.92,
          19.16,
          19.11,
          18.87,
          19.9854025,
          19.2107045
         ]
        }
       ],
       "layout": {}
      },
      "text/html": [
       "<div id=\"1c22c619-04af-4008-81c6-3ff96bdd0987\" style=\"height: 525px; width: 100%;\" class=\"plotly-graph-div\"></div><script type=\"text/javascript\">require([\"plotly\"], function(Plotly) { window.PLOTLYENV=window.PLOTLYENV || {};window.PLOTLYENV.BASE_URL=\"https://plot.ly\";Plotly.newPlot(\"1c22c619-04af-4008-81c6-3ff96bdd0987\", [{\"y\": [18.93, 18.94, 20.0, 19.11, 19.85, 19.51, 19.67, 19.61, 18.77, 19.12, 19.25, 19.07, 18.9, 19.29, 18.56, 18.88, 19.22, 19.16, 18.97, 19.66, 20.86, 20.11, 19.41, 19.18, 20.0, 19.18, 19.42, 19.87, 19.97, 20.39, 19.14, 19.42, 19.31, 19.33, 19.65, 19.83, 19.25, 19.33, 20.11, 20.44, 19.5, 19.56, 19.71, 19.68, 20.02, 20.44, 19.85, 20.25, 20.11, 20.15, 19.6, 19.22, 20.01, 19.79, 19.39, 18.98, 19.41, 19.74, 19.36, 19.76, 20.24, 20.09, 19.04, 20.13, 19.76, 19.36, 20.13, 20.54, 19.82, 19.7, 19.93, 19.24, 19.48, 19.19, 19.47, 19.92, 19.45, 19.7, 19.73, 19.47, 19.62, 19.66, 20.08, 19.9, 19.74, 20.2, 19.79, 18.87, 20.33, 19.86, 19.65, 20.08, 19.86, 19.69, 19.5, 20.28, 19.22, 19.8, 19.43, 20.03, 19.46, 19.6, 19.33, 18.7, 20.0, 19.81, 19.17, 19.49, 19.56, 19.8, 19.92, 19.9, 19.42, 19.49, 20.56, 19.56, 19.31, 18.69, 19.76, 19.15, 19.49, 19.76, 19.26, 19.78, 19.46, 19.35, 19.59, 19.81, 19.65, 19.37, 19.64, 18.79, 19.59, 19.49, 19.55, 19.7, 19.39, 19.4, 19.99, 19.44, 19.21, 20.01, 19.25, 19.17, 19.18, 19.17, 18.71, 18.72, 19.18, 18.85, 19.1, 18.92, 19.16, 19.11, 18.87, 19.9854025, 19.2107045], \"name\": 4482, \"x\": [\"2005-12-10 11:03:57.312000\", \"2005-12-10 11:14:56.544000\", \"2005-12-10 11:25:58.368000\", \"2005-12-10 11:36:59.328000\", \"2005-06-10 05:13:18.912000\", \"2005-06-10 05:24:00\", \"2005-06-10 05:34:30.720000\", \"2005-06-10 05:45:02.304000\", \"2006-02-03 09:32:16.224000\", \"2006-02-03 10:07:25.248000\", \"2006-03-05 06:59:43.872000\", \"2006-03-05 07:09:17.568000\", \"2006-03-05 07:18:56.448000\", \"2006-03-05 07:28:45.696000\", \"2006-05-11 06:56:54.528000\", \"2006-05-29 05:39:27.936000\", \"2006-05-29 05:48:58.176000\", \"2006-05-29 05:58:34.464000\", \"2006-05-29 06:08:06.432000\", \"2007-04-14 08:49:35.328000\", \"2007-04-14 08:56:44.736000\", \"2007-04-14 09:03:48.960000\", \"2007-04-14 09:10:49.728000\", \"2007-02-07 09:43:50.880000\", \"2007-02-07 09:56:25.152000\", \"2007-02-07 10:02:43.584000\", \"2007-06-19 05:27:30.816000\", \"2007-06-19 06:00:27.648000\", \"2007-06-28 05:13:14.592000\", \"2007-06-28 05:19:33.024000\", \"2007-03-13 07:12:32.832000\", \"2007-03-13 07:20:34.080000\", \"2007-03-13 07:28:25.824000\", \"2007-03-13 07:36:16.704000\", \"2007-03-19 08:51:18.144000\", \"2007-03-19 09:00:41.472000\", \"2007-03-19 09:10:06.528000\", \"2007-03-19 09:19:28.128000\", \"2007-05-18 07:03:04.320000\", \"2007-05-18 07:10:11.136000\", \"2007-05-18 07:17:17.952000\", \"2007-05-26 06:04:16.608000\", \"2008-12-03 12:31:15.744000\", \"2008-12-03 12:39:11.808000\", \"2008-12-03 12:46:54.912000\", \"2008-12-03 12:54:51.840000\", \"2008-02-19 07:13:12.576000\", \"2009-04-26 06:41:57.696000\", \"2009-04-26 06:49:01.920000\", \"2009-04-26 06:56:26.016000\", \"2009-04-29 07:09:53.856000\", \"2009-04-29 07:17:35.232000\", \"2009-04-29 07:25:20.064000\", \"2009-02-14 11:32:56.544000\", \"2009-02-14 11:40:47.424000\", \"2009-02-14 11:56:28.320000\", \"2009-02-24 08:17:41.568000\", \"2009-02-24 08:23:49.632000\", \"2009-02-24 08:30:03.744000\", \"2009-02-24 08:36:19.584000\", \"2009-01-31 06:24:28.800000\", \"2009-01-31 06:35:09.888000\", \"2009-01-31 06:45:51.840000\", \"2009-01-31 06:56:32.064000\", \"2009-06-23 04:25:51.168000\", \"2009-06-23 04:36:12.384000\", \"2009-06-23 04:46:37.056000\", \"2009-06-23 04:57:02.592000\", \"2009-03-02 09:58:57.216000\", \"2009-03-02 10:08:49.920000\", \"2009-03-02 10:18:43.488000\", \"2009-03-02 10:28:39.648000\", \"2009-03-22 05:46:33.024000\", \"2009-03-22 06:00:19.872000\", \"2009-03-22 06:06:31.392000\", \"2009-03-22 06:12:46.368000\", \"2009-03-30 06:41:42.144000\", \"2009-03-30 06:51:44.352000\", \"2009-03-30 07:01:46.560000\", \"2009-03-30 07:11:41.856000\", \"2009-05-18 07:20:40.992000\", \"2009-05-18 07:37:25.824000\", \"2009-05-18 07:45:47.808000\", \"2010-04-12 08:32:59.136000\", \"2010-04-12 08:42:40.608000\", \"2010-04-12 08:52:23.808000\", \"2010-04-12 09:02:05.280000\", \"2010-06-04 04:00:02.016000\", \"2010-06-04 04:04:28.128000\", \"2010-06-04 04:09:00.288000\", \"2010-03-18 08:21:13.248000\", \"2010-03-18 08:27:02.304000\", \"2010-03-18 08:32:51.360000\", \"2010-03-18 08:38:43.872000\", \"2010-03-26 06:00:43.200000\", \"2010-05-10 06:35:40.128000\", \"2010-05-10 06:45:38.880000\", \"2010-05-10 06:55:39.360000\", \"2010-05-10 07:05:42.432000\", \"2011-04-27 03:55:57.504000\", \"2011-04-27 04:04:08.256000\", \"2011-04-27 04:12:22.464000\", \"2011-04-27 04:20:38.400000\", \"2011-03-12 09:43:10.272000\", \"2011-03-12 09:51:35.712000\", \"2011-03-12 09:59:07.584000\", \"2011-03-12 10:06:38.592000\", \"2011-03-30 07:05:41.568000\", \"2011-03-30 07:13:06.528000\", \"2011-03-30 07:21:24.192000\", \"2011-03-30 07:28:59.520000\", \"2011-05-06 04:32:00.096000\", \"2011-05-06 04:39:26.784000\", \"2011-05-06 04:46:56.928000\", \"2011-05-06 04:54:23.616000\", \"2012-01-04 08:45:42.912000\", \"2012-01-04 08:57:14.976000\", \"2012-01-04 09:08:47.904000\", \"2012-01-04 09:20:32.928000\", \"2012-03-17 06:05:25.728000\", \"2012-03-17 06:17:31.488000\", \"2012-03-17 06:29:47.616000\", \"2012-03-17 06:42:06.336000\", \"2012-03-23 08:19:27.840000\", \"2012-03-23 08:27:55.872000\", \"2012-03-23 08:36:24.768000\", \"2012-04-02 06:12:24.768000\", \"2012-04-21 07:18:34.848000\", \"2012-04-21 07:26:59.424000\", \"2012-04-21 07:35:30.912000\", \"2012-04-21 07:43:55.488000\", \"2012-04-22 06:41:50.784000\", \"2012-04-22 06:49:55.488000\", \"2012-05-20 07:35:03.264000\", \"2012-05-20 07:44:45.600000\", \"2013-01-13 11:58:14.592000\", \"2013-01-21 11:48:23.616000\", \"2013-02-23 05:52:21.216000\", \"2013-02-23 06:01:14.304000\", \"2013-02-23 06:19:00.480000\", \"2012-01-29 11:50:01.248000\", \"2012-01-29 12:10:06.528000\", \"2012-01-29 12:20:01.824000\", \"2013-04-15 07:27:07.200000\", \"2013-04-15 07:37:39.648000\", \"2013-04-15 07:48:12.096000\", \"2013-04-15 07:58:48.864000\", \"2013-05-07 06:30:44.640000\", \"2013-05-07 06:43:04.224000\", \"2013-05-07 06:55:28.992000\", \"2013-05-07 07:07:52.032000\", \"2013-06-09 05:38:41.280000\", \"2013-06-09 05:46:26.112000\", \"2013-06-09 05:54:18.720000\", \"2013-06-09 06:02:06.144000\", \"2012-04-22 06:33:44.577997\", \"2012-04-02 06:01:43.635003\"], \"type\": \"scatter\", \"mode\": \"markers\"}], {}, {\"showLink\": true, \"linkText\": \"Export to plot.ly\"})});</script>"
      ],
      "text/vnd.plotly.v1+html": [
       "<div id=\"1c22c619-04af-4008-81c6-3ff96bdd0987\" style=\"height: 525px; width: 100%;\" class=\"plotly-graph-div\"></div><script type=\"text/javascript\">require([\"plotly\"], function(Plotly) { window.PLOTLYENV=window.PLOTLYENV || {};window.PLOTLYENV.BASE_URL=\"https://plot.ly\";Plotly.newPlot(\"1c22c619-04af-4008-81c6-3ff96bdd0987\", [{\"y\": [18.93, 18.94, 20.0, 19.11, 19.85, 19.51, 19.67, 19.61, 18.77, 19.12, 19.25, 19.07, 18.9, 19.29, 18.56, 18.88, 19.22, 19.16, 18.97, 19.66, 20.86, 20.11, 19.41, 19.18, 20.0, 19.18, 19.42, 19.87, 19.97, 20.39, 19.14, 19.42, 19.31, 19.33, 19.65, 19.83, 19.25, 19.33, 20.11, 20.44, 19.5, 19.56, 19.71, 19.68, 20.02, 20.44, 19.85, 20.25, 20.11, 20.15, 19.6, 19.22, 20.01, 19.79, 19.39, 18.98, 19.41, 19.74, 19.36, 19.76, 20.24, 20.09, 19.04, 20.13, 19.76, 19.36, 20.13, 20.54, 19.82, 19.7, 19.93, 19.24, 19.48, 19.19, 19.47, 19.92, 19.45, 19.7, 19.73, 19.47, 19.62, 19.66, 20.08, 19.9, 19.74, 20.2, 19.79, 18.87, 20.33, 19.86, 19.65, 20.08, 19.86, 19.69, 19.5, 20.28, 19.22, 19.8, 19.43, 20.03, 19.46, 19.6, 19.33, 18.7, 20.0, 19.81, 19.17, 19.49, 19.56, 19.8, 19.92, 19.9, 19.42, 19.49, 20.56, 19.56, 19.31, 18.69, 19.76, 19.15, 19.49, 19.76, 19.26, 19.78, 19.46, 19.35, 19.59, 19.81, 19.65, 19.37, 19.64, 18.79, 19.59, 19.49, 19.55, 19.7, 19.39, 19.4, 19.99, 19.44, 19.21, 20.01, 19.25, 19.17, 19.18, 19.17, 18.71, 18.72, 19.18, 18.85, 19.1, 18.92, 19.16, 19.11, 18.87, 19.9854025, 19.2107045], \"name\": 4482, \"x\": [\"2005-12-10 11:03:57.312000\", \"2005-12-10 11:14:56.544000\", \"2005-12-10 11:25:58.368000\", \"2005-12-10 11:36:59.328000\", \"2005-06-10 05:13:18.912000\", \"2005-06-10 05:24:00\", \"2005-06-10 05:34:30.720000\", \"2005-06-10 05:45:02.304000\", \"2006-02-03 09:32:16.224000\", \"2006-02-03 10:07:25.248000\", \"2006-03-05 06:59:43.872000\", \"2006-03-05 07:09:17.568000\", \"2006-03-05 07:18:56.448000\", \"2006-03-05 07:28:45.696000\", \"2006-05-11 06:56:54.528000\", \"2006-05-29 05:39:27.936000\", \"2006-05-29 05:48:58.176000\", \"2006-05-29 05:58:34.464000\", \"2006-05-29 06:08:06.432000\", \"2007-04-14 08:49:35.328000\", \"2007-04-14 08:56:44.736000\", \"2007-04-14 09:03:48.960000\", \"2007-04-14 09:10:49.728000\", \"2007-02-07 09:43:50.880000\", \"2007-02-07 09:56:25.152000\", \"2007-02-07 10:02:43.584000\", \"2007-06-19 05:27:30.816000\", \"2007-06-19 06:00:27.648000\", \"2007-06-28 05:13:14.592000\", \"2007-06-28 05:19:33.024000\", \"2007-03-13 07:12:32.832000\", \"2007-03-13 07:20:34.080000\", \"2007-03-13 07:28:25.824000\", \"2007-03-13 07:36:16.704000\", \"2007-03-19 08:51:18.144000\", \"2007-03-19 09:00:41.472000\", \"2007-03-19 09:10:06.528000\", \"2007-03-19 09:19:28.128000\", \"2007-05-18 07:03:04.320000\", \"2007-05-18 07:10:11.136000\", \"2007-05-18 07:17:17.952000\", \"2007-05-26 06:04:16.608000\", \"2008-12-03 12:31:15.744000\", \"2008-12-03 12:39:11.808000\", \"2008-12-03 12:46:54.912000\", \"2008-12-03 12:54:51.840000\", \"2008-02-19 07:13:12.576000\", \"2009-04-26 06:41:57.696000\", \"2009-04-26 06:49:01.920000\", \"2009-04-26 06:56:26.016000\", \"2009-04-29 07:09:53.856000\", \"2009-04-29 07:17:35.232000\", \"2009-04-29 07:25:20.064000\", \"2009-02-14 11:32:56.544000\", \"2009-02-14 11:40:47.424000\", \"2009-02-14 11:56:28.320000\", \"2009-02-24 08:17:41.568000\", \"2009-02-24 08:23:49.632000\", \"2009-02-24 08:30:03.744000\", \"2009-02-24 08:36:19.584000\", \"2009-01-31 06:24:28.800000\", \"2009-01-31 06:35:09.888000\", \"2009-01-31 06:45:51.840000\", \"2009-01-31 06:56:32.064000\", \"2009-06-23 04:25:51.168000\", \"2009-06-23 04:36:12.384000\", \"2009-06-23 04:46:37.056000\", \"2009-06-23 04:57:02.592000\", \"2009-03-02 09:58:57.216000\", \"2009-03-02 10:08:49.920000\", \"2009-03-02 10:18:43.488000\", \"2009-03-02 10:28:39.648000\", \"2009-03-22 05:46:33.024000\", \"2009-03-22 06:00:19.872000\", \"2009-03-22 06:06:31.392000\", \"2009-03-22 06:12:46.368000\", \"2009-03-30 06:41:42.144000\", \"2009-03-30 06:51:44.352000\", \"2009-03-30 07:01:46.560000\", \"2009-03-30 07:11:41.856000\", \"2009-05-18 07:20:40.992000\", \"2009-05-18 07:37:25.824000\", \"2009-05-18 07:45:47.808000\", \"2010-04-12 08:32:59.136000\", \"2010-04-12 08:42:40.608000\", \"2010-04-12 08:52:23.808000\", \"2010-04-12 09:02:05.280000\", \"2010-06-04 04:00:02.016000\", \"2010-06-04 04:04:28.128000\", \"2010-06-04 04:09:00.288000\", \"2010-03-18 08:21:13.248000\", \"2010-03-18 08:27:02.304000\", \"2010-03-18 08:32:51.360000\", \"2010-03-18 08:38:43.872000\", \"2010-03-26 06:00:43.200000\", \"2010-05-10 06:35:40.128000\", \"2010-05-10 06:45:38.880000\", \"2010-05-10 06:55:39.360000\", \"2010-05-10 07:05:42.432000\", \"2011-04-27 03:55:57.504000\", \"2011-04-27 04:04:08.256000\", \"2011-04-27 04:12:22.464000\", \"2011-04-27 04:20:38.400000\", \"2011-03-12 09:43:10.272000\", \"2011-03-12 09:51:35.712000\", \"2011-03-12 09:59:07.584000\", \"2011-03-12 10:06:38.592000\", \"2011-03-30 07:05:41.568000\", \"2011-03-30 07:13:06.528000\", \"2011-03-30 07:21:24.192000\", \"2011-03-30 07:28:59.520000\", \"2011-05-06 04:32:00.096000\", \"2011-05-06 04:39:26.784000\", \"2011-05-06 04:46:56.928000\", \"2011-05-06 04:54:23.616000\", \"2012-01-04 08:45:42.912000\", \"2012-01-04 08:57:14.976000\", \"2012-01-04 09:08:47.904000\", \"2012-01-04 09:20:32.928000\", \"2012-03-17 06:05:25.728000\", \"2012-03-17 06:17:31.488000\", \"2012-03-17 06:29:47.616000\", \"2012-03-17 06:42:06.336000\", \"2012-03-23 08:19:27.840000\", \"2012-03-23 08:27:55.872000\", \"2012-03-23 08:36:24.768000\", \"2012-04-02 06:12:24.768000\", \"2012-04-21 07:18:34.848000\", \"2012-04-21 07:26:59.424000\", \"2012-04-21 07:35:30.912000\", \"2012-04-21 07:43:55.488000\", \"2012-04-22 06:41:50.784000\", \"2012-04-22 06:49:55.488000\", \"2012-05-20 07:35:03.264000\", \"2012-05-20 07:44:45.600000\", \"2013-01-13 11:58:14.592000\", \"2013-01-21 11:48:23.616000\", \"2013-02-23 05:52:21.216000\", \"2013-02-23 06:01:14.304000\", \"2013-02-23 06:19:00.480000\", \"2012-01-29 11:50:01.248000\", \"2012-01-29 12:10:06.528000\", \"2012-01-29 12:20:01.824000\", \"2013-04-15 07:27:07.200000\", \"2013-04-15 07:37:39.648000\", \"2013-04-15 07:48:12.096000\", \"2013-04-15 07:58:48.864000\", \"2013-05-07 06:30:44.640000\", \"2013-05-07 06:43:04.224000\", \"2013-05-07 06:55:28.992000\", \"2013-05-07 07:07:52.032000\", \"2013-06-09 05:38:41.280000\", \"2013-06-09 05:46:26.112000\", \"2013-06-09 05:54:18.720000\", \"2013-06-09 06:02:06.144000\", \"2012-04-22 06:33:44.577997\", \"2012-04-02 06:01:43.635003\"], \"type\": \"scatter\", \"mode\": \"markers\"}], {}, {\"showLink\": true, \"linkText\": \"Export to plot.ly\"})});</script>"
      ]
     },
     "metadata": {},
     "output_type": "display_data"
    }
   ],
   "source": [
    "iplot([visualize.light_curve_interactive_scatter(df_light_curves_agn_sample)])"
   ]
  },
  {
   "cell_type": "code",
   "execution_count": null,
   "metadata": {
    "collapsed": true
   },
   "outputs": [],
   "source": []
  }
 ],
 "metadata": {
  "kernelspec": {
   "display_name": "Python 3",
   "language": "python",
   "name": "python3"
  },
  "language_info": {
   "codemirror_mode": {
    "name": "ipython",
    "version": 3
   },
   "file_extension": ".py",
   "mimetype": "text/x-python",
   "name": "python",
   "nbconvert_exporter": "python",
   "pygments_lexer": "ipython3",
   "version": "3.4.0"
  }
 },
 "nbformat": 4,
 "nbformat_minor": 2
}
