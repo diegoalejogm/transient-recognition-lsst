{
 "cells": [
  {
   "cell_type": "code",
   "execution_count": 1,
   "metadata": {
    "collapsed": true
   },
   "outputs": [],
   "source": [
    "In [1]: %load_ext autoreload\n",
    "In [2]: %autoreload 2"
   ]
  },
  {
   "cell_type": "code",
   "execution_count": 2,
   "metadata": {
    "scrolled": true
   },
   "outputs": [],
   "source": [
    "from tools import download, time"
   ]
  },
  {
   "cell_type": "markdown",
   "metadata": {},
   "source": [
    "## 1. Load Data "
   ]
  },
  {
   "cell_type": "markdown",
   "metadata": {},
   "source": [
    "### Load Objects Catalogue"
   ]
  },
  {
   "cell_type": "code",
   "execution_count": 3,
   "metadata": {},
   "outputs": [
    {
     "name": "stdout",
     "output_type": "stream",
     "text": [
      "0:00:00.008698\n"
     ]
    }
   ],
   "source": [
    "df_objects = time.time(\n",
    "    download.all_objects_catalog,\n",
    "    overwrite=False\n",
    ")"
   ]
  },
  {
   "cell_type": "code",
   "execution_count": 4,
   "metadata": {},
   "outputs": [
    {
     "data": {
      "text/html": [
       "<div>\n",
       "<style>\n",
       "    .dataframe thead tr:only-child th {\n",
       "        text-align: right;\n",
       "    }\n",
       "\n",
       "    .dataframe thead th {\n",
       "        text-align: left;\n",
       "    }\n",
       "\n",
       "    .dataframe tbody tr th {\n",
       "        vertical-align: top;\n",
       "    }\n",
       "</style>\n",
       "<table border=\"1\" class=\"dataframe\">\n",
       "  <thead>\n",
       "    <tr style=\"text-align: right;\">\n",
       "      <th></th>\n",
       "      <th>clas</th>\n",
       "      <th>date</th>\n",
       "      <th>dec</th>\n",
       "      <th>ra</th>\n",
       "      <th>Type</th>\n",
       "    </tr>\n",
       "  </thead>\n",
       "  <tbody>\n",
       "    <tr>\n",
       "      <th>0</th>\n",
       "      <td>SN SDSS mag 20,8</td>\n",
       "      <td>20161109.49</td>\n",
       "      <td>20.60814</td>\n",
       "      <td>142.63453</td>\n",
       "      <td>SUPERNOVAE</td>\n",
       "    </tr>\n",
       "    <tr>\n",
       "      <th>1</th>\n",
       "      <td>SN (ATLAS16dsr) SDSS mag</td>\n",
       "      <td>20161109.24</td>\n",
       "      <td>13.91412</td>\n",
       "      <td>57.65194</td>\n",
       "      <td>SUPERNOVAE</td>\n",
       "    </tr>\n",
       "    <tr>\n",
       "      <th>2</th>\n",
       "      <td>SN (ATLAS16dtz) mag 14,5</td>\n",
       "      <td>20161108.48</td>\n",
       "      <td>55.58309</td>\n",
       "      <td>141.31900</td>\n",
       "      <td>SUPERNOVAE</td>\n",
       "    </tr>\n",
       "    <tr>\n",
       "      <th>3</th>\n",
       "      <td>SN SDSS mag &gt;22</td>\n",
       "      <td>20161107.28</td>\n",
       "      <td>23.18541</td>\n",
       "      <td>21.02794</td>\n",
       "      <td>SUPERNOVAE</td>\n",
       "    </tr>\n",
       "    <tr>\n",
       "      <th>4</th>\n",
       "      <td>SN (MLS161020) SDSS mag 21,4</td>\n",
       "      <td>20161106.22</td>\n",
       "      <td>20.34622</td>\n",
       "      <td>10.39148</td>\n",
       "      <td>SUPERNOVAE</td>\n",
       "    </tr>\n",
       "  </tbody>\n",
       "</table>\n",
       "</div>"
      ],
      "text/plain": [
       "                           clas         date       dec         ra        Type\n",
       "0              SN SDSS mag 20,8  20161109.49  20.60814  142.63453  SUPERNOVAE\n",
       "1      SN (ATLAS16dsr) SDSS mag  20161109.24  13.91412   57.65194  SUPERNOVAE\n",
       "2      SN (ATLAS16dtz) mag 14,5  20161108.48  55.58309  141.31900  SUPERNOVAE\n",
       "3               SN SDSS mag >22  20161107.28  23.18541   21.02794  SUPERNOVAE\n",
       "4  SN (MLS161020) SDSS mag 21,4  20161106.22  20.34622   10.39148  SUPERNOVAE"
      ]
     },
     "execution_count": 4,
     "metadata": {},
     "output_type": "execute_result"
    }
   ],
   "source": [
    "df_objects.head()"
   ]
  },
  {
   "cell_type": "markdown",
   "metadata": {},
   "source": [
    "### Load Light Curves"
   ]
  },
  {
   "cell_type": "code",
   "execution_count": 5,
   "metadata": {
    "scrolled": true
   },
   "outputs": [
    {
     "name": "stderr",
     "output_type": "stream",
     "text": [
      "WARNING: OverflowError converting to IntType in column ID, reverting to String. [astropy.io.ascii.fastbasic]\n"
     ]
    },
    {
     "name": "stdout",
     "output_type": "stream",
     "text": [
      "Num. of light curve points : 7337\n",
      "Num. of light curve points : 12770\n",
      "Num. of light curve points : 17582\n",
      "Num. of light curve points : 25050\n",
      "Num. of light curve points : 31968\n",
      "Num. of light curve points : 36073\n",
      "Num. of light curve points : 43399\n",
      "Num. of light curve points : 49639\n",
      "Num. of light curve points : 59833\n",
      "Num. of light curve points : 67777\n",
      "Num. of light curve points : 74775\n",
      "Num. of light curve points : 81272\n",
      "Num. of light curve points : 88614\n",
      "Num. of light curve points : 97249\n",
      "Num. of light curve points : 102528\n",
      "Num. of light curve points : 107113\n",
      "Num. of light curve points : 111710\n",
      "Num. of light curve points : 119021\n",
      "Num. of light curve points : 126990\n",
      "Num. of light curve points : 133611\n",
      "Num. of light curve points : 141903\n",
      "Num. of light curve points : 149926\n",
      "Num. of light curve points : 156989\n",
      "Num. of light curve points : 164841\n",
      "Num. of light curve points : 171786\n",
      "Num. of light curve points : 178642\n",
      "Num. of light curve points : 182195\n",
      "Num. of light curve points : 191735\n",
      "Num. of light curve points : 203102\n",
      "Num. of light curve points : 215144\n",
      "Num. of light curve points : 231366\n",
      "Num. of light curve points : 244925\n",
      "Num. of light curve points : 262067\n",
      "Num. of light curve points : 281929\n",
      "Num. of light curve points : 298599\n",
      "Num. of light curve points : 317127\n",
      "Num. of light curve points : 331923\n",
      "Num. of light curve points : 353635\n",
      "Num. of light curve points : 366052\n",
      "Num. of light curve points : 376517\n",
      "Num. of light curve points : 387946\n",
      "Num. of light curve points : 411687\n",
      "Num. of light curve points : 435658\n",
      "Num. of light curve points : 461236\n",
      "Num. of light curve points : 481587\n",
      "Num. of light curve points : 500276\n",
      "Num. of light curve points : 516577\n",
      "Num. of light curve points : 536049\n",
      "Num. of light curve points : 554559\n",
      "Num. of light curve points : 572615\n",
      "Num. of light curve points : 589627\n",
      "Num. of light curve points : 604107\n",
      "Num. of light curve points : 624177\n",
      "Num. of light curve points : 643834\n",
      "Num. of light curve points : 660134\n",
      "Num. of light curve points : 676764\n",
      "Num. of light curve points : 688637\n",
      "Num. of light curve points : 705990\n",
      "Num. of light curve points : 718797\n",
      "Num. of light curve points : 734954\n",
      "Num. of light curve points : 752361\n",
      "Num. of light curve points : 766110\n",
      "Num. of light curve points : 779805\n",
      "Num. of light curve points : 797150\n",
      "Num. of light curve points : 815146\n",
      "Num. of light curve points : 827385\n",
      "Num. of light curve points : 840626\n",
      "Num. of light curve points : 855875\n",
      "Num. of light curve points : 871321\n",
      "Num. of light curve points : 888731\n",
      "Num. of light curve points : 903441\n",
      "Num. of light curve points : 917878\n",
      "Num. of light curve points : 930703\n",
      "Num. of light curve points : 943763\n",
      "Num. of light curve points : 962787\n",
      "Num. of light curve points : 978712\n",
      "Num. of light curve points : 990819\n",
      "Num. of light curve points : 1003289\n",
      "Num. of light curve points : 1012587\n",
      "Num. of light curve points : 1017673\n",
      "0:00:37.713395\n"
     ]
    }
   ],
   "source": [
    "done = False\n",
    "while not done:\n",
    "    try:\n",
    "        df_light_curves = time.time(\n",
    "            download.all_objects_light_curves,\n",
    "            df_objects,\n",
    "            overwrite=False\n",
    "        )\n",
    "        done = True\n",
    "    except Exception as e:\n",
    "        print('Exception: {}'.format(e))"
   ]
  },
  {
   "cell_type": "code",
   "execution_count": 6,
   "metadata": {},
   "outputs": [
    {
     "data": {
      "text/html": [
       "<div>\n",
       "<style>\n",
       "    .dataframe thead tr:only-child th {\n",
       "        text-align: right;\n",
       "    }\n",
       "\n",
       "    .dataframe thead th {\n",
       "        text-align: left;\n",
       "    }\n",
       "\n",
       "    .dataframe tbody tr th {\n",
       "        vertical-align: top;\n",
       "    }\n",
       "</style>\n",
       "<table border=\"1\" class=\"dataframe\">\n",
       "  <thead>\n",
       "    <tr style=\"text-align: right;\">\n",
       "      <th></th>\n",
       "      <th>InputID</th>\n",
       "      <th>ID</th>\n",
       "      <th>Mag</th>\n",
       "      <th>Magerr</th>\n",
       "      <th>RA</th>\n",
       "      <th>Decl</th>\n",
       "      <th>MJD</th>\n",
       "      <th>Blend</th>\n",
       "    </tr>\n",
       "  </thead>\n",
       "  <tbody>\n",
       "    <tr>\n",
       "      <th>0</th>\n",
       "      <td>0</td>\n",
       "      <td>1121048016831</td>\n",
       "      <td>21.15</td>\n",
       "      <td>0.52</td>\n",
       "      <td>142.63264</td>\n",
       "      <td>20.60759</td>\n",
       "      <td>53739.39280</td>\n",
       "      <td>0</td>\n",
       "    </tr>\n",
       "    <tr>\n",
       "      <th>1</th>\n",
       "      <td>0</td>\n",
       "      <td>1121048016831</td>\n",
       "      <td>20.31</td>\n",
       "      <td>0.33</td>\n",
       "      <td>142.63520</td>\n",
       "      <td>20.60753</td>\n",
       "      <td>53761.33345</td>\n",
       "      <td>0</td>\n",
       "    </tr>\n",
       "    <tr>\n",
       "      <th>2</th>\n",
       "      <td>0</td>\n",
       "      <td>1121048016831</td>\n",
       "      <td>20.73</td>\n",
       "      <td>0.45</td>\n",
       "      <td>142.63637</td>\n",
       "      <td>20.60929</td>\n",
       "      <td>53875.18592</td>\n",
       "      <td>0</td>\n",
       "    </tr>\n",
       "    <tr>\n",
       "      <th>3</th>\n",
       "      <td>0</td>\n",
       "      <td>1121048016831</td>\n",
       "      <td>20.37</td>\n",
       "      <td>0.32</td>\n",
       "      <td>142.63480</td>\n",
       "      <td>20.60820</td>\n",
       "      <td>54054.46708</td>\n",
       "      <td>0</td>\n",
       "    </tr>\n",
       "    <tr>\n",
       "      <th>4</th>\n",
       "      <td>0</td>\n",
       "      <td>1121048016831</td>\n",
       "      <td>20.44</td>\n",
       "      <td>0.36</td>\n",
       "      <td>142.63371</td>\n",
       "      <td>20.60857</td>\n",
       "      <td>54197.14661</td>\n",
       "      <td>0</td>\n",
       "    </tr>\n",
       "  </tbody>\n",
       "</table>\n",
       "</div>"
      ],
      "text/plain": [
       "   InputID             ID    Mag  Magerr         RA      Decl          MJD  \\\n",
       "0        0  1121048016831  21.15    0.52  142.63264  20.60759  53739.39280   \n",
       "1        0  1121048016831  20.31    0.33  142.63520  20.60753  53761.33345   \n",
       "2        0  1121048016831  20.73    0.45  142.63637  20.60929  53875.18592   \n",
       "3        0  1121048016831  20.37    0.32  142.63480  20.60820  54054.46708   \n",
       "4        0  1121048016831  20.44    0.36  142.63371  20.60857  54197.14661   \n",
       "\n",
       "   Blend  \n",
       "0      0  \n",
       "1      0  \n",
       "2      0  \n",
       "3      0  \n",
       "4      0  "
      ]
     },
     "execution_count": 6,
     "metadata": {},
     "output_type": "execute_result"
    }
   ],
   "source": [
    "df_light_curves.head()"
   ]
  },
  {
   "cell_type": "code",
   "execution_count": 7,
   "metadata": {},
   "outputs": [
    {
     "data": {
      "text/plain": [
       "count    7835.000000\n",
       "mean      129.888066\n",
       "std       131.746206\n",
       "min         1.000000\n",
       "25%        28.000000\n",
       "50%        83.000000\n",
       "75%       195.000000\n",
       "max       922.000000\n",
       "Name: Mag, dtype: float64"
      ]
     },
     "execution_count": 7,
     "metadata": {},
     "output_type": "execute_result"
    }
   ],
   "source": [
    "df_light_curves.groupby(['InputID'])['Mag'].count().describe()"
   ]
  },
  {
   "cell_type": "markdown",
   "metadata": {},
   "source": [
    "## 2. Object Catalog Statistics by Type"
   ]
  },
  {
   "cell_type": "markdown",
   "metadata": {},
   "source": [
    "### Supernovae"
   ]
  },
  {
   "cell_type": "code",
   "execution_count": 8,
   "metadata": {},
   "outputs": [
    {
     "data": {
      "text/html": [
       "<div>\n",
       "<style>\n",
       "    .dataframe thead tr:only-child th {\n",
       "        text-align: right;\n",
       "    }\n",
       "\n",
       "    .dataframe thead th {\n",
       "        text-align: left;\n",
       "    }\n",
       "\n",
       "    .dataframe tbody tr th {\n",
       "        vertical-align: top;\n",
       "    }\n",
       "</style>\n",
       "<table border=\"1\" class=\"dataframe\">\n",
       "  <thead>\n",
       "    <tr style=\"text-align: right;\">\n",
       "      <th></th>\n",
       "      <th>clas</th>\n",
       "      <th>date</th>\n",
       "      <th>dec</th>\n",
       "      <th>ra</th>\n",
       "      <th>Type</th>\n",
       "    </tr>\n",
       "  </thead>\n",
       "  <tbody>\n",
       "    <tr>\n",
       "      <th>0</th>\n",
       "      <td>SN SDSS mag 20,8</td>\n",
       "      <td>20161109.49</td>\n",
       "      <td>20.60814</td>\n",
       "      <td>142.63453</td>\n",
       "      <td>SUPERNOVAE</td>\n",
       "    </tr>\n",
       "    <tr>\n",
       "      <th>1</th>\n",
       "      <td>SN (ATLAS16dsr) SDSS mag</td>\n",
       "      <td>20161109.24</td>\n",
       "      <td>13.91412</td>\n",
       "      <td>57.65194</td>\n",
       "      <td>SUPERNOVAE</td>\n",
       "    </tr>\n",
       "    <tr>\n",
       "      <th>2</th>\n",
       "      <td>SN (ATLAS16dtz) mag 14,5</td>\n",
       "      <td>20161108.48</td>\n",
       "      <td>55.58309</td>\n",
       "      <td>141.31900</td>\n",
       "      <td>SUPERNOVAE</td>\n",
       "    </tr>\n",
       "    <tr>\n",
       "      <th>3</th>\n",
       "      <td>SN SDSS mag &gt;22</td>\n",
       "      <td>20161107.28</td>\n",
       "      <td>23.18541</td>\n",
       "      <td>21.02794</td>\n",
       "      <td>SUPERNOVAE</td>\n",
       "    </tr>\n",
       "    <tr>\n",
       "      <th>4</th>\n",
       "      <td>SN (MLS161020) SDSS mag 21,4</td>\n",
       "      <td>20161106.22</td>\n",
       "      <td>20.34622</td>\n",
       "      <td>10.39148</td>\n",
       "      <td>SUPERNOVAE</td>\n",
       "    </tr>\n",
       "  </tbody>\n",
       "</table>\n",
       "</div>"
      ],
      "text/plain": [
       "                           clas         date       dec         ra        Type\n",
       "0              SN SDSS mag 20,8  20161109.49  20.60814  142.63453  SUPERNOVAE\n",
       "1      SN (ATLAS16dsr) SDSS mag  20161109.24  13.91412   57.65194  SUPERNOVAE\n",
       "2      SN (ATLAS16dtz) mag 14,5  20161108.48  55.58309  141.31900  SUPERNOVAE\n",
       "3               SN SDSS mag >22  20161107.28  23.18541   21.02794  SUPERNOVAE\n",
       "4  SN (MLS161020) SDSS mag 21,4  20161106.22  20.34622   10.39148  SUPERNOVAE"
      ]
     },
     "execution_count": 8,
     "metadata": {},
     "output_type": "execute_result"
    }
   ],
   "source": [
    "df_objects_supernovae = df_objects[df_objects['Type'] =='SUPERNOVAE']\n",
    "df_objects_supernovae.head()"
   ]
  },
  {
   "cell_type": "code",
   "execution_count": 9,
   "metadata": {},
   "outputs": [
    {
     "data": {
      "text/plain": [
       "clas    2714\n",
       "date    2714\n",
       "dec     2714\n",
       "ra      2714\n",
       "Type    2714\n",
       "dtype: int64"
      ]
     },
     "execution_count": 9,
     "metadata": {},
     "output_type": "execute_result"
    }
   ],
   "source": [
    "df_objects_supernovae.count()"
   ]
  },
  {
   "cell_type": "markdown",
   "metadata": {},
   "source": [
    "### Cataclysmic Variable Stars"
   ]
  },
  {
   "cell_type": "code",
   "execution_count": 10,
   "metadata": {},
   "outputs": [
    {
     "data": {
      "text/html": [
       "<div>\n",
       "<style>\n",
       "    .dataframe thead tr:only-child th {\n",
       "        text-align: right;\n",
       "    }\n",
       "\n",
       "    .dataframe thead th {\n",
       "        text-align: left;\n",
       "    }\n",
       "\n",
       "    .dataframe tbody tr th {\n",
       "        vertical-align: top;\n",
       "    }\n",
       "</style>\n",
       "<table border=\"1\" class=\"dataframe\">\n",
       "  <thead>\n",
       "    <tr style=\"text-align: right;\">\n",
       "      <th></th>\n",
       "      <th>clas</th>\n",
       "      <th>date</th>\n",
       "      <th>dec</th>\n",
       "      <th>ra</th>\n",
       "      <th>Type</th>\n",
       "    </tr>\n",
       "  </thead>\n",
       "  <tbody>\n",
       "    <tr>\n",
       "      <th>2714</th>\n",
       "      <td>CV SDSS mag &gt;22,5</td>\n",
       "      <td>20161109</td>\n",
       "      <td>61.47645</td>\n",
       "      <td>157.35429</td>\n",
       "      <td>CV</td>\n",
       "    </tr>\n",
       "    <tr>\n",
       "      <th>2715</th>\n",
       "      <td>CV SDSS mag 21,8</td>\n",
       "      <td>20161109</td>\n",
       "      <td>0.22334</td>\n",
       "      <td>127.37297</td>\n",
       "      <td>CV</td>\n",
       "    </tr>\n",
       "    <tr>\n",
       "      <th>2716</th>\n",
       "      <td>CV mag 21</td>\n",
       "      <td>20161023</td>\n",
       "      <td>57.38627</td>\n",
       "      <td>99.82350</td>\n",
       "      <td>CV</td>\n",
       "    </tr>\n",
       "    <tr>\n",
       "      <th>2717</th>\n",
       "      <td>CV (PS1_15aaf) mag 21</td>\n",
       "      <td>20161013</td>\n",
       "      <td>57.27874</td>\n",
       "      <td>93.68036</td>\n",
       "      <td>CV</td>\n",
       "    </tr>\n",
       "    <tr>\n",
       "      <th>2718</th>\n",
       "      <td>CV SDSS mag 21,2</td>\n",
       "      <td>20161012</td>\n",
       "      <td>61.40397</td>\n",
       "      <td>139.18290</td>\n",
       "      <td>CV</td>\n",
       "    </tr>\n",
       "  </tbody>\n",
       "</table>\n",
       "</div>"
      ],
      "text/plain": [
       "                       clas      date       dec         ra Type\n",
       "2714      CV SDSS mag >22,5  20161109  61.47645  157.35429   CV\n",
       "2715       CV SDSS mag 21,8  20161109   0.22334  127.37297   CV\n",
       "2716              CV mag 21  20161023  57.38627   99.82350   CV\n",
       "2717  CV (PS1_15aaf) mag 21  20161013  57.27874   93.68036   CV\n",
       "2718       CV SDSS mag 21,2  20161012  61.40397  139.18290   CV"
      ]
     },
     "execution_count": 10,
     "metadata": {},
     "output_type": "execute_result"
    }
   ],
   "source": [
    "df_objects_cv = df_objects[df_objects['Type'] =='CV']\n",
    "df_objects_cv.head()"
   ]
  },
  {
   "cell_type": "code",
   "execution_count": 11,
   "metadata": {},
   "outputs": [
    {
     "data": {
      "text/plain": [
       "clas    1362\n",
       "date    1362\n",
       "dec     1362\n",
       "ra      1362\n",
       "Type    1362\n",
       "dtype: int64"
      ]
     },
     "execution_count": 11,
     "metadata": {},
     "output_type": "execute_result"
    }
   ],
   "source": [
    "df_objects_cv.count()"
   ]
  },
  {
   "cell_type": "markdown",
   "metadata": {},
   "source": [
    "### Blazars"
   ]
  },
  {
   "cell_type": "code",
   "execution_count": 12,
   "metadata": {},
   "outputs": [
    {
     "data": {
      "text/html": [
       "<div>\n",
       "<style>\n",
       "    .dataframe thead tr:only-child th {\n",
       "        text-align: right;\n",
       "    }\n",
       "\n",
       "    .dataframe thead th {\n",
       "        text-align: left;\n",
       "    }\n",
       "\n",
       "    .dataframe tbody tr th {\n",
       "        vertical-align: top;\n",
       "    }\n",
       "</style>\n",
       "<table border=\"1\" class=\"dataframe\">\n",
       "  <thead>\n",
       "    <tr style=\"text-align: right;\">\n",
       "      <th></th>\n",
       "      <th>clas</th>\n",
       "      <th>date</th>\n",
       "      <th>dec</th>\n",
       "      <th>ra</th>\n",
       "      <th>Type</th>\n",
       "    </tr>\n",
       "  </thead>\n",
       "  <tbody>\n",
       "    <tr>\n",
       "      <th>4076</th>\n",
       "      <td>Blazar PKS_2247-131</td>\n",
       "      <td>20161009</td>\n",
       "      <td>-12.85467</td>\n",
       "      <td>342.49855</td>\n",
       "      <td>BLAZARS</td>\n",
       "    </tr>\n",
       "    <tr>\n",
       "      <th>4077</th>\n",
       "      <td>Blazar (0748+333) SDSS mag 19,6</td>\n",
       "      <td>20161007</td>\n",
       "      <td>33.22214</td>\n",
       "      <td>117.97364</td>\n",
       "      <td>BLAZARS</td>\n",
       "    </tr>\n",
       "    <tr>\n",
       "      <th>4078</th>\n",
       "      <td>Blazar CRATES_J0001+2113</td>\n",
       "      <td>20160709</td>\n",
       "      <td>21.22680</td>\n",
       "      <td>0.38474</td>\n",
       "      <td>BLAZARS</td>\n",
       "    </tr>\n",
       "    <tr>\n",
       "      <th>4079</th>\n",
       "      <td>Blazar SDSS mag 21,3</td>\n",
       "      <td>20160708</td>\n",
       "      <td>52.82354</td>\n",
       "      <td>212.85706</td>\n",
       "      <td>BLAZARS</td>\n",
       "    </tr>\n",
       "    <tr>\n",
       "      <th>4080</th>\n",
       "      <td>Blazar SDSS mag 19,6</td>\n",
       "      <td>20160616</td>\n",
       "      <td>9.97402</td>\n",
       "      <td>177.82208</td>\n",
       "      <td>BLAZARS</td>\n",
       "    </tr>\n",
       "  </tbody>\n",
       "</table>\n",
       "</div>"
      ],
      "text/plain": [
       "                                 clas      date        dec         ra     Type\n",
       "4076              Blazar PKS_2247-131  20161009  -12.85467  342.49855  BLAZARS\n",
       "4077  Blazar (0748+333) SDSS mag 19,6  20161007   33.22214  117.97364  BLAZARS\n",
       "4078         Blazar CRATES_J0001+2113  20160709   21.22680    0.38474  BLAZARS\n",
       "4079             Blazar SDSS mag 21,3  20160708   52.82354  212.85706  BLAZARS\n",
       "4080             Blazar SDSS mag 19,6  20160616    9.97402  177.82208  BLAZARS"
      ]
     },
     "execution_count": 12,
     "metadata": {},
     "output_type": "execute_result"
    }
   ],
   "source": [
    "df_objects_blazars = df_objects[df_objects['Type'] =='BLAZARS']\n",
    "df_objects_blazars.head()"
   ]
  },
  {
   "cell_type": "code",
   "execution_count": 13,
   "metadata": {},
   "outputs": [
    {
     "data": {
      "text/plain": [
       "clas    396\n",
       "date    396\n",
       "dec     396\n",
       "ra      396\n",
       "Type    396\n",
       "dtype: int64"
      ]
     },
     "execution_count": 13,
     "metadata": {},
     "output_type": "execute_result"
    }
   ],
   "source": [
    "df_objects_blazars.count()"
   ]
  },
  {
   "cell_type": "markdown",
   "metadata": {},
   "source": [
    "### AGNs"
   ]
  },
  {
   "cell_type": "code",
   "execution_count": 14,
   "metadata": {},
   "outputs": [
    {
     "data": {
      "text/html": [
       "<div>\n",
       "<style>\n",
       "    .dataframe thead tr:only-child th {\n",
       "        text-align: right;\n",
       "    }\n",
       "\n",
       "    .dataframe thead th {\n",
       "        text-align: left;\n",
       "    }\n",
       "\n",
       "    .dataframe tbody tr th {\n",
       "        vertical-align: top;\n",
       "    }\n",
       "</style>\n",
       "<table border=\"1\" class=\"dataframe\">\n",
       "  <thead>\n",
       "    <tr style=\"text-align: right;\">\n",
       "      <th></th>\n",
       "      <th>clas</th>\n",
       "      <th>date</th>\n",
       "      <th>dec</th>\n",
       "      <th>ra</th>\n",
       "      <th>Type</th>\n",
       "    </tr>\n",
       "  </thead>\n",
       "  <tbody>\n",
       "    <tr>\n",
       "      <th>4472</th>\n",
       "      <td>AGN SDSS mag 21,3</td>\n",
       "      <td>20161107</td>\n",
       "      <td>19.57569</td>\n",
       "      <td>24.14416</td>\n",
       "      <td>AGN</td>\n",
       "    </tr>\n",
       "    <tr>\n",
       "      <th>4473</th>\n",
       "      <td>AGN SDSS mag 22,0</td>\n",
       "      <td>20161107</td>\n",
       "      <td>0.63542</td>\n",
       "      <td>22.13552</td>\n",
       "      <td>AGN</td>\n",
       "    </tr>\n",
       "    <tr>\n",
       "      <th>4474</th>\n",
       "      <td>AGN SDSS mag 20,4</td>\n",
       "      <td>20160904</td>\n",
       "      <td>-9.70794</td>\n",
       "      <td>30.53147</td>\n",
       "      <td>AGN</td>\n",
       "    </tr>\n",
       "    <tr>\n",
       "      <th>4475</th>\n",
       "      <td>AGN SDSS mag 21,1</td>\n",
       "      <td>20160903</td>\n",
       "      <td>-5.47395</td>\n",
       "      <td>347.98532</td>\n",
       "      <td>AGN</td>\n",
       "    </tr>\n",
       "    <tr>\n",
       "      <th>4476</th>\n",
       "      <td>AGN SDSS mag 20,1</td>\n",
       "      <td>20160710</td>\n",
       "      <td>35.99400</td>\n",
       "      <td>254.28421</td>\n",
       "      <td>AGN</td>\n",
       "    </tr>\n",
       "  </tbody>\n",
       "</table>\n",
       "</div>"
      ],
      "text/plain": [
       "                   clas      date       dec         ra Type\n",
       "4472  AGN SDSS mag 21,3  20161107  19.57569   24.14416  AGN\n",
       "4473  AGN SDSS mag 22,0  20161107   0.63542   22.13552  AGN\n",
       "4474  AGN SDSS mag 20,4  20160904  -9.70794   30.53147  AGN\n",
       "4475  AGN SDSS mag 21,1  20160903  -5.47395  347.98532  AGN\n",
       "4476  AGN SDSS mag 20,1  20160710  35.99400  254.28421  AGN"
      ]
     },
     "execution_count": 14,
     "metadata": {},
     "output_type": "execute_result"
    }
   ],
   "source": [
    "df_objects_agn = df_objects[df_objects['Type'] =='AGN']\n",
    "df_objects_agn.head()"
   ]
  },
  {
   "cell_type": "code",
   "execution_count": 15,
   "metadata": {},
   "outputs": [
    {
     "data": {
      "text/plain": [
       "clas    3471\n",
       "date    3471\n",
       "dec     3471\n",
       "ra      3471\n",
       "Type    3471\n",
       "dtype: int64"
      ]
     },
     "execution_count": 15,
     "metadata": {},
     "output_type": "execute_result"
    }
   ],
   "source": [
    "df_objects_agn.count()"
   ]
  },
  {
   "cell_type": "markdown",
   "metadata": {},
   "source": [
    "## 3. Light Curves Catalog Statistics by Type"
   ]
  },
  {
   "cell_type": "markdown",
   "metadata": {},
   "source": [
    "### Supernovae"
   ]
  },
  {
   "cell_type": "code",
   "execution_count": 77,
   "metadata": {},
   "outputs": [
    {
     "data": {
      "text/html": [
       "<div>\n",
       "<style>\n",
       "    .dataframe thead tr:only-child th {\n",
       "        text-align: right;\n",
       "    }\n",
       "\n",
       "    .dataframe thead th {\n",
       "        text-align: left;\n",
       "    }\n",
       "\n",
       "    .dataframe tbody tr th {\n",
       "        vertical-align: top;\n",
       "    }\n",
       "</style>\n",
       "<table border=\"1\" class=\"dataframe\">\n",
       "  <thead>\n",
       "    <tr style=\"text-align: right;\">\n",
       "      <th></th>\n",
       "      <th>InputID</th>\n",
       "      <th>ID</th>\n",
       "      <th>Mag</th>\n",
       "      <th>Magerr</th>\n",
       "      <th>RA</th>\n",
       "      <th>Decl</th>\n",
       "      <th>MJD</th>\n",
       "      <th>Blend</th>\n",
       "    </tr>\n",
       "  </thead>\n",
       "  <tbody>\n",
       "    <tr>\n",
       "      <th>0</th>\n",
       "      <td>0</td>\n",
       "      <td>1121048016831</td>\n",
       "      <td>21.15</td>\n",
       "      <td>0.52</td>\n",
       "      <td>142.63264</td>\n",
       "      <td>20.60759</td>\n",
       "      <td>53739.39280</td>\n",
       "      <td>0</td>\n",
       "    </tr>\n",
       "    <tr>\n",
       "      <th>1</th>\n",
       "      <td>0</td>\n",
       "      <td>1121048016831</td>\n",
       "      <td>20.31</td>\n",
       "      <td>0.33</td>\n",
       "      <td>142.63520</td>\n",
       "      <td>20.60753</td>\n",
       "      <td>53761.33345</td>\n",
       "      <td>0</td>\n",
       "    </tr>\n",
       "    <tr>\n",
       "      <th>2</th>\n",
       "      <td>0</td>\n",
       "      <td>1121048016831</td>\n",
       "      <td>20.73</td>\n",
       "      <td>0.45</td>\n",
       "      <td>142.63637</td>\n",
       "      <td>20.60929</td>\n",
       "      <td>53875.18592</td>\n",
       "      <td>0</td>\n",
       "    </tr>\n",
       "    <tr>\n",
       "      <th>3</th>\n",
       "      <td>0</td>\n",
       "      <td>1121048016831</td>\n",
       "      <td>20.37</td>\n",
       "      <td>0.32</td>\n",
       "      <td>142.63480</td>\n",
       "      <td>20.60820</td>\n",
       "      <td>54054.46708</td>\n",
       "      <td>0</td>\n",
       "    </tr>\n",
       "    <tr>\n",
       "      <th>4</th>\n",
       "      <td>0</td>\n",
       "      <td>1121048016831</td>\n",
       "      <td>20.44</td>\n",
       "      <td>0.36</td>\n",
       "      <td>142.63371</td>\n",
       "      <td>20.60857</td>\n",
       "      <td>54197.14661</td>\n",
       "      <td>0</td>\n",
       "    </tr>\n",
       "  </tbody>\n",
       "</table>\n",
       "</div>"
      ],
      "text/plain": [
       "   InputID             ID    Mag  Magerr         RA      Decl          MJD  \\\n",
       "0        0  1121048016831  21.15    0.52  142.63264  20.60759  53739.39280   \n",
       "1        0  1121048016831  20.31    0.33  142.63520  20.60753  53761.33345   \n",
       "2        0  1121048016831  20.73    0.45  142.63637  20.60929  53875.18592   \n",
       "3        0  1121048016831  20.37    0.32  142.63480  20.60820  54054.46708   \n",
       "4        0  1121048016831  20.44    0.36  142.63371  20.60857  54197.14661   \n",
       "\n",
       "   Blend  \n",
       "0      0  \n",
       "1      0  \n",
       "2      0  \n",
       "3      0  \n",
       "4      0  "
      ]
     },
     "execution_count": 77,
     "metadata": {},
     "output_type": "execute_result"
    }
   ],
   "source": [
    "df_light_curves_supernovae = df_light_curves[df_light_curves['InputID'].isin(df_objects_supernovae.index)]\n",
    "df_light_curves_supernovae.head()"
   ]
  },
  {
   "cell_type": "code",
   "execution_count": 78,
   "metadata": {
    "scrolled": true
   },
   "outputs": [
    {
     "data": {
      "text/plain": [
       "InputID    97249\n",
       "ID         97249\n",
       "Mag        97249\n",
       "Magerr     97249\n",
       "RA         97249\n",
       "Decl       97249\n",
       "MJD        97249\n",
       "Blend      97249\n",
       "dtype: int64"
      ]
     },
     "execution_count": 78,
     "metadata": {},
     "output_type": "execute_result"
    }
   ],
   "source": [
    "df_light_curves_supernovae.count()"
   ]
  },
  {
   "cell_type": "code",
   "execution_count": 18,
   "metadata": {
    "scrolled": true
   },
   "outputs": [
    {
     "data": {
      "text/plain": [
       "1319"
      ]
     },
     "execution_count": 18,
     "metadata": {},
     "output_type": "execute_result"
    }
   ],
   "source": [
    "len(df_light_curves_supernovae.InputID.unique())"
   ]
  },
  {
   "cell_type": "code",
   "execution_count": 93,
   "metadata": {
    "collapsed": true
   },
   "outputs": [],
   "source": [
    "series_light_curves_supernovae_grouped = df_light_curves_supernovae.groupby(['InputID'])['Mag'].count()"
   ]
  },
  {
   "cell_type": "code",
   "execution_count": 94,
   "metadata": {
    "scrolled": true
   },
   "outputs": [
    {
     "data": {
      "text/plain": [
       "count    1319.000000\n",
       "mean       73.729340\n",
       "std       105.498011\n",
       "min         1.000000\n",
       "25%         9.000000\n",
       "50%        23.000000\n",
       "75%        86.500000\n",
       "max       616.000000\n",
       "Name: Mag, dtype: float64"
      ]
     },
     "execution_count": 94,
     "metadata": {},
     "output_type": "execute_result"
    }
   ],
   "source": [
    "series_light_curves_supernovae_grouped.describe()"
   ]
  },
  {
   "cell_type": "code",
   "execution_count": 95,
   "metadata": {},
   "outputs": [
    {
     "data": {
      "text/plain": [
       "943"
      ]
     },
     "execution_count": 95,
     "metadata": {},
     "output_type": "execute_result"
    }
   ],
   "source": [
    "len(series_light_curves_supernovae_grouped[series_light_curves_supernovae_grouped > 10].index)"
   ]
  },
  {
   "cell_type": "markdown",
   "metadata": {},
   "source": [
    "### Cataclysmic Variable Stars"
   ]
  },
  {
   "cell_type": "code",
   "execution_count": 79,
   "metadata": {},
   "outputs": [
    {
     "data": {
      "text/html": [
       "<div>\n",
       "<style>\n",
       "    .dataframe thead tr:only-child th {\n",
       "        text-align: right;\n",
       "    }\n",
       "\n",
       "    .dataframe thead th {\n",
       "        text-align: left;\n",
       "    }\n",
       "\n",
       "    .dataframe tbody tr th {\n",
       "        vertical-align: top;\n",
       "    }\n",
       "</style>\n",
       "<table border=\"1\" class=\"dataframe\">\n",
       "  <thead>\n",
       "    <tr style=\"text-align: right;\">\n",
       "      <th></th>\n",
       "      <th>InputID</th>\n",
       "      <th>ID</th>\n",
       "      <th>Mag</th>\n",
       "      <th>Magerr</th>\n",
       "      <th>RA</th>\n",
       "      <th>Decl</th>\n",
       "      <th>MJD</th>\n",
       "      <th>Blend</th>\n",
       "    </tr>\n",
       "  </thead>\n",
       "  <tbody>\n",
       "    <tr>\n",
       "      <th>97249</th>\n",
       "      <td>2800</td>\n",
       "      <td>1140004059352</td>\n",
       "      <td>20.08</td>\n",
       "      <td>0.28</td>\n",
       "      <td>12.23016</td>\n",
       "      <td>41.34421</td>\n",
       "      <td>53708.14295</td>\n",
       "      <td>0</td>\n",
       "    </tr>\n",
       "    <tr>\n",
       "      <th>97250</th>\n",
       "      <td>2800</td>\n",
       "      <td>1140004059352</td>\n",
       "      <td>19.99</td>\n",
       "      <td>0.27</td>\n",
       "      <td>12.23012</td>\n",
       "      <td>41.34408</td>\n",
       "      <td>53708.15267</td>\n",
       "      <td>0</td>\n",
       "    </tr>\n",
       "    <tr>\n",
       "      <th>97251</th>\n",
       "      <td>2800</td>\n",
       "      <td>1140004059352</td>\n",
       "      <td>19.66</td>\n",
       "      <td>0.23</td>\n",
       "      <td>12.22956</td>\n",
       "      <td>41.34422</td>\n",
       "      <td>53708.16197</td>\n",
       "      <td>0</td>\n",
       "    </tr>\n",
       "    <tr>\n",
       "      <th>97252</th>\n",
       "      <td>2800</td>\n",
       "      <td>1140004059352</td>\n",
       "      <td>20.00</td>\n",
       "      <td>0.28</td>\n",
       "      <td>12.23026</td>\n",
       "      <td>41.34410</td>\n",
       "      <td>53708.17090</td>\n",
       "      <td>0</td>\n",
       "    </tr>\n",
       "    <tr>\n",
       "      <th>97253</th>\n",
       "      <td>2800</td>\n",
       "      <td>1140004059352</td>\n",
       "      <td>19.37</td>\n",
       "      <td>0.20</td>\n",
       "      <td>12.22987</td>\n",
       "      <td>41.34362</td>\n",
       "      <td>53714.15521</td>\n",
       "      <td>0</td>\n",
       "    </tr>\n",
       "  </tbody>\n",
       "</table>\n",
       "</div>"
      ],
      "text/plain": [
       "       InputID             ID    Mag  Magerr        RA      Decl          MJD  \\\n",
       "97249     2800  1140004059352  20.08    0.28  12.23016  41.34421  53708.14295   \n",
       "97250     2800  1140004059352  19.99    0.27  12.23012  41.34408  53708.15267   \n",
       "97251     2800  1140004059352  19.66    0.23  12.22956  41.34422  53708.16197   \n",
       "97252     2800  1140004059352  20.00    0.28  12.23026  41.34410  53708.17090   \n",
       "97253     2800  1140004059352  19.37    0.20  12.22987  41.34362  53714.15521   \n",
       "\n",
       "       Blend  \n",
       "97249      0  \n",
       "97250      0  \n",
       "97251      0  \n",
       "97252      0  \n",
       "97253      0  "
      ]
     },
     "execution_count": 79,
     "metadata": {},
     "output_type": "execute_result"
    }
   ],
   "source": [
    "df_light_curves_cv = df_light_curves[df_light_curves['InputID'].isin(df_objects_cv.index)]\n",
    "df_light_curves_cv.head()"
   ]
  },
  {
   "cell_type": "code",
   "execution_count": 21,
   "metadata": {
    "scrolled": true
   },
   "outputs": [
    {
     "data": {
      "text/plain": [
       "InputID    42751\n",
       "ID         42751\n",
       "Mag        42751\n",
       "Magerr     42751\n",
       "RA         42751\n",
       "Decl       42751\n",
       "MJD        42751\n",
       "Blend      42751\n",
       "dtype: int64"
      ]
     },
     "execution_count": 21,
     "metadata": {},
     "output_type": "execute_result"
    }
   ],
   "source": [
    "df_light_curves_cv.count()"
   ]
  },
  {
   "cell_type": "code",
   "execution_count": 22,
   "metadata": {},
   "outputs": [
    {
     "data": {
      "text/plain": [
       "669"
      ]
     },
     "execution_count": 22,
     "metadata": {},
     "output_type": "execute_result"
    }
   ],
   "source": [
    "len(df_light_curves_cv.InputID.unique())"
   ]
  },
  {
   "cell_type": "code",
   "execution_count": 91,
   "metadata": {},
   "outputs": [],
   "source": [
    "series_light_curves_cv_grouped = df_light_curves_cv.groupby(['InputID'])['Mag'].count()"
   ]
  },
  {
   "cell_type": "code",
   "execution_count": 92,
   "metadata": {
    "scrolled": true
   },
   "outputs": [
    {
     "data": {
      "text/plain": [
       "count    669.000000\n",
       "mean      63.902840\n",
       "std       93.295701\n",
       "min        1.000000\n",
       "25%       12.000000\n",
       "50%       27.000000\n",
       "75%       73.000000\n",
       "max      671.000000\n",
       "Name: Mag, dtype: float64"
      ]
     },
     "execution_count": 92,
     "metadata": {},
     "output_type": "execute_result"
    }
   ],
   "source": [
    "series_light_curves_cv_grouped.describe()"
   ]
  },
  {
   "cell_type": "code",
   "execution_count": 85,
   "metadata": {},
   "outputs": [
    {
     "data": {
      "text/plain": [
       "520"
      ]
     },
     "execution_count": 85,
     "metadata": {},
     "output_type": "execute_result"
    }
   ],
   "source": [
    "len(series_light_curves_cv_grouped[series_light_curves_cv_grouped > 10].index)"
   ]
  },
  {
   "cell_type": "markdown",
   "metadata": {},
   "source": [
    "### Blazars"
   ]
  },
  {
   "cell_type": "code",
   "execution_count": 90,
   "metadata": {},
   "outputs": [
    {
     "data": {
      "text/html": [
       "<div>\n",
       "<style>\n",
       "    .dataframe thead tr:only-child th {\n",
       "        text-align: right;\n",
       "    }\n",
       "\n",
       "    .dataframe thead th {\n",
       "        text-align: left;\n",
       "    }\n",
       "\n",
       "    .dataframe tbody tr th {\n",
       "        vertical-align: top;\n",
       "    }\n",
       "</style>\n",
       "<table border=\"1\" class=\"dataframe\">\n",
       "  <thead>\n",
       "    <tr style=\"text-align: right;\">\n",
       "      <th></th>\n",
       "      <th>InputID</th>\n",
       "      <th>ID</th>\n",
       "      <th>Mag</th>\n",
       "      <th>Magerr</th>\n",
       "      <th>RA</th>\n",
       "      <th>Decl</th>\n",
       "      <th>MJD</th>\n",
       "      <th>Blend</th>\n",
       "    </tr>\n",
       "  </thead>\n",
       "  <tbody>\n",
       "    <tr>\n",
       "      <th>140000</th>\n",
       "      <td>4076</td>\n",
       "      <td>2113132008493</td>\n",
       "      <td>20.89</td>\n",
       "      <td>0.20</td>\n",
       "      <td>146.23292</td>\n",
       "      <td>13.32041</td>\n",
       "      <td>53710.49452</td>\n",
       "      <td>0</td>\n",
       "    </tr>\n",
       "    <tr>\n",
       "      <th>140001</th>\n",
       "      <td>4076</td>\n",
       "      <td>2113132008493</td>\n",
       "      <td>21.50</td>\n",
       "      <td>0.27</td>\n",
       "      <td>146.23305</td>\n",
       "      <td>13.32042</td>\n",
       "      <td>53710.49893</td>\n",
       "      <td>0</td>\n",
       "    </tr>\n",
       "    <tr>\n",
       "      <th>140002</th>\n",
       "      <td>4076</td>\n",
       "      <td>2113132008493</td>\n",
       "      <td>21.42</td>\n",
       "      <td>0.26</td>\n",
       "      <td>146.23308</td>\n",
       "      <td>13.32045</td>\n",
       "      <td>53710.50338</td>\n",
       "      <td>0</td>\n",
       "    </tr>\n",
       "    <tr>\n",
       "      <th>140003</th>\n",
       "      <td>4076</td>\n",
       "      <td>2113132008493</td>\n",
       "      <td>21.26</td>\n",
       "      <td>0.25</td>\n",
       "      <td>146.23300</td>\n",
       "      <td>13.32034</td>\n",
       "      <td>53710.50781</td>\n",
       "      <td>0</td>\n",
       "    </tr>\n",
       "    <tr>\n",
       "      <th>140004</th>\n",
       "      <td>4076</td>\n",
       "      <td>2113132008493</td>\n",
       "      <td>21.58</td>\n",
       "      <td>0.29</td>\n",
       "      <td>146.23282</td>\n",
       "      <td>13.32056</td>\n",
       "      <td>53731.45375</td>\n",
       "      <td>0</td>\n",
       "    </tr>\n",
       "  </tbody>\n",
       "</table>\n",
       "</div>"
      ],
      "text/plain": [
       "        InputID             ID    Mag  Magerr         RA      Decl  \\\n",
       "140000     4076  2113132008493  20.89    0.20  146.23292  13.32041   \n",
       "140001     4076  2113132008493  21.50    0.27  146.23305  13.32042   \n",
       "140002     4076  2113132008493  21.42    0.26  146.23308  13.32045   \n",
       "140003     4076  2113132008493  21.26    0.25  146.23300  13.32034   \n",
       "140004     4076  2113132008493  21.58    0.29  146.23282  13.32056   \n",
       "\n",
       "                MJD  Blend  \n",
       "140000  53710.49452      0  \n",
       "140001  53710.49893      0  \n",
       "140002  53710.50338      0  \n",
       "140003  53710.50781      0  \n",
       "140004  53731.45375      0  "
      ]
     },
     "execution_count": 90,
     "metadata": {},
     "output_type": "execute_result"
    }
   ],
   "source": [
    "df_light_curves_blazars = df_light_curves[df_light_curves['InputID'].isin(df_objects_blazars.index)]\n",
    "df_light_curves_blazars.head()"
   ]
  },
  {
   "cell_type": "code",
   "execution_count": 25,
   "metadata": {
    "scrolled": true
   },
   "outputs": [
    {
     "data": {
      "text/plain": [
       "InputID    14583\n",
       "ID         14583\n",
       "Mag        14583\n",
       "Magerr     14583\n",
       "RA         14583\n",
       "Decl       14583\n",
       "MJD        14583\n",
       "Blend      14583\n",
       "dtype: int64"
      ]
     },
     "execution_count": 25,
     "metadata": {},
     "output_type": "execute_result"
    }
   ],
   "source": [
    "df_light_curves_blazars.count()"
   ]
  },
  {
   "cell_type": "code",
   "execution_count": 26,
   "metadata": {},
   "outputs": [
    {
     "data": {
      "text/plain": [
       "196"
      ]
     },
     "execution_count": 26,
     "metadata": {},
     "output_type": "execute_result"
    }
   ],
   "source": [
    "len(df_light_curves_blazars.InputID.unique())"
   ]
  },
  {
   "cell_type": "code",
   "execution_count": 96,
   "metadata": {
    "collapsed": true
   },
   "outputs": [],
   "source": [
    "series_light_curves_blazars_grouped = df_light_curves_blazars.groupby(['InputID'])['Mag'].count()"
   ]
  },
  {
   "cell_type": "code",
   "execution_count": 97,
   "metadata": {
    "scrolled": true
   },
   "outputs": [
    {
     "data": {
      "text/plain": [
       "count    196.000000\n",
       "mean      74.403061\n",
       "std       94.524645\n",
       "min        3.000000\n",
       "25%       15.750000\n",
       "50%       35.000000\n",
       "75%       84.000000\n",
       "max      524.000000\n",
       "Name: Mag, dtype: float64"
      ]
     },
     "execution_count": 97,
     "metadata": {},
     "output_type": "execute_result"
    }
   ],
   "source": [
    "series_light_curves_blazars_grouped.describe()"
   ]
  },
  {
   "cell_type": "code",
   "execution_count": 98,
   "metadata": {},
   "outputs": [
    {
     "data": {
      "text/plain": [
       "169"
      ]
     },
     "execution_count": 98,
     "metadata": {},
     "output_type": "execute_result"
    }
   ],
   "source": [
    "len(series_light_curves_blazars_grouped[series_light_curves_blazars_grouped > 10].index)"
   ]
  },
  {
   "cell_type": "markdown",
   "metadata": {},
   "source": [
    "### AGN"
   ]
  },
  {
   "cell_type": "code",
   "execution_count": 28,
   "metadata": {},
   "outputs": [
    {
     "data": {
      "text/html": [
       "<div>\n",
       "<style>\n",
       "    .dataframe thead tr:only-child th {\n",
       "        text-align: right;\n",
       "    }\n",
       "\n",
       "    .dataframe thead th {\n",
       "        text-align: left;\n",
       "    }\n",
       "\n",
       "    .dataframe tbody tr th {\n",
       "        vertical-align: top;\n",
       "    }\n",
       "</style>\n",
       "<table border=\"1\" class=\"dataframe\">\n",
       "  <thead>\n",
       "    <tr style=\"text-align: right;\">\n",
       "      <th></th>\n",
       "      <th>InputID</th>\n",
       "      <th>ID</th>\n",
       "      <th>Mag</th>\n",
       "      <th>Magerr</th>\n",
       "      <th>RA</th>\n",
       "      <th>Decl</th>\n",
       "      <th>MJD</th>\n",
       "      <th>Blend</th>\n",
       "    </tr>\n",
       "  </thead>\n",
       "  <tbody>\n",
       "    <tr>\n",
       "      <th>154583</th>\n",
       "      <td>4472</td>\n",
       "      <td>2007172009742</td>\n",
       "      <td>21.33</td>\n",
       "      <td>0.25</td>\n",
       "      <td>186.10381</td>\n",
       "      <td>-7.16404</td>\n",
       "      <td>54552.32168</td>\n",
       "      <td>0</td>\n",
       "    </tr>\n",
       "    <tr>\n",
       "      <th>154584</th>\n",
       "      <td>4472</td>\n",
       "      <td>2007172009742</td>\n",
       "      <td>22.04</td>\n",
       "      <td>0.35</td>\n",
       "      <td>186.10391</td>\n",
       "      <td>-7.16393</td>\n",
       "      <td>54552.33146</td>\n",
       "      <td>0</td>\n",
       "    </tr>\n",
       "    <tr>\n",
       "      <th>154585</th>\n",
       "      <td>4472</td>\n",
       "      <td>2007172009742</td>\n",
       "      <td>22.17</td>\n",
       "      <td>0.41</td>\n",
       "      <td>186.10362</td>\n",
       "      <td>-7.16396</td>\n",
       "      <td>55650.24061</td>\n",
       "      <td>0</td>\n",
       "    </tr>\n",
       "    <tr>\n",
       "      <th>154586</th>\n",
       "      <td>4472</td>\n",
       "      <td>2007172009742</td>\n",
       "      <td>21.66</td>\n",
       "      <td>0.31</td>\n",
       "      <td>186.10382</td>\n",
       "      <td>-7.16386</td>\n",
       "      <td>55650.24957</td>\n",
       "      <td>0</td>\n",
       "    </tr>\n",
       "    <tr>\n",
       "      <th>154587</th>\n",
       "      <td>4472</td>\n",
       "      <td>2007172009742</td>\n",
       "      <td>21.60</td>\n",
       "      <td>0.30</td>\n",
       "      <td>186.10386</td>\n",
       "      <td>-7.16391</td>\n",
       "      <td>55650.25484</td>\n",
       "      <td>0</td>\n",
       "    </tr>\n",
       "  </tbody>\n",
       "</table>\n",
       "</div>"
      ],
      "text/plain": [
       "        InputID             ID    Mag  Magerr         RA     Decl  \\\n",
       "154583     4472  2007172009742  21.33    0.25  186.10381 -7.16404   \n",
       "154584     4472  2007172009742  22.04    0.35  186.10391 -7.16393   \n",
       "154585     4472  2007172009742  22.17    0.41  186.10362 -7.16396   \n",
       "154586     4472  2007172009742  21.66    0.31  186.10382 -7.16386   \n",
       "154587     4472  2007172009742  21.60    0.30  186.10386 -7.16391   \n",
       "\n",
       "                MJD  Blend  \n",
       "154583  54552.32168      0  \n",
       "154584  54552.33146      0  \n",
       "154585  55650.24061      0  \n",
       "154586  55650.24957      0  \n",
       "154587  55650.25484      0  "
      ]
     },
     "execution_count": 28,
     "metadata": {},
     "output_type": "execute_result"
    }
   ],
   "source": [
    "df_light_curves_agn = df_light_curves[df_light_curves['InputID'].isin(df_objects_agn.index.tolist())]\n",
    "df_light_curves_agn.head()"
   ]
  },
  {
   "cell_type": "code",
   "execution_count": 29,
   "metadata": {
    "scrolled": true
   },
   "outputs": [
    {
     "data": {
      "text/plain": [
       "InputID    221934\n",
       "ID         221934\n",
       "Mag        221934\n",
       "Magerr     221934\n",
       "RA         221934\n",
       "Decl       221934\n",
       "MJD        221934\n",
       "Blend      221934\n",
       "dtype: int64"
      ]
     },
     "execution_count": 29,
     "metadata": {},
     "output_type": "execute_result"
    }
   ],
   "source": [
    "df_light_curves_agn.count()"
   ]
  },
  {
   "cell_type": "code",
   "execution_count": 30,
   "metadata": {},
   "outputs": [
    {
     "data": {
      "text/plain": [
       "1710"
      ]
     },
     "execution_count": 30,
     "metadata": {},
     "output_type": "execute_result"
    }
   ],
   "source": [
    "len(df_light_curves_agn.InputID.unique())"
   ]
  },
  {
   "cell_type": "code",
   "execution_count": 101,
   "metadata": {
    "collapsed": true
   },
   "outputs": [],
   "source": [
    "series_light_curves_agn_grouped = df_light_curves_agn.groupby(['InputID'])['Mag'].count()"
   ]
  },
  {
   "cell_type": "code",
   "execution_count": 102,
   "metadata": {
    "scrolled": true
   },
   "outputs": [
    {
     "data": {
      "text/plain": [
       "count    1710.000000\n",
       "mean      129.785965\n",
       "std       145.725484\n",
       "min         1.000000\n",
       "25%        19.000000\n",
       "50%        62.000000\n",
       "75%       214.000000\n",
       "max       904.000000\n",
       "Name: Mag, dtype: float64"
      ]
     },
     "execution_count": 102,
     "metadata": {},
     "output_type": "execute_result"
    }
   ],
   "source": [
    "series_light_curves_agn_grouped.describe()"
   ]
  },
  {
   "cell_type": "code",
   "execution_count": 103,
   "metadata": {},
   "outputs": [
    {
     "data": {
      "text/plain": [
       "1475"
      ]
     },
     "execution_count": 103,
     "metadata": {},
     "output_type": "execute_result"
    }
   ],
   "source": [
    "len(series_light_curves_agn_grouped[series_light_curves_agn_grouped > 10].index)"
   ]
  },
  {
   "cell_type": "markdown",
   "metadata": {},
   "source": [
    "## 4. Light Curves Visualization"
   ]
  },
  {
   "cell_type": "code",
   "execution_count": 32,
   "metadata": {},
   "outputs": [
    {
     "data": {
      "text/html": [
       "<script>requirejs.config({paths: { 'plotly': ['https://cdn.plot.ly/plotly-latest.min']},});if(!window.Plotly) {{require(['plotly'],function(plotly) {window.Plotly=plotly;});}}</script>"
      ],
      "text/vnd.plotly.v1+html": [
       "<script>requirejs.config({paths: { 'plotly': ['https://cdn.plot.ly/plotly-latest.min']},});if(!window.Plotly) {{require(['plotly'],function(plotly) {window.Plotly=plotly;});}}</script>"
      ]
     },
     "metadata": {},
     "output_type": "display_data"
    }
   ],
   "source": [
    "from tools import visualize\n",
    "from plotly.offline import download_plotlyjs, init_notebook_mode, plot, iplot"
   ]
  },
  {
   "cell_type": "markdown",
   "metadata": {},
   "source": [
    "### Supernovae"
   ]
  },
  {
   "cell_type": "code",
   "execution_count": 44,
   "metadata": {},
   "outputs": [],
   "source": [
    "index_supernovae_light_curve = 0\n",
    "# Get sample\n",
    "df_light_curves_supernovae_sample = df_light_curves_supernovae[\n",
    "    df_light_curves_supernovae['InputID'] == df_light_curves_supernovae.InputID.unique()[index_supernovae_light_curve]\n",
    "]"
   ]
  },
  {
   "cell_type": "code",
   "execution_count": 45,
   "metadata": {},
   "outputs": [
    {
     "data": {
      "application/vnd.plotly.v1+json": {
       "data": [
        {
         "mode": "markers",
         "name": 0,
         "type": "scatter",
         "x": [
          "2006-01-04 09:25:37.920000",
          "2006-01-26 08:00:10.080000",
          "2006-05-20 04:27:43.488000",
          "2006-11-15 11:12:35.712000",
          "2007-04-07 03:31:07.104000",
          "2007-03-15 04:28:36.192000",
          "2007-10-08 11:48:42.624000",
          "2007-10-21 11:45:24.768000",
          "2007-10-30 11:21:20.160000",
          "2008-04-08 04:18:14.112000",
          "2008-03-03 04:25:45.984000",
          "2008-03-10 06:57:14.400000",
          "2008-03-10 07:06:53.280000",
          "2008-03-23 05:46:54.624000",
          "2008-11-30 09:39:20.448000",
          "2009-02-20 06:58:33.024000",
          "2009-03-03 04:41:37.248000",
          "2009-10-24 11:38:27.456000",
          "2009-10-24 11:46:25.248000",
          "2010-04-09 03:26:07.296000",
          "2010-12-14 11:49:28.416000",
          "2010-03-17 04:24:43.776000",
          "2011-04-05 06:29:39.840000",
          "2011-02-05 07:45:14.112000",
          "2011-02-05 08:01:26.976000",
          "2011-02-23 05:11:52.512000",
          "2011-01-05 08:43:26.400000",
          "2011-01-24 11:59:55.680000",
          "2011-03-05 03:54:30.240000",
          "2011-03-11 05:35:32.064000",
          "2011-05-25 03:52:49.152000",
          "2011-05-25 03:52:49.152000",
          "2011-11-23 10:28:34.464000",
          "2012-01-14 09:31:58.080000",
          "2012-02-22 06:07:54.336000",
          "2012-03-13 04:05:34.656000",
          "2012-04-25 04:16:21.792000",
          "2012-11-13 11:34:41.088000",
          "2012-12-09 12:05:22.272000",
          "2013-01-16 10:44:35.232000",
          "2013-02-18 08:18:52.416000",
          "2013-03-01 08:06:35.424000",
          "2013-03-15 05:47:47.328000",
          "2013-04-02 03:19:16.896000",
          "2013-04-02 03:19:16.896000"
         ],
         "y": [
          21.15,
          20.31,
          20.73,
          20.37,
          20.44,
          20.51,
          20.96,
          20.76,
          20.64,
          21.26,
          21.12,
          21.38,
          21.4,
          19.94,
          20.08,
          20.74,
          20.88,
          21.14,
          20.43,
          20.63,
          20.62,
          21.04,
          20.43,
          20.98,
          21.75,
          21.01,
          19.61,
          20.71,
          21.14,
          20.34,
          21,
          20.23,
          20.98,
          18.91,
          20.68,
          20.93,
          19.59,
          20.7,
          20.86,
          21.14,
          21.37,
          20.68,
          21.12,
          19.86,
          20.41
         ]
        }
       ],
       "layout": {}
      },
      "text/html": [
       "<div id=\"afc37842-c439-446e-973a-cb4ef0b2a025\" style=\"height: 525px; width: 100%;\" class=\"plotly-graph-div\"></div><script type=\"text/javascript\">require([\"plotly\"], function(Plotly) { window.PLOTLYENV=window.PLOTLYENV || {};window.PLOTLYENV.BASE_URL=\"https://plot.ly\";Plotly.newPlot(\"afc37842-c439-446e-973a-cb4ef0b2a025\", [{\"name\": 0, \"y\": [21.15, 20.31, 20.73, 20.37, 20.44, 20.51, 20.96, 20.76, 20.64, 21.26, 21.12, 21.38, 21.4, 19.94, 20.08, 20.74, 20.88, 21.14, 20.43, 20.63, 20.62, 21.04, 20.43, 20.98, 21.75, 21.01, 19.61, 20.71, 21.14, 20.34, 21.0, 20.23, 20.98, 18.91, 20.68, 20.93, 19.59, 20.7, 20.86, 21.14, 21.37, 20.68, 21.12, 19.86, 20.41], \"type\": \"scatter\", \"x\": [\"2006-01-04 09:25:37.920000\", \"2006-01-26 08:00:10.080000\", \"2006-05-20 04:27:43.488000\", \"2006-11-15 11:12:35.712000\", \"2007-04-07 03:31:07.104000\", \"2007-03-15 04:28:36.192000\", \"2007-10-08 11:48:42.624000\", \"2007-10-21 11:45:24.768000\", \"2007-10-30 11:21:20.160000\", \"2008-04-08 04:18:14.112000\", \"2008-03-03 04:25:45.984000\", \"2008-03-10 06:57:14.400000\", \"2008-03-10 07:06:53.280000\", \"2008-03-23 05:46:54.624000\", \"2008-11-30 09:39:20.448000\", \"2009-02-20 06:58:33.024000\", \"2009-03-03 04:41:37.248000\", \"2009-10-24 11:38:27.456000\", \"2009-10-24 11:46:25.248000\", \"2010-04-09 03:26:07.296000\", \"2010-12-14 11:49:28.416000\", \"2010-03-17 04:24:43.776000\", \"2011-04-05 06:29:39.840000\", \"2011-02-05 07:45:14.112000\", \"2011-02-05 08:01:26.976000\", \"2011-02-23 05:11:52.512000\", \"2011-01-05 08:43:26.400000\", \"2011-01-24 11:59:55.680000\", \"2011-03-05 03:54:30.240000\", \"2011-03-11 05:35:32.064000\", \"2011-05-25 03:52:49.152000\", \"2011-05-25 03:52:49.152000\", \"2011-11-23 10:28:34.464000\", \"2012-01-14 09:31:58.080000\", \"2012-02-22 06:07:54.336000\", \"2012-03-13 04:05:34.656000\", \"2012-04-25 04:16:21.792000\", \"2012-11-13 11:34:41.088000\", \"2012-12-09 12:05:22.272000\", \"2013-01-16 10:44:35.232000\", \"2013-02-18 08:18:52.416000\", \"2013-03-01 08:06:35.424000\", \"2013-03-15 05:47:47.328000\", \"2013-04-02 03:19:16.896000\", \"2013-04-02 03:19:16.896000\"], \"mode\": \"markers\"}], {}, {\"showLink\": true, \"linkText\": \"Export to plot.ly\"})});</script>"
      ],
      "text/vnd.plotly.v1+html": [
       "<div id=\"afc37842-c439-446e-973a-cb4ef0b2a025\" style=\"height: 525px; width: 100%;\" class=\"plotly-graph-div\"></div><script type=\"text/javascript\">require([\"plotly\"], function(Plotly) { window.PLOTLYENV=window.PLOTLYENV || {};window.PLOTLYENV.BASE_URL=\"https://plot.ly\";Plotly.newPlot(\"afc37842-c439-446e-973a-cb4ef0b2a025\", [{\"name\": 0, \"y\": [21.15, 20.31, 20.73, 20.37, 20.44, 20.51, 20.96, 20.76, 20.64, 21.26, 21.12, 21.38, 21.4, 19.94, 20.08, 20.74, 20.88, 21.14, 20.43, 20.63, 20.62, 21.04, 20.43, 20.98, 21.75, 21.01, 19.61, 20.71, 21.14, 20.34, 21.0, 20.23, 20.98, 18.91, 20.68, 20.93, 19.59, 20.7, 20.86, 21.14, 21.37, 20.68, 21.12, 19.86, 20.41], \"type\": \"scatter\", \"x\": [\"2006-01-04 09:25:37.920000\", \"2006-01-26 08:00:10.080000\", \"2006-05-20 04:27:43.488000\", \"2006-11-15 11:12:35.712000\", \"2007-04-07 03:31:07.104000\", \"2007-03-15 04:28:36.192000\", \"2007-10-08 11:48:42.624000\", \"2007-10-21 11:45:24.768000\", \"2007-10-30 11:21:20.160000\", \"2008-04-08 04:18:14.112000\", \"2008-03-03 04:25:45.984000\", \"2008-03-10 06:57:14.400000\", \"2008-03-10 07:06:53.280000\", \"2008-03-23 05:46:54.624000\", \"2008-11-30 09:39:20.448000\", \"2009-02-20 06:58:33.024000\", \"2009-03-03 04:41:37.248000\", \"2009-10-24 11:38:27.456000\", \"2009-10-24 11:46:25.248000\", \"2010-04-09 03:26:07.296000\", \"2010-12-14 11:49:28.416000\", \"2010-03-17 04:24:43.776000\", \"2011-04-05 06:29:39.840000\", \"2011-02-05 07:45:14.112000\", \"2011-02-05 08:01:26.976000\", \"2011-02-23 05:11:52.512000\", \"2011-01-05 08:43:26.400000\", \"2011-01-24 11:59:55.680000\", \"2011-03-05 03:54:30.240000\", \"2011-03-11 05:35:32.064000\", \"2011-05-25 03:52:49.152000\", \"2011-05-25 03:52:49.152000\", \"2011-11-23 10:28:34.464000\", \"2012-01-14 09:31:58.080000\", \"2012-02-22 06:07:54.336000\", \"2012-03-13 04:05:34.656000\", \"2012-04-25 04:16:21.792000\", \"2012-11-13 11:34:41.088000\", \"2012-12-09 12:05:22.272000\", \"2013-01-16 10:44:35.232000\", \"2013-02-18 08:18:52.416000\", \"2013-03-01 08:06:35.424000\", \"2013-03-15 05:47:47.328000\", \"2013-04-02 03:19:16.896000\", \"2013-04-02 03:19:16.896000\"], \"mode\": \"markers\"}], {}, {\"showLink\": true, \"linkText\": \"Export to plot.ly\"})});</script>"
      ]
     },
     "metadata": {},
     "output_type": "display_data"
    }
   ],
   "source": [
    "iplot([visualize.light_curve_interactive_scatter(df_light_curves_supernovae_sample)])"
   ]
  },
  {
   "cell_type": "markdown",
   "metadata": {},
   "source": [
    "### Cataclysmic Variable Stars"
   ]
  },
  {
   "cell_type": "code",
   "execution_count": 46,
   "metadata": {},
   "outputs": [],
   "source": [
    "index_cv_light_curve = 0\n",
    "# Get sample\n",
    "df_light_curves_cv_sample = df_light_curves_cv[\n",
    "    df_light_curves_cv['InputID'] == df_light_curves_cv.InputID.unique()[index_cv_light_curve]\n",
    "]"
   ]
  },
  {
   "cell_type": "code",
   "execution_count": 47,
   "metadata": {},
   "outputs": [
    {
     "data": {
      "application/vnd.plotly.v1+json": {
       "data": [
        {
         "mode": "markers",
         "name": 2800,
         "type": "scatter",
         "x": [
          "2005-12-04 03:25:50.880000",
          "2005-12-04 03:39:50.688000",
          "2005-12-04 03:53:14.208000",
          "2005-12-04 04:06:05.760000",
          "2005-12-10 03:43:30.144000",
          "2005-12-10 03:55:07.392000",
          "2005-12-10 04:17:19.680000",
          "2005-12-30 04:02:10.752000",
          "2005-12-30 04:12:01.728000",
          "2005-12-30 04:21:53.568000",
          "2005-12-30 04:31:43.680000",
          "2005-11-04 08:26:16.512000",
          "2005-11-04 08:33:32.832000",
          "2005-11-04 08:48:02.880000",
          "2005-11-20 04:00:23.616000",
          "2005-11-20 04:13:45.408000",
          "2005-11-20 04:27:52.128000",
          "2005-11-20 04:40:09.984000",
          "2005-10-14 05:49:22.368000",
          "2005-10-14 06:03:10.944000",
          "2005-10-29 05:10:36.480000",
          "2005-10-29 05:17:42.432000",
          "2005-10-29 05:24:41.472000",
          "2005-10-29 05:31:42.240000",
          "2005-09-30 07:00:48.672000",
          "2005-09-30 07:13:43.680000",
          "2005-09-30 07:27:39.168000",
          "2005-09-30 07:40:52.320000",
          "2006-01-09 03:48:10.080000",
          "2006-01-30 02:32:35.808000",
          "2006-11-01 04:39:45.792000",
          "2006-11-01 04:47:51.360000",
          "2006-11-01 04:56:15.936000",
          "2006-11-20 02:55:15.744000",
          "2006-11-20 03:02:26.016000",
          "2006-11-20 03:16:36.192000",
          "2006-09-29 05:32:09.024000",
          "2007-12-18 04:04:12.576000",
          "2007-12-18 04:13:47.136000",
          "2007-12-18 04:23:13.920000",
          "2007-12-18 04:32:43.296000",
          "2007-06-27 09:58:20.064000",
          "2007-06-27 10:04:33.312000",
          "2007-06-27 10:10:43.968000",
          "2007-06-27 10:16:53.760000",
          "2007-11-04 06:37:46.272000",
          "2007-11-04 06:48:54.144000",
          "2007-11-04 06:59:49.920000",
          "2007-11-04 07:10:42.240000",
          "2007-10-16 05:16:46.272000",
          "2007-10-16 05:28:07.104000",
          "2007-10-16 05:39:32.256000",
          "2007-10-16 05:50:54.816000",
          "2007-10-21 03:47:52.800000",
          "2007-09-15 06:27:40.608000",
          "2007-09-15 06:37:08.256000",
          "2007-09-15 06:46:35.904000",
          "2007-09-15 06:56:04.416000",
          "2008-12-03 02:00:16.128000",
          "2008-12-03 02:08:03.552000",
          "2008-12-03 02:15:45.792000",
          "2008-12-03 02:23:36.672000",
          "2008-12-03 02:31:23.232000",
          "2008-02-12 02:19:08.832000",
          "2008-02-12 02:27:44.640000",
          "2008-01-15 03:37:28.128000",
          "2008-06-15 10:20:40.992000",
          "2008-06-15 10:26:58.560000",
          "2008-06-15 10:33:20.448000",
          "2008-06-15 10:39:40.608000",
          "2008-06-24 10:29:47.904000",
          "2008-06-24 10:39:15.552000",
          "2008-11-08 03:40:25.248000",
          "2008-11-08 03:58:07.104000",
          "2008-11-08 04:15:49.824000",
          "2008-10-31 05:04:33.600000",
          "2008-10-31 05:15:30.240000",
          "2008-10-31 05:26:44.160000",
          "2008-10-31 05:38:29.184000",
          "2009-08-30 06:24:01.152000",
          "2009-12-20 03:49:33.024000",
          "2009-12-20 03:54:06.048000",
          "2009-12-20 03:58:43.392000",
          "2009-12-20 04:03:20.736000",
          "2009-11-09 06:58:48.576000",
          "2009-11-09 07:10:16.320000",
          "2009-11-09 07:21:45.792000",
          "2009-11-09 07:33:19.584000",
          "2009-11-20 06:23:48.192000",
          "2009-11-20 06:32:35.232000",
          "2009-11-20 06:41:08.448000",
          "2009-11-20 06:49:47.712000",
          "2009-11-27 02:06:51.840000",
          "2009-10-27 05:00:22.176000",
          "2009-10-27 05:10:47.712000",
          "2009-10-27 05:31:48.288000",
          "2009-09-15 07:23:19.104000",
          "2009-09-15 07:35:53.376000",
          "2009-09-19 08:17:55.392000",
          "2009-09-19 08:28:27.840000",
          "2009-09-19 08:39:20.160000",
          "2009-09-19 08:49:26.688000",
          "2009-09-26 07:11:45.312000",
          "2009-09-26 07:25:51.168000",
          "2009-09-26 07:39:51.840000",
          "2009-09-26 07:54:18.432000",
          "2010-11-07 06:21:26.496000",
          "2010-11-07 06:41:06.720000",
          "2010-11-07 06:51:03.744000",
          "2010-11-15 04:07:22.656000",
          "2010-11-15 04:23:48.480000",
          "2010-11-15 04:32:16.512000",
          "2010-10-09 07:21:21.600000",
          "2010-10-09 07:46:46.560000",
          "2010-10-09 07:57:54.432000",
          "2010-10-19 03:22:09.696000",
          "2010-10-19 03:41:53.376000",
          "2010-10-31 06:55:15.168000",
          "2010-10-31 07:15:18.720000",
          "2010-10-31 07:25:16.608000",
          "2011-09-24 05:25:54.912000",
          "2011-09-24 05:36:23.040000",
          "2011-09-24 05:46:57.216000",
          "2011-09-24 05:57:31.392000",
          "2011-11-03 03:28:04.800000",
          "2011-11-03 03:38:36.384000",
          "2011-11-03 03:49:12.288000",
          "2011-10-06 07:41:14.784000",
          "2011-10-06 07:50:59.712000",
          "2011-10-06 08:10:25.248000",
          "2012-10-18 04:04:28.992000",
          "2012-10-18 04:09:21.888000",
          "2012-10-25 04:11:30.624000",
          "2012-10-25 04:34:29.568000",
          "2012-11-15 05:15:30.240000",
          "2012-11-15 05:42:57.888000",
          "2012-12-10 03:42:21.024000",
          "2012-12-10 04:11:32.352000",
          "2013-09-16 08:18:26.496000",
          "2013-09-23 09:30:54.144000",
          "2013-09-23 09:37:22.080000",
          "2013-10-04 05:18:17.856000",
          "2013-10-04 05:29:34.368000",
          "2013-10-04 05:40:53.472000",
          "2013-10-04 05:52:16.032000",
          "2013-10-14 03:40:14.016000",
          "2013-10-14 03:52:55.200000",
          "2013-10-14 04:05:32.928000",
          "2013-10-25 06:41:40.416000",
          "2013-10-25 06:54:17.280000",
          "2013-10-25 07:06:53.280000",
          "2013-10-25 07:19:26.688000"
         ],
         "y": [
          20.08,
          19.99,
          19.66,
          20,
          19.37,
          20.33,
          19.17,
          20.15,
          19.84,
          20.04,
          19.98,
          20.08,
          19.75,
          19.73,
          19.79,
          19.69,
          19.74,
          19.93,
          19.57,
          20.32,
          20.14,
          20.28,
          19.84,
          19.74,
          19.52,
          19.92,
          19.66,
          19.54,
          18.91,
          19.62,
          19.5,
          19.16,
          20.56,
          19.75,
          20.37,
          19.62,
          19.5,
          20.22,
          19.35,
          19.79,
          19.47,
          19.61,
          20.03,
          19.46,
          19.53,
          19.27,
          19.99,
          20.13,
          19.78,
          19.41,
          20.16,
          19.57,
          19.83,
          19.36,
          19.31,
          19.57,
          20.18,
          19.19,
          19.76,
          19.46,
          19.79,
          19.42,
          19.94,
          19.83,
          20.55,
          19.84,
          19.24,
          19.34,
          20.25,
          19.53,
          19.59,
          19.96,
          20.28,
          19.47,
          19.86,
          19.69,
          19.68,
          19.79,
          19.46,
          20.55,
          17.86,
          17.82,
          17.81,
          17.81,
          19.8,
          20.28,
          20.62,
          19.83,
          19.67,
          20.16,
          20.13,
          19.43,
          20.02,
          19.36,
          19.79,
          19.84,
          19.06,
          19.7,
          19.51,
          19.63,
          19.48,
          19.73,
          19.58,
          19.58,
          19.25,
          19.92,
          19.52,
          20.11,
          19.56,
          19.55,
          20.16,
          19.45,
          19.6,
          19.63,
          19.63,
          20.55,
          20.56,
          20.03,
          19.77,
          20.12,
          19.36,
          20.51,
          19.8,
          19.72,
          19.31,
          19.09,
          19.18,
          19.36,
          19.49,
          19.7,
          20.13,
          20.69,
          20.48,
          19.7,
          19.72,
          19.77,
          20.07,
          20.53,
          20.68,
          20.06,
          19.74,
          19.7,
          19.7,
          19.6,
          19.73,
          19.98,
          20.11,
          19.28,
          20,
          19.8,
          19.42,
          20.3
         ]
        }
       ],
       "layout": {}
      },
      "text/html": [
       "<div id=\"2c938490-c501-4c65-b676-35c1d06ac119\" style=\"height: 525px; width: 100%;\" class=\"plotly-graph-div\"></div><script type=\"text/javascript\">require([\"plotly\"], function(Plotly) { window.PLOTLYENV=window.PLOTLYENV || {};window.PLOTLYENV.BASE_URL=\"https://plot.ly\";Plotly.newPlot(\"2c938490-c501-4c65-b676-35c1d06ac119\", [{\"name\": 2800, \"y\": [20.08, 19.99, 19.66, 20.0, 19.37, 20.33, 19.17, 20.15, 19.84, 20.04, 19.98, 20.08, 19.75, 19.73, 19.79, 19.69, 19.74, 19.93, 19.57, 20.32, 20.14, 20.28, 19.84, 19.74, 19.52, 19.92, 19.66, 19.54, 18.91, 19.62, 19.5, 19.16, 20.56, 19.75, 20.37, 19.62, 19.5, 20.22, 19.35, 19.79, 19.47, 19.61, 20.03, 19.46, 19.53, 19.27, 19.99, 20.13, 19.78, 19.41, 20.16, 19.57, 19.83, 19.36, 19.31, 19.57, 20.18, 19.19, 19.76, 19.46, 19.79, 19.42, 19.94, 19.83, 20.55, 19.84, 19.24, 19.34, 20.25, 19.53, 19.59, 19.96, 20.28, 19.47, 19.86, 19.69, 19.68, 19.79, 19.46, 20.55, 17.86, 17.82, 17.81, 17.81, 19.8, 20.28, 20.62, 19.83, 19.67, 20.16, 20.13, 19.43, 20.02, 19.36, 19.79, 19.84, 19.06, 19.7, 19.51, 19.63, 19.48, 19.73, 19.58, 19.58, 19.25, 19.92, 19.52, 20.11, 19.56, 19.55, 20.16, 19.45, 19.6, 19.63, 19.63, 20.55, 20.56, 20.03, 19.77, 20.12, 19.36, 20.51, 19.8, 19.72, 19.31, 19.09, 19.18, 19.36, 19.49, 19.7, 20.13, 20.69, 20.48, 19.7, 19.72, 19.77, 20.07, 20.53, 20.68, 20.06, 19.74, 19.7, 19.7, 19.6, 19.73, 19.98, 20.11, 19.28, 20.0, 19.8, 19.42, 20.3], \"type\": \"scatter\", \"x\": [\"2005-12-04 03:25:50.880000\", \"2005-12-04 03:39:50.688000\", \"2005-12-04 03:53:14.208000\", \"2005-12-04 04:06:05.760000\", \"2005-12-10 03:43:30.144000\", \"2005-12-10 03:55:07.392000\", \"2005-12-10 04:17:19.680000\", \"2005-12-30 04:02:10.752000\", \"2005-12-30 04:12:01.728000\", \"2005-12-30 04:21:53.568000\", \"2005-12-30 04:31:43.680000\", \"2005-11-04 08:26:16.512000\", \"2005-11-04 08:33:32.832000\", \"2005-11-04 08:48:02.880000\", \"2005-11-20 04:00:23.616000\", \"2005-11-20 04:13:45.408000\", \"2005-11-20 04:27:52.128000\", \"2005-11-20 04:40:09.984000\", \"2005-10-14 05:49:22.368000\", \"2005-10-14 06:03:10.944000\", \"2005-10-29 05:10:36.480000\", \"2005-10-29 05:17:42.432000\", \"2005-10-29 05:24:41.472000\", \"2005-10-29 05:31:42.240000\", \"2005-09-30 07:00:48.672000\", \"2005-09-30 07:13:43.680000\", \"2005-09-30 07:27:39.168000\", \"2005-09-30 07:40:52.320000\", \"2006-01-09 03:48:10.080000\", \"2006-01-30 02:32:35.808000\", \"2006-11-01 04:39:45.792000\", \"2006-11-01 04:47:51.360000\", \"2006-11-01 04:56:15.936000\", \"2006-11-20 02:55:15.744000\", \"2006-11-20 03:02:26.016000\", \"2006-11-20 03:16:36.192000\", \"2006-09-29 05:32:09.024000\", \"2007-12-18 04:04:12.576000\", \"2007-12-18 04:13:47.136000\", \"2007-12-18 04:23:13.920000\", \"2007-12-18 04:32:43.296000\", \"2007-06-27 09:58:20.064000\", \"2007-06-27 10:04:33.312000\", \"2007-06-27 10:10:43.968000\", \"2007-06-27 10:16:53.760000\", \"2007-11-04 06:37:46.272000\", \"2007-11-04 06:48:54.144000\", \"2007-11-04 06:59:49.920000\", \"2007-11-04 07:10:42.240000\", \"2007-10-16 05:16:46.272000\", \"2007-10-16 05:28:07.104000\", \"2007-10-16 05:39:32.256000\", \"2007-10-16 05:50:54.816000\", \"2007-10-21 03:47:52.800000\", \"2007-09-15 06:27:40.608000\", \"2007-09-15 06:37:08.256000\", \"2007-09-15 06:46:35.904000\", \"2007-09-15 06:56:04.416000\", \"2008-12-03 02:00:16.128000\", \"2008-12-03 02:08:03.552000\", \"2008-12-03 02:15:45.792000\", \"2008-12-03 02:23:36.672000\", \"2008-12-03 02:31:23.232000\", \"2008-02-12 02:19:08.832000\", \"2008-02-12 02:27:44.640000\", \"2008-01-15 03:37:28.128000\", \"2008-06-15 10:20:40.992000\", \"2008-06-15 10:26:58.560000\", \"2008-06-15 10:33:20.448000\", \"2008-06-15 10:39:40.608000\", \"2008-06-24 10:29:47.904000\", \"2008-06-24 10:39:15.552000\", \"2008-11-08 03:40:25.248000\", \"2008-11-08 03:58:07.104000\", \"2008-11-08 04:15:49.824000\", \"2008-10-31 05:04:33.600000\", \"2008-10-31 05:15:30.240000\", \"2008-10-31 05:26:44.160000\", \"2008-10-31 05:38:29.184000\", \"2009-08-30 06:24:01.152000\", \"2009-12-20 03:49:33.024000\", \"2009-12-20 03:54:06.048000\", \"2009-12-20 03:58:43.392000\", \"2009-12-20 04:03:20.736000\", \"2009-11-09 06:58:48.576000\", \"2009-11-09 07:10:16.320000\", \"2009-11-09 07:21:45.792000\", \"2009-11-09 07:33:19.584000\", \"2009-11-20 06:23:48.192000\", \"2009-11-20 06:32:35.232000\", \"2009-11-20 06:41:08.448000\", \"2009-11-20 06:49:47.712000\", \"2009-11-27 02:06:51.840000\", \"2009-10-27 05:00:22.176000\", \"2009-10-27 05:10:47.712000\", \"2009-10-27 05:31:48.288000\", \"2009-09-15 07:23:19.104000\", \"2009-09-15 07:35:53.376000\", \"2009-09-19 08:17:55.392000\", \"2009-09-19 08:28:27.840000\", \"2009-09-19 08:39:20.160000\", \"2009-09-19 08:49:26.688000\", \"2009-09-26 07:11:45.312000\", \"2009-09-26 07:25:51.168000\", \"2009-09-26 07:39:51.840000\", \"2009-09-26 07:54:18.432000\", \"2010-11-07 06:21:26.496000\", \"2010-11-07 06:41:06.720000\", \"2010-11-07 06:51:03.744000\", \"2010-11-15 04:07:22.656000\", \"2010-11-15 04:23:48.480000\", \"2010-11-15 04:32:16.512000\", \"2010-10-09 07:21:21.600000\", \"2010-10-09 07:46:46.560000\", \"2010-10-09 07:57:54.432000\", \"2010-10-19 03:22:09.696000\", \"2010-10-19 03:41:53.376000\", \"2010-10-31 06:55:15.168000\", \"2010-10-31 07:15:18.720000\", \"2010-10-31 07:25:16.608000\", \"2011-09-24 05:25:54.912000\", \"2011-09-24 05:36:23.040000\", \"2011-09-24 05:46:57.216000\", \"2011-09-24 05:57:31.392000\", \"2011-11-03 03:28:04.800000\", \"2011-11-03 03:38:36.384000\", \"2011-11-03 03:49:12.288000\", \"2011-10-06 07:41:14.784000\", \"2011-10-06 07:50:59.712000\", \"2011-10-06 08:10:25.248000\", \"2012-10-18 04:04:28.992000\", \"2012-10-18 04:09:21.888000\", \"2012-10-25 04:11:30.624000\", \"2012-10-25 04:34:29.568000\", \"2012-11-15 05:15:30.240000\", \"2012-11-15 05:42:57.888000\", \"2012-12-10 03:42:21.024000\", \"2012-12-10 04:11:32.352000\", \"2013-09-16 08:18:26.496000\", \"2013-09-23 09:30:54.144000\", \"2013-09-23 09:37:22.080000\", \"2013-10-04 05:18:17.856000\", \"2013-10-04 05:29:34.368000\", \"2013-10-04 05:40:53.472000\", \"2013-10-04 05:52:16.032000\", \"2013-10-14 03:40:14.016000\", \"2013-10-14 03:52:55.200000\", \"2013-10-14 04:05:32.928000\", \"2013-10-25 06:41:40.416000\", \"2013-10-25 06:54:17.280000\", \"2013-10-25 07:06:53.280000\", \"2013-10-25 07:19:26.688000\"], \"mode\": \"markers\"}], {}, {\"showLink\": true, \"linkText\": \"Export to plot.ly\"})});</script>"
      ],
      "text/vnd.plotly.v1+html": [
       "<div id=\"2c938490-c501-4c65-b676-35c1d06ac119\" style=\"height: 525px; width: 100%;\" class=\"plotly-graph-div\"></div><script type=\"text/javascript\">require([\"plotly\"], function(Plotly) { window.PLOTLYENV=window.PLOTLYENV || {};window.PLOTLYENV.BASE_URL=\"https://plot.ly\";Plotly.newPlot(\"2c938490-c501-4c65-b676-35c1d06ac119\", [{\"name\": 2800, \"y\": [20.08, 19.99, 19.66, 20.0, 19.37, 20.33, 19.17, 20.15, 19.84, 20.04, 19.98, 20.08, 19.75, 19.73, 19.79, 19.69, 19.74, 19.93, 19.57, 20.32, 20.14, 20.28, 19.84, 19.74, 19.52, 19.92, 19.66, 19.54, 18.91, 19.62, 19.5, 19.16, 20.56, 19.75, 20.37, 19.62, 19.5, 20.22, 19.35, 19.79, 19.47, 19.61, 20.03, 19.46, 19.53, 19.27, 19.99, 20.13, 19.78, 19.41, 20.16, 19.57, 19.83, 19.36, 19.31, 19.57, 20.18, 19.19, 19.76, 19.46, 19.79, 19.42, 19.94, 19.83, 20.55, 19.84, 19.24, 19.34, 20.25, 19.53, 19.59, 19.96, 20.28, 19.47, 19.86, 19.69, 19.68, 19.79, 19.46, 20.55, 17.86, 17.82, 17.81, 17.81, 19.8, 20.28, 20.62, 19.83, 19.67, 20.16, 20.13, 19.43, 20.02, 19.36, 19.79, 19.84, 19.06, 19.7, 19.51, 19.63, 19.48, 19.73, 19.58, 19.58, 19.25, 19.92, 19.52, 20.11, 19.56, 19.55, 20.16, 19.45, 19.6, 19.63, 19.63, 20.55, 20.56, 20.03, 19.77, 20.12, 19.36, 20.51, 19.8, 19.72, 19.31, 19.09, 19.18, 19.36, 19.49, 19.7, 20.13, 20.69, 20.48, 19.7, 19.72, 19.77, 20.07, 20.53, 20.68, 20.06, 19.74, 19.7, 19.7, 19.6, 19.73, 19.98, 20.11, 19.28, 20.0, 19.8, 19.42, 20.3], \"type\": \"scatter\", \"x\": [\"2005-12-04 03:25:50.880000\", \"2005-12-04 03:39:50.688000\", \"2005-12-04 03:53:14.208000\", \"2005-12-04 04:06:05.760000\", \"2005-12-10 03:43:30.144000\", \"2005-12-10 03:55:07.392000\", \"2005-12-10 04:17:19.680000\", \"2005-12-30 04:02:10.752000\", \"2005-12-30 04:12:01.728000\", \"2005-12-30 04:21:53.568000\", \"2005-12-30 04:31:43.680000\", \"2005-11-04 08:26:16.512000\", \"2005-11-04 08:33:32.832000\", \"2005-11-04 08:48:02.880000\", \"2005-11-20 04:00:23.616000\", \"2005-11-20 04:13:45.408000\", \"2005-11-20 04:27:52.128000\", \"2005-11-20 04:40:09.984000\", \"2005-10-14 05:49:22.368000\", \"2005-10-14 06:03:10.944000\", \"2005-10-29 05:10:36.480000\", \"2005-10-29 05:17:42.432000\", \"2005-10-29 05:24:41.472000\", \"2005-10-29 05:31:42.240000\", \"2005-09-30 07:00:48.672000\", \"2005-09-30 07:13:43.680000\", \"2005-09-30 07:27:39.168000\", \"2005-09-30 07:40:52.320000\", \"2006-01-09 03:48:10.080000\", \"2006-01-30 02:32:35.808000\", \"2006-11-01 04:39:45.792000\", \"2006-11-01 04:47:51.360000\", \"2006-11-01 04:56:15.936000\", \"2006-11-20 02:55:15.744000\", \"2006-11-20 03:02:26.016000\", \"2006-11-20 03:16:36.192000\", \"2006-09-29 05:32:09.024000\", \"2007-12-18 04:04:12.576000\", \"2007-12-18 04:13:47.136000\", \"2007-12-18 04:23:13.920000\", \"2007-12-18 04:32:43.296000\", \"2007-06-27 09:58:20.064000\", \"2007-06-27 10:04:33.312000\", \"2007-06-27 10:10:43.968000\", \"2007-06-27 10:16:53.760000\", \"2007-11-04 06:37:46.272000\", \"2007-11-04 06:48:54.144000\", \"2007-11-04 06:59:49.920000\", \"2007-11-04 07:10:42.240000\", \"2007-10-16 05:16:46.272000\", \"2007-10-16 05:28:07.104000\", \"2007-10-16 05:39:32.256000\", \"2007-10-16 05:50:54.816000\", \"2007-10-21 03:47:52.800000\", \"2007-09-15 06:27:40.608000\", \"2007-09-15 06:37:08.256000\", \"2007-09-15 06:46:35.904000\", \"2007-09-15 06:56:04.416000\", \"2008-12-03 02:00:16.128000\", \"2008-12-03 02:08:03.552000\", \"2008-12-03 02:15:45.792000\", \"2008-12-03 02:23:36.672000\", \"2008-12-03 02:31:23.232000\", \"2008-02-12 02:19:08.832000\", \"2008-02-12 02:27:44.640000\", \"2008-01-15 03:37:28.128000\", \"2008-06-15 10:20:40.992000\", \"2008-06-15 10:26:58.560000\", \"2008-06-15 10:33:20.448000\", \"2008-06-15 10:39:40.608000\", \"2008-06-24 10:29:47.904000\", \"2008-06-24 10:39:15.552000\", \"2008-11-08 03:40:25.248000\", \"2008-11-08 03:58:07.104000\", \"2008-11-08 04:15:49.824000\", \"2008-10-31 05:04:33.600000\", \"2008-10-31 05:15:30.240000\", \"2008-10-31 05:26:44.160000\", \"2008-10-31 05:38:29.184000\", \"2009-08-30 06:24:01.152000\", \"2009-12-20 03:49:33.024000\", \"2009-12-20 03:54:06.048000\", \"2009-12-20 03:58:43.392000\", \"2009-12-20 04:03:20.736000\", \"2009-11-09 06:58:48.576000\", \"2009-11-09 07:10:16.320000\", \"2009-11-09 07:21:45.792000\", \"2009-11-09 07:33:19.584000\", \"2009-11-20 06:23:48.192000\", \"2009-11-20 06:32:35.232000\", \"2009-11-20 06:41:08.448000\", \"2009-11-20 06:49:47.712000\", \"2009-11-27 02:06:51.840000\", \"2009-10-27 05:00:22.176000\", \"2009-10-27 05:10:47.712000\", \"2009-10-27 05:31:48.288000\", \"2009-09-15 07:23:19.104000\", \"2009-09-15 07:35:53.376000\", \"2009-09-19 08:17:55.392000\", \"2009-09-19 08:28:27.840000\", \"2009-09-19 08:39:20.160000\", \"2009-09-19 08:49:26.688000\", \"2009-09-26 07:11:45.312000\", \"2009-09-26 07:25:51.168000\", \"2009-09-26 07:39:51.840000\", \"2009-09-26 07:54:18.432000\", \"2010-11-07 06:21:26.496000\", \"2010-11-07 06:41:06.720000\", \"2010-11-07 06:51:03.744000\", \"2010-11-15 04:07:22.656000\", \"2010-11-15 04:23:48.480000\", \"2010-11-15 04:32:16.512000\", \"2010-10-09 07:21:21.600000\", \"2010-10-09 07:46:46.560000\", \"2010-10-09 07:57:54.432000\", \"2010-10-19 03:22:09.696000\", \"2010-10-19 03:41:53.376000\", \"2010-10-31 06:55:15.168000\", \"2010-10-31 07:15:18.720000\", \"2010-10-31 07:25:16.608000\", \"2011-09-24 05:25:54.912000\", \"2011-09-24 05:36:23.040000\", \"2011-09-24 05:46:57.216000\", \"2011-09-24 05:57:31.392000\", \"2011-11-03 03:28:04.800000\", \"2011-11-03 03:38:36.384000\", \"2011-11-03 03:49:12.288000\", \"2011-10-06 07:41:14.784000\", \"2011-10-06 07:50:59.712000\", \"2011-10-06 08:10:25.248000\", \"2012-10-18 04:04:28.992000\", \"2012-10-18 04:09:21.888000\", \"2012-10-25 04:11:30.624000\", \"2012-10-25 04:34:29.568000\", \"2012-11-15 05:15:30.240000\", \"2012-11-15 05:42:57.888000\", \"2012-12-10 03:42:21.024000\", \"2012-12-10 04:11:32.352000\", \"2013-09-16 08:18:26.496000\", \"2013-09-23 09:30:54.144000\", \"2013-09-23 09:37:22.080000\", \"2013-10-04 05:18:17.856000\", \"2013-10-04 05:29:34.368000\", \"2013-10-04 05:40:53.472000\", \"2013-10-04 05:52:16.032000\", \"2013-10-14 03:40:14.016000\", \"2013-10-14 03:52:55.200000\", \"2013-10-14 04:05:32.928000\", \"2013-10-25 06:41:40.416000\", \"2013-10-25 06:54:17.280000\", \"2013-10-25 07:06:53.280000\", \"2013-10-25 07:19:26.688000\"], \"mode\": \"markers\"}], {}, {\"showLink\": true, \"linkText\": \"Export to plot.ly\"})});</script>"
      ]
     },
     "metadata": {},
     "output_type": "display_data"
    }
   ],
   "source": [
    "iplot([visualize.light_curve_interactive_scatter(df_light_curves_cv_sample)])"
   ]
  },
  {
   "cell_type": "markdown",
   "metadata": {},
   "source": [
    "### Blazars"
   ]
  },
  {
   "cell_type": "code",
   "execution_count": 62,
   "metadata": {
    "collapsed": true
   },
   "outputs": [],
   "source": [
    "index_blazars_light_curve = 0\n",
    "# Get sample\n",
    "df_light_curves_blazars_sample = df_light_curves_blazars[\n",
    "    df_light_curves_blazars['InputID'] == df_light_curves_blazars.InputID.unique()[index_blazars_light_curve]\n",
    "]"
   ]
  },
  {
   "cell_type": "code",
   "execution_count": 63,
   "metadata": {},
   "outputs": [
    {
     "data": {
      "application/vnd.plotly.v1+json": {
       "data": [
        {
         "mode": "markers",
         "name": 4076,
         "type": "scatter",
         "x": [
          "2005-12-06 11:52:06.528000",
          "2005-12-06 11:58:27.552000",
          "2005-12-06 12:04:52.032000",
          "2005-12-06 12:11:14.784000",
          "2005-12-27 10:53:24",
          "2005-12-27 11:13:31.008000",
          "2005-12-27 11:23:34.080000",
          "2005-11-25 12:20:34.656000",
          "2005-11-25 12:25:24.096000",
          "2005-11-25 12:30:13.536000",
          "2005-11-25 12:35:11.616000",
          "2005-10-28 12:04:03.648000",
          "2005-10-28 12:10:39.360000",
          "2005-10-28 12:17:28.896000",
          "2006-04-20 04:39:25.920000",
          "2006-04-20 04:53:14.496000",
          "2006-04-20 05:07:36.768000",
          "2006-12-13 12:15:34.848000",
          "2006-12-13 12:22:08.832000",
          "2006-12-13 12:28:35.904000",
          "2006-02-05 08:43:52.320000",
          "2006-02-05 08:53:42.432000",
          "2006-02-05 09:03:32.544000",
          "2006-02-20 07:02:40.992000",
          "2006-02-20 07:12:39.744000",
          "2006-02-20 07:40:51.456000",
          "2006-01-05 09:14:32.640000",
          "2006-01-05 09:23:38.688000",
          "2006-01-05 09:32:43.872000",
          "2006-01-05 09:41:46.464000",
          "2006-01-26 08:43:06.528000",
          "2006-01-26 08:53:38.112000",
          "2006-01-26 09:04:09.696000",
          "2006-01-26 09:14:41.280000",
          "2006-03-09 04:15:13.536000",
          "2006-03-23 04:56:09.888000",
          "2006-03-23 05:04:15.456000",
          "2006-03-23 05:12:21.888000",
          "2006-05-24 04:03:21.600000",
          "2006-05-24 04:09:53.856000",
          "2006-05-24 04:16:32.160000",
          "2006-05-24 04:23:03.552000",
          "2006-11-15 11:43:58.368000",
          "2006-11-15 11:52:46.272000",
          "2006-11-16 10:28:05.952000",
          "2006-11-16 10:39:50.976000",
          "2006-11-16 10:51:28.224000",
          "2006-11-16 11:03:08.064000",
          "2006-10-27 11:32:43.584000",
          "2006-10-27 12:02:50.208000",
          "2006-10-27 12:17:44.448000",
          "2007-04-07 04:06:49.824000",
          "2007-04-07 04:16:40.800000",
          "2007-04-07 04:26:15.360000",
          "2007-04-07 04:35:52.512000",
          "2007-04-18 04:54:31.392000",
          "2007-04-18 05:03:18.432000",
          "2007-04-18 05:12:15.840000",
          "2007-12-14 11:24:25.056000",
          "2007-12-14 11:34:36.768000",
          "2007-12-14 11:44:43.296000",
          "2007-12-14 11:54:51.552000",
          "2007-12-30 09:37:03.072000",
          "2007-12-30 09:53:41.856000",
          "2007-12-30 10:10:19.776000",
          "2007-12-30 10:26:55.104000",
          "2007-02-06 08:06:44.928000",
          "2007-02-06 08:27:45.504000",
          "2007-02-06 08:38:15.360000",
          "2007-02-13 07:05:21.696000",
          "2007-02-13 07:18:08.064000",
          "2007-02-13 07:30:57.888000",
          "2007-02-13 07:44:57.696000",
          "2007-02-23 05:29:30.048000",
          "2007-02-23 05:37:23.520000",
          "2007-02-23 05:45:23.904000",
          "2007-03-07 07:37:14.592000",
          "2007-03-09 07:13:11.712000",
          "2007-03-09 07:21:38.016000",
          "2007-03-09 07:29:58.272000",
          "2007-03-09 07:38:19.392000",
          "2007-03-26 03:14:44.736000",
          "2007-03-26 03:23:18.816000",
          "2007-03-26 03:40:32.160000",
          "2007-05-11 04:15:18.720000",
          "2007-05-11 04:25:37.344000",
          "2007-05-11 04:35:56.832000",
          "2007-05-11 04:46:18.048000",
          "2007-11-09 10:30:29.376000",
          "2007-11-09 10:40:18.624000",
          "2007-11-09 10:49:55.776000",
          "2007-11-09 10:59:43.296000",
          "2007-10-16 11:22:42.240000",
          "2007-10-16 11:29:09.312000",
          "2007-10-16 11:35:48.480000",
          "2007-10-16 11:42:19.008000",
          "2008-04-11 04:42:29.088000",
          "2008-04-11 04:49:48.864000",
          "2008-04-11 04:57:11.232000",
          "2008-04-11 05:04:29.280000",
          "2008-04-25 05:28:25.248000",
          "2008-04-25 05:37:50.304000",
          "2008-04-25 05:47:10.176000",
          "2008-04-25 05:56:41.280000",
          "2008-12-22 09:19:56.640000",
          "2008-12-22 09:27:20.736000",
          "2008-12-22 09:34:42.240000",
          "2008-12-22 09:41:55.968000",
          "2008-02-24 07:40:20.352000",
          "2008-02-24 07:54:43.488000",
          "2008-02-24 08:01:52.896000",
          "2008-01-30 07:28:18.912000",
          "2008-01-30 07:39:18.144000",
          "2008-01-30 07:50:24.288000",
          "2008-01-30 08:01:26.112000",
          "2008-03-08 05:00:30.816000",
          "2008-03-08 05:07:55.776000",
          "2008-03-08 05:15:20.736000",
          "2008-03-08 05:22:48.288000",
          "2008-03-26 05:33:47.520000",
          "2008-03-26 05:45:49.824000",
          "2008-03-26 05:57:52.992000",
          "2008-03-26 06:09:56.160000",
          "2008-11-24 10:47:33.216000",
          "2008-11-24 10:59:34.656000",
          "2008-11-24 11:11:36.960000",
          "2008-11-24 11:23:50.496000",
          "2009-04-26 04:19:09.408000",
          "2009-04-26 04:26:58.560000",
          "2009-04-26 04:34:45.120000",
          "2009-04-26 04:42:38.592000",
          "2009-02-14 08:32:36.672000",
          "2009-02-14 09:04:41.664000",
          "2009-03-15 05:48:29.664000",
          "2009-03-15 06:02:03.552000",
          "2009-03-15 06:29:09.600000",
          "2009-03-21 04:50:38.976000",
          "2009-03-21 04:59:38.112000",
          "2009-03-21 05:08:36.384000",
          "2009-03-21 05:17:35.520000",
          "2009-05-15 04:13:43.680000",
          "2009-05-15 04:28:26.688000",
          "2009-05-15 04:43:12.288000",
          "2009-05-15 04:57:56.160000",
          "2009-11-15 12:13:18.336000",
          "2009-11-15 12:21:47.232000",
          "2009-11-15 12:30:12.672000",
          "2010-04-11 04:39:13.824000",
          "2010-04-11 04:52:23.520000",
          "2010-04-11 05:05:37.536000",
          "2010-04-11 05:18:55.008000",
          "2010-12-09 10:41:12.192000",
          "2010-12-09 10:51:16.992000",
          "2010-12-09 11:01:15.744000",
          "2010-12-09 11:11:25.728000",
          "2010-02-09 07:55:33.600000",
          "2010-02-09 08:04:57.792000",
          "2010-02-09 08:14:24.576000",
          "2010-02-09 08:23:45.312000",
          "2010-02-14 07:32:37.248000",
          "2010-02-14 07:42:17.856000",
          "2010-02-14 07:51:59.328000",
          "2010-02-14 08:01:41.664000",
          "2010-02-14 08:11:21.408000",
          "2010-03-13 06:00:59.616000",
          "2010-03-13 06:10:20.352000",
          "2010-03-13 06:19:41.088000",
          "2010-03-13 06:29:07.008000",
          "2010-05-10 03:24:43.488000",
          "2010-05-10 03:35:09.888000",
          "2010-05-10 03:50:28.320000",
          "2010-05-10 04:00:52.992000",
          "2011-02-08 09:09:25.056000",
          "2011-02-08 09:19:22.080000",
          "2011-02-08 09:29:26.880000",
          "2011-02-08 09:39:29.952000",
          "2011-02-13 07:01:40.512000",
          "2011-02-13 07:11:35.808000",
          "2011-02-13 07:21:32.832000",
          "2011-02-13 07:31:36.768000",
          "2011-02-25 05:21:40.032000",
          "2011-02-25 05:34:20.352000",
          "2011-02-25 05:46:46.848000",
          "2011-02-25 05:59:25.440000",
          "2011-01-16 09:58:42.528000",
          "2011-01-16 10:09:27.072000",
          "2011-01-16 10:20:16.800000",
          "2011-01-16 10:31:05.664000",
          "2011-01-27 08:32:21.120000",
          "2011-01-27 08:42:20.736000",
          "2011-01-27 08:52:23.808000",
          "2011-01-27 09:02:24.288000",
          "2011-03-03 05:18:14.400000",
          "2011-03-03 05:25:45.408000",
          "2011-03-03 05:33:19.872000",
          "2011-03-03 05:40:52.608000",
          "2011-05-26 04:00:48.672000",
          "2011-05-26 04:08:10.176000",
          "2011-05-26 04:15:42.912000",
          "2011-05-26 04:23:13.056000",
          "2011-11-02 11:09:19.584000",
          "2011-11-02 11:17:34.656000",
          "2011-11-02 11:25:56.640000",
          "2011-11-02 11:34:22.944000",
          "2011-11-15 12:15:57.312000",
          "2011-11-15 12:25:59.520000",
          "2011-11-15 12:36:06.912000",
          "2011-11-15 12:46:05.664000",
          "2011-11-22 11:49:31.872000",
          "2011-11-22 11:57:10.656000",
          "2011-11-22 12:04:45.120000",
          "2012-01-26 11:21:13.248000",
          "2012-01-26 11:28:45.984000",
          "2012-01-26 11:36:20.448000",
          "2012-01-26 11:43:48.864000",
          "2012-02-11 08:24:19.872000",
          "2012-02-11 08:35:03.552000",
          "2012-02-11 08:45:55.008000",
          "2012-03-21 04:24:42.048000",
          "2012-03-21 04:32:08.736000",
          "2012-03-21 04:39:38.016000",
          "2012-03-21 04:47:08.160000",
          "2012-03-28 05:47:10.176000",
          "2012-03-28 05:56:08.448000",
          "2012-03-28 06:05:04.992000",
          "2012-03-28 06:14:10.176000",
          "2012-04-11 04:02:56.544000",
          "2012-04-11 04:19:43.104000",
          "2012-04-11 04:28:01.632000",
          "2012-10-25 11:59:34.944000",
          "2012-10-25 12:06:12.384000",
          "2012-10-25 12:12:46.368000",
          "2012-10-25 12:19:21.216000",
          "2012-11-02 11:55:05.376000",
          "2012-11-02 12:05:08.448000",
          "2012-12-21 11:26:14.784000",
          "2012-12-21 11:33:00",
          "2012-12-21 11:39:44.352000",
          "2012-12-21 11:46:30.432000",
          "2013-01-05 11:28:22.656000",
          "2013-01-05 11:35:57.984000",
          "2013-01-05 11:43:33.312000",
          "2013-01-05 11:51:10.368000",
          "2013-02-14 07:03:23.328000",
          "2013-02-14 07:13:18.624000",
          "2013-02-14 07:23:07.872000",
          "2013-02-14 07:33:05.760000",
          "2013-03-07 06:44:36.672000",
          "2013-03-07 06:52:11.136000",
          "2013-03-07 06:59:49.920000",
          "2013-03-07 07:07:26.112000",
          "2013-03-20 03:35:31.488000",
          "2013-03-20 03:49:01.056000",
          "2013-04-01 04:30:18.144000",
          "2013-04-01 04:42:19.584000",
          "2013-04-01 04:54:20.160000",
          "2013-04-01 05:06:30.240000",
          "2013-04-06 04:31:32.448000",
          "2013-04-06 04:39:03.456000",
          "2013-04-06 04:46:33.600000",
          "2013-04-06 04:54:10.656000",
          "2013-05-30 04:11:17.664000",
          "2013-05-30 04:19:41.376000",
          "2013-06-04 03:42:34.848000",
          "2013-06-04 03:50:13.632000",
          "2013-06-04 03:57:55.008000",
          "2013-06-04 04:05:36.384000",
          "2013-11-06 11:54:39.456000",
          "2013-11-06 12:02:19.104000",
          "2013-11-06 12:09:59.616000",
          "2013-11-06 12:17:38.400000",
          "2013-12-11 11:43:21.216000",
          "2013-12-11 11:49:22.368000",
          "2013-12-11 11:55:23.520000",
          "2013-12-11 12:01:22.944000",
          "2013-12-30 08:03:50.400000",
          "2013-12-30 08:14:32.352000",
          "2013-12-30 08:25:16.032000",
          "2013-12-30 08:35:58.848000",
          "2006-06-17 04:06:31.365996",
          "2013-10-31 11:36:17.354007",
          "2013-02-14 07:03:23.488004",
          "2006-02-20 07:12:39.375996",
          "2008-02-24 07:54:43.063007",
          "2005-11-25 12:20:34.286001",
          "2006-03-09 04:15:13.459000"
         ],
         "y": [
          20.89,
          21.5,
          21.42,
          21.26,
          21.58,
          21.19,
          21.85,
          20.73,
          21.17,
          20.72,
          21.03,
          21.48,
          20.98,
          21.43,
          21.28,
          21.02,
          21.02,
          21.09,
          21.21,
          21.23,
          21.55,
          18.88,
          17.59,
          20.47,
          21.15,
          21.23,
          21.87,
          20.96,
          21,
          21.39,
          21.2,
          21.03,
          20.87,
          21.22,
          20.46,
          21.21,
          20.96,
          21.42,
          20.83,
          21.35,
          20.78,
          21.07,
          21.25,
          21.77,
          21,
          20.87,
          20.78,
          20.95,
          20.2,
          21,
          21.29,
          21.47,
          20.98,
          21.19,
          20.86,
          21.34,
          21.15,
          21.24,
          20.82,
          20.96,
          20.96,
          20.87,
          20.89,
          20.87,
          20.73,
          21.05,
          20.69,
          20.34,
          19.99,
          20.84,
          21.27,
          20.97,
          21.01,
          20.94,
          21.28,
          21.45,
          19,
          21.03,
          21.08,
          20.86,
          21.07,
          20.96,
          20.6,
          21.36,
          20.94,
          20.8,
          20.69,
          21.01,
          20.96,
          21.32,
          21.47,
          20.8,
          21.23,
          21.73,
          20.94,
          20.67,
          20.96,
          20.79,
          20.85,
          21.15,
          21.02,
          21.47,
          20.91,
          20.69,
          20.74,
          21.04,
          21.21,
          21.03,
          20.58,
          19.97,
          20.37,
          20.95,
          20.71,
          20.71,
          20.36,
          21.03,
          20.86,
          20.88,
          21.56,
          20.93,
          21.03,
          20.47,
          21.09,
          20.91,
          20.62,
          21.22,
          20.82,
          21.55,
          21.82,
          20.85,
          21.64,
          21.04,
          20.32,
          21.11,
          20.39,
          21.48,
          20.78,
          20.85,
          21.24,
          20.85,
          20.49,
          21.03,
          21.42,
          20.55,
          21.65,
          21.49,
          21.49,
          21.03,
          21.08,
          20.88,
          20.77,
          21.38,
          20.93,
          20.89,
          20.63,
          21.59,
          21.18,
          21.33,
          21.02,
          21.18,
          21.1,
          21.17,
          21.22,
          21.38,
          20.86,
          20.99,
          21.35,
          20.94,
          20.8,
          20.6,
          20.76,
          21.3,
          20.93,
          20.81,
          21.33,
          21.07,
          21,
          20.91,
          20.78,
          20.9,
          21.05,
          21.16,
          21.08,
          20.77,
          21.41,
          20.79,
          21.63,
          20.74,
          21.59,
          20.8,
          21.11,
          21.09,
          21.07,
          20.68,
          21.09,
          21.21,
          20.79,
          20.66,
          20.67,
          20.63,
          20.99,
          21.08,
          21.09,
          21.39,
          21.75,
          20.86,
          21,
          21.41,
          21.54,
          21.14,
          21.27,
          21.09,
          21.14,
          21.8,
          20.93,
          21.03,
          21.76,
          21.24,
          20.8,
          20.92,
          21.24,
          20.86,
          21.48,
          21.11,
          21.15,
          20.44,
          21.71,
          21.3,
          20.65,
          21.19,
          21.21,
          20.87,
          22.28,
          20.27,
          20.96,
          20.78,
          21.16,
          21.21,
          21.41,
          21.07,
          20.57,
          20.89,
          20.98,
          20.84,
          21.3,
          21.01,
          21.18,
          20.93,
          20.68,
          21.06,
          21.03,
          21.47,
          20.93,
          21.27,
          21.19,
          21,
          21.07,
          20.77,
          20.97,
          21.62,
          21.08,
          20.81,
          20.89,
          21.39,
          21.51,
          20.96,
          21.29,
          20.08,
          20.18,
          20.2,
          20.08,
          20.59,
          20.56,
          20.91,
          20.87,
          21.01,
          21.03,
          20.47,
          20.82,
          19.34724,
          19.487769,
          21.240712,
          20.006023,
          21.196505,
          20.930852,
          19.535075
         ]
        }
       ],
       "layout": {}
      },
      "text/html": [
       "<div id=\"e9388709-0595-4871-a444-1fad3de7018e\" style=\"height: 525px; width: 100%;\" class=\"plotly-graph-div\"></div><script type=\"text/javascript\">require([\"plotly\"], function(Plotly) { window.PLOTLYENV=window.PLOTLYENV || {};window.PLOTLYENV.BASE_URL=\"https://plot.ly\";Plotly.newPlot(\"e9388709-0595-4871-a444-1fad3de7018e\", [{\"name\": 4076, \"y\": [20.89, 21.5, 21.42, 21.26, 21.58, 21.19, 21.85, 20.73, 21.17, 20.72, 21.03, 21.48, 20.98, 21.43, 21.28, 21.02, 21.02, 21.09, 21.21, 21.23, 21.55, 18.88, 17.59, 20.47, 21.15, 21.23, 21.87, 20.96, 21.0, 21.39, 21.2, 21.03, 20.87, 21.22, 20.46, 21.21, 20.96, 21.42, 20.83, 21.35, 20.78, 21.07, 21.25, 21.77, 21.0, 20.87, 20.78, 20.95, 20.2, 21.0, 21.29, 21.47, 20.98, 21.19, 20.86, 21.34, 21.15, 21.24, 20.82, 20.96, 20.96, 20.87, 20.89, 20.87, 20.73, 21.05, 20.69, 20.34, 19.99, 20.84, 21.27, 20.97, 21.01, 20.94, 21.28, 21.45, 19.0, 21.03, 21.08, 20.86, 21.07, 20.96, 20.6, 21.36, 20.94, 20.8, 20.69, 21.01, 20.96, 21.32, 21.47, 20.8, 21.23, 21.73, 20.94, 20.67, 20.96, 20.79, 20.85, 21.15, 21.02, 21.47, 20.91, 20.69, 20.74, 21.04, 21.21, 21.03, 20.58, 19.97, 20.37, 20.95, 20.71, 20.71, 20.36, 21.03, 20.86, 20.88, 21.56, 20.93, 21.03, 20.47, 21.09, 20.91, 20.62, 21.22, 20.82, 21.55, 21.82, 20.85, 21.64, 21.04, 20.32, 21.11, 20.39, 21.48, 20.78, 20.85, 21.24, 20.85, 20.49, 21.03, 21.42, 20.55, 21.65, 21.49, 21.49, 21.03, 21.08, 20.88, 20.77, 21.38, 20.93, 20.89, 20.63, 21.59, 21.18, 21.33, 21.02, 21.18, 21.1, 21.17, 21.22, 21.38, 20.86, 20.99, 21.35, 20.94, 20.8, 20.6, 20.76, 21.3, 20.93, 20.81, 21.33, 21.07, 21.0, 20.91, 20.78, 20.9, 21.05, 21.16, 21.08, 20.77, 21.41, 20.79, 21.63, 20.74, 21.59, 20.8, 21.11, 21.09, 21.07, 20.68, 21.09, 21.21, 20.79, 20.66, 20.67, 20.63, 20.99, 21.08, 21.09, 21.39, 21.75, 20.86, 21.0, 21.41, 21.54, 21.14, 21.27, 21.09, 21.14, 21.8, 20.93, 21.03, 21.76, 21.24, 20.8, 20.92, 21.24, 20.86, 21.48, 21.11, 21.15, 20.44, 21.71, 21.3, 20.65, 21.19, 21.21, 20.87, 22.28, 20.27, 20.96, 20.78, 21.16, 21.21, 21.41, 21.07, 20.57, 20.89, 20.98, 20.84, 21.3, 21.01, 21.18, 20.93, 20.68, 21.06, 21.03, 21.47, 20.93, 21.27, 21.19, 21.0, 21.07, 20.77, 20.97, 21.62, 21.08, 20.81, 20.89, 21.39, 21.51, 20.96, 21.29, 20.08, 20.18, 20.2, 20.08, 20.59, 20.56, 20.91, 20.87, 21.01, 21.03, 20.47, 20.82, 19.34724, 19.487769, 21.240712, 20.006023, 21.196505, 20.930852, 19.535075], \"type\": \"scatter\", \"x\": [\"2005-12-06 11:52:06.528000\", \"2005-12-06 11:58:27.552000\", \"2005-12-06 12:04:52.032000\", \"2005-12-06 12:11:14.784000\", \"2005-12-27 10:53:24\", \"2005-12-27 11:13:31.008000\", \"2005-12-27 11:23:34.080000\", \"2005-11-25 12:20:34.656000\", \"2005-11-25 12:25:24.096000\", \"2005-11-25 12:30:13.536000\", \"2005-11-25 12:35:11.616000\", \"2005-10-28 12:04:03.648000\", \"2005-10-28 12:10:39.360000\", \"2005-10-28 12:17:28.896000\", \"2006-04-20 04:39:25.920000\", \"2006-04-20 04:53:14.496000\", \"2006-04-20 05:07:36.768000\", \"2006-12-13 12:15:34.848000\", \"2006-12-13 12:22:08.832000\", \"2006-12-13 12:28:35.904000\", \"2006-02-05 08:43:52.320000\", \"2006-02-05 08:53:42.432000\", \"2006-02-05 09:03:32.544000\", \"2006-02-20 07:02:40.992000\", \"2006-02-20 07:12:39.744000\", \"2006-02-20 07:40:51.456000\", \"2006-01-05 09:14:32.640000\", \"2006-01-05 09:23:38.688000\", \"2006-01-05 09:32:43.872000\", \"2006-01-05 09:41:46.464000\", \"2006-01-26 08:43:06.528000\", \"2006-01-26 08:53:38.112000\", \"2006-01-26 09:04:09.696000\", \"2006-01-26 09:14:41.280000\", \"2006-03-09 04:15:13.536000\", \"2006-03-23 04:56:09.888000\", \"2006-03-23 05:04:15.456000\", \"2006-03-23 05:12:21.888000\", \"2006-05-24 04:03:21.600000\", \"2006-05-24 04:09:53.856000\", \"2006-05-24 04:16:32.160000\", \"2006-05-24 04:23:03.552000\", \"2006-11-15 11:43:58.368000\", \"2006-11-15 11:52:46.272000\", \"2006-11-16 10:28:05.952000\", \"2006-11-16 10:39:50.976000\", \"2006-11-16 10:51:28.224000\", \"2006-11-16 11:03:08.064000\", \"2006-10-27 11:32:43.584000\", \"2006-10-27 12:02:50.208000\", \"2006-10-27 12:17:44.448000\", \"2007-04-07 04:06:49.824000\", \"2007-04-07 04:16:40.800000\", \"2007-04-07 04:26:15.360000\", \"2007-04-07 04:35:52.512000\", \"2007-04-18 04:54:31.392000\", \"2007-04-18 05:03:18.432000\", \"2007-04-18 05:12:15.840000\", \"2007-12-14 11:24:25.056000\", \"2007-12-14 11:34:36.768000\", \"2007-12-14 11:44:43.296000\", \"2007-12-14 11:54:51.552000\", \"2007-12-30 09:37:03.072000\", \"2007-12-30 09:53:41.856000\", \"2007-12-30 10:10:19.776000\", \"2007-12-30 10:26:55.104000\", \"2007-02-06 08:06:44.928000\", \"2007-02-06 08:27:45.504000\", \"2007-02-06 08:38:15.360000\", \"2007-02-13 07:05:21.696000\", \"2007-02-13 07:18:08.064000\", \"2007-02-13 07:30:57.888000\", \"2007-02-13 07:44:57.696000\", \"2007-02-23 05:29:30.048000\", \"2007-02-23 05:37:23.520000\", \"2007-02-23 05:45:23.904000\", \"2007-03-07 07:37:14.592000\", \"2007-03-09 07:13:11.712000\", \"2007-03-09 07:21:38.016000\", \"2007-03-09 07:29:58.272000\", \"2007-03-09 07:38:19.392000\", \"2007-03-26 03:14:44.736000\", \"2007-03-26 03:23:18.816000\", \"2007-03-26 03:40:32.160000\", \"2007-05-11 04:15:18.720000\", \"2007-05-11 04:25:37.344000\", \"2007-05-11 04:35:56.832000\", \"2007-05-11 04:46:18.048000\", \"2007-11-09 10:30:29.376000\", \"2007-11-09 10:40:18.624000\", \"2007-11-09 10:49:55.776000\", \"2007-11-09 10:59:43.296000\", \"2007-10-16 11:22:42.240000\", \"2007-10-16 11:29:09.312000\", \"2007-10-16 11:35:48.480000\", \"2007-10-16 11:42:19.008000\", \"2008-04-11 04:42:29.088000\", \"2008-04-11 04:49:48.864000\", \"2008-04-11 04:57:11.232000\", \"2008-04-11 05:04:29.280000\", \"2008-04-25 05:28:25.248000\", \"2008-04-25 05:37:50.304000\", \"2008-04-25 05:47:10.176000\", \"2008-04-25 05:56:41.280000\", \"2008-12-22 09:19:56.640000\", \"2008-12-22 09:27:20.736000\", \"2008-12-22 09:34:42.240000\", \"2008-12-22 09:41:55.968000\", \"2008-02-24 07:40:20.352000\", \"2008-02-24 07:54:43.488000\", \"2008-02-24 08:01:52.896000\", \"2008-01-30 07:28:18.912000\", \"2008-01-30 07:39:18.144000\", \"2008-01-30 07:50:24.288000\", \"2008-01-30 08:01:26.112000\", \"2008-03-08 05:00:30.816000\", \"2008-03-08 05:07:55.776000\", \"2008-03-08 05:15:20.736000\", \"2008-03-08 05:22:48.288000\", \"2008-03-26 05:33:47.520000\", \"2008-03-26 05:45:49.824000\", \"2008-03-26 05:57:52.992000\", \"2008-03-26 06:09:56.160000\", \"2008-11-24 10:47:33.216000\", \"2008-11-24 10:59:34.656000\", \"2008-11-24 11:11:36.960000\", \"2008-11-24 11:23:50.496000\", \"2009-04-26 04:19:09.408000\", \"2009-04-26 04:26:58.560000\", \"2009-04-26 04:34:45.120000\", \"2009-04-26 04:42:38.592000\", \"2009-02-14 08:32:36.672000\", \"2009-02-14 09:04:41.664000\", \"2009-03-15 05:48:29.664000\", \"2009-03-15 06:02:03.552000\", \"2009-03-15 06:29:09.600000\", \"2009-03-21 04:50:38.976000\", \"2009-03-21 04:59:38.112000\", \"2009-03-21 05:08:36.384000\", \"2009-03-21 05:17:35.520000\", \"2009-05-15 04:13:43.680000\", \"2009-05-15 04:28:26.688000\", \"2009-05-15 04:43:12.288000\", \"2009-05-15 04:57:56.160000\", \"2009-11-15 12:13:18.336000\", \"2009-11-15 12:21:47.232000\", \"2009-11-15 12:30:12.672000\", \"2010-04-11 04:39:13.824000\", \"2010-04-11 04:52:23.520000\", \"2010-04-11 05:05:37.536000\", \"2010-04-11 05:18:55.008000\", \"2010-12-09 10:41:12.192000\", \"2010-12-09 10:51:16.992000\", \"2010-12-09 11:01:15.744000\", \"2010-12-09 11:11:25.728000\", \"2010-02-09 07:55:33.600000\", \"2010-02-09 08:04:57.792000\", \"2010-02-09 08:14:24.576000\", \"2010-02-09 08:23:45.312000\", \"2010-02-14 07:32:37.248000\", \"2010-02-14 07:42:17.856000\", \"2010-02-14 07:51:59.328000\", \"2010-02-14 08:01:41.664000\", \"2010-02-14 08:11:21.408000\", \"2010-03-13 06:00:59.616000\", \"2010-03-13 06:10:20.352000\", \"2010-03-13 06:19:41.088000\", \"2010-03-13 06:29:07.008000\", \"2010-05-10 03:24:43.488000\", \"2010-05-10 03:35:09.888000\", \"2010-05-10 03:50:28.320000\", \"2010-05-10 04:00:52.992000\", \"2011-02-08 09:09:25.056000\", \"2011-02-08 09:19:22.080000\", \"2011-02-08 09:29:26.880000\", \"2011-02-08 09:39:29.952000\", \"2011-02-13 07:01:40.512000\", \"2011-02-13 07:11:35.808000\", \"2011-02-13 07:21:32.832000\", \"2011-02-13 07:31:36.768000\", \"2011-02-25 05:21:40.032000\", \"2011-02-25 05:34:20.352000\", \"2011-02-25 05:46:46.848000\", \"2011-02-25 05:59:25.440000\", \"2011-01-16 09:58:42.528000\", \"2011-01-16 10:09:27.072000\", \"2011-01-16 10:20:16.800000\", \"2011-01-16 10:31:05.664000\", \"2011-01-27 08:32:21.120000\", \"2011-01-27 08:42:20.736000\", \"2011-01-27 08:52:23.808000\", \"2011-01-27 09:02:24.288000\", \"2011-03-03 05:18:14.400000\", \"2011-03-03 05:25:45.408000\", \"2011-03-03 05:33:19.872000\", \"2011-03-03 05:40:52.608000\", \"2011-05-26 04:00:48.672000\", \"2011-05-26 04:08:10.176000\", \"2011-05-26 04:15:42.912000\", \"2011-05-26 04:23:13.056000\", \"2011-11-02 11:09:19.584000\", \"2011-11-02 11:17:34.656000\", \"2011-11-02 11:25:56.640000\", \"2011-11-02 11:34:22.944000\", \"2011-11-15 12:15:57.312000\", \"2011-11-15 12:25:59.520000\", \"2011-11-15 12:36:06.912000\", \"2011-11-15 12:46:05.664000\", \"2011-11-22 11:49:31.872000\", \"2011-11-22 11:57:10.656000\", \"2011-11-22 12:04:45.120000\", \"2012-01-26 11:21:13.248000\", \"2012-01-26 11:28:45.984000\", \"2012-01-26 11:36:20.448000\", \"2012-01-26 11:43:48.864000\", \"2012-02-11 08:24:19.872000\", \"2012-02-11 08:35:03.552000\", \"2012-02-11 08:45:55.008000\", \"2012-03-21 04:24:42.048000\", \"2012-03-21 04:32:08.736000\", \"2012-03-21 04:39:38.016000\", \"2012-03-21 04:47:08.160000\", \"2012-03-28 05:47:10.176000\", \"2012-03-28 05:56:08.448000\", \"2012-03-28 06:05:04.992000\", \"2012-03-28 06:14:10.176000\", \"2012-04-11 04:02:56.544000\", \"2012-04-11 04:19:43.104000\", \"2012-04-11 04:28:01.632000\", \"2012-10-25 11:59:34.944000\", \"2012-10-25 12:06:12.384000\", \"2012-10-25 12:12:46.368000\", \"2012-10-25 12:19:21.216000\", \"2012-11-02 11:55:05.376000\", \"2012-11-02 12:05:08.448000\", \"2012-12-21 11:26:14.784000\", \"2012-12-21 11:33:00\", \"2012-12-21 11:39:44.352000\", \"2012-12-21 11:46:30.432000\", \"2013-01-05 11:28:22.656000\", \"2013-01-05 11:35:57.984000\", \"2013-01-05 11:43:33.312000\", \"2013-01-05 11:51:10.368000\", \"2013-02-14 07:03:23.328000\", \"2013-02-14 07:13:18.624000\", \"2013-02-14 07:23:07.872000\", \"2013-02-14 07:33:05.760000\", \"2013-03-07 06:44:36.672000\", \"2013-03-07 06:52:11.136000\", \"2013-03-07 06:59:49.920000\", \"2013-03-07 07:07:26.112000\", \"2013-03-20 03:35:31.488000\", \"2013-03-20 03:49:01.056000\", \"2013-04-01 04:30:18.144000\", \"2013-04-01 04:42:19.584000\", \"2013-04-01 04:54:20.160000\", \"2013-04-01 05:06:30.240000\", \"2013-04-06 04:31:32.448000\", \"2013-04-06 04:39:03.456000\", \"2013-04-06 04:46:33.600000\", \"2013-04-06 04:54:10.656000\", \"2013-05-30 04:11:17.664000\", \"2013-05-30 04:19:41.376000\", \"2013-06-04 03:42:34.848000\", \"2013-06-04 03:50:13.632000\", \"2013-06-04 03:57:55.008000\", \"2013-06-04 04:05:36.384000\", \"2013-11-06 11:54:39.456000\", \"2013-11-06 12:02:19.104000\", \"2013-11-06 12:09:59.616000\", \"2013-11-06 12:17:38.400000\", \"2013-12-11 11:43:21.216000\", \"2013-12-11 11:49:22.368000\", \"2013-12-11 11:55:23.520000\", \"2013-12-11 12:01:22.944000\", \"2013-12-30 08:03:50.400000\", \"2013-12-30 08:14:32.352000\", \"2013-12-30 08:25:16.032000\", \"2013-12-30 08:35:58.848000\", \"2006-06-17 04:06:31.365996\", \"2013-10-31 11:36:17.354007\", \"2013-02-14 07:03:23.488004\", \"2006-02-20 07:12:39.375996\", \"2008-02-24 07:54:43.063007\", \"2005-11-25 12:20:34.286001\", \"2006-03-09 04:15:13.459000\"], \"mode\": \"markers\"}], {}, {\"showLink\": true, \"linkText\": \"Export to plot.ly\"})});</script>"
      ],
      "text/vnd.plotly.v1+html": [
       "<div id=\"e9388709-0595-4871-a444-1fad3de7018e\" style=\"height: 525px; width: 100%;\" class=\"plotly-graph-div\"></div><script type=\"text/javascript\">require([\"plotly\"], function(Plotly) { window.PLOTLYENV=window.PLOTLYENV || {};window.PLOTLYENV.BASE_URL=\"https://plot.ly\";Plotly.newPlot(\"e9388709-0595-4871-a444-1fad3de7018e\", [{\"name\": 4076, \"y\": [20.89, 21.5, 21.42, 21.26, 21.58, 21.19, 21.85, 20.73, 21.17, 20.72, 21.03, 21.48, 20.98, 21.43, 21.28, 21.02, 21.02, 21.09, 21.21, 21.23, 21.55, 18.88, 17.59, 20.47, 21.15, 21.23, 21.87, 20.96, 21.0, 21.39, 21.2, 21.03, 20.87, 21.22, 20.46, 21.21, 20.96, 21.42, 20.83, 21.35, 20.78, 21.07, 21.25, 21.77, 21.0, 20.87, 20.78, 20.95, 20.2, 21.0, 21.29, 21.47, 20.98, 21.19, 20.86, 21.34, 21.15, 21.24, 20.82, 20.96, 20.96, 20.87, 20.89, 20.87, 20.73, 21.05, 20.69, 20.34, 19.99, 20.84, 21.27, 20.97, 21.01, 20.94, 21.28, 21.45, 19.0, 21.03, 21.08, 20.86, 21.07, 20.96, 20.6, 21.36, 20.94, 20.8, 20.69, 21.01, 20.96, 21.32, 21.47, 20.8, 21.23, 21.73, 20.94, 20.67, 20.96, 20.79, 20.85, 21.15, 21.02, 21.47, 20.91, 20.69, 20.74, 21.04, 21.21, 21.03, 20.58, 19.97, 20.37, 20.95, 20.71, 20.71, 20.36, 21.03, 20.86, 20.88, 21.56, 20.93, 21.03, 20.47, 21.09, 20.91, 20.62, 21.22, 20.82, 21.55, 21.82, 20.85, 21.64, 21.04, 20.32, 21.11, 20.39, 21.48, 20.78, 20.85, 21.24, 20.85, 20.49, 21.03, 21.42, 20.55, 21.65, 21.49, 21.49, 21.03, 21.08, 20.88, 20.77, 21.38, 20.93, 20.89, 20.63, 21.59, 21.18, 21.33, 21.02, 21.18, 21.1, 21.17, 21.22, 21.38, 20.86, 20.99, 21.35, 20.94, 20.8, 20.6, 20.76, 21.3, 20.93, 20.81, 21.33, 21.07, 21.0, 20.91, 20.78, 20.9, 21.05, 21.16, 21.08, 20.77, 21.41, 20.79, 21.63, 20.74, 21.59, 20.8, 21.11, 21.09, 21.07, 20.68, 21.09, 21.21, 20.79, 20.66, 20.67, 20.63, 20.99, 21.08, 21.09, 21.39, 21.75, 20.86, 21.0, 21.41, 21.54, 21.14, 21.27, 21.09, 21.14, 21.8, 20.93, 21.03, 21.76, 21.24, 20.8, 20.92, 21.24, 20.86, 21.48, 21.11, 21.15, 20.44, 21.71, 21.3, 20.65, 21.19, 21.21, 20.87, 22.28, 20.27, 20.96, 20.78, 21.16, 21.21, 21.41, 21.07, 20.57, 20.89, 20.98, 20.84, 21.3, 21.01, 21.18, 20.93, 20.68, 21.06, 21.03, 21.47, 20.93, 21.27, 21.19, 21.0, 21.07, 20.77, 20.97, 21.62, 21.08, 20.81, 20.89, 21.39, 21.51, 20.96, 21.29, 20.08, 20.18, 20.2, 20.08, 20.59, 20.56, 20.91, 20.87, 21.01, 21.03, 20.47, 20.82, 19.34724, 19.487769, 21.240712, 20.006023, 21.196505, 20.930852, 19.535075], \"type\": \"scatter\", \"x\": [\"2005-12-06 11:52:06.528000\", \"2005-12-06 11:58:27.552000\", \"2005-12-06 12:04:52.032000\", \"2005-12-06 12:11:14.784000\", \"2005-12-27 10:53:24\", \"2005-12-27 11:13:31.008000\", \"2005-12-27 11:23:34.080000\", \"2005-11-25 12:20:34.656000\", \"2005-11-25 12:25:24.096000\", \"2005-11-25 12:30:13.536000\", \"2005-11-25 12:35:11.616000\", \"2005-10-28 12:04:03.648000\", \"2005-10-28 12:10:39.360000\", \"2005-10-28 12:17:28.896000\", \"2006-04-20 04:39:25.920000\", \"2006-04-20 04:53:14.496000\", \"2006-04-20 05:07:36.768000\", \"2006-12-13 12:15:34.848000\", \"2006-12-13 12:22:08.832000\", \"2006-12-13 12:28:35.904000\", \"2006-02-05 08:43:52.320000\", \"2006-02-05 08:53:42.432000\", \"2006-02-05 09:03:32.544000\", \"2006-02-20 07:02:40.992000\", \"2006-02-20 07:12:39.744000\", \"2006-02-20 07:40:51.456000\", \"2006-01-05 09:14:32.640000\", \"2006-01-05 09:23:38.688000\", \"2006-01-05 09:32:43.872000\", \"2006-01-05 09:41:46.464000\", \"2006-01-26 08:43:06.528000\", \"2006-01-26 08:53:38.112000\", \"2006-01-26 09:04:09.696000\", \"2006-01-26 09:14:41.280000\", \"2006-03-09 04:15:13.536000\", \"2006-03-23 04:56:09.888000\", \"2006-03-23 05:04:15.456000\", \"2006-03-23 05:12:21.888000\", \"2006-05-24 04:03:21.600000\", \"2006-05-24 04:09:53.856000\", \"2006-05-24 04:16:32.160000\", \"2006-05-24 04:23:03.552000\", \"2006-11-15 11:43:58.368000\", \"2006-11-15 11:52:46.272000\", \"2006-11-16 10:28:05.952000\", \"2006-11-16 10:39:50.976000\", \"2006-11-16 10:51:28.224000\", \"2006-11-16 11:03:08.064000\", \"2006-10-27 11:32:43.584000\", \"2006-10-27 12:02:50.208000\", \"2006-10-27 12:17:44.448000\", \"2007-04-07 04:06:49.824000\", \"2007-04-07 04:16:40.800000\", \"2007-04-07 04:26:15.360000\", \"2007-04-07 04:35:52.512000\", \"2007-04-18 04:54:31.392000\", \"2007-04-18 05:03:18.432000\", \"2007-04-18 05:12:15.840000\", \"2007-12-14 11:24:25.056000\", \"2007-12-14 11:34:36.768000\", \"2007-12-14 11:44:43.296000\", \"2007-12-14 11:54:51.552000\", \"2007-12-30 09:37:03.072000\", \"2007-12-30 09:53:41.856000\", \"2007-12-30 10:10:19.776000\", \"2007-12-30 10:26:55.104000\", \"2007-02-06 08:06:44.928000\", \"2007-02-06 08:27:45.504000\", \"2007-02-06 08:38:15.360000\", \"2007-02-13 07:05:21.696000\", \"2007-02-13 07:18:08.064000\", \"2007-02-13 07:30:57.888000\", \"2007-02-13 07:44:57.696000\", \"2007-02-23 05:29:30.048000\", \"2007-02-23 05:37:23.520000\", \"2007-02-23 05:45:23.904000\", \"2007-03-07 07:37:14.592000\", \"2007-03-09 07:13:11.712000\", \"2007-03-09 07:21:38.016000\", \"2007-03-09 07:29:58.272000\", \"2007-03-09 07:38:19.392000\", \"2007-03-26 03:14:44.736000\", \"2007-03-26 03:23:18.816000\", \"2007-03-26 03:40:32.160000\", \"2007-05-11 04:15:18.720000\", \"2007-05-11 04:25:37.344000\", \"2007-05-11 04:35:56.832000\", \"2007-05-11 04:46:18.048000\", \"2007-11-09 10:30:29.376000\", \"2007-11-09 10:40:18.624000\", \"2007-11-09 10:49:55.776000\", \"2007-11-09 10:59:43.296000\", \"2007-10-16 11:22:42.240000\", \"2007-10-16 11:29:09.312000\", \"2007-10-16 11:35:48.480000\", \"2007-10-16 11:42:19.008000\", \"2008-04-11 04:42:29.088000\", \"2008-04-11 04:49:48.864000\", \"2008-04-11 04:57:11.232000\", \"2008-04-11 05:04:29.280000\", \"2008-04-25 05:28:25.248000\", \"2008-04-25 05:37:50.304000\", \"2008-04-25 05:47:10.176000\", \"2008-04-25 05:56:41.280000\", \"2008-12-22 09:19:56.640000\", \"2008-12-22 09:27:20.736000\", \"2008-12-22 09:34:42.240000\", \"2008-12-22 09:41:55.968000\", \"2008-02-24 07:40:20.352000\", \"2008-02-24 07:54:43.488000\", \"2008-02-24 08:01:52.896000\", \"2008-01-30 07:28:18.912000\", \"2008-01-30 07:39:18.144000\", \"2008-01-30 07:50:24.288000\", \"2008-01-30 08:01:26.112000\", \"2008-03-08 05:00:30.816000\", \"2008-03-08 05:07:55.776000\", \"2008-03-08 05:15:20.736000\", \"2008-03-08 05:22:48.288000\", \"2008-03-26 05:33:47.520000\", \"2008-03-26 05:45:49.824000\", \"2008-03-26 05:57:52.992000\", \"2008-03-26 06:09:56.160000\", \"2008-11-24 10:47:33.216000\", \"2008-11-24 10:59:34.656000\", \"2008-11-24 11:11:36.960000\", \"2008-11-24 11:23:50.496000\", \"2009-04-26 04:19:09.408000\", \"2009-04-26 04:26:58.560000\", \"2009-04-26 04:34:45.120000\", \"2009-04-26 04:42:38.592000\", \"2009-02-14 08:32:36.672000\", \"2009-02-14 09:04:41.664000\", \"2009-03-15 05:48:29.664000\", \"2009-03-15 06:02:03.552000\", \"2009-03-15 06:29:09.600000\", \"2009-03-21 04:50:38.976000\", \"2009-03-21 04:59:38.112000\", \"2009-03-21 05:08:36.384000\", \"2009-03-21 05:17:35.520000\", \"2009-05-15 04:13:43.680000\", \"2009-05-15 04:28:26.688000\", \"2009-05-15 04:43:12.288000\", \"2009-05-15 04:57:56.160000\", \"2009-11-15 12:13:18.336000\", \"2009-11-15 12:21:47.232000\", \"2009-11-15 12:30:12.672000\", \"2010-04-11 04:39:13.824000\", \"2010-04-11 04:52:23.520000\", \"2010-04-11 05:05:37.536000\", \"2010-04-11 05:18:55.008000\", \"2010-12-09 10:41:12.192000\", \"2010-12-09 10:51:16.992000\", \"2010-12-09 11:01:15.744000\", \"2010-12-09 11:11:25.728000\", \"2010-02-09 07:55:33.600000\", \"2010-02-09 08:04:57.792000\", \"2010-02-09 08:14:24.576000\", \"2010-02-09 08:23:45.312000\", \"2010-02-14 07:32:37.248000\", \"2010-02-14 07:42:17.856000\", \"2010-02-14 07:51:59.328000\", \"2010-02-14 08:01:41.664000\", \"2010-02-14 08:11:21.408000\", \"2010-03-13 06:00:59.616000\", \"2010-03-13 06:10:20.352000\", \"2010-03-13 06:19:41.088000\", \"2010-03-13 06:29:07.008000\", \"2010-05-10 03:24:43.488000\", \"2010-05-10 03:35:09.888000\", \"2010-05-10 03:50:28.320000\", \"2010-05-10 04:00:52.992000\", \"2011-02-08 09:09:25.056000\", \"2011-02-08 09:19:22.080000\", \"2011-02-08 09:29:26.880000\", \"2011-02-08 09:39:29.952000\", \"2011-02-13 07:01:40.512000\", \"2011-02-13 07:11:35.808000\", \"2011-02-13 07:21:32.832000\", \"2011-02-13 07:31:36.768000\", \"2011-02-25 05:21:40.032000\", \"2011-02-25 05:34:20.352000\", \"2011-02-25 05:46:46.848000\", \"2011-02-25 05:59:25.440000\", \"2011-01-16 09:58:42.528000\", \"2011-01-16 10:09:27.072000\", \"2011-01-16 10:20:16.800000\", \"2011-01-16 10:31:05.664000\", \"2011-01-27 08:32:21.120000\", \"2011-01-27 08:42:20.736000\", \"2011-01-27 08:52:23.808000\", \"2011-01-27 09:02:24.288000\", \"2011-03-03 05:18:14.400000\", \"2011-03-03 05:25:45.408000\", \"2011-03-03 05:33:19.872000\", \"2011-03-03 05:40:52.608000\", \"2011-05-26 04:00:48.672000\", \"2011-05-26 04:08:10.176000\", \"2011-05-26 04:15:42.912000\", \"2011-05-26 04:23:13.056000\", \"2011-11-02 11:09:19.584000\", \"2011-11-02 11:17:34.656000\", \"2011-11-02 11:25:56.640000\", \"2011-11-02 11:34:22.944000\", \"2011-11-15 12:15:57.312000\", \"2011-11-15 12:25:59.520000\", \"2011-11-15 12:36:06.912000\", \"2011-11-15 12:46:05.664000\", \"2011-11-22 11:49:31.872000\", \"2011-11-22 11:57:10.656000\", \"2011-11-22 12:04:45.120000\", \"2012-01-26 11:21:13.248000\", \"2012-01-26 11:28:45.984000\", \"2012-01-26 11:36:20.448000\", \"2012-01-26 11:43:48.864000\", \"2012-02-11 08:24:19.872000\", \"2012-02-11 08:35:03.552000\", \"2012-02-11 08:45:55.008000\", \"2012-03-21 04:24:42.048000\", \"2012-03-21 04:32:08.736000\", \"2012-03-21 04:39:38.016000\", \"2012-03-21 04:47:08.160000\", \"2012-03-28 05:47:10.176000\", \"2012-03-28 05:56:08.448000\", \"2012-03-28 06:05:04.992000\", \"2012-03-28 06:14:10.176000\", \"2012-04-11 04:02:56.544000\", \"2012-04-11 04:19:43.104000\", \"2012-04-11 04:28:01.632000\", \"2012-10-25 11:59:34.944000\", \"2012-10-25 12:06:12.384000\", \"2012-10-25 12:12:46.368000\", \"2012-10-25 12:19:21.216000\", \"2012-11-02 11:55:05.376000\", \"2012-11-02 12:05:08.448000\", \"2012-12-21 11:26:14.784000\", \"2012-12-21 11:33:00\", \"2012-12-21 11:39:44.352000\", \"2012-12-21 11:46:30.432000\", \"2013-01-05 11:28:22.656000\", \"2013-01-05 11:35:57.984000\", \"2013-01-05 11:43:33.312000\", \"2013-01-05 11:51:10.368000\", \"2013-02-14 07:03:23.328000\", \"2013-02-14 07:13:18.624000\", \"2013-02-14 07:23:07.872000\", \"2013-02-14 07:33:05.760000\", \"2013-03-07 06:44:36.672000\", \"2013-03-07 06:52:11.136000\", \"2013-03-07 06:59:49.920000\", \"2013-03-07 07:07:26.112000\", \"2013-03-20 03:35:31.488000\", \"2013-03-20 03:49:01.056000\", \"2013-04-01 04:30:18.144000\", \"2013-04-01 04:42:19.584000\", \"2013-04-01 04:54:20.160000\", \"2013-04-01 05:06:30.240000\", \"2013-04-06 04:31:32.448000\", \"2013-04-06 04:39:03.456000\", \"2013-04-06 04:46:33.600000\", \"2013-04-06 04:54:10.656000\", \"2013-05-30 04:11:17.664000\", \"2013-05-30 04:19:41.376000\", \"2013-06-04 03:42:34.848000\", \"2013-06-04 03:50:13.632000\", \"2013-06-04 03:57:55.008000\", \"2013-06-04 04:05:36.384000\", \"2013-11-06 11:54:39.456000\", \"2013-11-06 12:02:19.104000\", \"2013-11-06 12:09:59.616000\", \"2013-11-06 12:17:38.400000\", \"2013-12-11 11:43:21.216000\", \"2013-12-11 11:49:22.368000\", \"2013-12-11 11:55:23.520000\", \"2013-12-11 12:01:22.944000\", \"2013-12-30 08:03:50.400000\", \"2013-12-30 08:14:32.352000\", \"2013-12-30 08:25:16.032000\", \"2013-12-30 08:35:58.848000\", \"2006-06-17 04:06:31.365996\", \"2013-10-31 11:36:17.354007\", \"2013-02-14 07:03:23.488004\", \"2006-02-20 07:12:39.375996\", \"2008-02-24 07:54:43.063007\", \"2005-11-25 12:20:34.286001\", \"2006-03-09 04:15:13.459000\"], \"mode\": \"markers\"}], {}, {\"showLink\": true, \"linkText\": \"Export to plot.ly\"})});</script>"
      ]
     },
     "metadata": {},
     "output_type": "display_data"
    }
   ],
   "source": [
    "iplot([visualize.light_curve_interactive_scatter(df_light_curves_blazars_sample)])"
   ]
  },
  {
   "cell_type": "code",
   "execution_count": 64,
   "metadata": {
    "collapsed": true
   },
   "outputs": [],
   "source": [
    "index_agn_light_curve = 0\n",
    "# Get sample\n",
    "df_light_curves_agn_sample = df_light_curves_agn[\n",
    "    df_light_curves_agn['InputID'] == df_light_curves_agn.InputID.unique()[index_agn_light_curve]\n",
    "]"
   ]
  },
  {
   "cell_type": "code",
   "execution_count": 65,
   "metadata": {},
   "outputs": [
    {
     "data": {
      "application/vnd.plotly.v1+json": {
       "data": [
        {
         "mode": "markers",
         "name": 4472,
         "type": "scatter",
         "x": [
          "2008-03-27 07:43:13.152000",
          "2008-03-27 07:57:18.144000",
          "2011-03-30 05:46:28.704000",
          "2011-03-30 05:59:22.848000",
          "2011-03-30 06:06:58.176000",
          "2012-03-23 07:42:54.144000",
          "2012-03-23 07:52:52.896000",
          "2012-03-23 08:02:54.240000",
          "2012-03-23 08:12:58.176000",
          "2012-03-30 07:19:54.336000",
          "2012-03-30 07:27:22.752000",
          "2012-03-30 07:34:58.080000",
          "2012-03-30 07:42:30.816000",
          "2013-04-02 07:04:13.440000",
          "2013-04-15 04:04:01.344000",
          "2013-04-15 04:12:38.880000",
          "2013-02-14 11:11:44.209979",
          "2011-03-24 06:14:20.382985",
          "2010-04-06 07:52:00.970991"
         ],
         "y": [
          21.33,
          22.04,
          22.17,
          21.66,
          21.6,
          20.84,
          20.8,
          20.65,
          20.72,
          20.83,
          20.91,
          20.48,
          20.94,
          22.3,
          21.78,
          21.43,
          20.87872,
          20.107226,
          20.496458
         ]
        }
       ],
       "layout": {}
      },
      "text/html": [
       "<div id=\"9b3c70ba-98e3-4ab0-928e-9758db671b5b\" style=\"height: 525px; width: 100%;\" class=\"plotly-graph-div\"></div><script type=\"text/javascript\">require([\"plotly\"], function(Plotly) { window.PLOTLYENV=window.PLOTLYENV || {};window.PLOTLYENV.BASE_URL=\"https://plot.ly\";Plotly.newPlot(\"9b3c70ba-98e3-4ab0-928e-9758db671b5b\", [{\"name\": 4472, \"y\": [21.33, 22.04, 22.17, 21.66, 21.6, 20.84, 20.8, 20.65, 20.72, 20.83, 20.91, 20.48, 20.94, 22.3, 21.78, 21.43, 20.87872, 20.107226, 20.496458], \"type\": \"scatter\", \"x\": [\"2008-03-27 07:43:13.152000\", \"2008-03-27 07:57:18.144000\", \"2011-03-30 05:46:28.704000\", \"2011-03-30 05:59:22.848000\", \"2011-03-30 06:06:58.176000\", \"2012-03-23 07:42:54.144000\", \"2012-03-23 07:52:52.896000\", \"2012-03-23 08:02:54.240000\", \"2012-03-23 08:12:58.176000\", \"2012-03-30 07:19:54.336000\", \"2012-03-30 07:27:22.752000\", \"2012-03-30 07:34:58.080000\", \"2012-03-30 07:42:30.816000\", \"2013-04-02 07:04:13.440000\", \"2013-04-15 04:04:01.344000\", \"2013-04-15 04:12:38.880000\", \"2013-02-14 11:11:44.209979\", \"2011-03-24 06:14:20.382985\", \"2010-04-06 07:52:00.970991\"], \"mode\": \"markers\"}], {}, {\"showLink\": true, \"linkText\": \"Export to plot.ly\"})});</script>"
      ],
      "text/vnd.plotly.v1+html": [
       "<div id=\"9b3c70ba-98e3-4ab0-928e-9758db671b5b\" style=\"height: 525px; width: 100%;\" class=\"plotly-graph-div\"></div><script type=\"text/javascript\">require([\"plotly\"], function(Plotly) { window.PLOTLYENV=window.PLOTLYENV || {};window.PLOTLYENV.BASE_URL=\"https://plot.ly\";Plotly.newPlot(\"9b3c70ba-98e3-4ab0-928e-9758db671b5b\", [{\"name\": 4472, \"y\": [21.33, 22.04, 22.17, 21.66, 21.6, 20.84, 20.8, 20.65, 20.72, 20.83, 20.91, 20.48, 20.94, 22.3, 21.78, 21.43, 20.87872, 20.107226, 20.496458], \"type\": \"scatter\", \"x\": [\"2008-03-27 07:43:13.152000\", \"2008-03-27 07:57:18.144000\", \"2011-03-30 05:46:28.704000\", \"2011-03-30 05:59:22.848000\", \"2011-03-30 06:06:58.176000\", \"2012-03-23 07:42:54.144000\", \"2012-03-23 07:52:52.896000\", \"2012-03-23 08:02:54.240000\", \"2012-03-23 08:12:58.176000\", \"2012-03-30 07:19:54.336000\", \"2012-03-30 07:27:22.752000\", \"2012-03-30 07:34:58.080000\", \"2012-03-30 07:42:30.816000\", \"2013-04-02 07:04:13.440000\", \"2013-04-15 04:04:01.344000\", \"2013-04-15 04:12:38.880000\", \"2013-02-14 11:11:44.209979\", \"2011-03-24 06:14:20.382985\", \"2010-04-06 07:52:00.970991\"], \"mode\": \"markers\"}], {}, {\"showLink\": true, \"linkText\": \"Export to plot.ly\"})});</script>"
      ]
     },
     "metadata": {},
     "output_type": "display_data"
    }
   ],
   "source": [
    "iplot([visualize.light_curve_interactive_scatter(df_light_curves_agn_sample)])"
   ]
  },
  {
   "cell_type": "code",
   "execution_count": null,
   "metadata": {
    "collapsed": true
   },
   "outputs": [],
   "source": []
  }
 ],
 "metadata": {
  "kernelspec": {
   "display_name": "Python 3",
   "language": "python",
   "name": "python3"
  },
  "language_info": {
   "codemirror_mode": {
    "name": "ipython",
    "version": 3
   },
   "file_extension": ".py",
   "mimetype": "text/x-python",
   "name": "python",
   "nbconvert_exporter": "python",
   "pygments_lexer": "ipython3",
   "version": "3.4.0"
  }
 },
 "nbformat": 4,
 "nbformat_minor": 2
}
