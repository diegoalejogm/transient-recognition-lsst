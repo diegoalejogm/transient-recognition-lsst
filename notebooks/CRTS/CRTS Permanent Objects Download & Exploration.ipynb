{
 "cells": [
  {
   "cell_type": "code",
   "execution_count": 1,
   "metadata": {},
   "outputs": [],
   "source": [
    "%load_ext autoreload\n",
    "%autoreload 2\n",
    "%matplotlib inline"
   ]
  },
  {
   "cell_type": "code",
   "execution_count": 2,
   "metadata": {
    "scrolled": true
   },
   "outputs": [
    {
     "data": {
      "text/html": [
       "<script>requirejs.config({paths: { 'plotly': ['https://cdn.plot.ly/plotly-latest.min']},});if(!window.Plotly) {{require(['plotly'],function(plotly) {window.Plotly=plotly;});}}</script>"
      ],
      "text/vnd.plotly.v1+html": [
       "<script>requirejs.config({paths: { 'plotly': ['https://cdn.plot.ly/plotly-latest.min']},});if(!window.Plotly) {{require(['plotly'],function(plotly) {window.Plotly=plotly;});}}</script>"
      ]
     },
     "metadata": {},
     "output_type": "display_data"
    }
   ],
   "source": [
    "from tools import download, time, visualize\n",
    "import matplotlib as mpl\n",
    "mpl.rcParams['figure.figsize'] = (10,10)"
   ]
  },
  {
   "cell_type": "markdown",
   "metadata": {},
   "source": [
    "## 1. Load Transient Object Data"
   ]
  },
  {
   "cell_type": "markdown",
   "metadata": {},
   "source": [
    "#### Load Transient Objects Catalogue"
   ]
  },
  {
   "cell_type": "code",
   "execution_count": 3,
   "metadata": {},
   "outputs": [
    {
     "name": "stdout",
     "output_type": "stream",
     "text": [
      "0:00:00.006095\n"
     ]
    }
   ],
   "source": [
    "df_transients = time.time(\n",
    "    download.all_transients_catalog,\n",
    "    overwrite=False\n",
    ")"
   ]
  },
  {
   "cell_type": "code",
   "execution_count": 4,
   "metadata": {
    "scrolled": true
   },
   "outputs": [
    {
     "data": {
      "text/html": [
       "<div>\n",
       "<style>\n",
       "    .dataframe thead tr:only-child th {\n",
       "        text-align: right;\n",
       "    }\n",
       "\n",
       "    .dataframe thead th {\n",
       "        text-align: left;\n",
       "    }\n",
       "\n",
       "    .dataframe tbody tr th {\n",
       "        vertical-align: top;\n",
       "    }\n",
       "</style>\n",
       "<table border=\"1\" class=\"dataframe\">\n",
       "  <thead>\n",
       "    <tr style=\"text-align: right;\">\n",
       "      <th></th>\n",
       "      <th>clas</th>\n",
       "      <th>date</th>\n",
       "      <th>dec</th>\n",
       "      <th>ra</th>\n",
       "      <th>type</th>\n",
       "    </tr>\n",
       "  </thead>\n",
       "  <tbody>\n",
       "    <tr>\n",
       "      <th>0</th>\n",
       "      <td>SN SDSS mag 20,8</td>\n",
       "      <td>20161109.49</td>\n",
       "      <td>20.60814</td>\n",
       "      <td>142.63453</td>\n",
       "      <td>SUPERNOVAE</td>\n",
       "    </tr>\n",
       "    <tr>\n",
       "      <th>1</th>\n",
       "      <td>SN (ATLAS16dsr) SDSS mag</td>\n",
       "      <td>20161109.24</td>\n",
       "      <td>13.91412</td>\n",
       "      <td>57.65194</td>\n",
       "      <td>SUPERNOVAE</td>\n",
       "    </tr>\n",
       "    <tr>\n",
       "      <th>2</th>\n",
       "      <td>SN (ATLAS16dtz) mag 14,5</td>\n",
       "      <td>20161108.48</td>\n",
       "      <td>55.58309</td>\n",
       "      <td>141.31900</td>\n",
       "      <td>SUPERNOVAE</td>\n",
       "    </tr>\n",
       "    <tr>\n",
       "      <th>3</th>\n",
       "      <td>SN SDSS mag &gt;22</td>\n",
       "      <td>20161107.28</td>\n",
       "      <td>23.18541</td>\n",
       "      <td>21.02794</td>\n",
       "      <td>SUPERNOVAE</td>\n",
       "    </tr>\n",
       "    <tr>\n",
       "      <th>4</th>\n",
       "      <td>SN (MLS161020) SDSS mag 21,4</td>\n",
       "      <td>20161106.22</td>\n",
       "      <td>20.34622</td>\n",
       "      <td>10.39148</td>\n",
       "      <td>SUPERNOVAE</td>\n",
       "    </tr>\n",
       "  </tbody>\n",
       "</table>\n",
       "</div>"
      ],
      "text/plain": [
       "                           clas         date       dec         ra        type\n",
       "0              SN SDSS mag 20,8  20161109.49  20.60814  142.63453  SUPERNOVAE\n",
       "1      SN (ATLAS16dsr) SDSS mag  20161109.24  13.91412   57.65194  SUPERNOVAE\n",
       "2      SN (ATLAS16dtz) mag 14,5  20161108.48  55.58309  141.31900  SUPERNOVAE\n",
       "3               SN SDSS mag >22  20161107.28  23.18541   21.02794  SUPERNOVAE\n",
       "4  SN (MLS161020) SDSS mag 21,4  20161106.22  20.34622   10.39148  SUPERNOVAE"
      ]
     },
     "execution_count": 4,
     "metadata": {},
     "output_type": "execute_result"
    }
   ],
   "source": [
    "df_transients.head()"
   ]
  },
  {
   "cell_type": "markdown",
   "metadata": {},
   "source": [
    "#### Download Transients Light Curves"
   ]
  },
  {
   "cell_type": "code",
   "execution_count": 5,
   "metadata": {
    "scrolled": true
   },
   "outputs": [
    {
     "name": "stdout",
     "output_type": "stream",
     "text": [
      "File all_transients_light_curves.pickle already exists\n",
      "0:00:00.270957\n"
     ]
    }
   ],
   "source": [
    "df_transient_light_curves = time.time(\n",
    "    download.all_transients_light_curves,\n",
    "    df_transients,\n",
    "    overwrite=False\n",
    ")"
   ]
  },
  {
   "cell_type": "code",
   "execution_count": 6,
   "metadata": {
    "scrolled": false
   },
   "outputs": [
    {
     "data": {
      "text/html": [
       "<div>\n",
       "<style>\n",
       "    .dataframe thead tr:only-child th {\n",
       "        text-align: right;\n",
       "    }\n",
       "\n",
       "    .dataframe thead th {\n",
       "        text-align: left;\n",
       "    }\n",
       "\n",
       "    .dataframe tbody tr th {\n",
       "        vertical-align: top;\n",
       "    }\n",
       "</style>\n",
       "<table border=\"1\" class=\"dataframe\">\n",
       "  <thead>\n",
       "    <tr style=\"text-align: right;\">\n",
       "      <th></th>\n",
       "      <th>ObjectID</th>\n",
       "      <th>ID</th>\n",
       "      <th>Mag</th>\n",
       "      <th>Magerr</th>\n",
       "      <th>RA</th>\n",
       "      <th>Decl</th>\n",
       "      <th>MJD</th>\n",
       "      <th>Blend</th>\n",
       "      <th>Date</th>\n",
       "    </tr>\n",
       "  </thead>\n",
       "  <tbody>\n",
       "    <tr>\n",
       "      <th>0</th>\n",
       "      <td>0</td>\n",
       "      <td>1121048016831</td>\n",
       "      <td>21.15</td>\n",
       "      <td>0.52</td>\n",
       "      <td>142.63264</td>\n",
       "      <td>20.60759</td>\n",
       "      <td>53739.39280</td>\n",
       "      <td>0</td>\n",
       "      <td>2006-01-04 09:25:37.920</td>\n",
       "    </tr>\n",
       "    <tr>\n",
       "      <th>1</th>\n",
       "      <td>0</td>\n",
       "      <td>1121048016831</td>\n",
       "      <td>20.31</td>\n",
       "      <td>0.33</td>\n",
       "      <td>142.63520</td>\n",
       "      <td>20.60753</td>\n",
       "      <td>53761.33345</td>\n",
       "      <td>0</td>\n",
       "      <td>2006-01-26 08:00:10.080</td>\n",
       "    </tr>\n",
       "    <tr>\n",
       "      <th>2</th>\n",
       "      <td>0</td>\n",
       "      <td>1121048016831</td>\n",
       "      <td>20.73</td>\n",
       "      <td>0.45</td>\n",
       "      <td>142.63637</td>\n",
       "      <td>20.60929</td>\n",
       "      <td>53875.18592</td>\n",
       "      <td>0</td>\n",
       "      <td>2006-05-20 04:27:43.488</td>\n",
       "    </tr>\n",
       "    <tr>\n",
       "      <th>3</th>\n",
       "      <td>0</td>\n",
       "      <td>1121048016831</td>\n",
       "      <td>20.37</td>\n",
       "      <td>0.32</td>\n",
       "      <td>142.63480</td>\n",
       "      <td>20.60820</td>\n",
       "      <td>54054.46708</td>\n",
       "      <td>0</td>\n",
       "      <td>2006-11-15 11:12:35.712</td>\n",
       "    </tr>\n",
       "    <tr>\n",
       "      <th>4</th>\n",
       "      <td>0</td>\n",
       "      <td>1121048016831</td>\n",
       "      <td>20.44</td>\n",
       "      <td>0.36</td>\n",
       "      <td>142.63371</td>\n",
       "      <td>20.60857</td>\n",
       "      <td>54197.14661</td>\n",
       "      <td>0</td>\n",
       "      <td>2007-04-07 03:31:07.104</td>\n",
       "    </tr>\n",
       "  </tbody>\n",
       "</table>\n",
       "</div>"
      ],
      "text/plain": [
       "   ObjectID             ID    Mag  Magerr         RA      Decl          MJD  \\\n",
       "0         0  1121048016831  21.15    0.52  142.63264  20.60759  53739.39280   \n",
       "1         0  1121048016831  20.31    0.33  142.63520  20.60753  53761.33345   \n",
       "2         0  1121048016831  20.73    0.45  142.63637  20.60929  53875.18592   \n",
       "3         0  1121048016831  20.37    0.32  142.63480  20.60820  54054.46708   \n",
       "4         0  1121048016831  20.44    0.36  142.63371  20.60857  54197.14661   \n",
       "\n",
       "   Blend                    Date  \n",
       "0      0 2006-01-04 09:25:37.920  \n",
       "1      0 2006-01-26 08:00:10.080  \n",
       "2      0 2006-05-20 04:27:43.488  \n",
       "3      0 2006-11-15 11:12:35.712  \n",
       "4      0 2007-04-07 03:31:07.104  "
      ]
     },
     "execution_count": 6,
     "metadata": {},
     "output_type": "execute_result"
    }
   ],
   "source": [
    "df_transient_light_curves.head()"
   ]
  },
  {
   "cell_type": "markdown",
   "metadata": {},
   "source": [
    "## 2. Download Permanent Objects Catalogue"
   ]
  },
  {
   "cell_type": "markdown",
   "metadata": {},
   "source": [
    "#### Download Permanents Light Curves"
   ]
  },
  {
   "cell_type": "code",
   "execution_count": 7,
   "metadata": {
    "scrolled": true
   },
   "outputs": [
    {
     "name": "stdout",
     "output_type": "stream",
     "text": [
      "File all_permanents_light_curves.pickle already exists\n",
      "0:42:19.458273\n"
     ]
    }
   ],
   "source": [
    "df_permanent_light_curves = time.time(\n",
    "    download.all_permanents_light_curves,\n",
    "    transient_catalog_df = df_transients,\n",
    "    transient_light_curves_df = df_transient_light_curves,\n",
    "    overwrite=False\n",
    ")"
   ]
  },
  {
   "cell_type": "code",
   "execution_count": 8,
   "metadata": {
    "scrolled": true
   },
   "outputs": [
    {
     "data": {
      "text/html": [
       "<div>\n",
       "<style>\n",
       "    .dataframe thead tr:only-child th {\n",
       "        text-align: right;\n",
       "    }\n",
       "\n",
       "    .dataframe thead th {\n",
       "        text-align: left;\n",
       "    }\n",
       "\n",
       "    .dataframe tbody tr th {\n",
       "        vertical-align: top;\n",
       "    }\n",
       "</style>\n",
       "<table border=\"1\" class=\"dataframe\">\n",
       "  <thead>\n",
       "    <tr style=\"text-align: right;\">\n",
       "      <th></th>\n",
       "      <th>InputID</th>\n",
       "      <th>ID</th>\n",
       "      <th>Mag</th>\n",
       "      <th>Magerr</th>\n",
       "      <th>RA</th>\n",
       "      <th>Decl</th>\n",
       "      <th>MJD</th>\n",
       "      <th>Blend</th>\n",
       "      <th>ObjectID</th>\n",
       "      <th>Date</th>\n",
       "    </tr>\n",
       "  </thead>\n",
       "  <tbody>\n",
       "    <tr>\n",
       "      <th>0</th>\n",
       "      <td>0</td>\n",
       "      <td>1121048016765</td>\n",
       "      <td>21.12</td>\n",
       "      <td>0.52</td>\n",
       "      <td>142.63568</td>\n",
       "      <td>20.60292</td>\n",
       "      <td>53732.34137</td>\n",
       "      <td>0</td>\n",
       "      <td>0</td>\n",
       "      <td>2005-12-28 08:11:34.368</td>\n",
       "    </tr>\n",
       "    <tr>\n",
       "      <th>1</th>\n",
       "      <td>0</td>\n",
       "      <td>1121048016765</td>\n",
       "      <td>20.85</td>\n",
       "      <td>0.45</td>\n",
       "      <td>142.63479</td>\n",
       "      <td>20.60310</td>\n",
       "      <td>53788.24432</td>\n",
       "      <td>0</td>\n",
       "      <td>0</td>\n",
       "      <td>2006-02-22 05:51:49.248</td>\n",
       "    </tr>\n",
       "    <tr>\n",
       "      <th>2</th>\n",
       "      <td>0</td>\n",
       "      <td>1121048016765</td>\n",
       "      <td>21.05</td>\n",
       "      <td>0.46</td>\n",
       "      <td>142.63586</td>\n",
       "      <td>20.60366</td>\n",
       "      <td>54054.45393</td>\n",
       "      <td>0</td>\n",
       "      <td>0</td>\n",
       "      <td>2006-11-15 10:53:39.552</td>\n",
       "    </tr>\n",
       "    <tr>\n",
       "      <th>3</th>\n",
       "      <td>0</td>\n",
       "      <td>1121048016765</td>\n",
       "      <td>20.09</td>\n",
       "      <td>0.28</td>\n",
       "      <td>142.63416</td>\n",
       "      <td>20.60207</td>\n",
       "      <td>54116.34092</td>\n",
       "      <td>0</td>\n",
       "      <td>0</td>\n",
       "      <td>2007-01-16 08:10:55.488</td>\n",
       "    </tr>\n",
       "    <tr>\n",
       "      <th>4</th>\n",
       "      <td>0</td>\n",
       "      <td>1121048016765</td>\n",
       "      <td>20.35</td>\n",
       "      <td>0.33</td>\n",
       "      <td>142.63467</td>\n",
       "      <td>20.60352</td>\n",
       "      <td>54185.14450</td>\n",
       "      <td>0</td>\n",
       "      <td>0</td>\n",
       "      <td>2007-03-26 03:28:04.800</td>\n",
       "    </tr>\n",
       "  </tbody>\n",
       "</table>\n",
       "</div>"
      ],
      "text/plain": [
       "   InputID             ID    Mag  Magerr         RA      Decl          MJD  \\\n",
       "0        0  1121048016765  21.12    0.52  142.63568  20.60292  53732.34137   \n",
       "1        0  1121048016765  20.85    0.45  142.63479  20.60310  53788.24432   \n",
       "2        0  1121048016765  21.05    0.46  142.63586  20.60366  54054.45393   \n",
       "3        0  1121048016765  20.09    0.28  142.63416  20.60207  54116.34092   \n",
       "4        0  1121048016765  20.35    0.33  142.63467  20.60352  54185.14450   \n",
       "\n",
       "   Blend  ObjectID                    Date  \n",
       "0      0         0 2005-12-28 08:11:34.368  \n",
       "1      0         0 2006-02-22 05:51:49.248  \n",
       "2      0         0 2006-11-15 10:53:39.552  \n",
       "3      0         0 2007-01-16 08:10:55.488  \n",
       "4      0         0 2007-03-26 03:28:04.800  "
      ]
     },
     "execution_count": 8,
     "metadata": {},
     "output_type": "execute_result"
    }
   ],
   "source": [
    "df_permanent_light_curves.head()"
   ]
  },
  {
   "cell_type": "markdown",
   "metadata": {},
   "source": [
    "#### Load permanents Catalogue"
   ]
  },
  {
   "cell_type": "code",
   "execution_count": 9,
   "metadata": {},
   "outputs": [
    {
     "name": "stdout",
     "output_type": "stream",
     "text": [
      "0:00:00.267086\n"
     ]
    }
   ],
   "source": [
    "df_permanents = time.time(\n",
    "    download.all_permanents_catalog,\n",
    "    permanents_light_curves_df = df_permanent_light_curves,\n",
    "    overwrite=False\n",
    ")"
   ]
  },
  {
   "cell_type": "code",
   "execution_count": 10,
   "metadata": {
    "scrolled": true
   },
   "outputs": [
    {
     "data": {
      "text/html": [
       "<div>\n",
       "<style>\n",
       "    .dataframe thead tr:only-child th {\n",
       "        text-align: right;\n",
       "    }\n",
       "\n",
       "    .dataframe thead th {\n",
       "        text-align: left;\n",
       "    }\n",
       "\n",
       "    .dataframe tbody tr th {\n",
       "        vertical-align: top;\n",
       "    }\n",
       "</style>\n",
       "<table border=\"1\" class=\"dataframe\">\n",
       "  <thead>\n",
       "    <tr style=\"text-align: right;\">\n",
       "      <th></th>\n",
       "      <th>ra</th>\n",
       "      <th>dec</th>\n",
       "      <th>type</th>\n",
       "    </tr>\n",
       "    <tr>\n",
       "      <th>ObjectID</th>\n",
       "      <th></th>\n",
       "      <th></th>\n",
       "      <th></th>\n",
       "    </tr>\n",
       "  </thead>\n",
       "  <tbody>\n",
       "    <tr>\n",
       "      <th>0</th>\n",
       "      <td>142.635106</td>\n",
       "      <td>20.602831</td>\n",
       "      <td>PERMANENT</td>\n",
       "    </tr>\n",
       "    <tr>\n",
       "      <th>1</th>\n",
       "      <td>142.635016</td>\n",
       "      <td>20.612634</td>\n",
       "      <td>PERMANENT</td>\n",
       "    </tr>\n",
       "    <tr>\n",
       "      <th>2</th>\n",
       "      <td>57.649949</td>\n",
       "      <td>13.919365</td>\n",
       "      <td>PERMANENT</td>\n",
       "    </tr>\n",
       "    <tr>\n",
       "      <th>3</th>\n",
       "      <td>57.651802</td>\n",
       "      <td>13.910762</td>\n",
       "      <td>PERMANENT</td>\n",
       "    </tr>\n",
       "    <tr>\n",
       "      <th>4</th>\n",
       "      <td>57.655226</td>\n",
       "      <td>13.915530</td>\n",
       "      <td>PERMANENT</td>\n",
       "    </tr>\n",
       "  </tbody>\n",
       "</table>\n",
       "</div>"
      ],
      "text/plain": [
       "                  ra        dec       type\n",
       "ObjectID                                  \n",
       "0         142.635106  20.602831  PERMANENT\n",
       "1         142.635016  20.612634  PERMANENT\n",
       "2          57.649949  13.919365  PERMANENT\n",
       "3          57.651802  13.910762  PERMANENT\n",
       "4          57.655226  13.915530  PERMANENT"
      ]
     },
     "execution_count": 10,
     "metadata": {},
     "output_type": "execute_result"
    }
   ],
   "source": [
    "df_permanents.head()"
   ]
  },
  {
   "cell_type": "markdown",
   "metadata": {},
   "source": [
    "## 2. Permanent Objects Catalogue Statistics"
   ]
  },
  {
   "cell_type": "code",
   "execution_count": 11,
   "metadata": {},
   "outputs": [
    {
     "data": {
      "text/html": [
       "<div>\n",
       "<style>\n",
       "    .dataframe thead tr:only-child th {\n",
       "        text-align: right;\n",
       "    }\n",
       "\n",
       "    .dataframe thead th {\n",
       "        text-align: left;\n",
       "    }\n",
       "\n",
       "    .dataframe tbody tr th {\n",
       "        vertical-align: top;\n",
       "    }\n",
       "</style>\n",
       "<table border=\"1\" class=\"dataframe\">\n",
       "  <thead>\n",
       "    <tr style=\"text-align: right;\">\n",
       "      <th></th>\n",
       "      <th>ra</th>\n",
       "      <th>dec</th>\n",
       "    </tr>\n",
       "  </thead>\n",
       "  <tbody>\n",
       "    <tr>\n",
       "      <th>count</th>\n",
       "      <td>16940.000000</td>\n",
       "      <td>16940.000000</td>\n",
       "    </tr>\n",
       "    <tr>\n",
       "      <th>mean</th>\n",
       "      <td>159.829437</td>\n",
       "      <td>6.427869</td>\n",
       "    </tr>\n",
       "    <tr>\n",
       "      <th>std</th>\n",
       "      <td>94.382975</td>\n",
       "      <td>16.346272</td>\n",
       "    </tr>\n",
       "    <tr>\n",
       "      <th>min</th>\n",
       "      <td>0.075491</td>\n",
       "      <td>-66.638100</td>\n",
       "    </tr>\n",
       "    <tr>\n",
       "      <th>25%</th>\n",
       "      <td>101.637940</td>\n",
       "      <td>-5.217628</td>\n",
       "    </tr>\n",
       "    <tr>\n",
       "      <th>50%</th>\n",
       "      <td>158.588919</td>\n",
       "      <td>7.436576</td>\n",
       "    </tr>\n",
       "    <tr>\n",
       "      <th>75%</th>\n",
       "      <td>216.255824</td>\n",
       "      <td>18.000129</td>\n",
       "    </tr>\n",
       "    <tr>\n",
       "      <th>max</th>\n",
       "      <td>359.346913</td>\n",
       "      <td>68.356076</td>\n",
       "    </tr>\n",
       "  </tbody>\n",
       "</table>\n",
       "</div>"
      ],
      "text/plain": [
       "                 ra           dec\n",
       "count  16940.000000  16940.000000\n",
       "mean     159.829437      6.427869\n",
       "std       94.382975     16.346272\n",
       "min        0.075491    -66.638100\n",
       "25%      101.637940     -5.217628\n",
       "50%      158.588919      7.436576\n",
       "75%      216.255824     18.000129\n",
       "max      359.346913     68.356076"
      ]
     },
     "execution_count": 11,
     "metadata": {},
     "output_type": "execute_result"
    }
   ],
   "source": [
    "df_permanents.describe()"
   ]
  },
  {
   "cell_type": "markdown",
   "metadata": {},
   "source": [
    "## 3. Permanent Objects Light Curves"
   ]
  },
  {
   "cell_type": "code",
   "execution_count": 12,
   "metadata": {},
   "outputs": [
    {
     "data": {
      "text/plain": [
       "InputID     1924409\n",
       "ID          1924409\n",
       "Mag         1924409\n",
       "Magerr      1924409\n",
       "RA          1924409\n",
       "Decl        1924409\n",
       "MJD         1924409\n",
       "Blend       1924409\n",
       "ObjectID    1924409\n",
       "Date        1924409\n",
       "dtype: int64"
      ]
     },
     "execution_count": 12,
     "metadata": {},
     "output_type": "execute_result"
    }
   ],
   "source": [
    "df_permanent_light_curves.count()"
   ]
  },
  {
   "cell_type": "code",
   "execution_count": 13,
   "metadata": {},
   "outputs": [],
   "source": [
    "series_permanent_light_curves_grouped = df_permanent_light_curves.groupby(['ObjectID']).Mag.count()"
   ]
  },
  {
   "cell_type": "code",
   "execution_count": 14,
   "metadata": {},
   "outputs": [
    {
     "data": {
      "text/plain": [
       "count    16940.000000\n",
       "mean       113.601476\n",
       "std        129.259273\n",
       "min          1.000000\n",
       "25%         16.000000\n",
       "50%         61.000000\n",
       "75%        176.000000\n",
       "max       1266.000000\n",
       "Name: Mag, dtype: float64"
      ]
     },
     "execution_count": 14,
     "metadata": {},
     "output_type": "execute_result"
    }
   ],
   "source": [
    "series_permanent_light_curves_grouped.describe()"
   ]
  },
  {
   "cell_type": "code",
   "execution_count": 15,
   "metadata": {},
   "outputs": [
    {
     "data": {
      "text/plain": [
       "13679"
      ]
     },
     "execution_count": 15,
     "metadata": {},
     "output_type": "execute_result"
    }
   ],
   "source": [
    "len(series_permanent_light_curves_grouped[series_permanent_light_curves_grouped > 10].index)"
   ]
  },
  {
   "cell_type": "markdown",
   "metadata": {},
   "source": [
    "## 4. Light Curves Visualization"
   ]
  },
  {
   "cell_type": "markdown",
   "metadata": {},
   "source": [
    "#### Visualizing all permanent light curves "
   ]
  },
  {
   "cell_type": "code",
   "execution_count": 16,
   "metadata": {
    "collapsed": true
   },
   "outputs": [],
   "source": [
    "df_permanent_light_curves['Date'] = time.mjd_to_datetime(df_permanent_light_curves.MJD)"
   ]
  },
  {
   "cell_type": "code",
   "execution_count": 17,
   "metadata": {
    "scrolled": false
   },
   "outputs": [],
   "source": [
    "visualize.light_curve(df_permanent_light_curves, filename='permanents')"
   ]
  },
  {
   "cell_type": "code",
   "execution_count": 18,
   "metadata": {},
   "outputs": [
    {
     "data": {
      "text/html": [
       "<div>\n",
       "<style>\n",
       "    .dataframe thead tr:only-child th {\n",
       "        text-align: right;\n",
       "    }\n",
       "\n",
       "    .dataframe thead th {\n",
       "        text-align: left;\n",
       "    }\n",
       "\n",
       "    .dataframe tbody tr th {\n",
       "        vertical-align: top;\n",
       "    }\n",
       "</style>\n",
       "<table border=\"1\" class=\"dataframe\">\n",
       "  <thead>\n",
       "    <tr style=\"text-align: right;\">\n",
       "      <th></th>\n",
       "      <th>InputID</th>\n",
       "      <th>ID</th>\n",
       "      <th>Mag</th>\n",
       "      <th>Magerr</th>\n",
       "      <th>RA</th>\n",
       "      <th>Decl</th>\n",
       "      <th>MJD</th>\n",
       "      <th>Blend</th>\n",
       "      <th>ObjectID</th>\n",
       "      <th>Date</th>\n",
       "    </tr>\n",
       "  </thead>\n",
       "  <tbody>\n",
       "    <tr>\n",
       "      <th>0</th>\n",
       "      <td>0</td>\n",
       "      <td>1121048016765</td>\n",
       "      <td>21.12</td>\n",
       "      <td>0.52</td>\n",
       "      <td>142.63568</td>\n",
       "      <td>20.60292</td>\n",
       "      <td>53732.34137</td>\n",
       "      <td>0</td>\n",
       "      <td>0</td>\n",
       "      <td>2005-12-28 08:11:34.368</td>\n",
       "    </tr>\n",
       "    <tr>\n",
       "      <th>1</th>\n",
       "      <td>0</td>\n",
       "      <td>1121048016765</td>\n",
       "      <td>20.85</td>\n",
       "      <td>0.45</td>\n",
       "      <td>142.63479</td>\n",
       "      <td>20.60310</td>\n",
       "      <td>53788.24432</td>\n",
       "      <td>0</td>\n",
       "      <td>0</td>\n",
       "      <td>2006-02-22 05:51:49.248</td>\n",
       "    </tr>\n",
       "    <tr>\n",
       "      <th>2</th>\n",
       "      <td>0</td>\n",
       "      <td>1121048016765</td>\n",
       "      <td>21.05</td>\n",
       "      <td>0.46</td>\n",
       "      <td>142.63586</td>\n",
       "      <td>20.60366</td>\n",
       "      <td>54054.45393</td>\n",
       "      <td>0</td>\n",
       "      <td>0</td>\n",
       "      <td>2006-11-15 10:53:39.552</td>\n",
       "    </tr>\n",
       "    <tr>\n",
       "      <th>3</th>\n",
       "      <td>0</td>\n",
       "      <td>1121048016765</td>\n",
       "      <td>20.09</td>\n",
       "      <td>0.28</td>\n",
       "      <td>142.63416</td>\n",
       "      <td>20.60207</td>\n",
       "      <td>54116.34092</td>\n",
       "      <td>0</td>\n",
       "      <td>0</td>\n",
       "      <td>2007-01-16 08:10:55.488</td>\n",
       "    </tr>\n",
       "    <tr>\n",
       "      <th>4</th>\n",
       "      <td>0</td>\n",
       "      <td>1121048016765</td>\n",
       "      <td>20.35</td>\n",
       "      <td>0.33</td>\n",
       "      <td>142.63467</td>\n",
       "      <td>20.60352</td>\n",
       "      <td>54185.14450</td>\n",
       "      <td>0</td>\n",
       "      <td>0</td>\n",
       "      <td>2007-03-26 03:28:04.800</td>\n",
       "    </tr>\n",
       "  </tbody>\n",
       "</table>\n",
       "</div>"
      ],
      "text/plain": [
       "   InputID             ID    Mag  Magerr         RA      Decl          MJD  \\\n",
       "0        0  1121048016765  21.12    0.52  142.63568  20.60292  53732.34137   \n",
       "1        0  1121048016765  20.85    0.45  142.63479  20.60310  53788.24432   \n",
       "2        0  1121048016765  21.05    0.46  142.63586  20.60366  54054.45393   \n",
       "3        0  1121048016765  20.09    0.28  142.63416  20.60207  54116.34092   \n",
       "4        0  1121048016765  20.35    0.33  142.63467  20.60352  54185.14450   \n",
       "\n",
       "   Blend  ObjectID                    Date  \n",
       "0      0         0 2005-12-28 08:11:34.368  \n",
       "1      0         0 2006-02-22 05:51:49.248  \n",
       "2      0         0 2006-11-15 10:53:39.552  \n",
       "3      0         0 2007-01-16 08:10:55.488  \n",
       "4      0         0 2007-03-26 03:28:04.800  "
      ]
     },
     "execution_count": 18,
     "metadata": {},
     "output_type": "execute_result"
    }
   ],
   "source": [
    "df_permanent_light_curves.head()"
   ]
  },
  {
   "cell_type": "code",
   "execution_count": 19,
   "metadata": {
    "scrolled": true
   },
   "outputs": [
    {
     "name": "stderr",
     "output_type": "stream",
     "text": [
      "/Users/diego/Documents/astro/venv/lib/python3.4/site-packages/matplotlib/axes/_base.py:2917: UserWarning:\n",
      "\n",
      "Attempting to set identical left==right results\n",
      "in singular transformations; automatically expanding.\n",
      "left=13057.0, right=13057.0\n",
      "\n",
      "/Users/diego/Documents/astro/venv/lib/python3.4/site-packages/matplotlib/axes/_base.py:2917: UserWarning:\n",
      "\n",
      "Attempting to set identical left==right results\n",
      "in singular transformations; automatically expanding.\n",
      "left=13178.0, right=13178.0\n",
      "\n",
      "/Users/diego/Documents/astro/venv/lib/python3.4/site-packages/matplotlib/axes/_base.py:2917: UserWarning:\n",
      "\n",
      "Attempting to set identical left==right results\n",
      "in singular transformations; automatically expanding.\n",
      "left=13206.0, right=13206.0\n",
      "\n",
      "/Users/diego/Documents/astro/venv/lib/python3.4/site-packages/matplotlib/axes/_base.py:2917: UserWarning:\n",
      "\n",
      "Attempting to set identical left==right results\n",
      "in singular transformations; automatically expanding.\n",
      "left=13174.0, right=13174.0\n",
      "\n",
      "/Users/diego/Documents/astro/venv/lib/python3.4/site-packages/matplotlib/axes/_base.py:2917: UserWarning:\n",
      "\n",
      "Attempting to set identical left==right results\n",
      "in singular transformations; automatically expanding.\n",
      "left=13467.0, right=13467.0\n",
      "\n",
      "/Users/diego/Documents/astro/venv/lib/python3.4/site-packages/matplotlib/axes/_base.py:2917: UserWarning:\n",
      "\n",
      "Attempting to set identical left==right results\n",
      "in singular transformations; automatically expanding.\n",
      "left=13476.0, right=13476.0\n",
      "\n",
      "/Users/diego/Documents/astro/venv/lib/python3.4/site-packages/matplotlib/axes/_base.py:2917: UserWarning:\n",
      "\n",
      "Attempting to set identical left==right results\n",
      "in singular transformations; automatically expanding.\n",
      "left=13583.0, right=13583.0\n",
      "\n",
      "/Users/diego/Documents/astro/venv/lib/python3.4/site-packages/matplotlib/axes/_base.py:2917: UserWarning:\n",
      "\n",
      "Attempting to set identical left==right results\n",
      "in singular transformations; automatically expanding.\n",
      "left=13812.0, right=13812.0\n",
      "\n",
      "/Users/diego/Documents/astro/venv/lib/python3.4/site-packages/matplotlib/axes/_base.py:2917: UserWarning:\n",
      "\n",
      "Attempting to set identical left==right results\n",
      "in singular transformations; automatically expanding.\n",
      "left=13618.0, right=13618.0\n",
      "\n",
      "/Users/diego/Documents/astro/venv/lib/python3.4/site-packages/matplotlib/axes/_base.py:2917: UserWarning:\n",
      "\n",
      "Attempting to set identical left==right results\n",
      "in singular transformations; automatically expanding.\n",
      "left=13967.0, right=13967.0\n",
      "\n",
      "/Users/diego/Documents/astro/venv/lib/python3.4/site-packages/matplotlib/axes/_base.py:2917: UserWarning:\n",
      "\n",
      "Attempting to set identical left==right results\n",
      "in singular transformations; automatically expanding.\n",
      "left=14215.0, right=14215.0\n",
      "\n",
      "/Users/diego/Documents/astro/venv/lib/python3.4/site-packages/matplotlib/axes/_base.py:2917: UserWarning:\n",
      "\n",
      "Attempting to set identical left==right results\n",
      "in singular transformations; automatically expanding.\n",
      "left=15094.0, right=15094.0\n",
      "\n",
      "/Users/diego/Documents/astro/venv/lib/python3.4/site-packages/matplotlib/axes/_base.py:2917: UserWarning:\n",
      "\n",
      "Attempting to set identical left==right results\n",
      "in singular transformations; automatically expanding.\n",
      "left=14566.0, right=14566.0\n",
      "\n",
      "/Users/diego/Documents/astro/venv/lib/python3.4/site-packages/matplotlib/axes/_base.py:2917: UserWarning:\n",
      "\n",
      "Attempting to set identical left==right results\n",
      "in singular transformations; automatically expanding.\n",
      "left=15030.0, right=15030.0\n",
      "\n",
      "/Users/diego/Documents/astro/venv/lib/python3.4/site-packages/matplotlib/axes/_base.py:2917: UserWarning:\n",
      "\n",
      "Attempting to set identical left==right results\n",
      "in singular transformations; automatically expanding.\n",
      "left=14575.0, right=14575.0\n",
      "\n",
      "/Users/diego/Documents/astro/venv/lib/python3.4/site-packages/matplotlib/axes/_base.py:2917: UserWarning:\n",
      "\n",
      "Attempting to set identical left==right results\n",
      "in singular transformations; automatically expanding.\n",
      "left=15459.0, right=15459.0\n",
      "\n",
      "/Users/diego/Documents/astro/venv/lib/python3.4/site-packages/matplotlib/axes/_base.py:2917: UserWarning:\n",
      "\n",
      "Attempting to set identical left==right results\n",
      "in singular transformations; automatically expanding.\n",
      "left=14377.0, right=14377.0\n",
      "\n",
      "/Users/diego/Documents/astro/venv/lib/python3.4/site-packages/matplotlib/axes/_base.py:2917: UserWarning:\n",
      "\n",
      "Attempting to set identical left==right results\n",
      "in singular transformations; automatically expanding.\n",
      "left=15133.0, right=15133.0\n",
      "\n",
      "/Users/diego/Documents/astro/venv/lib/python3.4/site-packages/matplotlib/axes/_base.py:2917: UserWarning:\n",
      "\n",
      "Attempting to set identical left==right results\n",
      "in singular transformations; automatically expanding.\n",
      "left=15243.0, right=15243.0\n",
      "\n",
      "/Users/diego/Documents/astro/venv/lib/python3.4/site-packages/matplotlib/axes/_base.py:2917: UserWarning:\n",
      "\n",
      "Attempting to set identical left==right results\n",
      "in singular transformations; automatically expanding.\n",
      "left=14706.0, right=14706.0\n",
      "\n",
      "/Users/diego/Documents/astro/venv/lib/python3.4/site-packages/matplotlib/axes/_base.py:2917: UserWarning:\n",
      "\n",
      "Attempting to set identical left==right results\n",
      "in singular transformations; automatically expanding.\n",
      "left=16052.0, right=16052.0\n",
      "\n",
      "/Users/diego/Documents/astro/venv/lib/python3.4/site-packages/matplotlib/axes/_base.py:2917: UserWarning:\n",
      "\n",
      "Attempting to set identical left==right results\n",
      "in singular transformations; automatically expanding.\n",
      "left=16053.0, right=16053.0\n",
      "\n",
      "/Users/diego/Documents/astro/venv/lib/python3.4/site-packages/matplotlib/axes/_base.py:2917: UserWarning:\n",
      "\n",
      "Attempting to set identical left==right results\n",
      "in singular transformations; automatically expanding.\n",
      "left=15976.0, right=15976.0\n",
      "\n",
      "/Users/diego/Documents/astro/venv/lib/python3.4/site-packages/matplotlib/axes/_base.py:2917: UserWarning:\n",
      "\n",
      "Attempting to set identical left==right results\n",
      "in singular transformations; automatically expanding.\n",
      "left=16003.0, right=16003.0\n",
      "\n",
      "/Users/diego/Documents/astro/venv/lib/python3.4/site-packages/matplotlib/axes/_base.py:2917: UserWarning:\n",
      "\n",
      "Attempting to set identical left==right results\n",
      "in singular transformations; automatically expanding.\n",
      "left=16079.0, right=16079.0\n",
      "\n",
      "/Users/diego/Documents/astro/venv/lib/python3.4/site-packages/matplotlib/axes/_base.py:2917: UserWarning:\n",
      "\n",
      "Attempting to set identical left==right results\n",
      "in singular transformations; automatically expanding.\n",
      "left=15420.0, right=15420.0\n",
      "\n",
      "/Users/diego/Documents/astro/venv/lib/python3.4/site-packages/matplotlib/axes/_base.py:2917: UserWarning:\n",
      "\n",
      "Attempting to set identical left==right results\n",
      "in singular transformations; automatically expanding.\n",
      "left=16070.0, right=16070.0\n",
      "\n",
      "/Users/diego/Documents/astro/venv/lib/python3.4/site-packages/matplotlib/axes/_base.py:2917: UserWarning:\n",
      "\n",
      "Attempting to set identical left==right results\n",
      "in singular transformations; automatically expanding.\n",
      "left=16073.0, right=16073.0\n",
      "\n"
     ]
    }
   ],
   "source": [
    "visualize.combined_light_curves(df_permanent_light_curves, n_obj=15, obj_type='permanents', min_obs=15)"
   ]
  }
 ],
 "metadata": {
  "kernelspec": {
   "display_name": "Python 3",
   "language": "python",
   "name": "python3"
  },
  "language_info": {
   "codemirror_mode": {
    "name": "ipython",
    "version": 3
   },
   "file_extension": ".py",
   "mimetype": "text/x-python",
   "name": "python",
   "nbconvert_exporter": "python",
   "pygments_lexer": "ipython3",
   "version": "3.4.0"
  }
 },
 "nbformat": 4,
 "nbformat_minor": 2
}
