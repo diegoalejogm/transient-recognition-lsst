{
 "cells": [
  {
   "cell_type": "code",
   "execution_count": 292,
   "metadata": {
    "collapsed": true
   },
   "outputs": [],
   "source": [
    "from astropy.io import fits\n",
    "import numpy as np\n",
    "import matplotlib.pyplot as plt\n",
    "from astropy.table import Table\n",
    "import pandas as pd\n",
    "\n",
    "%config InlineBackend.rc = {}\n",
    "%matplotlib inline"
   ]
  },
  {
   "cell_type": "code",
   "execution_count": 251,
   "metadata": {
    "collapsed": true
   },
   "outputs": [],
   "source": [
    "data_path = './data/PESSTO/'\n",
    "\n",
    "# Catalogues\n",
    "photometry_path = data_path + 'Multi-epoch Photometry Catalogue/'\n",
    "transient_path = data_path + 'Transient Catalogue/'\n",
    "\n",
    "# Data\n",
    "imaging_path = data_path + 'Imaging Data/'\n",
    "spectral_path = data_path + 'Spectral Data/'"
   ]
  },
  {
   "cell_type": "markdown",
   "metadata": {},
   "source": [
    "## Transient Catalogue Exploration"
   ]
  },
  {
   "cell_type": "code",
   "execution_count": 317,
   "metadata": {},
   "outputs": [
    {
     "name": "stdout",
     "output_type": "stream",
     "text": [
      "Filename: ./data/PESSTO/Transient Catalogue/catalogue.fits\n",
      "No.    Name      Ver    Type      Cards   Dimensions   Format\n",
      "  0  PRIMARY       1 PrimaryHDU      23   ()      \n",
      "  1  PHASE3CATALOG    1 BinTableHDU    227   1035R x 30C   [50A, 50A, E, E, 20A, I, 20A, I, J, E, 20A, I, I, J, E, 10A, I, I, 50A, E, E, E, E, 10A, E, 10A, E, E, 50A, 200A]   \n"
     ]
    }
   ],
   "source": [
    "trans_cat_filename = 'catalogue.fits'\n",
    "\n",
    "hdu_list = fits.open(transient_path + trans_cat_filename)\n",
    "hdu_list.info()"
   ]
  },
  {
   "cell_type": "code",
   "execution_count": 318,
   "metadata": {
    "scrolled": true
   },
   "outputs": [
    {
     "data": {
      "text/plain": [
       "SIMPLE  =                    T / conforms to FITS standard                      \n",
       "BITPIX  =                    8 / array data type                                \n",
       "NAXIS   =                    0 / number of array dimensions                     \n",
       "EXTEND  =                    T                                                  \n",
       "ORIGIN  = 'ESO     '           / European Southern Observatory                  \n",
       "DATE    = '2017-08-14T13:45:06' / Date the file was written                     \n",
       "TELESCOP= 'ESO-NTT '           / ESO Telescope designation                      \n",
       "INSTRUME= 'EFOSC   '           / Instrument name                                \n",
       "RADECSYS= 'FK5     '           / Coordinate reference frame                     \n",
       "MJD-OBS =                55930 / Start of observations (days)                   \n",
       "MJD-END =                57509 / End of observations (days)                     \n",
       "PROG_ID = 'MULTI   '           / ESO programme identification                   \n",
       "PROGID1 = '188.D-3003'         / ESO programme identification                   \n",
       "PROGID2 = '191.D-0935'         / ESO programme identification                   \n",
       "OBSTECH = 'SPECTRUM'           / Technique of observation                       \n",
       "PROCSOFT= 'ntt_2.2.8'          / Data reduction software/system with version no.\n",
       "PRODCATG= 'SCIENCE.CATALOG'    / Data product category                          \n",
       "REFERENC= '2015A&A...579A..40S' / Bibcode reference                             \n",
       "CHECKSUM= '7VAAAT420TA97T39'   / HDU checksum updated 2017-08-25T13:32:13       \n",
       "DATASUM = '0       '           / data unit checksum updated 2017-08-14T13:45:06 \n",
       "ARCFILE = 'ADP.2017-08-24T09:39:15.903.fits' / Archive File Name                \n",
       "ORIGFILE= 'PESSTO_TRAN_CAT.fits' / Original File Name                           \n",
       "P3ORIG  = 'EDP     '           / ESO external data product                      "
      ]
     },
     "execution_count": 318,
     "metadata": {},
     "output_type": "execute_result"
    }
   ],
   "source": [
    "# Display PRIMARY HDU Info\n",
    "hdu_list[0].header"
   ]
  },
  {
   "cell_type": "code",
   "execution_count": 319,
   "metadata": {},
   "outputs": [
    {
     "name": "stdout",
     "output_type": "stream",
     "text": [
      "False\n"
     ]
    }
   ],
   "source": [
    "# Has PRIMARY HDU got any data?\n",
    "print(hdu_list[0].data is not None)"
   ]
  },
  {
   "cell_type": "code",
   "execution_count": 320,
   "metadata": {},
   "outputs": [
    {
     "data": {
      "text/plain": [
       "XTENSION= 'BINTABLE'           / FITS Extension first keyword                   \n",
       "BITPIX  =                    8 / Number of bits per data pixel                  \n",
       "NAXIS   =                    2 / Number of data axes                            \n",
       "NAXIS1  =                  554 / width of table in bytes                        \n",
       "NAXIS2  =                 1035 / number of rows in table                        \n",
       "PCOUNT  =                    0 / Parameter count                                \n",
       "GCOUNT  =                    1 / Group count                                    \n",
       "TFIELDS =                   30 / number of columns                              \n",
       "EXTNAME = 'PHASE3CATALOG'      / FITS Extension name                            \n",
       "TTYPE1  = 'TRANSIENT_ID'       / Label for field 1                              \n",
       "TFORM1  = '50A     '           / Data format of field 1                         \n",
       "TUNIT1  = '' / Physical unit for field 1                                        \n",
       "TCOMM1  = 'The master name of the transient' / Description for field 1          \n",
       "TUCD1   = 'meta.id;meta.main'  / Unified content descriptor of field 1          \n",
       "TINDX1  =                    T / TRUE if database index exists for field 1      \n",
       "TPRIC1  =                    T / TRUE if field 1 represents principal parameter \n",
       "TTYPE2  = 'TRANSIENT_DISCOVERY_ID' / Label for field 2                          \n",
       "TFORM2  = '50A     '           / Data format of field 2                         \n",
       "TUNIT2  = '' / Physical unit for field 2                                        \n",
       "TCOMM2  = 'The name of the transient reported by the discovery survey' / Descrip\n",
       "TUCD2   = 'meta.id;'           / Unified content descriptor of field 2          \n",
       "TINDX2  =                    T / TRUE if database index exists for field 2      \n",
       "TPRIC2  =                    T / TRUE if field 2 represents principal parameter \n",
       "TTYPE3  = 'TRANSIENT_RAJ2000'  / Label for field 3                              \n",
       "TFORM3  = 'E       '           / Data format of field 3                         \n",
       "TUNIT3  = 'deg     '           / Physical unit for field 3                      \n",
       "TCOMM3  = 'RA of the transient in decimal degrees' / Description for field 3    \n",
       "TUCD3   = 'pos.eq.ra;meta.main' / Unified content descriptor of field 3         \n",
       "TINDX3  =                    T / TRUE if database index exists for field 3      \n",
       "TPRIC3  =                    T / TRUE if field 3 represents principal parameter \n",
       "TTYPE4  = 'TRANSIENT_DECJ2000' / Label for field 4                              \n",
       "TFORM4  = 'E       '           / Data format of field 4                         \n",
       "TUNIT4  = 'deg     '           / Physical unit for field 4                      \n",
       "TCOMM4  = 'DEC of the transient in decimal degrees' / Description for field 4   \n",
       "TUCD4   = 'pos.eq.dec;meta.main' / Unified content descriptor of field 4        \n",
       "TINDX4  =                    T / TRUE if database index exists for field 4      \n",
       "TPRIC4  =                    T / TRUE if field 4 represents principal parameter \n",
       "TTYPE5  = 'TRANSIENT_CLASSIFICATION' / Label for field 5                        \n",
       "TFORM5  = '20A     '           / Data format of field 5                         \n",
       "TUNIT5  = '' / Physical unit for field 5                                        \n",
       "TCOMM5  = 'Classification of the transient reported in PESSTO ATels' / Descripti\n",
       "TUCD5   = 'meta.code.class;src.class' / Null Representation of field 5          \n",
       "TINDX5  =                    T / Unified content descriptor of field 5          \n",
       "TPRIC5  =                    T / TRUE if database index exists for field 5      \n",
       "TTYPE6  = 'TRANSIENT_CLASSIFICATION_PECULIAR_FLAG' / TRUE if field 5 represents \n",
       "TFORM6  = 'I       '           / Label for field 6                              \n",
       "TUNIT6  = '' / Data format of field 6                                           \n",
       "TCOMM6  = 'Boolean flag, set to \"1\" if transient classified as peculiar' / Physi\n",
       "TNULL6  =                 9999 / Description for field 6                        \n",
       "TUCD6   = 'meta.code'          / Unified content descriptor of field 6          \n",
       "TINDX6  = '' / TRUE if database index exists for field 6                        \n",
       "TPRIC6  =                    T / TRUE if field 6 represents principal parameter \n",
       "TTYPE7  = 'TRANSIENT_CLASSIFICATION_SOURCE' / Label for field 7                 \n",
       "TFORM7  = '20A     '           / Data format of field 7                         \n",
       "TUNIT7  = '' / Physical unit for field 7                                        \n",
       "TCOMM7  = 'The source of the classification' / Description for field 7          \n",
       "TUCD7   = 'meta.id '           / Null Representation of field 7                 \n",
       "TINDX7  = '' / Unified content descriptor of field 7                            \n",
       "TPRIC7  = '' / TRUE if database index exists for field 7                        \n",
       "TTYPE8  = 'TRANSIENT_CLASSIFICATION_ATEL' / TRUE if field 7 represents principal\n",
       "TFORM8  = 'I       '           / Label for field 8                              \n",
       "TUNIT8  = '' / Data format of field 8                                           \n",
       "TCOMM8  = 'The number of the ATel  reporting the classification' / Physical unit\n",
       "TNULL8  =                    0 / Description for field 8                        \n",
       "TUCD8   = 'meta.id '           / Unified content descriptor of field 8          \n",
       "TINDX8  = '' / TRUE if database index exists for field 8                        \n",
       "TPRIC8  = '' / TRUE if field 8 represents principal parameter                   \n",
       "TTYPE9  = 'TRANSIENT_CLASSIFICATION_MJD' / Label for field 9                    \n",
       "TFORM9  = 'J       '           / Data format of field 9                         \n",
       "TUNIT9  = 'days    '           / Physical unit for field 9                      \n",
       "TCOMM9  = 'MJD at point of classification' / Description for field 9            \n",
       "TUCD9   = 'time.epoch'         / Unified content descriptor of field 9          \n",
       "TINDX9  =                    T / TRUE if database index exists for field 9      \n",
       "TPRIC9  =                    T / TRUE if field 9 represents principal parameter \n",
       "TTYPE10 = 'TRANSIENT_CLASSIFICATION_REDSHIFT' / Label for field 10              \n",
       "TFORM10 = 'E       '           / Data format of field 10                        \n",
       "TUNIT10 = '' / Physical unit for field 10                                       \n",
       "TCOMM10 = 'The redshift of the transient' / Description for field 10            \n",
       "TUCD10  = 'src.redshift'       / Unified content descriptor of field 10         \n",
       "TINDX10 =                    T / TRUE if database index exists for field 10     \n",
       "TPRIC10 =                    T / TRUE if field 10 represents principal parameter\n",
       "TTYPE11 = 'TRANSIENT_CLASSIFICATION_PHASE' / Label for field 11                 \n",
       "TFORM11 = '20A     '           / Data format of field 11                        \n",
       "TUNIT11 = '' / Physical unit for field 11                                       \n",
       "TCOMM11 = 'The general phase of the transient wrt maximum light' / Description f\n",
       "TUCD11  = 'time.phase'         / Null Representation of field 11                \n",
       "TINDX11 = '' / Unified content descriptor of field 11                           \n",
       "TPRIC11 = '' / TRUE if database index exists for field 11                       \n",
       "TTYPE12 = 'TRANSIENT_CLASSIFICATION_PHASE_DAYS_LOWER_LIMIT' / TRUE if field 11 r\n",
       "TFORM12 = 'I       '           / Label for field 12                             \n",
       "TUNIT12 = 'days    '           / Data format of field 12                        \n",
       "TCOMM12 = 'Lower limit of transient phase wrt maximum light' / Physical unit for\n",
       "TNULL12 =                 9999 / Description for field 12                       \n",
       "TUCD12  = 'time.phase'         / Null Representation of field 12                \n",
       "TINDX12 = '' / Unified content descriptor of field 12                           \n",
       "TPRIC12 = '' / TRUE if database index exists for field 12                       \n",
       "TTYPE13 = 'TRANSIENT_CLASSIFICATION_PHASE_DAYS_UPPER_LIMIT' / TRUE if field 12 r\n",
       "TFORM13 = 'I       '           / Label for field 13                             \n",
       "TUNIT13 = 'days    '           / Data format of field 13                        \n",
       "TCOMM13 = 'Upper limit of transient phase wrt maximum light' / Physical unit for\n",
       "TNULL13 =                 9999 / Description for field 13                       \n",
       "TUCD13  = 'time.phase'         / Unified content descriptor of field 13         \n",
       "TINDX13 = '' / TRUE if database index exists for field 13                       \n",
       "TPRIC13 = '' / TRUE if field 13 represents principal parameter                  \n",
       "TTYPE14 = 'TRANSIENT_DISCOVERY_MJD' / Label for field 14                        \n",
       "TFORM14 = 'J       '           / Data format of field 14                        \n",
       "TUNIT14 = 'days    '           / Physical unit for field 14                     \n",
       "TCOMM14 = 'MJD at point of transient discovery' / Description for field 14      \n",
       "TUCD14  = 'time.phase'         / Unified content descriptor of field 14         \n",
       "TINDX14 =                    T / TRUE if database index exists for field 14     \n",
       "TPRIC14 =                    T / TRUE if field 14 represents principal parameter\n",
       "TTYPE15 = 'TRANSIENT_DISCOVERY_MAG' / Label for field 15                        \n",
       "TFORM15 = 'E       '           / Data format of field 15                        \n",
       "TUNIT15 = 'magnitude of the transient at point of discovery' / Physical unit for\n",
       "TCOMM15 = 'Magnitude of the transient at point of discovery' / Description for f\n",
       "TUCD15  = 'phot.mag'           / Unified content descriptor of field 15         \n",
       "TINDX15 = '' / TRUE if database index exists for field 15                       \n",
       "TPRIC15 =                    T / TRUE if field 15 represents principal parameter\n",
       "TTYPE16 = 'TRANSIENT_DISCOVERY_MAG_FILTER' / Label for field 16                 \n",
       "TFORM16 = '10A     '           / Data format of field 16                        \n",
       "TUNIT16 = '' / Physical unit for field 16                                       \n",
       "TCOMM16 = 'Filter used for discovery magnitude' / Description for field 16      \n",
       "TUCD16  = 'meta.id;instr.filter' / Null Representation of field 16              \n",
       "TINDX16 = '' / Unified content descriptor of field 16                           \n",
       "TPRIC16 =                    T / TRUE if database index exists for field 16     \n",
       "TTYPE17 = 'FOLLOWUP_TARGET'    / TRUE if field 16 represents principal parameter\n",
       "TFORM17 = 'I       '           / Label for field 17                             \n",
       "TUNIT17 = '' / Data format of field 17                                          \n",
       "TCOMM17 = 'PESSTO follow-up campaign object (Boolean)' / Physical unit for field\n",
       "TNULL17 =                 9999 / Description for field 17                       \n",
       "TUCD17  = 'meta.code'          / Null Representation of field 17                \n",
       "TINDX17 = '' / Unified content descriptor of field 17                           \n",
       "TPRIC17 = '' / TRUE if database index exists for field 17                       \n",
       "TTYPE18 = 'HOST_SEARCH_STAGE'  / TRUE if field 17 represents principal parameter\n",
       "TFORM18 = 'I       '           / Label for field 18                             \n",
       "TUNIT18 = '' / Data format of field 18                                          \n",
       "TCOMM18 = 'Cross-match stage host galaxy was matched' / Physical unit for field \n",
       "TNULL18 =                    0 / Description for field 18                       \n",
       "TUCD18  = 'meta.id '           / Unified content descriptor of field 18         \n",
       "TINDX18 = '' / TRUE if database index exists for field 18                       \n",
       "TPRIC18 = '' / TRUE if field 18 represents principal parameter                  \n",
       "TTYPE19 = 'HOST_ID '           / Label for field 19                             \n",
       "TFORM19 = '50A     '           / Data format of field 19                        \n",
       "TUNIT19 = '' / Physical unit for field 19                                       \n",
       "TCOMM19 = 'The name of an associated host galaxy' / Description for field 19    \n",
       "TUCD19  = 'meta.id '           / Unified content descriptor of field 19         \n",
       "TINDX19 = '' / TRUE if database index exists for field 19                       \n",
       "TPRIC19 =                    T / TRUE if field 19 represents principal parameter\n",
       "TTYPE20 = 'HOST_RAJ2000'       / Label for field 20                             \n",
       "TFORM20 = 'E       '           / Data format of field 20                        \n",
       "TUNIT20 = 'deg     '           / Physical unit for field 20                     \n",
       "TCOMM20 = 'RA of host galaxy in decimal degrees' / Description for field 20     \n",
       "TUCD20  = 'pos.eq.ra'          / Unified content descriptor of field 20         \n",
       "TINDX20 = '' / TRUE if database index exists for field 20                       \n",
       "TPRIC20 =                    T / TRUE if field 20 represents principal parameter\n",
       "TTYPE21 = 'HOST_DECJ2000'      / Label for field 21                             \n",
       "TFORM21 = 'E       '           / Data format of field 21                        \n",
       "TUNIT21 = 'deg     '           / Physical unit for field 21                     \n",
       "TCOMM21 = 'DEC of host galaxy in decimal degrees' / Description for field 21    \n",
       "TUCD21  = 'pos.eq.dec'         / Unified content descriptor of field 21         \n",
       "TINDX21 = '' / TRUE if database index exists for field 21                       \n",
       "TPRIC21 =                    T / TRUE if field 21 represents principal parameter\n",
       "TTYPE22 = 'HOST_OFFSET_N'      / Label for field 22                             \n",
       "TFORM22 = 'E       '           / Data format of field 22                        \n",
       "TUNIT22 = 'deg     '           / Physical unit for field 22                     \n",
       "TCOMM22 = 'The N-S transient-host separation' / Description for field 22        \n",
       "TUCD22  = 'pos.angDistance'    / Unified content descriptor of field 22         \n",
       "TINDX22 = '' / TRUE if database index exists for field 22                       \n",
       "TPRIC22 = '' / TRUE if field 22 represents principal parameter                  \n",
       "TTYPE23 = 'HOST_OFFSET_E'      / Label for field 23                             \n",
       "TFORM23 = 'E       '           / Data format of field 23                        \n",
       "TUNIT23 = 'deg     '           / Physical unit for field 23                     \n",
       "TCOMM23 = 'The E-W transient-host separation' / Description for field 23        \n",
       "TUCD23  = 'pos.angDistance'    / Unified content descriptor of field 23         \n",
       "TINDX23 = '' / TRUE if database index exists for field 23                       \n",
       "TPRIC23 = '' / TRUE if field 23 represents principal parameter                  \n",
       "TTYPE24 = 'HOST_REDSHIFT_SPEC_SOURCE' / Label for field 24                      \n",
       "TFORM24 = '10A     '           / Data format of field 24                        \n",
       "TUNIT24 = '' / Physical unit for field 24                                       \n",
       "TCOMM24 = 'Source of the galaxy spectroscopic redshift' / Description for field \n",
       "TUCD24  = 'meta.id '           / Unified content descriptor of field 24         \n",
       "TINDX24 = '' / TRUE if database index exists for field 24                       \n",
       "TPRIC24 = '' / TRUE if field 24 represents principal parameter                  \n",
       "TTYPE25 = 'HOST_REDSHIFT_SPEC' / Label for field 25                             \n",
       "TFORM25 = 'E       '           / Data format of field 25                        \n",
       "TUNIT25 = '' / Physical unit for field 25                                       \n",
       "TCOMM25 = 'Host galaxy spectroscopic redshift' / Description for field 25       \n",
       "TUCD25  = 'src.redshift'       / Unified content descriptor of field 25         \n",
       "TINDX25 =                    T / TRUE if database index exists for field 25     \n",
       "TPRIC25 = '' / TRUE if field 25 represents principal parameter                  \n",
       "TTYPE26 = 'HOST_REDSHIFT_PHOT_SOURCE' / Label for field 26                      \n",
       "TFORM26 = '10A     '           / Data format of field 26                        \n",
       "TUNIT26 = '' / Physical unit for field 26                                       \n",
       "TCOMM26 = 'Source of the galaxy photometric redshift' / Description for field 26\n",
       "TUCD26  = 'meta.id '           / Unified content descriptor of field 26         \n",
       "TINDX26 = '' / TRUE if database index exists for field 26                       \n",
       "TPRIC26 = '' / TRUE if field 26 represents principal parameter                  \n",
       "TTYPE27 = 'HOST_REDSHIFT_PHOT' / Label for field 27                             \n",
       "TFORM27 = 'E       '           / Data format of field 27                        \n",
       "TUNIT27 = '' / Physical unit for field 27                                       \n",
       "TCOMM27 = 'Host galaxy photometric redshift' / Description for field 27         \n",
       "TUCD27  = 'src.redshift'       / Unified content descriptor of field 27         \n",
       "TINDX27 =                    T / TRUE if database index exists for field 27     \n",
       "TPRIC27 = '' / TRUE if field 27 represents principal parameter                  \n",
       "TTYPE28 = 'HOST_REDSHIFT_PHOT_ERR' / Label for field 28                         \n",
       "TFORM28 = 'E       '           / Data format of field 28                        \n",
       "TUNIT28 = '' / Physical unit for field 28                                       \n",
       "TCOMM28 = 'Host galaxy photometric redshift error' / Description for field 28   \n",
       "TUCD28  = 'stat.error;src.redshift' / Unified content descriptor of field 28    \n",
       "TINDX28 = '' / TRUE if database index exists for field 28                       \n",
       "TPRIC28 = '' / TRUE if field 28 represents principal parameter                  \n",
       "TTYPE29 = 'TRANSIENT_IAU_ID'   / Label for field 29                             \n",
       "TFORM29 = '50A     '           / Data format of field 29                        \n",
       "TUNIT29 = '' / Physical unit for field 29                                       \n",
       "TCOMM29 = 'The offical IAU identification of the object' / Description for field\n",
       "TUCD29  = 'meta.id;'           / Unified content descriptor of field 29         \n",
       "TINDX29 = '' / TRUE if database index exists for field 29                       \n",
       "TPRIC29 = '' / TRUE if field 29 represents principal parameter                  \n",
       "TTYPE30 = 'TRANSIENT_ALTERNATIVE_IDS' / Label for field 30                      \n",
       "TFORM30 = '200A    '           / Data format of field 30                        \n",
       "TUNIT30 = '' / Physical unit for field 30                                       \n",
       "TCOMM30 = 'The object identifications as assigned by other surveys' / Descriptio\n",
       "TUCD30  = 'meta.id;'           / Unified content descriptor of field 30         \n",
       "TINDX30 = '' / TRUE if database index exists for field 30                       \n",
       "TPRIC30 = '' / TRUE if field 30 represents principal parameter                  \n",
       "CHECKSUM= 'Oa1AOX19Oa1AOU17'   / HDU checksum updated 2017-08-14T13:45:06       \n",
       "DATASUM = '618876061'          / data unit checksum updated 2017-08-14T13:45:06 "
      ]
     },
     "execution_count": 320,
     "metadata": {},
     "output_type": "execute_result"
    }
   ],
   "source": [
    "# Display BINTABLE HDU Info\n",
    "hdu_list[1].header"
   ]
  },
  {
   "cell_type": "code",
   "execution_count": 321,
   "metadata": {},
   "outputs": [
    {
     "name": "stdout",
     "output_type": "stream",
     "text": [
      "True\n"
     ]
    }
   ],
   "source": [
    "# Has BINTABLE HDU got any data?\n",
    "print(hdu_list[1].data is not None)"
   ]
  },
  {
   "cell_type": "markdown",
   "metadata": {},
   "source": [
    "We realize that the first header is the file metadata, which contains information about the catalogue itself. On the other hand, the second header is a binary table with the contents of the catalogue."
   ]
  },
  {
   "cell_type": "code",
   "execution_count": 170,
   "metadata": {
    "collapsed": true
   },
   "outputs": [],
   "source": [
    "# Transform Catalogue to Pandas\n",
    "transient_df = Table(hdu_list[1].data).to_pandas()\n",
    "# Close HDU file\n",
    "hdu_list.close()"
   ]
  },
  {
   "cell_type": "markdown",
   "metadata": {},
   "source": [
    "#### Sample Row"
   ]
  },
  {
   "cell_type": "code",
   "execution_count": 172,
   "metadata": {
    "scrolled": true
   },
   "outputs": [
    {
     "data": {
      "text/plain": [
       "TRANSIENT_ID                                                   SN2013U\n",
       "TRANSIENT_DISCOVERY_ID                             PSNJ100112000019423\n",
       "TRANSIENT_RAJ2000                                                150.3\n",
       "TRANSIENT_DECJ2000                                            0.328417\n",
       "TRANSIENT_CLASSIFICATION                                         SN Ia\n",
       "TRANSIENT_CLASSIFICATION_PECULIAR_FLAG                               1\n",
       "TRANSIENT_CLASSIFICATION_SOURCE                              CBET 3410\n",
       "TRANSIENT_CLASSIFICATION_ATEL                                        0\n",
       "TRANSIENT_CLASSIFICATION_MJD                                     56329\n",
       "TRANSIENT_CLASSIFICATION_REDSHIFT                              0.03451\n",
       "TRANSIENT_CLASSIFICATION_PHASE                                 pre-max\n",
       "TRANSIENT_CLASSIFICATION_PHASE_DAYS_LOWER_LIMIT                     -7\n",
       "TRANSIENT_CLASSIFICATION_PHASE_DAYS_UPPER_LIMIT                     -4\n",
       "TRANSIENT_DISCOVERY_MJD                                          56297\n",
       "TRANSIENT_DISCOVERY_MAG                                           16.6\n",
       "TRANSIENT_DISCOVERY_MAG_FILTER                              unfiltered\n",
       "FOLLOWUP_TARGET                                                      1\n",
       "HOST_SEARCH_STAGE                                                    1\n",
       "HOST_ID                                                   CGCG 008-023\n",
       "HOST_RAJ2000                                                   150.299\n",
       "HOST_DECJ2000                                                  0.32934\n",
       "HOST_OFFSET_N                                                  -0.0009\n",
       "HOST_OFFSET_E                                                   0.0005\n",
       "HOST_REDSHIFT_SPEC_SOURCE                                          NED\n",
       "HOST_REDSHIFT_SPEC                                            0.034506\n",
       "HOST_REDSHIFT_PHOT_SOURCE                                         SDSS\n",
       "HOST_REDSHIFT_PHOT                                              0.0831\n",
       "HOST_REDSHIFT_PHOT_ERR                                           0.026\n",
       "TRANSIENT_IAU_ID                                               SN2013U\n",
       "TRANSIENT_ALTERNATIVE_IDS                                         NULL\n",
       "Name: 0, dtype: object"
      ]
     },
     "execution_count": 172,
     "metadata": {},
     "output_type": "execute_result"
    }
   ],
   "source": [
    "transient_df.iloc[0]"
   ]
  },
  {
   "cell_type": "markdown",
   "metadata": {},
   "source": [
    "# Imaging Data Exploration"
   ]
  },
  {
   "cell_type": "code",
   "execution_count": 1047,
   "metadata": {
    "scrolled": true
   },
   "outputs": [
    {
     "name": "stdout",
     "output_type": "stream",
     "text": [
      "Filename: ./data/PESSTO/Imaging Data/1.fits\n",
      "No.    Name      Ver    Type      Cards   Dimensions   Format\n",
      "  0  PRIMARY       1 PrimaryHDU     289   (1278, 1249)   float32   \n"
     ]
    }
   ],
   "source": [
    "sample_img_filename = '1.fits'\n",
    "hdu_list = fits.open(imaging_path + sample_img_filename)\n",
    "hdu_list.info()"
   ]
  },
  {
   "cell_type": "code",
   "execution_count": 1048,
   "metadata": {
    "scrolled": false
   },
   "outputs": [
    {
     "data": {
      "text/plain": [
       "CRVAL1  =        303.607636159 / RA at ref pixel                                \n",
       "CRVAL2  =       -58.1366397951 / DEC at ref pixel                               \n",
       "CRPIX1  =        569.458454182 / Ref pixel in X                                 \n",
       "CRPIX2  =        475.439433595 / Ref pixel in Y                                 "
      ]
     },
     "execution_count": 1048,
     "metadata": {},
     "output_type": "execute_result"
    }
   ],
   "source": [
    "hdu_list[0].header[24:28]"
   ]
  },
  {
   "cell_type": "code",
   "execution_count": 1049,
   "metadata": {},
   "outputs": [
    {
     "data": {
      "text/plain": [
       "(569.458454182, 475.439433595)"
      ]
     },
     "execution_count": 1049,
     "metadata": {},
     "output_type": "execute_result"
    }
   ],
   "source": [
    "# CRPIX\n",
    "X = hdu_list[0].header['CRPIX1']\n",
    "Y = hdu_list[0].header['CRPIX2']\n",
    "X,Y"
   ]
  },
  {
   "cell_type": "code",
   "execution_count": 1050,
   "metadata": {},
   "outputs": [
    {
     "data": {
      "text/plain": [
       "(571.8, 560.8)"
      ]
     },
     "execution_count": 1050,
     "metadata": {},
     "output_type": "execute_result"
    }
   ],
   "source": [
    "# NTCRPIX\n",
    "X = hdu_list[0].header['NTCRPIX1']\n",
    "Y = hdu_list[0].header['NTCRPIX2']\n",
    "X,Y"
   ]
  },
  {
   "cell_type": "code",
   "execution_count": 1051,
   "metadata": {},
   "outputs": [],
   "source": [
    "image_data = hdu_list[0].data\n",
    "image_data *= 255.0/image_data.max()\n",
    "hdu_list.close()\n",
    "#del hdu_list"
   ]
  },
  {
   "cell_type": "markdown",
   "metadata": {},
   "source": [
    "### Display images"
   ]
  },
  {
   "cell_type": "code",
   "execution_count": 1052,
   "metadata": {
    "scrolled": false
   },
   "outputs": [
    {
     "data": {
      "text/plain": [
       "<matplotlib.colorbar.Colorbar at 0x16dbded68>"
      ]
     },
     "execution_count": 1052,
     "metadata": {},
     "output_type": "execute_result"
    },
    {
     "data": {
      "image/png": "[encoded data removed]",
      "text/plain": [
       "<matplotlib.figure.Figure at 0x169648240>"
      ]
     },
     "metadata": {},
     "output_type": "display_data"
    }
   ],
   "source": [
    "plt.figure(figsize=(11,11))\n",
    "plt.imshow(image_data, origin='lower')\n",
    "plt.colorbar()"
   ]
  },
  {
   "cell_type": "code",
   "execution_count": 1053,
   "metadata": {},
   "outputs": [
    {
     "data": {
      "text/plain": [
       "<matplotlib.image.AxesImage at 0x16fac5d30>"
      ]
     },
     "execution_count": 1053,
     "metadata": {},
     "output_type": "execute_result"
    },
    {
     "data": {
      "image/png": "[encoded data removed]",
      "text/plain": [
       "<matplotlib.figure.Figure at 0x1741ac160>"
      ]
     },
     "metadata": {},
     "output_type": "display_data"
    }
   ],
   "source": [
    "from PIL import Image\n",
    "side = 250\n",
    "s = side / 2\n",
    "img = Image.fromarray(image_data).crop( (X-s,Y-s, X+s, Y+s))\n",
    "plt.figure(figsize=(7,7))\n",
    "crop = np.copy(np.asarray(img))\n",
    "plt.imshow(crop, origin='lower', cmap='inferno')"
   ]
  },
  {
   "cell_type": "markdown",
   "metadata": {},
   "source": [
    "## Imaging Weights Data Exploration"
   ]
  },
  {
   "cell_type": "code",
   "execution_count": 825,
   "metadata": {
    "scrolled": true
   },
   "outputs": [
    {
     "name": "stdout",
     "output_type": "stream",
     "text": [
      "Filename: ./data/PESSTO/Imaging Data/1.fits\n",
      "No.    Name      Ver    Type      Cards   Dimensions   Format\n",
      "  0  PRIMARY       1 PrimaryHDU     289   (1278, 1249)   float32   \n"
     ]
    }
   ],
   "source": [
    "sample_weight_filename = 'weights.fits'\n",
    "hdu_list = fits.open(imaging_path + sample_img_filename)\n",
    "hdu_list.info()"
   ]
  },
  {
   "cell_type": "code",
   "execution_count": 268,
   "metadata": {},
   "outputs": [
    {
     "data": {
      "text/plain": [
       "SIMPLE  =                    T / conforms to FITS standard                      \n",
       "BITPIX  =                    8 / array data type                                \n",
       "NAXIS   =                    0 / number of array dimensions                     \n",
       "EXTEND  =                    T                                                  \n",
       "ORIGIN  = 'ESO     '           / European Southern Observatory                  \n",
       "DATE    = '2017-08-14T13:45:06' / Date the file was written                     \n",
       "TELESCOP= 'ESO-NTT '           / ESO Telescope designation                      \n",
       "INSTRUME= 'EFOSC   '           / Instrument name                                \n",
       "RADECSYS= 'FK5     '           / Coordinate reference frame                     \n",
       "MJD-OBS =                55930 / Start of observations (days)                   \n",
       "MJD-END =                57509 / End of observations (days)                     \n",
       "PROG_ID = 'MULTI   '           / ESO programme identification                   \n",
       "PROGID1 = '188.D-3003'         / ESO programme identification                   \n",
       "PROGID2 = '191.D-0935'         / ESO programme identification                   \n",
       "OBSTECH = 'SPECTRUM'           / Technique of observation                       \n",
       "PROCSOFT= 'ntt_2.2.8'          / Data reduction software/system with version no.\n",
       "PRODCATG= 'SCIENCE.CATALOG'    / Data product category                          \n",
       "REFERENC= '2015A&A...579A..40S' / Bibcode reference                             \n",
       "CHECKSUM= '7VAAAT420TA97T39'   / HDU checksum updated 2017-08-25T13:32:13       \n",
       "DATASUM = '0       '           / data unit checksum updated 2017-08-14T13:45:06 \n",
       "ARCFILE = 'ADP.2017-08-24T09:39:15.903.fits' / Archive File Name                \n",
       "ORIGFILE= 'PESSTO_TRAN_CAT.fits' / Original File Name                           \n",
       "P3ORIG  = 'EDP     '           / ESO external data product                      "
      ]
     },
     "execution_count": 268,
     "metadata": {},
     "output_type": "execute_result"
    }
   ],
   "source": [
    "hdu_list[0].header"
   ]
  },
  {
   "cell_type": "code",
   "execution_count": 269,
   "metadata": {
    "collapsed": true
   },
   "outputs": [],
   "source": [
    "image_data = hdu_list[0].data\n",
    "hdu_list.close()\n",
    "del hdu_list"
   ]
  },
  {
   "cell_type": "markdown",
   "metadata": {},
   "source": [
    "### Display images"
   ]
  },
  {
   "cell_type": "code",
   "execution_count": 223,
   "metadata": {
    "scrolled": true
   },
   "outputs": [
    {
     "data": {
      "text/plain": [
       "<matplotlib.colorbar.Colorbar at 0x1117b5908>"
      ]
     },
     "execution_count": 223,
     "metadata": {},
     "output_type": "execute_result"
    },
    {
     "data": {
      "image/png": "[encoded data removed]",
      "text/plain": [
       "<matplotlib.figure.Figure at 0x110ea39e8>"
      ]
     },
     "metadata": {},
     "output_type": "display_data"
    }
   ],
   "source": [
    "plt.figure(figsize=(5,5))\n",
    "plt.imshow(image_data)\n",
    "plt.colorbar()"
   ]
  },
  {
   "cell_type": "markdown",
   "metadata": {},
   "source": [
    "## Spectral Catalogue Exploration"
   ]
  },
  {
   "cell_type": "code",
   "execution_count": null,
   "metadata": {
    "collapsed": true
   },
   "outputs": [],
   "source": [
    "spectral_filename = 'catalogue.fits'\n",
    "\n",
    "hdu_list = fits.open(spectral_path + spectral_filename)\n",
    "hdu_list.info()"
   ]
  },
  {
   "cell_type": "code",
   "execution_count": 205,
   "metadata": {},
   "outputs": [
    {
     "data": {
      "text/plain": [
       "SIMPLE  =                    T / conforms to FITS standard                      \n",
       "BITPIX  =                    8 / array data type                                \n",
       "NAXIS   =                    0 / number of array dimensions                     \n",
       "EXTEND  =                    T                                                  \n",
       "ORIGIN  = 'ESO     '           / European Southern Observatory                  \n",
       "DATE    = '2017-08-21T15:21:05' / Date the file was written                     \n",
       "TELESCOP= 'ESO-NTT '           / Telescope                                      \n",
       "INSTRUME= 'MULTI   '           / Instrument name                                \n",
       "INSTR1  = 'EFOSC   '           / Instrument name                                \n",
       "INSTR2  = 'SOFI    '           / Instrument name                                \n",
       "NOESODAT=                    T / True if non-ESO data used                      \n",
       "MJD-OBS =                56013 / Start of observations (days)                   \n",
       "MJD-END =                57534 / End of observations (days)                     \n",
       "PROG_ID = 'MULTI   '           / ESO programme identification                   \n",
       "PROGID1 = '188.D-3003'         / ESO programme identification                   \n",
       "PROGID2 = '191.D-0935'         / ESO programme identification                   \n",
       "OBSTECH = 'IMAGE   '           / Technique of observation                       \n",
       "PROCSOFT= 'MULTI   '           / Data reduction software/system with version no.\n",
       "PRODCATG= 'SCIENCE.CATALOG'    / Data product category                          \n",
       "REFERENC= '2015A&A...579A..40S' / Bibcode reference                             \n",
       "CHECKSUM= 'FcEPIZCPFbCPFZCP'   / HDU checksum updated 2017-08-25T13:32:55       \n",
       "DATASUM = '0       '           / data unit checksum updated 2017-08-21T15:21:06 \n",
       "ARCFILE = 'ADP.2017-08-24T13:14:25.964.fits' / Archive File Name                \n",
       "ORIGFILE= 'PESSTO_MPHOT.fits'  / Original File Name                             \n",
       "P3ORIG  = 'EDP     '           / ESO external data product                      "
      ]
     },
     "execution_count": 205,
     "metadata": {},
     "output_type": "execute_result"
    }
   ],
   "source": [
    "# Display PRIMARY HDU Info\n",
    "hdu_list[0].header"
   ]
  },
  {
   "cell_type": "code",
   "execution_count": 206,
   "metadata": {},
   "outputs": [
    {
     "data": {
      "text/plain": [
       "XTENSION= 'BINTABLE'           / FITS Extension first keyword                   \n",
       "BITPIX  =                    8 / Number of bits per data pixel                  \n",
       "NAXIS   =                    2 / Number of data axes                            \n",
       "NAXIS1  =                  218 / width of table in bytes                        \n",
       "NAXIS2  =                 2488 / number of rows in table                        \n",
       "PCOUNT  =                    0 / Parameter count                                \n",
       "GCOUNT  =                    1 / Group count                                    \n",
       "TFIELDS =                   43 / number of columns                              \n",
       "EXTNAME = 'PHASE3CATALOG'      / FITS Extension name                            \n",
       "TTYPE1  = 'PHOT_ID '           / Label for field 1                              \n",
       "TFORM1  = 'J       '           / Data format of field 1                         \n",
       "TUNIT1  = '' / Physical unit of field 1                                         \n",
       "TCOMM1  = 'Photometric Data Point ID (auto-increment)' / Description for field 1\n",
       "TUCD1   = 'meta.id;meta.main'  / Unified content descriptor of field 1          \n",
       "TINDX1  =                    T / TRUE if database index exists for field 1      \n",
       "TPRIC1  =                    T / TRUE if field 1 represents principal parameter \n",
       "TTYPE2  = 'SOURCE_ID'          / Label for field 2                              \n",
       "TFORM2  = '50A     '           / Data format of field 2                         \n",
       "TUNIT2  = '' / Physical unit of field 2                                         \n",
       "TCOMM2  = 'PESSTO Source ID (catalogue data link)' / Description for field 2    \n",
       "TUCD2   = 'meta.id '           / Unified content descriptor of field 2          \n",
       "TINDX2  =                    T / TRUE if database index exists for field 2      \n",
       "TXLNK2  = 'CATALOG '           / Data link type                                 \n",
       "TXRGF2  = 'PESSTO_TRAN_CAT.fits' / Target catalogue                             \n",
       "TXCTY2  = 'TRANSIENT_ID'       / Data link catalogue's TTYPE                    \n",
       "TPRIC2  =                    T / TRUE if field 2 represents principal parameter \n",
       "TTYPE3  = 'MJD     '           / Label for field 3                              \n",
       "TFORM3  = 'E       '           / Data format of field 3                         \n",
       "TUNIT3  = 'days    '           / Physical unit of field 3                       \n",
       "TCOMM3  = 'Date of Observation' / Description for field 3                       \n",
       "TUCD3   = 'time.epoch'         / Unified content descriptor of field 3          \n",
       "TINDX3  =                    T / TRUE if database index exists for field 3      \n",
       "TPRIC3  =                    T / TRUE if field 3 represents principal parameter \n",
       "TTYPE4  = 'U_VEGA_MAG'         / Label for field 4                              \n",
       "TFORM4  = 'E       '           / Data format of field 4                         \n",
       "TUNIT4  = 'mag     '           / Physical unit of field 4                       \n",
       "TCOMM4  = 'U magnitude (VEGA)' / Description for field 4                        \n",
       "TUCD4   = 'phot.mag;em.opt.U'  / Unified content descriptor of field 4          \n",
       "TINDX4  =                    0 / TRUE if database index exists for field 4      \n",
       "TPRIC4  =                    T / TRUE if field 4 represents principal parameter \n",
       "TTYPE5  = 'U_VEGA_MAGERR'      / Label for field 5                              \n",
       "TFORM5  = 'E       '           / Data format of field 5                         \n",
       "TUNIT5  = 'mag     '           / Physical unit of field 5                       \n",
       "TCOMM5  = 'Error of U VEGA magnitude' / Description for field 5                 \n",
       "TUCD5   = 'stat.error;phot.mag;em.opt.U' / Unified content descriptor of field 5\n",
       "TINDX5  =                    0 / TRUE if database index exists for field 5      \n",
       "TPRIC5  =                    0 / TRUE if field 5 represents principal parameter \n",
       "TTYPE6  = 'B_VEGA_MAG'         / Label for field 6                              \n",
       "TFORM6  = 'E       '           / Data format of field 6                         \n",
       "TUNIT6  = 'mag     '           / Physical unit of field 6                       \n",
       "TCOMM6  = 'B magnitude (VEGA)' / Description for field 6                        \n",
       "TUCD6   = 'phot.mag;em.opt.B'  / Unified content descriptor of field 6          \n",
       "TINDX6  =                    0 / TRUE if database index exists for field 6      \n",
       "TPRIC6  =                    T / TRUE if field 6 represents principal parameter \n",
       "TTYPE7  = 'B_VEGA_MAGERR'      / Label for field 7                              \n",
       "TFORM7  = 'E       '           / Data format of field 7                         \n",
       "TUNIT7  = 'mag     '           / Physical unit of field 7                       \n",
       "TCOMM7  = 'Error of B VEGA magnitude' / Description for field 7                 \n",
       "TUCD7   = 'stat.error;phot.mag;em.opt.B' / Unified content descriptor of field 7\n",
       "TINDX7  =                    0 / TRUE if database index exists for field 7      \n",
       "TPRIC7  =                    0 / TRUE if field 7 represents principal parameter \n",
       "TTYPE8  = 'V_VEGA_MAG'         / Label for field 8                              \n",
       "TFORM8  = 'E       '           / Data format of field 8                         \n",
       "TUNIT8  = 'mag     '           / Physical unit of field 8                       \n",
       "TCOMM8  = 'V magnitude (VEGA)' / Description for field 8                        \n",
       "TUCD8   = 'phot.mag;em.opt.V'  / Unified content descriptor of field 8          \n",
       "TINDX8  =                    0 / TRUE if database index exists for field 8      \n",
       "TPRIC8  =                    T / TRUE if field 8 represents principal parameter \n",
       "TTYPE9  = 'V_VEGA_MAGERR'      / Label for field 9                              \n",
       "TFORM9  = 'E       '           / Data format of field 9                         \n",
       "TUNIT9  = 'mag     '           / Physical unit of field 9                       \n",
       "TCOMM9  = 'Error of V VEGA magnitude' / Description for field 9                 \n",
       "TUCD9   = 'stat.error;phot.mag;em.opt.V' / Unified content descriptor of field 9\n",
       "TINDX9  =                    0 / TRUE if database index exists for field 9      \n",
       "TPRIC9  =                    0 / TRUE if field 9 represents principal parameter \n",
       "TTYPE10 = 'R_VEGA_MAG'         / Label for field 10                             \n",
       "TFORM10 = 'E       '           / Data format of field 10                        \n",
       "TUNIT10 = 'mag     '           / Physical unit of field 10                      \n",
       "TCOMM10 = 'R magnitude (VEGA)' / Description for field 10                       \n",
       "TUCD10  = 'phot.mag;em.opt.R'  / Unified content descriptor of field 10         \n",
       "TINDX10 =                    0 / TRUE if database index exists for field 10     \n",
       "TPRIC10 =                    T / TRUE if field 10 represents principal parameter\n",
       "TTYPE11 = 'R_VEGA_MAGERR'      / Label for field 11                             \n",
       "TFORM11 = 'E       '           / Data format of field 11                        \n",
       "TUNIT11 = 'mag     '           / Physical unit of field 11                      \n",
       "TCOMM11 = 'Error of R VEGA magnitude' / Description for field 11                \n",
       "TUCD11  = 'stat.error;phot.mag;em.opt.R' / Unified content descriptor of field 1\n",
       "TINDX11 =                    0 / TRUE if database index exists for field 11     \n",
       "TPRIC11 =                    0 / TRUE if field 11 represents principal parameter\n",
       "TTYPE12 = 'I_VEGA_MAG'         / Label for field 12                             \n",
       "TFORM12 = 'E       '           / Data format of field 12                        \n",
       "TUNIT12 = 'mag     '           / Physical unit of field 12                      \n",
       "TCOMM12 = 'I magnitude (VEGA)' / Description for field 12                       \n",
       "TUCD12  = 'phot.mag;em.opt.I'  / Unified content descriptor of field 12         \n",
       "TINDX12 =                    0 / TRUE if database index exists for field 12     \n",
       "TPRIC12 =                    T / TRUE if field 12 represents principal parameter\n",
       "TTYPE13 = 'I_VEGA_MAGERR'      / Label for field 13                             \n",
       "TFORM13 = 'E       '           / Data format of field 13                        \n",
       "TUNIT13 = 'mag     '           / Physical unit of field 13                      \n",
       "TCOMM13 = 'Error of I VEGA magnitude' / Description for field 13                \n",
       "TUCD13  = 'stat.error;phot.mag;em.opt.I' / Unified content descriptor of field 1\n",
       "TINDX13 =                    0 / TRUE if database index exists for field 13     \n",
       "TPRIC13 =                    0 / TRUE if field 13 represents principal parameter\n",
       "TTYPE14 = 'U_AB_MAG'           / Label for field 14                             \n",
       "TFORM14 = 'E       '           / Data format of field 14                        \n",
       "TUNIT14 = 'mag     '           / Physical unit of field 14                      \n",
       "TCOMM14 = 'u magnitude (AB)'   / Description for field 14                       \n",
       "TUCD14  = 'phot.mag;em.opt.U'  / Unified content descriptor of field 14         \n",
       "TINDX14 =                    0 / TRUE if database index exists for field 14     \n",
       "TPRIC14 =                    T / TRUE if field 14 represents principal parameter\n",
       "TTYPE15 = 'U_AB_MAGERR'        / Label for field 15                             \n",
       "TFORM15 = 'E       '           / Data format of field 15                        \n",
       "TUNIT15 = 'mag     '           / Physical unit of field 15                      \n",
       "TCOMM15 = 'Error of u AB magnitude' / Description for field 15                  \n",
       "TUCD15  = 'stat.error;phot.mag;em.opt.U' / Unified content descriptor of field 1\n",
       "TINDX15 =                    0 / TRUE if database index exists for field 15     \n",
       "TPRIC15 =                    0 / TRUE if field 15 represents principal parameter\n",
       "TTYPE16 = 'G_AB_MAG'           / Label for field 16                             \n",
       "TFORM16 = 'E       '           / Data format of field 16                        \n",
       "TUNIT16 = 'mag     '           / Physical unit of field 16                      \n",
       "TCOMM16 = 'g magnitude (AB)'   / Description for field 16                       \n",
       "TUCD16  = 'phot.mag;em.opt.B'  / Unified content descriptor of field 16         \n",
       "TINDX16 =                    0 / TRUE if database index exists for field 16     \n",
       "TPRIC16 =                    T / TRUE if field 16 represents principal parameter\n",
       "TTYPE17 = 'G_AB_MAGERR'        / Label for field 17                             \n",
       "TFORM17 = 'E       '           / Data format of field 17                        \n",
       "TUNIT17 = 'mag     '           / Physical unit of field 17                      \n",
       "TCOMM17 = 'Error of g AB magnitude' / Description for field 17                  \n",
       "TUCD17  = 'stat.error;phot.mag;em.opt.B' / Unified content descriptor of field 1\n",
       "TINDX17 =                    0 / TRUE if database index exists for field 17     \n",
       "TPRIC17 =                    0 / TRUE if field 17 represents principal parameter\n",
       "TTYPE18 = 'R_AB_MAG'           / Label for field 18                             \n",
       "TFORM18 = 'E       '           / Data format of field 18                        \n",
       "TUNIT18 = 'mag     '           / Physical unit of field 18                      \n",
       "TCOMM18 = 'r magnitude (AB)'   / Description for field 18                       \n",
       "TUCD18  = 'phot.mag;em.opt.R'  / Unified content descriptor of field 18         \n",
       "TINDX18 =                    0 / TRUE if database index exists for field 18     \n",
       "TPRIC18 =                    T / TRUE if field 18 represents principal parameter\n",
       "TTYPE19 = 'R_AB_MAGERR'        / Label for field 19                             \n",
       "TFORM19 = 'E       '           / Data format of field 19                        \n",
       "TUNIT19 = 'mag     '           / Physical unit of field 19                      \n",
       "TCOMM19 = 'Error of r AB magnitude' / Description for field 19                  \n",
       "TUCD19  = 'stat.error;phot.mag;em.opt.R' / Unified content descriptor of field 1\n",
       "TINDX19 =                    0 / TRUE if database index exists for field 19     \n",
       "TPRIC19 =                    0 / TRUE if field 19 represents principal parameter\n",
       "TTYPE20 = 'I_AB_MAG'           / Label for field 20                             \n",
       "TFORM20 = 'E       '           / Data format of field 20                        \n",
       "TUNIT20 = 'mag     '           / Physical unit of field 20                      \n",
       "TCOMM20 = 'i magnitude (AB)'   / Description for field 20                       \n",
       "TUCD20  = 'phot.mag;em.opt.I'  / Unified content descriptor of field 20         \n",
       "TINDX20 =                    0 / TRUE if database index exists for field 20     \n",
       "TPRIC20 =                    T / TRUE if field 20 represents principal parameter\n",
       "TTYPE21 = 'I_AB_MAGERR'        / Label for field 21                             \n",
       "TFORM21 = 'E       '           / Data format of field 21                        \n",
       "TUNIT21 = 'mag     '           / Physical unit of field 21                      \n",
       "TCOMM21 = 'Error of i AB magnitude' / Description for field 21                  \n",
       "TUCD21  = 'stat.error;phot.mag;em.opt.I' / Unified content descriptor of field 2\n",
       "TINDX21 =                    0 / TRUE if database index exists for field 21     \n",
       "TPRIC21 =                    0 / TRUE if field 21 represents principal parameter\n",
       "TTYPE22 = 'Z_AB_MAG'           / Label for field 22                             \n",
       "TFORM22 = 'E       '           / Data format of field 22                        \n",
       "TUNIT22 = 'mag     '           / Physical unit of field 22                      \n",
       "TCOMM22 = 'z magnitude (AB)'   / Description for field 22                       \n",
       "TUCD22  = 'phot.mag;em.opt.I'  / Unified content descriptor of field 22         \n",
       "TINDX22 =                    0 / TRUE if database index exists for field 22     \n",
       "TPRIC22 =                    T / TRUE if field 22 represents principal parameter\n",
       "TTYPE23 = 'Z_AB_MAGERR'        / Label for field 23                             \n",
       "TFORM23 = 'E       '           / Data format of field 23                        \n",
       "TUNIT23 = 'mag     '           / Physical unit of field 23                      \n",
       "TCOMM23 = 'Error of z AB magnitude' / Description for field 23                  \n",
       "TUCD23  = 'stat.error;phot.mag;em.opt.I' / Unified content descriptor of field 2\n",
       "TINDX23 =                    0 / TRUE if database index exists for field 23     \n",
       "TPRIC23 =                    0 / TRUE if field 23 represents principal parameter\n",
       "TTYPE24 = 'J_VEGA_MAG'         / Label for field 24                             \n",
       "TFORM24 = 'E       '           / Data format of field 24                        \n",
       "TUNIT24 = 'mag     '           / Physical unit of field 24                      \n",
       "TCOMM24 = 'J magnitude (VEGA)' / Description for field 24                       \n",
       "TUCD24  = 'phot.mag;em.IR.J'   / Unified content descriptor of field 24         \n",
       "TINDX24 =                    0 / TRUE if database index exists for field 24     \n",
       "TPRIC24 =                    T / TRUE if field 24 represents principal parameter\n",
       "TTYPE25 = 'J_VEGA_MAGERR'      / Label for field 25                             \n",
       "TFORM25 = 'E       '           / Data format of field 25                        \n",
       "TUNIT25 = 'mag     '           / Physical unit of field 25                      \n",
       "TCOMM25 = 'Error of J VEGA magnitude' / Description for field 25                \n",
       "TUCD25  = 'stat.error;phot.mag;em.IR.J' / Unified content descriptor of field 25\n",
       "TINDX25 =                    0 / TRUE if database index exists for field 25     \n",
       "TPRIC25 =                    0 / TRUE if field 25 represents principal parameter\n",
       "TTYPE26 = 'H_VEGA_MAG'         / Label for field 26                             \n",
       "TFORM26 = 'E       '           / Data format of field 26                        \n",
       "TUNIT26 = 'mag     '           / Physical unit of field 26                      \n",
       "TCOMM26 = 'H magnitude (VEGA)' / Description for field 26                       \n",
       "TUCD26  = 'phot.mag;em.IR.H'   / Unified content descriptor of field 26         \n",
       "TINDX26 =                    0 / TRUE if database index exists for field 26     \n",
       "TPRIC26 =                    T / TRUE if field 26 represents principal parameter\n",
       "TTYPE27 = 'H_VEGA_MAGERR'      / Label for field 27                             \n",
       "TFORM27 = 'E       '           / Data format of field 27                        \n",
       "TUNIT27 = 'mag     '           / Physical unit of field 27                      \n",
       "TCOMM27 = 'Error of H VEGA magnitude' / Description for field 27                \n",
       "TUCD27  = 'stat.error;phot.mag;em.IR.H' / Unified content descriptor of field 27\n",
       "TINDX27 =                    0 / TRUE if database index exists for field 27     \n",
       "TPRIC27 =                    0 / TRUE if field 27 represents principal parameter\n",
       "TTYPE28 = 'KS_VEGA_MAG'        / Label for field 28                             \n",
       "TFORM28 = 'E       '           / Data format of field 28                        \n",
       "TUNIT28 = 'mag     '           / Physical unit of field 28                      \n",
       "TCOMM28 = 'KS magnitude (VEGA)' / Description for field 28                      \n",
       "TUCD28  = 'phot.mag;em.IR.K'   / Unified content descriptor of field 28         \n",
       "TINDX28 =                    0 / TRUE if database index exists for field 28     \n",
       "TPRIC28 =                    T / TRUE if field 28 represents principal parameter\n",
       "TTYPE29 = 'KS_VEGA_MAGERR'     / Label for field 29                             \n",
       "TFORM29 = 'E       '           / Data format of field 29                        \n",
       "TUNIT29 = 'mag     '           / Physical unit of field 29                      \n",
       "TCOMM29 = 'Error of KS VEGA magnitude' / Description for field 29               \n",
       "TUCD29  = 'stat.error;phot.mag;em.IR.K' / Unified content descriptor of field 29\n",
       "TINDX29 =                    0 / TRUE if database index exists for field 29     \n",
       "TPRIC29 =                    0 / TRUE if field 29 represents principal parameter\n",
       "TTYPE30 = 'LSQGR_AB_MAG'       / Label for field 30                             \n",
       "TFORM30 = 'E       '           / Data format of field 30                        \n",
       "TUNIT30 = 'mag     '           / Physical unit of field 30                      \n",
       "TCOMM30 = 'LSQgr magnitude (AB)' / Description for field 30                     \n",
       "TUCD30  = 'phot.mag;em.opt.V'  / Unified content descriptor of field 30         \n",
       "TINDX30 =                    0 / TRUE if database index exists for field 30     \n",
       "TPRIC30 =                    T / TRUE if field 30 represents principal parameter\n",
       "TTYPE31 = 'LSQGR_AB_MAGERR'    / Label for field 31                             \n",
       "TFORM31 = 'E       '           / Data format of field 31                        \n",
       "TUNIT31 = 'mag     '           / Physical unit of field 31                      \n",
       "TCOMM31 = 'Error of LSQgr AB magnitude' / Description for field 31              \n",
       "TUCD31  = 'stat.error;phot.mag;em.opt.V' / Unified content descriptor of field 3\n",
       "TINDX31 =                    0 / TRUE if database index exists for field 31     \n",
       "TPRIC31 =                    0 / TRUE if field 31 represents principal parameter\n",
       "TTYPE32 = 'UVW2_SWIFT_MAG'     / Label for field 32                             \n",
       "TFORM32 = 'E       '           / Data format of field 32                        \n",
       "TUNIT32 = 'mag     '           / Physical unit of field 32                      \n",
       "TCOMM32 = 'uvw2 magnitude (SWIFT)' / Description for field 32                   \n",
       "TUCD32  = 'phot.mag;em.UV'     / Unified content descriptor of field 32         \n",
       "TINDX32 =                    0 / TRUE if database index exists for field 32     \n",
       "TPRIC32 =                    T / TRUE if field 32 represents principal parameter\n",
       "TTYPE33 = 'UVW2_SWIFT_MAGERR'  / Label for field 33                             \n",
       "TFORM33 = 'E       '           / Data format of field 33                        \n",
       "TUNIT33 = 'mag     '           / Physical unit of field 33                      \n",
       "TCOMM33 = 'Error of uvw2 SWIFT magnitude' / Description for field 33            \n",
       "TUCD33  = 'stat.error;phot.mag;em.UV' / Unified content descriptor of field 33  \n",
       "TINDX33 =                    0 / TRUE if database index exists for field 33     \n",
       "TPRIC33 =                    0 / TRUE if field 33 represents principal parameter\n",
       "TTYPE34 = 'UVM2_SWIFT_MAG'     / Label for field 34                             \n",
       "TFORM34 = 'E       '           / Data format of field 34                        \n",
       "TUNIT34 = 'mag     '           / Physical unit of field 34                      \n",
       "TCOMM34 = 'uvm2 magnitude (SWIFT)' / Description for field 34                   \n",
       "TUCD34  = 'phot.mag;em.UV'     / Unified content descriptor of field 34         \n",
       "TINDX34 =                    0 / TRUE if database index exists for field 34     \n",
       "TPRIC34 =                    T / TRUE if field 34 represents principal parameter\n",
       "TTYPE35 = 'UVM2_SWIFT_MAGERR'  / Label for field 35                             \n",
       "TFORM35 = 'E       '           / Data format of field 35                        \n",
       "TUNIT35 = 'mag     '           / Physical unit of field 35                      \n",
       "TCOMM35 = 'Error of uvm2 SWIFT magnitude' / Description for field 35            \n",
       "TUCD35  = 'stat.error;phot.mag;em.UV' / Unified content descriptor of field 35  \n",
       "TINDX35 =                    0 / TRUE if database index exists for field 35     \n",
       "TPRIC35 =                    0 / TRUE if field 35 represents principal parameter\n",
       "TTYPE36 = 'UVW1_SWIFT_MAG'     / Label for field 36                             \n",
       "TFORM36 = 'E       '           / Data format of field 36                        \n",
       "TUNIT36 = 'mag     '           / Physical unit of field 36                      \n",
       "TCOMM36 = 'uvw1 magnitude (SWIFT)' / Description for field 36                   \n",
       "TUCD36  = 'phot.mag;em.UV'     / Unified content descriptor of field 36         \n",
       "TINDX36 =                    0 / TRUE if database index exists for field 36     \n",
       "TPRIC36 =                    T / TRUE if field 36 represents principal parameter\n",
       "TTYPE37 = 'UVW1_SWIFT_MAGERR'  / Label for field 37                             \n",
       "TFORM37 = 'E       '           / Data format of field 37                        \n",
       "TUNIT37 = 'mag     '           / Physical unit of field 37                      \n",
       "TCOMM37 = 'Error of uvw1 SWIFT magnitude' / Description for field 37            \n",
       "TUCD37  = 'stat.error;phot.mag;em.UV' / Unified content descriptor of field 37  \n",
       "TINDX37 =                    0 / TRUE if database index exists for field 37     \n",
       "TPRIC37 =                    0 / TRUE if field 37 represents principal parameter\n",
       "TTYPE38 = 'U_SWIFT_MAG'        / Label for field 38                             \n",
       "TFORM38 = 'E       '           / Data format of field 38                        \n",
       "TUNIT38 = 'mag     '           / Physical unit of field 38                      \n",
       "TCOMM38 = 'u magnitude (SWIFT)' / Description for field 38                      \n",
       "TUCD38  = 'phot.mag;em.opt.U'  / Unified content descriptor of field 38         \n",
       "TINDX38 =                    0 / TRUE if database index exists for field 38     \n",
       "TPRIC38 =                    T / TRUE if field 38 represents principal parameter\n",
       "TTYPE39 = 'U_SWIFT_MAGERR'     / Label for field 39                             \n",
       "TFORM39 = 'E       '           / Data format of field 39                        \n",
       "TUNIT39 = 'mag     '           / Physical unit of field 39                      \n",
       "TCOMM39 = 'Error of u SWIFT magnitude' / Description for field 39               \n",
       "TUCD39  = 'stat.error;phot.mag;em.opt.U' / Unified content descriptor of field 3\n",
       "TINDX39 =                    0 / TRUE if database index exists for field 39     \n",
       "TPRIC39 =                    0 / TRUE if field 39 represents principal parameter\n",
       "TTYPE40 = 'B_SWIFT_MAG'        / Label for field 40                             \n",
       "TFORM40 = 'E       '           / Data format of field 40                        \n",
       "TUNIT40 = 'mag     '           / Physical unit of field 40                      \n",
       "TCOMM40 = 'b magnitude (SWIFT)' / Description for field 40                      \n",
       "TUCD40  = 'phot.mag;em.opt.B'  / Unified content descriptor of field 40         \n",
       "TINDX40 =                    0 / TRUE if database index exists for field 40     \n",
       "TPRIC40 =                    T / TRUE if field 40 represents principal parameter\n",
       "TTYPE41 = 'B_SWIFT_MAGERR'     / Label for field 41                             \n",
       "TFORM41 = 'E       '           / Data format of field 41                        \n",
       "TUNIT41 = 'mag     '           / Physical unit of field 41                      \n",
       "TCOMM41 = 'Error of b SWIFT magnitude' / Description for field 41               \n",
       "TUCD41  = 'stat.error;phot.mag;em.opt.B' / Unified content descriptor of field 4\n",
       "TINDX41 =                    0 / TRUE if database index exists for field 41     \n",
       "TPRIC41 =                    0 / TRUE if field 41 represents principal parameter\n",
       "TTYPE42 = 'V_SWIFT_MAG'        / Label for field 42                             \n",
       "TFORM42 = 'E       '           / Data format of field 42                        \n",
       "TUNIT42 = 'mag     '           / Physical unit of field 42                      \n",
       "TCOMM42 = 'v magnitude (SWIFT)' / Description for field 42                      \n",
       "TUCD42  = 'phot.mag;em.opt.V'  / Unified content descriptor of field 42         \n",
       "TINDX42 =                    0 / TRUE if database index exists for field 42     \n",
       "TPRIC42 =                    T / TRUE if field 42 represents principal parameter\n",
       "TTYPE43 = 'V_SWIFT_MAGERR'     / Label for field 43                             \n",
       "TFORM43 = 'E       '           / Data format of field 43                        \n",
       "TUNIT43 = 'mag     '           / Physical unit of field 43                      \n",
       "TCOMM43 = 'Error of v SWIFT magnitude' / Description for field 43               \n",
       "TUCD43  = 'stat.error;phot.mag;em.opt.V' / Unified content descriptor of field 4\n",
       "TINDX43 =                    0 / TRUE if database index exists for field 43     \n",
       "TPRIC43 =                    0 / TRUE if field 43 represents principal parameter\n",
       "CHECKSUM= 'Mb3FNZ1FMa1FMY1F'   / HDU checksum updated 2017-08-21T15:21:06       \n",
       "DATASUM = '672369605'          / data unit checksum updated 2017-08-21T15:21:06 "
      ]
     },
     "execution_count": 206,
     "metadata": {},
     "output_type": "execute_result"
    }
   ],
   "source": [
    "# Display BINTABLE HDU Info\n",
    "hdu_list[1].header"
   ]
  },
  {
   "cell_type": "markdown",
   "metadata": {},
   "source": [
    "Likewise, this catalog contains two headers where the first is the file metadata, and the second is a binary table with the contents of the catalogue."
   ]
  },
  {
   "cell_type": "code",
   "execution_count": 194,
   "metadata": {
    "collapsed": true
   },
   "outputs": [],
   "source": [
    "# Transform Catalogue to Pandas\n",
    "spectral_df = Table(hdu_list[1].data).to_pandas()\n",
    "# Close HDU file\n",
    "hdu_list.close()"
   ]
  },
  {
   "cell_type": "markdown",
   "metadata": {},
   "source": [
    "#### Sample Catalogue row"
   ]
  },
  {
   "cell_type": "code",
   "execution_count": 217,
   "metadata": {
    "scrolled": true
   },
   "outputs": [
    {
     "data": {
      "text/plain": [
       "PHOT_ID                              1000001\n",
       "SOURCE_ID            CSS121015-004244+132827\n",
       "MJD                                  56186.2\n",
       "U_VEGA_MAG                               nan\n",
       "U_VEGA_MAGERR                            nan\n",
       "B_VEGA_MAG                               nan\n",
       "B_VEGA_MAGERR                            nan\n",
       "V_VEGA_MAG                             20.95\n",
       "V_VEGA_MAGERR                           0.56\n",
       "R_VEGA_MAG                               nan\n",
       "R_VEGA_MAGERR                            nan\n",
       "I_VEGA_MAG                               nan\n",
       "I_VEGA_MAGERR                            nan\n",
       "U_AB_MAG                                 nan\n",
       "U_AB_MAGERR                              nan\n",
       "G_AB_MAG                                 nan\n",
       "G_AB_MAGERR                              nan\n",
       "R_AB_MAG                                 nan\n",
       "R_AB_MAGERR                              nan\n",
       "I_AB_MAG                                 nan\n",
       "I_AB_MAGERR                              nan\n",
       "Z_AB_MAG                                 nan\n",
       "Z_AB_MAGERR                              nan\n",
       "J_VEGA_MAG                               nan\n",
       "J_VEGA_MAGERR                            nan\n",
       "H_VEGA_MAG                               nan\n",
       "H_VEGA_MAGERR                            nan\n",
       "KS_VEGA_MAG                              nan\n",
       "KS_VEGA_MAGERR                           nan\n",
       "LSQGR_AB_MAG                             nan\n",
       "LSQGR_AB_MAGERR                          nan\n",
       "UVW2_SWIFT_MAG                           nan\n",
       "UVW2_SWIFT_MAGERR                        nan\n",
       "UVM2_SWIFT_MAG                           nan\n",
       "UVM2_SWIFT_MAGERR                        nan\n",
       "UVW1_SWIFT_MAG                           nan\n",
       "UVW1_SWIFT_MAGERR                        nan\n",
       "U_SWIFT_MAG                              nan\n",
       "U_SWIFT_MAGERR                           nan\n",
       "B_SWIFT_MAG                              nan\n",
       "B_SWIFT_MAGERR                           nan\n",
       "V_SWIFT_MAG                              nan\n",
       "V_SWIFT_MAGERR                           nan\n",
       "Name: 0, dtype: object"
      ]
     },
     "execution_count": 217,
     "metadata": {},
     "output_type": "execute_result"
    }
   ],
   "source": [
    "transient_df.iloc[0]"
   ]
  },
  {
   "cell_type": "markdown",
   "metadata": {
    "collapsed": true
   },
   "source": [
    "#### Count number of NaNs per column"
   ]
  },
  {
   "cell_type": "code",
   "execution_count": 312,
   "metadata": {},
   "outputs": [
    {
     "data": {
      "text/plain": [
       "pandas.core.frame.DataFrame"
      ]
     },
     "execution_count": 312,
     "metadata": {},
     "output_type": "execute_result"
    }
   ],
   "source": [
    "# Proportion of null values per column\n",
    "total = transient_df.isnull().sum()\n",
    "proportion = transient_df.isnull().sum() / len(transient_df)*100\n",
    "pd.concat([total, proportion], axis=1, keys= ['Total', 'Percentage'])"
   ]
  },
  {
   "cell_type": "code",
   "execution_count": null,
   "metadata": {
    "collapsed": true
   },
   "outputs": [],
   "source": []
  }
 ],
 "metadata": {
  "kernelspec": {
   "display_name": "Python 3",
   "language": "python",
   "name": "python3"
  },
  "language_info": {
   "codemirror_mode": {
    "name": "ipython",
    "version": 3
   },
   "file_extension": ".py",
   "mimetype": "text/x-python",
   "name": "python",
   "nbconvert_exporter": "python",
   "pygments_lexer": "ipython3",
   "version": "3.4.0"
  }
 },
 "nbformat": 4,
 "nbformat_minor": 2
}
