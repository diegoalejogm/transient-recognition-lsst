{
 "cells": [
  {
   "cell_type": "code",
   "execution_count": 112,
   "metadata": {
    "collapsed": true
   },
   "outputs": [],
   "source": [
    "import tools, timeit, os\n",
    "import pandas as pd\n",
    "from astropy.io import fits\n",
    "from astropy.utils.data import download_file\n",
    "import matplotlib.pyplot as plt\n",
    "import numpy as np\n",
    "%config InlineBackend.rc = {}\n",
    "%matplotlib inline"
   ]
  },
  {
   "cell_type": "code",
   "execution_count": 99,
   "metadata": {
    "collapsed": true
   },
   "outputs": [],
   "source": [
    "data_path = './data/PTF'\n",
    "metadata_path = data_path + '/metadata'\n",
    "tbl_filename = 'ptf_photcalcat_v1.tbl'\n",
    "metadata_page = 'http://irsa.ipac.caltech.edu/ibe/search/ptf/images/level1?POS={},{}'\n",
    "images_page = 'http://irsa.ipac.caltech.edu/ibe/data/ptf/images/level1'"
   ]
  },
  {
   "cell_type": "markdown",
   "metadata": {},
   "source": [
    "## Data information"
   ]
  },
  {
   "cell_type": "markdown",
   "metadata": {},
   "source": [
    "The PTF's .tbl (IPAC) file size is too big to be opened with other libraries. So first it will be converted to a dataframe, and then stored as a CSV. Storing it as a .pickle file would crash the Python process after a while."
   ]
  },
  {
   "cell_type": "code",
   "execution_count": null,
   "metadata": {},
   "outputs": [],
   "source": [
    "tbl_path = data_path + '/' + tbl_filename\n",
    "df = tools.table_to_dataframe(tbl_path)"
   ]
  },
  {
   "cell_type": "markdown",
   "metadata": {},
   "source": [
    "#### Persist as .csv"
   ]
  },
  {
   "cell_type": "code",
   "execution_count": null,
   "metadata": {
    "collapsed": true
   },
   "outputs": [],
   "source": [
    "# We'll count how long this takes\n",
    "start_time = timeit.default_timer()\n",
    "df.to_csv(data_path + '/ptf.csv')\n",
    "end_time = timeit.default_timer()\n",
    "print('TIME ELAPSED', end_time-start_time)"
   ]
  },
  {
   "cell_type": "markdown",
   "metadata": {},
   "source": [
    "### Load from file"
   ]
  },
  {
   "cell_type": "markdown",
   "metadata": {},
   "source": [
    "Next time, the dataframe may be loaded into memory by running:"
   ]
  },
  {
   "cell_type": "code",
   "execution_count": 16,
   "metadata": {},
   "outputs": [
    {
     "name": "stdout",
     "output_type": "stream",
     "text": [
      "75.50547281099716\n"
     ]
    }
   ],
   "source": [
    "# We'll count too how long this takes\n",
    "start = timeit.default_timer();\n",
    "df = pd.DataFrame.from_csv(data_path + '/ptf.csv');\n",
    "end = timeit.default_timer();\n",
    "print(end-start)"
   ]
  },
  {
   "cell_type": "markdown",
   "metadata": {},
   "source": [
    "#### Table Description"
   ]
  },
  {
   "cell_type": "code",
   "execution_count": 79,
   "metadata": {},
   "outputs": [
    {
     "data": {
      "text/html": [
       "<div>\n",
       "<style>\n",
       "    .dataframe thead tr:only-child th {\n",
       "        text-align: right;\n",
       "    }\n",
       "\n",
       "    .dataframe thead th {\n",
       "        text-align: left;\n",
       "    }\n",
       "\n",
       "    .dataframe tbody tr th {\n",
       "        vertical-align: top;\n",
       "    }\n",
       "</style>\n",
       "<table border=\"1\" class=\"dataframe\">\n",
       "  <thead>\n",
       "    <tr style=\"text-align: right;\">\n",
       "      <th></th>\n",
       "      <th>ErrMu</th>\n",
       "      <th>MuType</th>\n",
       "      <th>PTFFIELD</th>\n",
       "      <th>Rerr</th>\n",
       "      <th>Rmerr</th>\n",
       "      <th>Rperr</th>\n",
       "      <th>Rptf</th>\n",
       "      <th>bstRMS</th>\n",
       "      <th>cI</th>\n",
       "      <th>dec</th>\n",
       "      <th>flag</th>\n",
       "      <th>nP</th>\n",
       "      <th>nT</th>\n",
       "      <th>ra</th>\n",
       "    </tr>\n",
       "  </thead>\n",
       "  <tbody>\n",
       "    <tr>\n",
       "      <th>0</th>\n",
       "      <td>0.095</td>\n",
       "      <td>0.058</td>\n",
       "      <td>100111</td>\n",
       "      <td>0.021</td>\n",
       "      <td>0.017</td>\n",
       "      <td>0.026</td>\n",
       "      <td>16.152</td>\n",
       "      <td>0.022</td>\n",
       "      <td>9</td>\n",
       "      <td>-31.087161</td>\n",
       "      <td>1</td>\n",
       "      <td>23</td>\n",
       "      <td>12</td>\n",
       "      <td>42.532500</td>\n",
       "    </tr>\n",
       "    <tr>\n",
       "      <th>1</th>\n",
       "      <td>0.060</td>\n",
       "      <td>0.058</td>\n",
       "      <td>100111</td>\n",
       "      <td>0.030</td>\n",
       "      <td>0.022</td>\n",
       "      <td>0.037</td>\n",
       "      <td>17.172</td>\n",
       "      <td>0.022</td>\n",
       "      <td>9</td>\n",
       "      <td>-31.086008</td>\n",
       "      <td>1</td>\n",
       "      <td>21</td>\n",
       "      <td>12</td>\n",
       "      <td>42.786188</td>\n",
       "    </tr>\n",
       "    <tr>\n",
       "      <th>2</th>\n",
       "      <td>0.106</td>\n",
       "      <td>0.106</td>\n",
       "      <td>100111</td>\n",
       "      <td>0.063</td>\n",
       "      <td>0.055</td>\n",
       "      <td>0.071</td>\n",
       "      <td>18.507</td>\n",
       "      <td>0.022</td>\n",
       "      <td>9</td>\n",
       "      <td>-31.085419</td>\n",
       "      <td>1</td>\n",
       "      <td>22</td>\n",
       "      <td>12</td>\n",
       "      <td>42.593730</td>\n",
       "    </tr>\n",
       "    <tr>\n",
       "      <th>3</th>\n",
       "      <td>0.072</td>\n",
       "      <td>0.046</td>\n",
       "      <td>100111</td>\n",
       "      <td>0.015</td>\n",
       "      <td>0.017</td>\n",
       "      <td>0.014</td>\n",
       "      <td>14.225</td>\n",
       "      <td>0.022</td>\n",
       "      <td>9</td>\n",
       "      <td>-31.081556</td>\n",
       "      <td>1</td>\n",
       "      <td>23</td>\n",
       "      <td>12</td>\n",
       "      <td>42.525416</td>\n",
       "    </tr>\n",
       "    <tr>\n",
       "      <th>4</th>\n",
       "      <td>0.063</td>\n",
       "      <td>0.003</td>\n",
       "      <td>100111</td>\n",
       "      <td>0.025</td>\n",
       "      <td>0.029</td>\n",
       "      <td>0.022</td>\n",
       "      <td>15.286</td>\n",
       "      <td>0.022</td>\n",
       "      <td>9</td>\n",
       "      <td>-31.080395</td>\n",
       "      <td>1</td>\n",
       "      <td>23</td>\n",
       "      <td>12</td>\n",
       "      <td>42.953363</td>\n",
       "    </tr>\n",
       "  </tbody>\n",
       "</table>\n",
       "</div>"
      ],
      "text/plain": [
       "   ErrMu  MuType  PTFFIELD   Rerr  Rmerr  Rperr    Rptf  bstRMS  cI  \\\n",
       "0  0.095   0.058    100111  0.021  0.017  0.026  16.152   0.022   9   \n",
       "1  0.060   0.058    100111  0.030  0.022  0.037  17.172   0.022   9   \n",
       "2  0.106   0.106    100111  0.063  0.055  0.071  18.507   0.022   9   \n",
       "3  0.072   0.046    100111  0.015  0.017  0.014  14.225   0.022   9   \n",
       "4  0.063   0.003    100111  0.025  0.029  0.022  15.286   0.022   9   \n",
       "\n",
       "         dec  flag  nP  nT         ra  \n",
       "0 -31.087161     1  23  12  42.532500  \n",
       "1 -31.086008     1  21  12  42.786188  \n",
       "2 -31.085419     1  22  12  42.593730  \n",
       "3 -31.081556     1  23  12  42.525416  \n",
       "4 -31.080395     1  23  12  42.953363  "
      ]
     },
     "execution_count": 79,
     "metadata": {},
     "output_type": "execute_result"
    }
   ],
   "source": [
    "df.head()"
   ]
  },
  {
   "cell_type": "code",
   "execution_count": 9,
   "metadata": {
    "scrolled": true
   },
   "outputs": [
    {
     "data": {
      "text/html": [
       "<div>\n",
       "<style>\n",
       "    .dataframe thead tr:only-child th {\n",
       "        text-align: right;\n",
       "    }\n",
       "\n",
       "    .dataframe thead th {\n",
       "        text-align: left;\n",
       "    }\n",
       "\n",
       "    .dataframe tbody tr th {\n",
       "        vertical-align: top;\n",
       "    }\n",
       "</style>\n",
       "<table border=\"1\" class=\"dataframe\">\n",
       "  <thead>\n",
       "    <tr style=\"text-align: right;\">\n",
       "      <th></th>\n",
       "      <th>ErrMu</th>\n",
       "      <th>MuType</th>\n",
       "      <th>PTFFIELD</th>\n",
       "      <th>Rerr</th>\n",
       "      <th>Rmerr</th>\n",
       "      <th>Rperr</th>\n",
       "      <th>Rptf</th>\n",
       "      <th>bstRMS</th>\n",
       "      <th>cI</th>\n",
       "      <th>dec</th>\n",
       "      <th>flag</th>\n",
       "      <th>nP</th>\n",
       "      <th>nT</th>\n",
       "      <th>ra</th>\n",
       "    </tr>\n",
       "  </thead>\n",
       "  <tbody>\n",
       "    <tr>\n",
       "      <th>count</th>\n",
       "      <td>2.116768e+07</td>\n",
       "      <td>2.116768e+07</td>\n",
       "      <td>2.116768e+07</td>\n",
       "      <td>2.116768e+07</td>\n",
       "      <td>2.116768e+07</td>\n",
       "      <td>2.116768e+07</td>\n",
       "      <td>2.116768e+07</td>\n",
       "      <td>2.116768e+07</td>\n",
       "      <td>2.116768e+07</td>\n",
       "      <td>2.116768e+07</td>\n",
       "      <td>21167679.0</td>\n",
       "      <td>2.116768e+07</td>\n",
       "      <td>2.116768e+07</td>\n",
       "      <td>2.116768e+07</td>\n",
       "    </tr>\n",
       "    <tr>\n",
       "      <th>mean</th>\n",
       "      <td>1.017189e-01</td>\n",
       "      <td>-1.148008e-01</td>\n",
       "      <td>1.855603e+04</td>\n",
       "      <td>3.708640e-02</td>\n",
       "      <td>3.349819e-02</td>\n",
       "      <td>4.067430e-02</td>\n",
       "      <td>1.733498e+01</td>\n",
       "      <td>2.303162e-02</td>\n",
       "      <td>5.902169e+00</td>\n",
       "      <td>1.975038e+01</td>\n",
       "      <td>1.0</td>\n",
       "      <td>1.410948e+01</td>\n",
       "      <td>1.005478e+01</td>\n",
       "      <td>1.785919e+02</td>\n",
       "    </tr>\n",
       "    <tr>\n",
       "      <th>std</th>\n",
       "      <td>1.190338e-01</td>\n",
       "      <td>3.089538e-01</td>\n",
       "      <td>3.495852e+04</td>\n",
       "      <td>3.032820e-02</td>\n",
       "      <td>3.350700e-02</td>\n",
       "      <td>3.687060e-02</td>\n",
       "      <td>1.313250e+00</td>\n",
       "      <td>2.124829e-03</td>\n",
       "      <td>3.508638e+00</td>\n",
       "      <td>2.691865e+01</td>\n",
       "      <td>0.0</td>\n",
       "      <td>8.044761e+00</td>\n",
       "      <td>7.956812e+00</td>\n",
       "      <td>1.065759e+02</td>\n",
       "    </tr>\n",
       "    <tr>\n",
       "      <th>min</th>\n",
       "      <td>0.000000e+00</td>\n",
       "      <td>-5.455000e+00</td>\n",
       "      <td>1.392000e+03</td>\n",
       "      <td>0.000000e+00</td>\n",
       "      <td>0.000000e+00</td>\n",
       "      <td>0.000000e+00</td>\n",
       "      <td>1.075700e+01</td>\n",
       "      <td>1.800000e-02</td>\n",
       "      <td>0.000000e+00</td>\n",
       "      <td>-3.108716e+01</td>\n",
       "      <td>1.0</td>\n",
       "      <td>3.000000e+00</td>\n",
       "      <td>3.000000e+00</td>\n",
       "      <td>2.200000e-05</td>\n",
       "    </tr>\n",
       "    <tr>\n",
       "      <th>25%</th>\n",
       "      <td>7.200000e-02</td>\n",
       "      <td>-8.500000e-02</td>\n",
       "      <td>3.007000e+03</td>\n",
       "      <td>1.600000e-02</td>\n",
       "      <td>1.200000e-02</td>\n",
       "      <td>1.700000e-02</td>\n",
       "      <td>1.650000e+01</td>\n",
       "      <td>2.100000e-02</td>\n",
       "      <td>2.000000e+00</td>\n",
       "      <td>-8.191340e-01</td>\n",
       "      <td>1.0</td>\n",
       "      <td>7.000000e+00</td>\n",
       "      <td>4.000000e+00</td>\n",
       "      <td>8.413852e+01</td>\n",
       "    </tr>\n",
       "    <tr>\n",
       "      <th>50%</th>\n",
       "      <td>9.200000e-02</td>\n",
       "      <td>-1.700000e-02</td>\n",
       "      <td>3.831000e+03</td>\n",
       "      <td>2.800000e-02</td>\n",
       "      <td>2.300000e-02</td>\n",
       "      <td>3.000000e-02</td>\n",
       "      <td>1.765100e+01</td>\n",
       "      <td>2.300000e-02</td>\n",
       "      <td>6.000000e+00</td>\n",
       "      <td>1.823110e+01</td>\n",
       "      <td>1.0</td>\n",
       "      <td>1.200000e+01</td>\n",
       "      <td>7.000000e+00</td>\n",
       "      <td>1.962197e+02</td>\n",
       "    </tr>\n",
       "    <tr>\n",
       "      <th>75%</th>\n",
       "      <td>1.190000e-01</td>\n",
       "      <td>2.700000e-02</td>\n",
       "      <td>5.044000e+03</td>\n",
       "      <td>4.900000e-02</td>\n",
       "      <td>4.300000e-02</td>\n",
       "      <td>5.200000e-02</td>\n",
       "      <td>1.842300e+01</td>\n",
       "      <td>2.400000e-02</td>\n",
       "      <td>9.000000e+00</td>\n",
       "      <td>3.812538e+01</td>\n",
       "      <td>1.0</td>\n",
       "      <td>2.100000e+01</td>\n",
       "      <td>1.400000e+01</td>\n",
       "      <td>2.578966e+02</td>\n",
       "    </tr>\n",
       "    <tr>\n",
       "      <th>max</th>\n",
       "      <td>4.272500e+01</td>\n",
       "      <td>6.570000e-01</td>\n",
       "      <td>1.200010e+05</td>\n",
       "      <td>3.000000e-01</td>\n",
       "      <td>5.690000e-01</td>\n",
       "      <td>5.650000e-01</td>\n",
       "      <td>1.900000e+01</td>\n",
       "      <td>3.700000e-02</td>\n",
       "      <td>1.100000e+01</td>\n",
       "      <td>8.546039e+01</td>\n",
       "      <td>1.0</td>\n",
       "      <td>3.000000e+01</td>\n",
       "      <td>3.000000e+01</td>\n",
       "      <td>3.600000e+02</td>\n",
       "    </tr>\n",
       "  </tbody>\n",
       "</table>\n",
       "</div>"
      ],
      "text/plain": [
       "              ErrMu        MuType      PTFFIELD          Rerr         Rmerr  \\\n",
       "count  2.116768e+07  2.116768e+07  2.116768e+07  2.116768e+07  2.116768e+07   \n",
       "mean   1.017189e-01 -1.148008e-01  1.855603e+04  3.708640e-02  3.349819e-02   \n",
       "std    1.190338e-01  3.089538e-01  3.495852e+04  3.032820e-02  3.350700e-02   \n",
       "min    0.000000e+00 -5.455000e+00  1.392000e+03  0.000000e+00  0.000000e+00   \n",
       "25%    7.200000e-02 -8.500000e-02  3.007000e+03  1.600000e-02  1.200000e-02   \n",
       "50%    9.200000e-02 -1.700000e-02  3.831000e+03  2.800000e-02  2.300000e-02   \n",
       "75%    1.190000e-01  2.700000e-02  5.044000e+03  4.900000e-02  4.300000e-02   \n",
       "max    4.272500e+01  6.570000e-01  1.200010e+05  3.000000e-01  5.690000e-01   \n",
       "\n",
       "              Rperr          Rptf        bstRMS            cI           dec  \\\n",
       "count  2.116768e+07  2.116768e+07  2.116768e+07  2.116768e+07  2.116768e+07   \n",
       "mean   4.067430e-02  1.733498e+01  2.303162e-02  5.902169e+00  1.975038e+01   \n",
       "std    3.687060e-02  1.313250e+00  2.124829e-03  3.508638e+00  2.691865e+01   \n",
       "min    0.000000e+00  1.075700e+01  1.800000e-02  0.000000e+00 -3.108716e+01   \n",
       "25%    1.700000e-02  1.650000e+01  2.100000e-02  2.000000e+00 -8.191340e-01   \n",
       "50%    3.000000e-02  1.765100e+01  2.300000e-02  6.000000e+00  1.823110e+01   \n",
       "75%    5.200000e-02  1.842300e+01  2.400000e-02  9.000000e+00  3.812538e+01   \n",
       "max    5.650000e-01  1.900000e+01  3.700000e-02  1.100000e+01  8.546039e+01   \n",
       "\n",
       "             flag            nP            nT            ra  \n",
       "count  21167679.0  2.116768e+07  2.116768e+07  2.116768e+07  \n",
       "mean          1.0  1.410948e+01  1.005478e+01  1.785919e+02  \n",
       "std           0.0  8.044761e+00  7.956812e+00  1.065759e+02  \n",
       "min           1.0  3.000000e+00  3.000000e+00  2.200000e-05  \n",
       "25%           1.0  7.000000e+00  4.000000e+00  8.413852e+01  \n",
       "50%           1.0  1.200000e+01  7.000000e+00  1.962197e+02  \n",
       "75%           1.0  2.100000e+01  1.400000e+01  2.578966e+02  \n",
       "max           1.0  3.000000e+01  3.000000e+01  3.600000e+02  "
      ]
     },
     "execution_count": 9,
     "metadata": {},
     "output_type": "execute_result"
    }
   ],
   "source": [
    "df.describe()"
   ]
  },
  {
   "cell_type": "markdown",
   "metadata": {},
   "source": [
    "#### Sample"
   ]
  },
  {
   "cell_type": "code",
   "execution_count": 20,
   "metadata": {},
   "outputs": [
    {
     "data": {
      "text/plain": [
       "ErrMu            0.095000\n",
       "MuType           0.058000\n",
       "PTFFIELD    100111.000000\n",
       "Rerr             0.021000\n",
       "Rmerr            0.017000\n",
       "Rperr            0.026000\n",
       "Rptf            16.152000\n",
       "bstRMS           0.022000\n",
       "cI               9.000000\n",
       "dec            -31.087161\n",
       "flag             1.000000\n",
       "nP              23.000000\n",
       "nT              12.000000\n",
       "ra              42.532500\n",
       "Name: 0, dtype: float64"
      ]
     },
     "execution_count": 20,
     "metadata": {},
     "output_type": "execute_result"
    }
   ],
   "source": [
    "df.iloc[0]"
   ]
  },
  {
   "cell_type": "markdown",
   "metadata": {},
   "source": [
    "#### Get RaDec coordinates for a given row"
   ]
  },
  {
   "cell_type": "code",
   "execution_count": 27,
   "metadata": {},
   "outputs": [
    {
     "data": {
      "text/plain": [
       "42.532499999999999"
      ]
     },
     "execution_count": 27,
     "metadata": {},
     "output_type": "execute_result"
    }
   ],
   "source": [
    "row_number = 0\n",
    "row = df.iloc[row_number]\n",
    "row[['ra', 'dec']]"
   ]
  },
  {
   "cell_type": "markdown",
   "metadata": {},
   "source": [
    "#### And metadata url for given pos"
   ]
  },
  {
   "cell_type": "markdown",
   "metadata": {},
   "source": [
    "### Download metadata for given position"
   ]
  },
  {
   "cell_type": "markdown",
   "metadata": {},
   "source": [
    "#### Create URL"
   ]
  },
  {
   "cell_type": "code",
   "execution_count": 64,
   "metadata": {},
   "outputs": [
    {
     "name": "stdout",
     "output_type": "stream",
     "text": [
      "http://irsa.ipac.caltech.edu/ibe/search/ptf/images/level1?POS=42.5325,-31.087161\n"
     ]
    }
   ],
   "source": [
    "pos_metadata_url = metadata_page.format(row['ra'], row['dec'])\n",
    "print(pos_metadata_url)"
   ]
  },
  {
   "cell_type": "markdown",
   "metadata": {},
   "source": [
    "### Retrieve metadata"
   ]
  },
  {
   "cell_type": "markdown",
   "metadata": {},
   "source": [
    "#### Create metadata directory if not exists"
   ]
  },
  {
   "cell_type": "code",
   "execution_count": 65,
   "metadata": {},
   "outputs": [],
   "source": [
    "if not os.path.exists(metadata_path):\n",
    "    os.makedirs(metadata_path)"
   ]
  },
  {
   "cell_type": "markdown",
   "metadata": {},
   "source": [
    "#### Download"
   ]
  },
  {
   "cell_type": "code",
   "execution_count": 66,
   "metadata": {},
   "outputs": [
    {
     "data": {
      "text/plain": [
       "('./data/PTF/metadata/42.5325_-31.087161.tbl',\n",
       " <http.client.HTTPMessage at 0x1f095de80>)"
      ]
     },
     "execution_count": 66,
     "metadata": {},
     "output_type": "execute_result"
    }
   ],
   "source": [
    "from urllib.request import urlretrieve\n",
    "destination_path = metadata_path + '/{}_{}.tbl'.format(row['ra'], row['dec'])\n",
    "urlretrieve(pos_metadata_url, destination_path)"
   ]
  },
  {
   "cell_type": "markdown",
   "metadata": {},
   "source": [
    "#### Load metadata"
   ]
  },
  {
   "cell_type": "code",
   "execution_count": 67,
   "metadata": {},
   "outputs": [],
   "source": [
    "from astropy.table import Table\n",
    "t = Table.read(destination_path, format='ipac')"
   ]
  },
  {
   "cell_type": "code",
   "execution_count": 80,
   "metadata": {},
   "outputs": [
    {
     "data": {
      "text/html": [
       "<div>\n",
       "<style>\n",
       "    .dataframe thead tr:only-child th {\n",
       "        text-align: right;\n",
       "    }\n",
       "\n",
       "    .dataframe thead th {\n",
       "        text-align: left;\n",
       "    }\n",
       "\n",
       "    .dataframe tbody tr th {\n",
       "        vertical-align: top;\n",
       "    }\n",
       "</style>\n",
       "<table border=\"1\" class=\"dataframe\">\n",
       "  <thead>\n",
       "    <tr style=\"text-align: right;\">\n",
       "      <th></th>\n",
       "      <th>in_row_id</th>\n",
       "      <th>in_ra</th>\n",
       "      <th>in_dec</th>\n",
       "      <th>expid</th>\n",
       "      <th>obsdate</th>\n",
       "      <th>crval1</th>\n",
       "      <th>crval2</th>\n",
       "      <th>filter</th>\n",
       "      <th>ccdid</th>\n",
       "      <th>ptffield</th>\n",
       "      <th>...</th>\n",
       "      <th>dec2</th>\n",
       "      <th>ra3</th>\n",
       "      <th>dec3</th>\n",
       "      <th>ra4</th>\n",
       "      <th>dec4</th>\n",
       "      <th>gain</th>\n",
       "      <th>readnoi</th>\n",
       "      <th>darkcur</th>\n",
       "      <th>ipac_gid</th>\n",
       "      <th>ipac_pub_date</th>\n",
       "    </tr>\n",
       "  </thead>\n",
       "  <tbody>\n",
       "    <tr>\n",
       "      <th>0</th>\n",
       "      <td>1.0</td>\n",
       "      <td>42.5325</td>\n",
       "      <td>-31.087161</td>\n",
       "      <td>40952.0</td>\n",
       "      <td>2009-09-21 09:59:23.116000</td>\n",
       "      <td>42.916240</td>\n",
       "      <td>-31.067953</td>\n",
       "      <td>R</td>\n",
       "      <td>9.0</td>\n",
       "      <td>100111.0</td>\n",
       "      <td>...</td>\n",
       "      <td>-29.993927</td>\n",
       "      <td>43.187355</td>\n",
       "      <td>-31.146457</td>\n",
       "      <td>42.514795</td>\n",
       "      <td>-31.148766</td>\n",
       "      <td>1.5</td>\n",
       "      <td>3.9</td>\n",
       "      <td>0.1</td>\n",
       "      <td>100.0</td>\n",
       "      <td>2015-08-07 00:00:00</td>\n",
       "    </tr>\n",
       "    <tr>\n",
       "      <th>1</th>\n",
       "      <td>1.0</td>\n",
       "      <td>42.5325</td>\n",
       "      <td>-31.087161</td>\n",
       "      <td>51958.0</td>\n",
       "      <td>2010-01-01 02:36:13.958000</td>\n",
       "      <td>42.942199</td>\n",
       "      <td>-30.987374</td>\n",
       "      <td>R</td>\n",
       "      <td>9.0</td>\n",
       "      <td>100111.0</td>\n",
       "      <td>...</td>\n",
       "      <td>-29.942166</td>\n",
       "      <td>43.177478</td>\n",
       "      <td>-31.095500</td>\n",
       "      <td>42.505185</td>\n",
       "      <td>-31.097745</td>\n",
       "      <td>1.5</td>\n",
       "      <td>3.9</td>\n",
       "      <td>0.1</td>\n",
       "      <td>100.0</td>\n",
       "      <td>2015-08-07 00:00:00</td>\n",
       "    </tr>\n",
       "    <tr>\n",
       "      <th>2</th>\n",
       "      <td>1.0</td>\n",
       "      <td>42.5325</td>\n",
       "      <td>-31.087161</td>\n",
       "      <td>186371.0</td>\n",
       "      <td>2011-08-21 11:17:49.311000</td>\n",
       "      <td>42.942311</td>\n",
       "      <td>-30.987065</td>\n",
       "      <td>R</td>\n",
       "      <td>9.0</td>\n",
       "      <td>100111.0</td>\n",
       "      <td>...</td>\n",
       "      <td>-29.959757</td>\n",
       "      <td>43.172462</td>\n",
       "      <td>-31.112563</td>\n",
       "      <td>42.499730</td>\n",
       "      <td>-31.115045</td>\n",
       "      <td>1.5</td>\n",
       "      <td>3.9</td>\n",
       "      <td>0.1</td>\n",
       "      <td>100.0</td>\n",
       "      <td>2015-08-07 00:00:00</td>\n",
       "    </tr>\n",
       "    <tr>\n",
       "      <th>3</th>\n",
       "      <td>1.0</td>\n",
       "      <td>42.5325</td>\n",
       "      <td>-31.087161</td>\n",
       "      <td>44264.0</td>\n",
       "      <td>2009-11-02 08:20:40.913000</td>\n",
       "      <td>42.942305</td>\n",
       "      <td>-30.987058</td>\n",
       "      <td>R</td>\n",
       "      <td>9.0</td>\n",
       "      <td>100111.0</td>\n",
       "      <td>...</td>\n",
       "      <td>-29.945939</td>\n",
       "      <td>43.177962</td>\n",
       "      <td>-31.098515</td>\n",
       "      <td>42.505527</td>\n",
       "      <td>-31.101076</td>\n",
       "      <td>1.5</td>\n",
       "      <td>3.9</td>\n",
       "      <td>0.1</td>\n",
       "      <td>100.0</td>\n",
       "      <td>2015-08-07 00:00:00</td>\n",
       "    </tr>\n",
       "    <tr>\n",
       "      <th>4</th>\n",
       "      <td>1.0</td>\n",
       "      <td>42.5325</td>\n",
       "      <td>-31.087161</td>\n",
       "      <td>55916.0</td>\n",
       "      <td>2010-01-12 03:35:40.105000</td>\n",
       "      <td>42.942278</td>\n",
       "      <td>-30.987003</td>\n",
       "      <td>R</td>\n",
       "      <td>9.0</td>\n",
       "      <td>100111.0</td>\n",
       "      <td>...</td>\n",
       "      <td>-29.941795</td>\n",
       "      <td>43.183548</td>\n",
       "      <td>-31.094279</td>\n",
       "      <td>42.511169</td>\n",
       "      <td>-31.097123</td>\n",
       "      <td>1.5</td>\n",
       "      <td>3.9</td>\n",
       "      <td>0.1</td>\n",
       "      <td>100.0</td>\n",
       "      <td>2015-08-07 00:00:00</td>\n",
       "    </tr>\n",
       "  </tbody>\n",
       "</table>\n",
       "<p>5 rows × 45 columns</p>\n",
       "</div>"
      ],
      "text/plain": [
       "   in_row_id    in_ra     in_dec     expid                     obsdate  \\\n",
       "0        1.0  42.5325 -31.087161   40952.0  2009-09-21 09:59:23.116000   \n",
       "1        1.0  42.5325 -31.087161   51958.0  2010-01-01 02:36:13.958000   \n",
       "2        1.0  42.5325 -31.087161  186371.0  2011-08-21 11:17:49.311000   \n",
       "3        1.0  42.5325 -31.087161   44264.0  2009-11-02 08:20:40.913000   \n",
       "4        1.0  42.5325 -31.087161   55916.0  2010-01-12 03:35:40.105000   \n",
       "\n",
       "      crval1     crval2 filter  ccdid  ptffield         ...           \\\n",
       "0  42.916240 -31.067953      R    9.0  100111.0         ...            \n",
       "1  42.942199 -30.987374      R    9.0  100111.0         ...            \n",
       "2  42.942311 -30.987065      R    9.0  100111.0         ...            \n",
       "3  42.942305 -30.987058      R    9.0  100111.0         ...            \n",
       "4  42.942278 -30.987003      R    9.0  100111.0         ...            \n",
       "\n",
       "        dec2        ra3       dec3        ra4       dec4  gain  readnoi  \\\n",
       "0 -29.993927  43.187355 -31.146457  42.514795 -31.148766   1.5      3.9   \n",
       "1 -29.942166  43.177478 -31.095500  42.505185 -31.097745   1.5      3.9   \n",
       "2 -29.959757  43.172462 -31.112563  42.499730 -31.115045   1.5      3.9   \n",
       "3 -29.945939  43.177962 -31.098515  42.505527 -31.101076   1.5      3.9   \n",
       "4 -29.941795  43.183548 -31.094279  42.511169 -31.097123   1.5      3.9   \n",
       "\n",
       "   darkcur ipac_gid        ipac_pub_date  \n",
       "0      0.1    100.0  2015-08-07 00:00:00  \n",
       "1      0.1    100.0  2015-08-07 00:00:00  \n",
       "2      0.1    100.0  2015-08-07 00:00:00  \n",
       "3      0.1    100.0  2015-08-07 00:00:00  \n",
       "4      0.1    100.0  2015-08-07 00:00:00  \n",
       "\n",
       "[5 rows x 45 columns]"
      ]
     },
     "execution_count": 80,
     "metadata": {},
     "output_type": "execute_result"
    }
   ],
   "source": [
    "metadf = t.to_pandas()\n",
    "metadf.head()"
   ]
  },
  {
   "cell_type": "code",
   "execution_count": 86,
   "metadata": {},
   "outputs": [
    {
     "data": {
      "text/plain": [
       "array(['in_row_id', 'in_ra', 'in_dec', 'expid', 'obsdate', 'crval1',\n",
       "       'crval2', 'filter', 'ccdid', 'ptffield', 'seeing', 'airmass',\n",
       "       'moonillf', 'moonesb', 'photcalflag', 'infobits', 'nid', 'fieldid',\n",
       "       'ptfpid', 'pfilename', 'afilename1', 'afilename2', 'afilename3',\n",
       "       'afilename4', 'rfilename', 'obsmjd', 'ptfprpi', 'filtersl',\n",
       "       'moonra', 'moondec', 'moonphas', 'moonalt', 'ra1', 'dec1', 'ra2',\n",
       "       'dec2', 'ra3', 'dec3', 'ra4', 'dec4', 'gain', 'readnoi', 'darkcur',\n",
       "       'ipac_gid', 'ipac_pub_date'], dtype=object)"
      ]
     },
     "execution_count": 86,
     "metadata": {},
     "output_type": "execute_result"
    }
   ],
   "source": [
    "metadf.columns.values"
   ]
  },
  {
   "cell_type": "code",
   "execution_count": 78,
   "metadata": {},
   "outputs": [
    {
     "data": {
      "text/html": [
       "<div>\n",
       "<style>\n",
       "    .dataframe thead tr:only-child th {\n",
       "        text-align: right;\n",
       "    }\n",
       "\n",
       "    .dataframe thead th {\n",
       "        text-align: left;\n",
       "    }\n",
       "\n",
       "    .dataframe tbody tr th {\n",
       "        vertical-align: top;\n",
       "    }\n",
       "</style>\n",
       "<table border=\"1\" class=\"dataframe\">\n",
       "  <thead>\n",
       "    <tr style=\"text-align: right;\">\n",
       "      <th></th>\n",
       "      <th>in_row_id</th>\n",
       "      <th>in_ra</th>\n",
       "      <th>in_dec</th>\n",
       "      <th>expid</th>\n",
       "      <th>crval1</th>\n",
       "      <th>crval2</th>\n",
       "      <th>ccdid</th>\n",
       "      <th>ptffield</th>\n",
       "      <th>seeing</th>\n",
       "      <th>airmass</th>\n",
       "      <th>...</th>\n",
       "      <th>ra2</th>\n",
       "      <th>dec2</th>\n",
       "      <th>ra3</th>\n",
       "      <th>dec3</th>\n",
       "      <th>ra4</th>\n",
       "      <th>dec4</th>\n",
       "      <th>gain</th>\n",
       "      <th>readnoi</th>\n",
       "      <th>darkcur</th>\n",
       "      <th>ipac_gid</th>\n",
       "    </tr>\n",
       "  </thead>\n",
       "  <tbody>\n",
       "    <tr>\n",
       "      <th>count</th>\n",
       "      <td>106.0</td>\n",
       "      <td>1.060000e+02</td>\n",
       "      <td>1.060000e+02</td>\n",
       "      <td>106.000000</td>\n",
       "      <td>106.000000</td>\n",
       "      <td>106.000000</td>\n",
       "      <td>106.0</td>\n",
       "      <td>106.0</td>\n",
       "      <td>104.000000</td>\n",
       "      <td>106.000000</td>\n",
       "      <td>...</td>\n",
       "      <td>106.000000</td>\n",
       "      <td>106.000000</td>\n",
       "      <td>106.000000</td>\n",
       "      <td>106.000000</td>\n",
       "      <td>106.000000</td>\n",
       "      <td>106.000000</td>\n",
       "      <td>106.0</td>\n",
       "      <td>1.060000e+02</td>\n",
       "      <td>1.060000e+02</td>\n",
       "      <td>106.0</td>\n",
       "    </tr>\n",
       "    <tr>\n",
       "      <th>mean</th>\n",
       "      <td>1.0</td>\n",
       "      <td>4.253250e+01</td>\n",
       "      <td>-3.108716e+01</td>\n",
       "      <td>164842.009434</td>\n",
       "      <td>42.979511</td>\n",
       "      <td>-30.487128</td>\n",
       "      <td>9.0</td>\n",
       "      <td>100111.0</td>\n",
       "      <td>2.844904</td>\n",
       "      <td>2.307264</td>\n",
       "      <td>...</td>\n",
       "      <td>43.165840</td>\n",
       "      <td>-29.957924</td>\n",
       "      <td>43.175094</td>\n",
       "      <td>-31.110218</td>\n",
       "      <td>42.502245</td>\n",
       "      <td>-31.112846</td>\n",
       "      <td>1.5</td>\n",
       "      <td>3.900000e+00</td>\n",
       "      <td>1.000000e-01</td>\n",
       "      <td>100.0</td>\n",
       "    </tr>\n",
       "    <tr>\n",
       "      <th>std</th>\n",
       "      <td>0.0</td>\n",
       "      <td>1.427837e-14</td>\n",
       "      <td>7.139183e-15</td>\n",
       "      <td>58657.550060</td>\n",
       "      <td>0.030457</td>\n",
       "      <td>0.207718</td>\n",
       "      <td>0.0</td>\n",
       "      <td>0.0</td>\n",
       "      <td>0.637906</td>\n",
       "      <td>0.091896</td>\n",
       "      <td>...</td>\n",
       "      <td>0.004191</td>\n",
       "      <td>0.009655</td>\n",
       "      <td>0.004067</td>\n",
       "      <td>0.009590</td>\n",
       "      <td>0.004261</td>\n",
       "      <td>0.009629</td>\n",
       "      <td>0.0</td>\n",
       "      <td>1.338597e-15</td>\n",
       "      <td>1.394372e-17</td>\n",
       "      <td>0.0</td>\n",
       "    </tr>\n",
       "    <tr>\n",
       "      <th>min</th>\n",
       "      <td>1.0</td>\n",
       "      <td>4.253250e+01</td>\n",
       "      <td>-3.108716e+01</td>\n",
       "      <td>40952.000000</td>\n",
       "      <td>42.802978</td>\n",
       "      <td>-31.067953</td>\n",
       "      <td>9.0</td>\n",
       "      <td>100111.0</td>\n",
       "      <td>1.920000</td>\n",
       "      <td>2.220000</td>\n",
       "      <td>...</td>\n",
       "      <td>43.158394</td>\n",
       "      <td>-29.994315</td>\n",
       "      <td>43.167640</td>\n",
       "      <td>-31.146734</td>\n",
       "      <td>42.494912</td>\n",
       "      <td>-31.149254</td>\n",
       "      <td>1.5</td>\n",
       "      <td>3.900000e+00</td>\n",
       "      <td>1.000000e-01</td>\n",
       "      <td>100.0</td>\n",
       "    </tr>\n",
       "    <tr>\n",
       "      <th>25%</th>\n",
       "      <td>1.0</td>\n",
       "      <td>4.253250e+01</td>\n",
       "      <td>-3.108716e+01</td>\n",
       "      <td>185301.000000</td>\n",
       "      <td>42.977097</td>\n",
       "      <td>-30.415376</td>\n",
       "      <td>9.0</td>\n",
       "      <td>100111.0</td>\n",
       "      <td>2.407500</td>\n",
       "      <td>2.240000</td>\n",
       "      <td>...</td>\n",
       "      <td>43.163036</td>\n",
       "      <td>-29.961495</td>\n",
       "      <td>43.172643</td>\n",
       "      <td>-31.113735</td>\n",
       "      <td>42.499370</td>\n",
       "      <td>-31.116301</td>\n",
       "      <td>1.5</td>\n",
       "      <td>3.900000e+00</td>\n",
       "      <td>1.000000e-01</td>\n",
       "      <td>100.0</td>\n",
       "    </tr>\n",
       "    <tr>\n",
       "      <th>50%</th>\n",
       "      <td>1.0</td>\n",
       "      <td>4.253250e+01</td>\n",
       "      <td>-3.108716e+01</td>\n",
       "      <td>192829.000000</td>\n",
       "      <td>42.977219</td>\n",
       "      <td>-30.415162</td>\n",
       "      <td>9.0</td>\n",
       "      <td>100111.0</td>\n",
       "      <td>2.715000</td>\n",
       "      <td>2.260000</td>\n",
       "      <td>...</td>\n",
       "      <td>43.165251</td>\n",
       "      <td>-29.959890</td>\n",
       "      <td>43.174351</td>\n",
       "      <td>-31.112159</td>\n",
       "      <td>42.501494</td>\n",
       "      <td>-31.114840</td>\n",
       "      <td>1.5</td>\n",
       "      <td>3.900000e+00</td>\n",
       "      <td>1.000000e-01</td>\n",
       "      <td>100.0</td>\n",
       "    </tr>\n",
       "    <tr>\n",
       "      <th>75%</th>\n",
       "      <td>1.0</td>\n",
       "      <td>4.253250e+01</td>\n",
       "      <td>-3.108716e+01</td>\n",
       "      <td>199422.500000</td>\n",
       "      <td>42.977432</td>\n",
       "      <td>-30.414904</td>\n",
       "      <td>9.0</td>\n",
       "      <td>100111.0</td>\n",
       "      <td>3.070000</td>\n",
       "      <td>2.370000</td>\n",
       "      <td>...</td>\n",
       "      <td>43.168184</td>\n",
       "      <td>-29.956687</td>\n",
       "      <td>43.177468</td>\n",
       "      <td>-31.108466</td>\n",
       "      <td>42.504832</td>\n",
       "      <td>-31.111181</td>\n",
       "      <td>1.5</td>\n",
       "      <td>3.900000e+00</td>\n",
       "      <td>1.000000e-01</td>\n",
       "      <td>100.0</td>\n",
       "    </tr>\n",
       "    <tr>\n",
       "      <th>max</th>\n",
       "      <td>1.0</td>\n",
       "      <td>4.253250e+01</td>\n",
       "      <td>-3.108716e+01</td>\n",
       "      <td>206614.000000</td>\n",
       "      <td>43.025978</td>\n",
       "      <td>-30.357943</td>\n",
       "      <td>9.0</td>\n",
       "      <td>100111.0</td>\n",
       "      <td>5.050000</td>\n",
       "      <td>2.490000</td>\n",
       "      <td>...</td>\n",
       "      <td>43.182686</td>\n",
       "      <td>-29.940586</td>\n",
       "      <td>43.191147</td>\n",
       "      <td>-31.093128</td>\n",
       "      <td>42.518626</td>\n",
       "      <td>-31.095414</td>\n",
       "      <td>1.5</td>\n",
       "      <td>3.900000e+00</td>\n",
       "      <td>1.000000e-01</td>\n",
       "      <td>100.0</td>\n",
       "    </tr>\n",
       "  </tbody>\n",
       "</table>\n",
       "<p>8 rows × 34 columns</p>\n",
       "</div>"
      ],
      "text/plain": [
       "       in_row_id         in_ra        in_dec          expid      crval1  \\\n",
       "count      106.0  1.060000e+02  1.060000e+02     106.000000  106.000000   \n",
       "mean         1.0  4.253250e+01 -3.108716e+01  164842.009434   42.979511   \n",
       "std          0.0  1.427837e-14  7.139183e-15   58657.550060    0.030457   \n",
       "min          1.0  4.253250e+01 -3.108716e+01   40952.000000   42.802978   \n",
       "25%          1.0  4.253250e+01 -3.108716e+01  185301.000000   42.977097   \n",
       "50%          1.0  4.253250e+01 -3.108716e+01  192829.000000   42.977219   \n",
       "75%          1.0  4.253250e+01 -3.108716e+01  199422.500000   42.977432   \n",
       "max          1.0  4.253250e+01 -3.108716e+01  206614.000000   43.025978   \n",
       "\n",
       "           crval2  ccdid  ptffield      seeing     airmass    ...     \\\n",
       "count  106.000000  106.0     106.0  104.000000  106.000000    ...      \n",
       "mean   -30.487128    9.0  100111.0    2.844904    2.307264    ...      \n",
       "std      0.207718    0.0       0.0    0.637906    0.091896    ...      \n",
       "min    -31.067953    9.0  100111.0    1.920000    2.220000    ...      \n",
       "25%    -30.415376    9.0  100111.0    2.407500    2.240000    ...      \n",
       "50%    -30.415162    9.0  100111.0    2.715000    2.260000    ...      \n",
       "75%    -30.414904    9.0  100111.0    3.070000    2.370000    ...      \n",
       "max    -30.357943    9.0  100111.0    5.050000    2.490000    ...      \n",
       "\n",
       "              ra2        dec2         ra3        dec3         ra4        dec4  \\\n",
       "count  106.000000  106.000000  106.000000  106.000000  106.000000  106.000000   \n",
       "mean    43.165840  -29.957924   43.175094  -31.110218   42.502245  -31.112846   \n",
       "std      0.004191    0.009655    0.004067    0.009590    0.004261    0.009629   \n",
       "min     43.158394  -29.994315   43.167640  -31.146734   42.494912  -31.149254   \n",
       "25%     43.163036  -29.961495   43.172643  -31.113735   42.499370  -31.116301   \n",
       "50%     43.165251  -29.959890   43.174351  -31.112159   42.501494  -31.114840   \n",
       "75%     43.168184  -29.956687   43.177468  -31.108466   42.504832  -31.111181   \n",
       "max     43.182686  -29.940586   43.191147  -31.093128   42.518626  -31.095414   \n",
       "\n",
       "        gain       readnoi       darkcur  ipac_gid  \n",
       "count  106.0  1.060000e+02  1.060000e+02     106.0  \n",
       "mean     1.5  3.900000e+00  1.000000e-01     100.0  \n",
       "std      0.0  1.338597e-15  1.394372e-17       0.0  \n",
       "min      1.5  3.900000e+00  1.000000e-01     100.0  \n",
       "25%      1.5  3.900000e+00  1.000000e-01     100.0  \n",
       "50%      1.5  3.900000e+00  1.000000e-01     100.0  \n",
       "75%      1.5  3.900000e+00  1.000000e-01     100.0  \n",
       "max      1.5  3.900000e+00  1.000000e-01     100.0  \n",
       "\n",
       "[8 rows x 34 columns]"
      ]
     },
     "execution_count": 78,
     "metadata": {},
     "output_type": "execute_result"
    }
   ],
   "source": [
    "metadf.describe()"
   ]
  },
  {
   "cell_type": "markdown",
   "metadata": {},
   "source": [
    "### Sample data"
   ]
  },
  {
   "cell_type": "code",
   "execution_count": 106,
   "metadata": {},
   "outputs": [
    {
     "data": {
      "text/plain": [
       "in_row_id                                                        1\n",
       "in_ra                                                      42.5325\n",
       "in_dec                                                    -31.0872\n",
       "expid                                                        51958\n",
       "obsdate                                 2010-01-01 02:36:13.958000\n",
       "crval1                                                     42.9422\n",
       "crval2                                                    -30.9874\n",
       "filter                                                           R\n",
       "ccdid                                                            9\n",
       "ptffield                                                    100111\n",
       "seeing                                                         NaN\n",
       "airmass                                                       2.44\n",
       "moonillf                                                        -1\n",
       "moonesb                                                      -3.47\n",
       "photcalflag                                                      0\n",
       "infobits                                                         0\n",
       "nid                                                            305\n",
       "fieldid                                                      51958\n",
       "ptfpid                                                       10010\n",
       "pfilename        proc/2010/01/01/f2/c9/p13/v1/PTF_201001011085_...\n",
       "afilename1       proc/2010/01/01/f2/c9/p13/v1/PTF_201001011085_...\n",
       "afilename2                                                     NaN\n",
       "afilename3       proc/2010/01/01/f2/c9/p13/v1/PTF_201001011085_...\n",
       "afilename4                                                     NaN\n",
       "rfilename        raw/2010/01/01/f02/multiExt/PTF201001011085_2_...\n",
       "obsmjd                                                     55197.1\n",
       "ptfprpi                                                   Kulkarni\n",
       "filtersl                                                         2\n",
       "moonra                                                     107.114\n",
       "moondec                                                     22.711\n",
       "moonphas                                                    355.85\n",
       "moonalt                                                      16.81\n",
       "ra1                                                        42.5037\n",
       "dec1                                                      -29.9444\n",
       "ra2                                                         43.168\n",
       "dec2                                                      -29.9422\n",
       "ra3                                                        43.1775\n",
       "dec3                                                      -31.0955\n",
       "ra4                                                        42.5052\n",
       "dec4                                                      -31.0977\n",
       "gain                                                           1.5\n",
       "readnoi                                                        3.9\n",
       "darkcur                                                        0.1\n",
       "ipac_gid                                                       100\n",
       "ipac_pub_date                                  2015-08-07 00:00:00\n",
       "Name: 1, dtype: object"
      ]
     },
     "execution_count": 106,
     "metadata": {},
     "output_type": "execute_result"
    }
   ],
   "source": [
    "meta_row_number = 1\n",
    "meta_row = metadf.iloc[meta_row_number]\n",
    "meta_row"
   ]
  },
  {
   "cell_type": "code",
   "execution_count": 115,
   "metadata": {},
   "outputs": [
    {
     "data": {
      "text/plain": [
       "'proc/2010/01/01/f2/c9/p13/v1/PTF_201001011085_i_p_mask_t023613_u011688379_f02_p100111_c09.fits'"
      ]
     },
     "execution_count": 115,
     "metadata": {},
     "output_type": "execute_result"
    }
   ],
   "source": [
    "meta_pfilename = meta_row['afilename1']\n",
    "meta_pfilename"
   ]
  },
  {
   "cell_type": "markdown",
   "metadata": {},
   "source": [
    "## Viewing & manipulating image"
   ]
  },
  {
   "cell_type": "code",
   "execution_count": 116,
   "metadata": {},
   "outputs": [
    {
     "name": "stdout",
     "output_type": "stream",
     "text": [
      "Downloading http://irsa.ipac.caltech.edu/ibe/data/ptf/images/level1/proc/2010/01/01/f2/c9/p13/v1/PTF_201001011085_i_p_mask_t023613_u011688379_f02_p100111_c09.fits [Done]\n"
     ]
    }
   ],
   "source": [
    "image_url = images_page + '/' + meta_pfilename\n",
    "image_file = download_file(image_url)"
   ]
  },
  {
   "cell_type": "code",
   "execution_count": 117,
   "metadata": {
    "collapsed": true
   },
   "outputs": [],
   "source": [
    "image_data = fits.getdata(image_file)"
   ]
  },
  {
   "cell_type": "code",
   "execution_count": 118,
   "metadata": {},
   "outputs": [
    {
     "data": {
      "text/plain": [
       "<matplotlib.colorbar.Colorbar at 0x11d234e10>"
      ]
     },
     "execution_count": 118,
     "metadata": {},
     "output_type": "execute_result"
    },
    {
     "data": {
      "image/png": "[encoded data removed]",
      "text/plain": [
       "<matplotlib.figure.Figure at 0x18e0668d0>"
      ]
     },
     "metadata": {},
     "output_type": "display_data"
    }
   ],
   "source": [
    "plt.imshow(image_data, cmap='gray')\n",
    "plt.colorbar()"
   ]
  },
  {
   "cell_type": "code",
   "execution_count": null,
   "metadata": {
    "collapsed": true
   },
   "outputs": [],
   "source": []
  }
 ],
 "metadata": {
  "kernelspec": {
   "display_name": "Python 3",
   "language": "python",
   "name": "python3"
  },
  "language_info": {
   "codemirror_mode": {
    "name": "ipython",
    "version": 3
   },
   "file_extension": ".py",
   "mimetype": "text/x-python",
   "name": "python",
   "nbconvert_exporter": "python",
   "pygments_lexer": "ipython3",
   "version": "3.4.0"
  }
 },
 "nbformat": 4,
 "nbformat_minor": 2
}
